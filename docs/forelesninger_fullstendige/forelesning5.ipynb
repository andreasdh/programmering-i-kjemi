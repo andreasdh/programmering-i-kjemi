{
 "cells": [
  {
   "cell_type": "markdown",
   "id": "ef51c485",
   "metadata": {},
   "source": [
    "# Forelesning 5: Numerisk derivasjon og likninger"
   ]
  },
  {
   "cell_type": "markdown",
   "id": "96edd8e7",
   "metadata": {},
   "source": [
    "## Numerisk derivasjon\n",
    "\n",
    "Analytisk derivasjon:\n",
    "$$f'(x) = \\lim_{\\Delta x \\rightarrow 0} \\frac{f(x+\\Delta x)-f(x)}{\\Delta x}$$\n",
    "\n",
    "Numerisk derivasjon:\n",
    "$$f'(x) \\approx \\frac{f(x+\\Delta x)-f(x)}{\\Delta x}$$\n",
    "\n",
    "der $\\Delta x$ er et lite tall."
   ]
  },
  {
   "cell_type": "code",
   "execution_count": 3,
   "id": "d41d9084-fb78-4ad6-9ebd-01cd5763e1eb",
   "metadata": {},
   "outputs": [
    {
     "name": "stdout",
     "output_type": "stream",
     "text": [
      "1.999999987845058\n",
      "1.9999999989472883\n",
      "1.9999999999998352\n"
     ]
    }
   ],
   "source": [
    "def framoverdifferanse(f, x, dx = 1E-8):\n",
    "    dy = f(x + dx) - f(x)\n",
    "    return dy/dx\n",
    "\n",
    "def bakoverdifferanse(f, x, dx = 1E-8):\n",
    "    dy = f(x) - f(x - dx)\n",
    "    return dy/dx\n",
    "\n",
    "def sentraldifferanse(f, x, dx = 1E-3):\n",
    "    \"\"\"\n",
    "    Bruker sentraldifferansen som tilnærming for den numerisk deriverte av f.\n",
    "    --------\n",
    "    f: funksjonen vi skal derivere\n",
    "    x: punktet vi skal derivere i\n",
    "    dx: delta x, avstanden mellom x-punktene\n",
    "    \"\"\"\n",
    "    dy = f(x+dx) - f(x - dx)\n",
    "    return dy/(2*dx)\n",
    "\n",
    "def f(x):\n",
    "    return x**2\n",
    "\n",
    "print(framoverdifferanse(f,1))\n",
    "print(bakoverdifferanse(f,1))\n",
    "print(sentraldifferanse(f,1))"
   ]
  },
  {
   "cell_type": "markdown",
   "id": "7b1846c0-8225-4f93-b43b-f2d7486e5f78",
   "metadata": {},
   "source": [
    "## Likninger"
   ]
  },
  {
   "cell_type": "code",
   "execution_count": 22,
   "id": "5d028188-ef05-4b71-93a9-f930a07204c1",
   "metadata": {},
   "outputs": [
    {
     "name": "stdout",
     "output_type": "stream",
     "text": [
      "1.0000000000139897\n"
     ]
    }
   ],
   "source": [
    "def f(x):\n",
    "    return 2*x**2 - 2\n",
    "\n",
    "def fder(x):\n",
    "    return 4*x\n",
    "\n",
    "def newtons(f, fder, x, N = 100, tol = 1E-10):\n",
    "    i = 0\n",
    "    while abs(f(x)) > tol and i < N:\n",
    "        x = x - f(x)/fder(x)\n",
    "        i += 1\n",
    "    return x\n",
    "\n",
    "print(newtons(f,fder,10))\n"
   ]
  }
 ],
 "metadata": {
  "kernelspec": {
   "display_name": "Python 3 (ipykernel)",
   "language": "python",
   "name": "python3"
  },
  "language_info": {
   "codemirror_mode": {
    "name": "ipython",
    "version": 3
   },
   "file_extension": ".py",
   "mimetype": "text/x-python",
   "name": "python",
   "nbconvert_exporter": "python",
   "pygments_lexer": "ipython3",
   "version": "3.9.12"
  }
 },
 "nbformat": 4,
 "nbformat_minor": 5
}
