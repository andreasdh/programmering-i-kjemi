{
 "cells": [
  {
   "cell_type": "markdown",
   "id": "ef51c485",
   "metadata": {},
   "source": [
    "# Forelesning 5: Numerisk derivasjon"
   ]
  },
  {
   "cell_type": "markdown",
   "id": "96edd8e7",
   "metadata": {},
   "source": [
    "## Numerisk derivasjon\n",
    "\n",
    "Analytisk derivasjon:\n",
    "$$f'(x) = \\lim_{\\Delta x \\rightarrow 0} \\frac{f(x+\\Delta x)-f(x)}{\\Delta x}$$\n",
    "\n",
    "Numerisk derivasjon:\n",
    "$$f'(x) \\approx \\frac{f(x+\\Delta x)-f(x)}{\\Delta x}$$\n",
    "\n",
    "der $\\Delta x$ er et lite tall."
   ]
  },
  {
   "cell_type": "code",
   "execution_count": 7,
   "id": "d41d9084-fb78-4ad6-9ebd-01cd5763e1eb",
   "metadata": {
    "scrolled": true
   },
   "outputs": [
    {
     "data": {
      "text/plain": [
       "2.220446049250313"
      ]
     },
     "execution_count": 7,
     "metadata": {},
     "output_type": "execute_result"
    }
   ],
   "source": [
    "def f(x):\n",
    "    return x**2\n",
    "\n",
    "def deriver(f, a, dx = 1E-15): \n",
    "    dy = f(a + dx) - f(a)\n",
    "    return dy/dx\n",
    "\n",
    "deriver(f, 1)"
   ]
  },
  {
   "cell_type": "code",
   "execution_count": null,
   "id": "58b5bc06-c2ee-4928-917a-46b5cc913476",
   "metadata": {},
   "outputs": [],
   "source": [
    "def sentraldifferanse(f, a, dx = 1E-4):\n",
    "    dy = (f(a + dx) - f(a - dx))/2\n",
    "    return dy/dx"
   ]
  },
  {
   "cell_type": "markdown",
   "id": "a4f15d5e-2e89-48a4-949e-e5eb74ea86a4",
   "metadata": {},
   "source": [
    "### Derivasjon av diskrete data"
   ]
  },
  {
   "cell_type": "code",
   "execution_count": 8,
   "id": "b4ac8273-a032-4120-b453-d6d6de480431",
   "metadata": {},
   "outputs": [],
   "source": [
    "import pandas as pd\n",
    "import matplotlib.pyplot as plt\n",
    "import numpy as np"
   ]
  },
  {
   "cell_type": "code",
   "execution_count": 10,
   "id": "27749b9b-17df-46ec-81f1-60a997a5e490",
   "metadata": {
    "scrolled": true
   },
   "outputs": [
    {
     "data": {
      "text/html": [
       "<div>\n",
       "<style scoped>\n",
       "    .dataframe tbody tr th:only-of-type {\n",
       "        vertical-align: middle;\n",
       "    }\n",
       "\n",
       "    .dataframe tbody tr th {\n",
       "        vertical-align: top;\n",
       "    }\n",
       "\n",
       "    .dataframe thead th {\n",
       "        text-align: right;\n",
       "    }\n",
       "</style>\n",
       "<table border=\"1\" class=\"dataframe\">\n",
       "  <thead>\n",
       "    <tr style=\"text-align: right;\">\n",
       "      <th></th>\n",
       "      <th>time_s</th>\n",
       "      <th>pressure_hpa</th>\n",
       "      <th>height_m</th>\n",
       "    </tr>\n",
       "  </thead>\n",
       "  <tbody>\n",
       "    <tr>\n",
       "      <th>0</th>\n",
       "      <td>1.033081</td>\n",
       "      <td>1001.395130</td>\n",
       "      <td>0.000000</td>\n",
       "    </tr>\n",
       "    <tr>\n",
       "      <th>1</th>\n",
       "      <td>2.066150</td>\n",
       "      <td>1001.444541</td>\n",
       "      <td>-0.415303</td>\n",
       "    </tr>\n",
       "    <tr>\n",
       "      <th>2</th>\n",
       "      <td>3.099231</td>\n",
       "      <td>1001.546527</td>\n",
       "      <td>-1.272457</td>\n",
       "    </tr>\n",
       "    <tr>\n",
       "      <th>3</th>\n",
       "      <td>4.132312</td>\n",
       "      <td>1001.645994</td>\n",
       "      <td>-2.108379</td>\n",
       "    </tr>\n",
       "    <tr>\n",
       "      <th>4</th>\n",
       "      <td>5.165393</td>\n",
       "      <td>1001.739016</td>\n",
       "      <td>-2.890067</td>\n",
       "    </tr>\n",
       "  </tbody>\n",
       "</table>\n",
       "</div>"
      ],
      "text/plain": [
       "     time_s  pressure_hpa  height_m\n",
       "0  1.033081   1001.395130  0.000000\n",
       "1  2.066150   1001.444541 -0.415303\n",
       "2  3.099231   1001.546527 -1.272457\n",
       "3  4.132312   1001.645994 -2.108379\n",
       "4  5.165393   1001.739016 -2.890067"
      ]
     },
     "execution_count": 10,
     "metadata": {},
     "output_type": "execute_result"
    }
   ],
   "source": [
    "df = pd.read_csv(\"https://raw.githubusercontent.com/andreasdh/programmering-i-kjemi/master/docs/datafiler/heistur_kjemi_fysikk.txt\")\n",
    "df.head()"
   ]
  },
  {
   "cell_type": "code",
   "execution_count": 14,
   "id": "eec651b2-9335-4165-a577-5c387e7a41c8",
   "metadata": {
    "scrolled": true
   },
   "outputs": [
    {
     "data": {
      "image/png": "[encoded data removed]",
      "text/plain": [
       "<Figure size 640x480 with 1 Axes>"
      ]
     },
     "metadata": {},
     "output_type": "display_data"
    }
   ],
   "source": [
    "t = df[\"time_s\"]\n",
    "s = df[\"height_m\"]\n",
    "v = []\n",
    "\n",
    "for i in range(len(t) - 1):\n",
    "    ds = s[i+1] - s[i]\n",
    "    dt = t[i+1] - t[i]\n",
    "    v.append(ds/dt)\n",
    "\n",
    "v.append(None)\n",
    "plt.plot(t, v)\n",
    "plt.show()"
   ]
  }
 ],
 "metadata": {
  "kernelspec": {
   "display_name": "Python (my-env)",
   "language": "python",
   "name": "my-env"
  },
  "language_info": {
   "codemirror_mode": {
    "name": "ipython",
    "version": 3
   },
   "file_extension": ".py",
   "mimetype": "text/x-python",
   "name": "python",
   "nbconvert_exporter": "python",
   "pygments_lexer": "ipython3",
   "version": "3.12.7"
  }
 },
 "nbformat": 4,
 "nbformat_minor": 5
}
