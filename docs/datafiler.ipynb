{
 "cells": [
  {
   "cell_type": "markdown",
   "metadata": {},
   "source": [
    "# Datafiler\n",
    "\n",
    "[bands.txt](https://www.uio.no/studier/emner/matnat/ifi/IN-KJM1900/h20/datafiler/bands.txt)\n",
    "\n",
    "[dec.txt](https://www.uio.no/studier/emner/matnat/ifi/IN-KJM1900/h20/datafiler/dec.txt)\n",
    "\n",
    "[sept.txt](https://www.uio.no/studier/emner/matnat/ifi/IN-KJM1900/h20/datafiler/sept.txt)\n",
    "\n",
    "[titrering.txt](https://www.uio.no/studier/emner/matnat/ifi/IN-KJM1900/h20/datafiler/titrering.txt)\n",
    "\n",
    "[titreringsdata.txt](https://raw.githubusercontent.com/andreasdh/programmering-i-kjemi/master/docs/datafiler/titreringsdata.txt)\n",
    "\n",
    "[vin.csv](https://www.uio.no/studier/emner/matnat/ifi/IN-KJM1900/h20/datafiler/vin.csv)\n",
    "\n",
    "[kjemisk.png](https://www.uio.no/studier/emner/matnat/ifi/IN-KJM1900/h20/datafiler/kjemisk.png)\n",
    "\n",
    "[posisjon.txt](https://www.uio.no/studier/emner/matnat/ifi/IN-KJM1900/h20/datafiler/posisjon.txt)\n",
    "\n",
    "[periodesystemet.csv](https://www.uio.no/studier/emner/matnat/ifi/IN-KJM1900/h21/datafiler/periodesystemet.csv)\n",
    "\n",
    "[pengwings.txt](https://www.uio.no/studier/emner/matnat/ifi/IN-KJM1900/h21/datafiler/penguings.txt)\n",
    "\n",
    "[heistur.csv](https://raw.githubusercontent.com/andreasdh/programmering-i-kjemi/master/docs/datafiler/heistur_kjemi_fysikk.txt)\n",
    "\n",
    "[iris.csv](https://www.uio.no/studier/emner/matnat/natfag/NAT3000/h21/datafiler/iris.csv)\n",
    "\n",
    "[cars.txt](https://www.uio.no/studier/emner/matnat/natfag/NAT3000/h21/datafiler/mtcars.txt)"
   ]
  },
  {
   "cell_type": "code",
   "execution_count": null,
   "metadata": {},
   "outputs": [],
   "source": []
  }
 ],
 "metadata": {
  "kernelspec": {
   "display_name": "Python 3",
   "language": "python",
   "name": "python3"
  },
  "language_info": {
   "codemirror_mode": {
    "name": "ipython",
    "version": 3
   },
   "file_extension": ".py",
   "mimetype": "text/x-python",
   "name": "python",
   "nbconvert_exporter": "python",
   "pygments_lexer": "ipython3",
   "version": "3.8.8"
  }
 },
 "nbformat": 4,
 "nbformat_minor": 4
}
