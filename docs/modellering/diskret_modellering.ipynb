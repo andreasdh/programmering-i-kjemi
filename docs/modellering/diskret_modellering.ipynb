{
 "cells": [
  {
   "cell_type": "markdown",
   "metadata": {},
   "source": [
    "# Differenslikninger\n",
    "Her får du en kort innføring i differenslikninger. Slike likninger kan brukes til diskret modellering, det vil si at vi bruker modeller som benytter seg av verdier ved diskrete tidssteg istedenfor å tilnærme dette med kontinuerlige funksjoner. Kapitlet fungerer også som en repetisjon av de mest grunnleggende programmeringsteknikkene.\n",
    "\n",
    "```{admonition} Læringsutbytte\n",
    "Etter å ha arbeidet med denne delen av emnet, skal du kunne:\n",
    "1. Forklare hva differenslikninger er og hva vi kan bruke dem til.\n",
    "2. Bruke løkker til å tilnærme problemer på en iterativ måte.\n",
    "3. Bruke differenslikninger og programmering til å utforske tallmønstre i følger og finne rekkesummer.\n",
    "4. Modellere biologisk nedbrytning av kjemiske stoffer.\n",
    "```\n"
   ]
  },
  {
   "cell_type": "markdown",
   "metadata": {},
   "source": [
    "Mange prosesser i naturen kan modelleres ved å formulere en sammenheng mellom et system ved tida $t$ og tida $t + \\Delta t$. Denne sammenhengen, eller \\textit{regelen}, er ofte en prosedyre som skal gjentas mange ganger. Et eksempel er en harepopulasjon som øker med en viss prosent i løpet av tida $\\Delta t$. I matematikken har vi også en del sammenhenger der neste tall er avhengig av foregående tall, for eksempel tallfølger.\n",
    "\n",
    "Siden vi kan ha å gjøre med svært mange ledd i slike prosesser, kan vi få bruk for løkker for å utforske disse prosessene. Siden prosessen inni ei løkke kalles for en \\textit{iterasjon}, sier vi at vi løser et problem \\textit{iterativt} når vi repeterer en prosess flere ganger.\n",
    "\n",
    "Siden vi ikke kjenner tilstanden til systemet ved hvert tidssteg, har vi med en \\textit{diskret} modell å gjøre. Dette står i motsetning til \\textit{kontinuerlige} modeller, der vi kjenner tilstanden ved hvert eneste tidssteg. Egentlig er alle prosesser diskrete på en datamaskin, siden vi ikke kan ha uendelig små tidssteg. Likevel skiller vi på kontinuerlig og diskret på samme måte som i matematikken, selv om forskjellen på datamaskinen egentlig bare er størrelsen mellom verdiene.\n",
    "\n",
    "I dette kapitlet skal vi se på hvordan vi kan utforske diskrete modeller av dynamiske systemer, og hvordan disse systemene kan beskrives og løses iterativt. Mange av problemene vi skal se på, kan løses analytisk. Men styrken til metodene vi bruker her, er at de også kan benyttes på analytisk uløselige systemer. Du introduseres dermed til en løsningsstrategi som gjør deg i stand til å \\enquote{tenke iterativt}, altså tenke i stegvise gjentakende operasjoner, i tillegg til å løse problemer med formler og algebra.\n",
    "\n",
    "\\section{Differenslikninger}\n",
    "Kontinuerlige modeller for systemer som utvikler seg med tid, beskrives ofte av \\textit{differensiallikninger} (se kapittel \\ref{chap:diff}), mens diskrete modeller kan beskrives av \\textit{differenslikninger}. Et eksempel på  sammenhenger som kan beskrives som differenslikninger, er mønsteret i tallfølger.\n",
    "\n",
    "\\begin{definisjon}{Differenslikninger}{}\n",
    "En differenslikning er en likning som beskriver forskjellen mellom etterfølgende verdier til en funksjon av diskrete variabler.\n",
    "\\end{definisjon}\n",
    "\n",
    "\\subsection{Følger og rekker}\n",
    "Ta som eksempel en aritmetisk følge der hvert ledd er 3 større enn det forrige leddet:\n",
    "\n",
    "\\begin{center}\n",
    "    1, 4, 7, 10, 13, 16, 19, ...\n",
    "\\end{center}\n",
    "\n",
    "\\noindent Det neste ({n+1}-te) leddet \\textit{x} i denne følgen kan beskrives ut fra det forrige ({n}-te) leddet ved følgende differenslikning:\n",
    "\n",
    "\\begin{equation}\n",
    "    x_{n+1} = x_n + 3\n",
    "\\end{equation}\n",
    "\n",
    "\\noindent Indeksen \\textit{n} står her for det \\textit{n}-te elementet av \\textit{x}. Dersom vi følger Python-konvensjonen og starter på element nr. 0, blir element nr. 1 (det andre i følgen) lik:\n",
    "\n",
    "\\begin{equation}\n",
    "    x_1 = x_0 + 3 = 1 + 3 = 4\n",
    "\\end{equation}\n",
    "\n",
    "\\noindent Vi kan se at element \\textit{k} i følgen vil bli $x_k = x_0 + 3(n-1) = 1 + 3(n-1)$, men vi kan også finne element \\textit{k} iterativt:"
   ]
  },
  {
   "cell_type": "code",
   "execution_count": null,
   "metadata": {},
   "outputs": [],
   "source": []
  },
  {
   "cell_type": "code",
   "execution_count": null,
   "metadata": {},
   "outputs": [],
   "source": []
  },
  {
   "cell_type": "code",
   "execution_count": null,
   "metadata": {},
   "outputs": [],
   "source": []
  },
  {
   "cell_type": "code",
   "execution_count": null,
   "metadata": {},
   "outputs": [],
   "source": []
  },
  {
   "cell_type": "code",
   "execution_count": null,
   "metadata": {},
   "outputs": [],
   "source": []
  },
  {
   "cell_type": "code",
   "execution_count": 3,
   "metadata": {
    "tags": [
     "remove-input"
    ]
   },
   "outputs": [
    {
     "data": {
      "text/html": [
       "<iframe width=\"950\" height=\"600\" src=\"https://www.youtube.com/embed/u6wgr0GRoLM? autoplay=0&rel=0\" frameborder=\"0\" allow=\"accelerometer; autoplay; encrypted-media; gyroscope; picture-in-picture\" allowfullscreen></iframe>"
      ],
      "text/plain": [
       "<IPython.core.display.HTML object>"
      ]
     },
     "execution_count": 3,
     "metadata": {},
     "output_type": "execute_result"
    }
   ],
   "source": [
    "from IPython.display import HTML\n",
    "# Youtube\n",
    "HTML('<iframe width=\"950\" height=\"600\" src=\"https://www.youtube.com/embed/u6wgr0GRoLM? autoplay=0&rel=0\" frameborder=\"0\" allow=\"accelerometer; autoplay; encrypted-media; gyroscope; picture-in-picture\" allowfullscreen></iframe>')"
   ]
  },
  {
   "cell_type": "markdown",
   "metadata": {},
   "source": [
    "Når du har sett videoen, kan du gjøre følgende oppgave for å sjekke om du forstår innholdet:\n",
    "\n",
    "```{admonition} Underveisoppgave\n",
    ":class: tip\n",
    "Bivirkninger av medisinen kan oppstå dersom vi får over 350 mg medisin i blodet. Ta utgangspunkt i medisinprogrammet i videoen og modifiser dette slik at det finner ut hvor lenge vi kan gå på medisinen dersom vi bruker 100 mg hver dag. Finn også ut hvor mye medisin vi kan ta hver dag uten at vi får bivirkninger.\n",
    "```\n",
    "\n",
    "<iframe src=\"https://trinket.io/embed/python3/605aad9897\" width=\"100%\" height=\"356\" frameborder=\"0\" marginwidth=\"0\" marginheight=\"0\" allowfullscreen></iframe>\n"
   ]
  }
 ],
 "metadata": {
  "celltoolbar": "Edit Metadata",
  "kernelspec": {
   "display_name": "Python 3",
   "language": "python",
   "name": "python3"
  },
  "language_info": {
   "codemirror_mode": {
    "name": "ipython",
    "version": 3
   },
   "file_extension": ".py",
   "mimetype": "text/x-python",
   "name": "python",
   "nbconvert_exporter": "python",
   "pygments_lexer": "ipython3",
   "version": "3.8.5"
  }
 },
 "nbformat": 4,
 "nbformat_minor": 4
}
