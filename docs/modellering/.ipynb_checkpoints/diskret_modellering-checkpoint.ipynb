{
 "cells": [
  {
   "cell_type": "markdown",
   "metadata": {},
   "source": [
    "# Differenslikninger\n",
    "Her får du en kort innføring i differenslikninger. Slike likninger kan brukes til diskret modellering, det vil si at vi bruker modeller som benytter seg av verdier ved diskrete tidssteg istedenfor å tilnærme dette med kontinuerlige funksjoner. Kapitlet fungerer også som en repetisjon av de mest grunnleggende programmeringsteknikkene.\n",
    "\n",
    "```{admonition} Læringsutbytte\n",
    "Etter å ha arbeidet med denne delen av emnet, skal du kunne:\n",
    "1. Forklare hva differenslikninger er og hva vi kan bruke dem til.\n",
    "2. Bruke løkker til å tilnærme problemer på en iterativ måte.\n",
    "3. Bruke differenslikninger og programmering til å utforske tallmønstre i følger og finne rekkesummer.\n",
    "4. Modellere biologisk nedbrytning av kjemiske stoffer.\n",
    "```\n"
   ]
  },
  {
   "cell_type": "markdown",
   "metadata": {},
   "source": [
    "Mange prosesser i naturen kan modelleres ved å formulere en sammenheng mellom et system ved tida $t$ og tida $t + \\Delta t$. Denne sammenhengen, eller _regelen_, er ofte en prosedyre som skal gjentas mange ganger. Et eksempel er en harepopulasjon som øker med en viss prosent i løpet av tida $\\Delta t$ eller en pengesum som står i banken og øker med en viss andel (renta) hvert år. I matematikken har vi også en del sammenhenger der neste tall er avhengig av foregående tall, for eksempel tallfølger.\n",
    "\n",
    "Siden vi kan ha å gjøre med svært mange ledd i slike prosesser, kan vi få bruk for løkker for å utforske disse prosessene. Siden prosessen inni ei løkke kalles for en _iterasjon_, sier vi at vi løser et problem _iterativt_ når vi repeterer en prosess flere ganger.\n",
    "\n",
    "Siden vi ikke kjenner tilstanden til systemet ved hvert tidssteg, har vi med en _diskret_ modell å gjøre. Dette står i motsetning til _kontinuerlige_ modeller, der vi kjenner tilstanden ved hvert eneste tidssteg. Egentlig er alle prosesser diskrete på en datamaskin, siden vi ikke kan ha uendelig små tidssteg. Likevel skiller vi på kontinuerlig og diskret på samme måte som i matematikken, selv om forskjellen på datamaskinen egentlig bare er størrelsen mellom verdiene.\n",
    "\n",
    "I dette kapitlet skal vi se på hvordan vi kan utforske diskrete modeller av dynamiske systemer, og hvordan disse systemene kan beskrives og løses iterativt. Mange av problemene vi skal se på, kan løses analytisk. Men styrken til metodene vi bruker her, er at de også kan benyttes på analytisk uløselige systemer. Du introduseres dermed til en løsningsstrategi som gjør deg i stand til å _tenke iterativt_, altså tenke i stegvise gjentakende operasjoner, i tillegg til å løse problemer med formler og algebra.\n",
    "\n",
    "Kontinuerlige modeller for systemer som utvikler seg med tid, beskrives ofte av _differensiallikninger_, mens diskrete modeller kan beskrives av _differenslikninger_. Et eksempel på  sammenhenger som kan beskrives som differenslikninger, er mønsteret i tallfølger.\n",
    "\n",
    "```{admonition} Differenslikninger\n",
    "En differenslikning er en likning som beskriver forskjellen mellom etterfølgende verdier til en funksjon av diskrete variabler.\n",
    "```\n",
    "\n",
    "## Følger og rekker\n",
    "Ta som eksempel en aritmetisk følge der hvert ledd er 3 større enn det forrige leddet:\n",
    "\n",
    "$$1, 4, 7, 10, 13, 16, 19, ...$$\n",
    "\n",
    "Det neste ({n+1}-te) leddet _x_ i denne følgen kan beskrives ut fra det forrige ({n}-te) leddet ved følgende differenslikning:\n",
    "\n",
    "$$x_{n+1} = x_n + 3$$\n",
    "\n",
    "Indeksen _n_ står her for det _n_-te elementet av _x_. Dersom vi følger Python-konvensjonen og starter på element nr. 0, blir element nr. 1 (det andre i følgen) lik:\n",
    "\n",
    "$$x_1 = x_0 + 3 = 1 + 3 = 4$$\n",
    "\n",
    "Vi kan se at element _k_ i følgen vil bli $x_k = x_0 + 3(n-1) = 1 + 3(n-1)$, men vi kan også finne element _k_ iterativt:"
   ]
  },
  {
   "cell_type": "code",
   "execution_count": 1,
   "metadata": {},
   "outputs": [
    {
     "name": "stdout",
     "output_type": "stream",
     "text": [
      "10\n"
     ]
    }
   ],
   "source": [
    "x0 = 1\n",
    "n = 4\n",
    "x = x0\n",
    "\n",
    "for k in range(1,n):\n",
    "    x = x + 3\n",
    "\n",
    "print(x)"
   ]
  },
  {
   "cell_type": "markdown",
   "metadata": {},
   "source": [
    "Programmet ovenfor regner ut det fjerde tallet i følgen. Vi ser at programmet benytter er en relativt enkel framgangsmåte, men ofte er hovedutfordringen å formulere regelen som beskriver sammenhengen. Dessuten må vi passe på at vi bruker korrekte indekser.\n",
    "\n",
    "```{admonition} Underveisoppgave\n",
    ":class: tip\n",
    "Finn det hundrede tallet i denne geometriske tallfølgen:\n",
    "\n",
    "$$1, 2, 4, 8, 16, ...$$\n",
    "```\n",
    "\n",
    "Vi kan også summere alle leddene ved å innføre en summevariabel. Med andre ord kan vi finne _rekkesummer_ ved hjelp av iterasjon. Ta for eksempel følgende geometriske rekke:\n",
    "\n",
    "$$2 + 1 + 1/2 + 1/4 + 1/8 + 1/16 + ...$$\n",
    "\n",
    "Vi kan formulere denne rekka som en sum av _n_ ledd:\n",
    "\n",
    "$$\\sum_{k=0}^{n-1} 2\\cdot\\left(\\frac{1}{2}\\right)^k$$\n",
    "\n",
    "Slike summeformler er ikke alltid like enkle å formulere. Her ser vi at hvert ledd er halvparten av det andre. Derfor kan vi summere dem iterativt slik:"
   ]
  },
  {
   "cell_type": "code",
   "execution_count": 4,
   "metadata": {},
   "outputs": [
    {
     "name": "stdout",
     "output_type": "stream",
     "text": [
      "Summen av de 3 første leddene er 3.5\n"
     ]
    }
   ],
   "source": [
    "x0 = 2\n",
    "n = 3\n",
    "x = x0\n",
    "s = x0\n",
    "\n",
    "for k in range(1,n):\n",
    "    x = x*0.5\n",
    "    s = s + x\n",
    "\n",
    "print(f'Summen av de {n} første leddene er {s}')"
   ]
  },
  {
   "cell_type": "markdown",
   "metadata": {},
   "source": [
    "\n",
    "```{admonition} Underveisoppgave\n",
    ":class: tip\n",
    "Finn summen av de 100 første tallene i følgende rekke:\n",
    "\n",
    "$1 + \\frac{2}{3} + \\frac{4}{9} + \\frac{8}{27} + ...$\n",
    "```"
   ]
  },
  {
   "cell_type": "markdown",
   "metadata": {},
   "source": [
    "På 1800-tallet gikk mange med hatt. Hatteindustrien blomstret, og en fant stadig opp nye metoder som forbedret hattematerialene. En særskilt god – og dårlig, skulle det vise seg – metode, var å bruke kvikksølvnitrat til å stive av hattebremmen i filthatter. Hattemakerne begynte etter hvert å oppleve symptomer som nummenhet, humørsvingninger, muskelspasmer og andre nevrologiske effekter. Noen har til og med blitt beskrevet som gale.\n",
    "\n",
    "```{figure} https://live.staticflickr.com/4067/4229410034_cdaf994803_c.jpg\n",
    "---\n",
    "height: 400px\n",
    "name: hattemaker\n",
    "---\n",
    "Kvikksølv i hatten var ikke særlig lurt.\n",
    "```"
   ]
  },
  {
   "cell_type": "markdown",
   "metadata": {},
   "source": [
    "Heldigvis sluttet en å bruke kvikksølv i hattene, men hvor lang tid kan det ta før kvikksølvforgiftningen er ute av kroppen? Tida det tar før halvparten av et stoff mister sin biologiske effekt i kroppen, kalles _biologisk halveringstid_. Det er mange studier på den biologiske halveringstida til uorganisk kvikksølv i hjernen, med estimater fra noen uker til flere år, avhengig av hvordan det blir målt. Mye tyder på at et godt estimat kan være 27.4 år. Det betyr at massen kvikksølv $m_{Hg}$ etter $t$ år kan gis ved:\n",
    "\n",
    "$$m_{Hg, t+1} = m_{Hg, t}\\cdot 0.5^{t/H}$$\n",
    "\n",
    "Dersom vi sløyfer _t_ i eksponenten, men heller gjentar prosessen for hvert år, kan vi løse dette iterativt:"
   ]
  },
  {
   "cell_type": "code",
   "execution_count": 5,
   "metadata": {},
   "outputs": [
    {
     "name": "stdout",
     "output_type": "stream",
     "text": [
      "Etter 100 år er det 96 mg kvikksølv igjen i hjernen\n"
     ]
    }
   ],
   "source": [
    "m0 = 1200 # Startmasse i mg\n",
    "m = m0    \n",
    "tid = 100 # Tid i år\n",
    "H = 27.4  # Halveringstid i år\n",
    "\n",
    "for t in range(tid):\n",
    "    m = m*0.5**(1/H)\n",
    "\n",
    "print(f'Etter {tid} år er det {m:.0f} mg kvikksølv igjen i hjernen')"
   ]
  },
  {
   "cell_type": "markdown",
   "metadata": {},
   "source": [
    "Siden vi har en formel for konsentrasjonen etter tida $t$, trenger vi strengt tatt ikke egentlig å bruke løkker her. Men ved å løse dette iterativt, kan vi lettere ta inn andre faktorer i modellen vår og studere effekten av dem. La oss si at vi etter 12 år finner en medisin som gradvis endrer halveringstida, eller at vi finner ut at noen næringsstoffer gir positiv effekt over tid. Dersom halveringstida endrer seg underveis, _må_ vi faktisk benytte en iterativ modell, spesielt hvis den endrer seg uregelmessig. Her er et eksempel på en enkel modifikasjon:"
   ]
  },
  {
   "cell_type": "code",
   "execution_count": 6,
   "metadata": {},
   "outputs": [
    {
     "name": "stdout",
     "output_type": "stream",
     "text": [
      "Etter 100 år er det 2 mg kvikksølv igjen i hjernen\n"
     ]
    }
   ],
   "source": [
    "m0 = 1200           # Startmasse i mg\n",
    "m = m0    \n",
    "tid = 100          # Tid i år\n",
    "H = 27.4           # Halveringstid i år\n",
    "tid_medisin = 12 # Medisin inntatt ved år\n",
    "\n",
    "for t in range(tid):\n",
    "    if t >= tid_medisin:\n",
    "        H = H*0.98\n",
    "    m = m*0.5**(1/H)\n",
    "\n",
    "print(f'Etter {tid} år er det {m:.0f} mg kvikksølv igjen i hjernen')"
   ]
  },
  {
   "cell_type": "markdown",
   "metadata": {},
   "source": [
    "```{admonition} Underveisoppgave\n",
    ":class: tip\n",
    "Hva er effekten til medisinen i programmet ovenfor?\n",
    "```\n",
    "\n",
    "Den samme framgangsmåten kan brukes på for eksempel radioaktiv halveringstid og akkumulering av miljøgifter i en næringskjede. For radioaktive isotoper er halveringstida konstant, så her har vi ikke så mye igjen for å bruke programmering. Men med for eksempel miljøgifter kan vi dra nytte av at vi kan endre ulike spredningsfaktorer og dermed lage en mer fleksibel og dynamisk modell."
   ]
  },
  {
   "cell_type": "markdown",
   "metadata": {},
   "source": [
    "## Medisinakkumulering\n",
    "Vi kan også bruke iterative metoder til å estimere virkningen av stoffer med fysiologisk effekt, som kosttilskudd, medisiner og gift. Dersom for eksempel 20 \\% av en medisin brytes ned i kroppen hver dag, hvor mye medisin har vi i kroppen til enhver tid dersom vi tar 100 mg medisin hver morgen? Programmet nedenfor beregner total mengde medisin i kroppen i løpet av 30 dager:"
   ]
  },
  {
   "cell_type": "code",
   "execution_count": 7,
   "metadata": {},
   "outputs": [
    {
     "data": {
      "image/png": "[encoded data removed]",
      "text/plain": [
       "<Figure size 432x288 with 1 Axes>"
      ]
     },
     "metadata": {
      "needs_background": "light"
     },
     "output_type": "display_data"
    }
   ],
   "source": [
    "import matplotlib.pyplot as plt\n",
    "\n",
    "dose = 100\n",
    "medisin = dose\n",
    "nedbrytning = 0.80 # Andel medisin igjen i kroppen\n",
    "tid = 30\n",
    "\n",
    "t = []\n",
    "total = []\n",
    "t.append(0)\n",
    "total.append(dose)\n",
    "\n",
    "for i in range(1,tid+1):\n",
    "    medisin = medisin*nedbrytning + dose\n",
    "    total.append(medisin)\n",
    "    t.append(i)\n",
    "    \n",
    "plt.plot(t,total,color='crimson')\n",
    "plt.xlabel('Tid (dager)')\n",
    "plt.ylabel('Medisin (mg)')\n",
    "plt.show()"
   ]
  },
  {
   "cell_type": "markdown",
   "metadata": {},
   "source": [
    "```{admonition} Underveisoppgave\n",
    ":class: tip\n",
    "Bivirkninger av medisinen kan oppstå dersom vi får over 350 mg medisin i blodet. Modifiser programmet slik at det finner ut hvor lenge vi kan gå på medisinen dersom vi bruker 100 mg hver dag. Finn også ut hvor mye medisin vi kan ta hver dag uten at vi får bivirkninger.\n",
    "```"
   ]
  },
  {
   "cell_type": "markdown",
   "metadata": {},
   "source": [
    "## Videoer\n",
    "\n",
    "````{tab-set} \n",
    "```{tab-item} Differenslikninger\n",
    "<iframe width=\"850\" height=\"450\" src=\"https://www.youtube.com/embed/u6wgr0GRoLM\" title=\"YouTube video player\" frameborder=\"0\" allow=\"accelerometer; autoplay; clipboard-write; encrypted-media; gyroscope; picture-in-picture\" allowfullscreen></iframe>\n",
    "```\n",
    "````"
   ]
  }
 ],
 "metadata": {
  "celltoolbar": "Edit Metadata",
  "kernelspec": {
   "display_name": "Python 3 (ipykernel)",
   "language": "python",
   "name": "python3"
  },
  "language_info": {
   "codemirror_mode": {
    "name": "ipython",
    "version": 3
   },
   "file_extension": ".py",
   "mimetype": "text/x-python",
   "name": "python",
   "nbconvert_exporter": "python",
   "pygments_lexer": "ipython3",
   "version": "3.8.5"
  }
 },
 "nbformat": 4,
 "nbformat_minor": 4
}
