{
 "cells": [
  {
   "cell_type": "markdown",
   "metadata": {},
   "source": [
    "# Differensiallikninger og fartslover\n",
    "\n",
    "```{admonition} Læringsutbytte\n",
    "Etter å ha arbeidet med dette temaet, skal du kunne:\n",
    "1. Forklare hva som menes med differensiallikninger, og hvordan slike likninger kan brukes til å modellere ulike systemer.\n",
    "2. Forklare og implementer Eulers metode (Forward Euler).\n",
    "3. Løse ordinære differensiallikninger med egne Python-funksjoner og funksjoner fra Scipy-biblioteket.\n",
    "4. Løse ratelover numerisk.\n",
    "```\n",
    "\n",
    "## Motivasjon\n",
    "Eksperimenter har stått i sentrum av kjemifaget i flere hundre år. Men med økende datakraft og billigere datamaskiner de siste 50 årene har simuleringer blitt et viktig tillegg til dette. Simuleringer kan belyse og supplere eksperimenter, i tillegg til at de kan illustrere viktige fenomener på egen hånd. Ved å studere molekyler og kjemiske reaksjoner med datamaskiner, kan vi få enda større innsikt i de mest fundamentale egenskapene og mekanismene til disse systemene.\n",
    "\n",
    "Her skal vi se på metoder for modellering med differensiallikninger, spesielt anvendt på kjemiske ratelover."
   ]
  },
  {
   "cell_type": "markdown",
   "metadata": {},
   "source": [
    "## Differensiallikninger og Eulers metode\n",
    "La oss si at vi har et uttrykk for endringen i et system, for eksempler endring i konsentrasjon (fartslover/ratelover) eller endring i posisjon og hastighet (Newtons 2. lov). Disse uttrykkene beskriver den momentane endringen, det vil si den deriverte, som funksjon av tid. De er derfor _differensiallikninger_.\n",
    "\n",
    "Eksempler på differensiallikninger er:\n",
    "\n",
    "$$f'(x) - x = 2$$\n",
    "\n",
    "$$y' = y$$\n",
    "\n",
    "$$y' = x - y$$\n",
    "\n",
    "$$u' = t + 1$$\n",
    "\n",
    "$$u'(t) = u(t)$$\n",
    "\n",
    "Alle disse er differensiallikner som er skrevet med litt ulike notasjoner. Felles for dem er at de inneholder den deriverte som funksjon av en eller annen variabel. Det kan være nyttig å kalle venstresida av likningen, altså den deriverte, for $u'(t)$ eller $y'$. På høyresida kan det være ulike variabler og konstanter, men det vanligste er at vi har en variabel og den integrerte funksjonen, $u(t)$ eller $y$. Vi kan derfor skrive høyresida som en funksjon av $t$ og $y$ eller $t$ og $u(t)$. To vanlige måter å skrive generelle differensiallikninger på, er derfor:\n",
    "\n",
    "$$y' = f(t,y)$$\n",
    "\n",
    "$$u'(t) = f(t,u(t))$$\n",
    "\n",
    "```{admonition} Underveisoppgave\n",
    ":class: tip\n",
    "Studer differensiallikningene og de generelle uttrykkene og prøv å forstå sammenhengen mellom dem.\n",
    "```\n",
    "\n",
    "Et praktisk eksempel på en differensiallikning er Newtons 2. lov. Dersom summen av kreftene på ei kule som faller er $\\sum F = G - L$, får vi:\n",
    "\n",
    "$\\sum F = ma(t)$\n",
    "\n",
    "$a(t) = \\frac{\\sum F}{m}$\n",
    "\n",
    "$a(t) = \\frac{G}{m} - \\frac{L}{m}$\n",
    "\n",
    "$a(t) = \\frac{mg}{m} - \\frac{kv(t)}{m}$\n",
    "\n",
    "$v'(t) = g - \\frac{kv(t)}{m}$\n",
    "\n",
    "Her ser vi at den siste likningen inneholder den deriverte av farten (altså akselerasjonen). Altså er dette en differensiallikning.\n",
    "\n",
    "```{admonition} Differensiallikninger\n",
    "En differensiallikning er en likning som inneholder den deriverte av en funksjon. I de fleste praktiske situasjoner beskriver slike likninger sammenhengen mellom endringen, $f'(t)$, og tilstanden, $f(t)$, til et system ved tida $t$.\n",
    "```\n",
    "Det vil altså si at en difflikning er en sammenheng mellom den deriverte til en funksjon, altså endringen i funksjonen, og funksjonen selv. Når vi løser en difflikning, får vi ikke et uttrykk for $x$, som når vi løser likninger – vi får et uttrykk for $f(x)$. Et enkelt eksempel på dette er:\n",
    "\n",
    "$f'(x) = 1$\n",
    "\n",
    "Hva slags funksjon kan være løsningen på en slik likning? Vi veit at å integrere er det motsatte av å derivere. Derfor kan vi jo integrere på begge sider av likningen for å finne $f(x)$:\n",
    "\n",
    "\n",
    "$$\\int f'(x) dx = \\int 1\\ dx$$\n",
    "\n",
    "$$f(x) = x + C$$\n",
    "\n",
    "Siden den deriverte av _x_ er 1, må integralet av 1 være _x_. Men den deriverte av for eksempel $x + 2$ eller $x + 10$ er jo også _1_, så derfor må vi legge til en vilkårlig konstant _C_ som viser at det er flere, ja faktisk uendelig, funksjoner som blir 1 når vi deriverer dem. Dette er fordi integralene er _ubestemte_, det vil si at vi ikke integrerer fra og til en verdi, slik som vi har gjort tidligere.\n",
    "\n",
    "Med andre ord har vi ofte svært mange eller uendelig mange løsninger av en difflikning. Men i praksis er ofte konstanten bestemt av noen rammebetingelser som vi skal se på, og da får vi ofte én løsning. Denne rammebetingelsen består av en startverdi for $f(x)$, det vil si $f(x_0)$ eller $y_0$, som igjen bestemmer hvilken konstant vi får når vi integrerer. Dersom vi har disse initialbetingelsene, kan vi finne neste funksjonsverdi ved å løse en differensiallikning. La oss se på en enkel metode å gjøre dette på."
   ]
  },
  {
   "cell_type": "markdown",
   "metadata": {},
   "source": [
    "## Eulers metode\n",
    "Vi har altså en startverdi $f(x_0)$ og ønsker å finne $f(x_0 + dx)$, altså neste funksjonsverdi. I tillegg har vi et uttrykk for den deriverte av funksjonen, nemlig differensiallikningen. Du kjenner faktisk allerede til et uttrykk som inneholder en funksjon og dens deriverte, nemlig definisjonen av den deriverte. La oss bruke den til å utlede en metode for å finne $f(x + dx)$. Vi bruker den numeriske definisjonen der vi tilnærmer grenseverdiene med en _dx_ ($\\Delta x$) som er så liten som mulig:\n",
    "\n",
    "$$f'(x) \\approx \\frac{f(x+dx) - f(x)}{dx}$$\n",
    "\n",
    "Til å begynne med kjenner vi $f(x)$, altså $f(x_0)$. Dette er initialbetingelsen, for eksempel startkonsentrasjonen $c(t_0)$ i eksempelet ovenfor. Vi kjenner også et uttrykk for den deriverte, nemlig differensiallikningen. I tillegg bestemmer vi selv tidssteget _dx_, men husk at det verken bør være for lite eller for stort. Den eneste ukjente i den numeriske tilnærmingen til den deriverte er altså $f(x+dx)$. Det er jo nettopp $f(x+dx)$ vi prøver å finne, fordi det beskriver tilstanden til systemet ved neste tidssteg. Med litt enkel algebra får vi omformet uttrykket slik at det blir et uttrykk for $f(x+dx)$. Vi ganger først med $dx$ på begge sider:\n",
    "\n",
    "$$f'(x)\\cdot dx \\approx f(x+dx) - f(x)$$\n",
    "\n",
    "Deretter får vi $f(x+dx)$ aleine på høyre side og ender opp med følgende likning:\n",
    "\n",
    "$$f(x+dx) \\approx f(x) + f'(x)\\cdot dx$$\n",
    "\n",
    "Dette er _Eulers metode_, eller nærmere bestemt _Forward Euler_. Metoden kalles dette fordi den tar utgangspunkt i framoverdifferansen til den deriverte. Den  brukes til å løse differensiallikninger, det vil si å _integrere_ den deriverte slik at vi finner funksjonsverdiene. Siden vi ofte har å gjøre med funksjoner som varierer med tid, kaller vi gjerne _dx_ for _dt_.\n",
    "\n",
    "```{admonition} Eulers metode (Forward Euler)\n",
    "Vi kan finne funksjonsverdiene $f(t_{k+1})$ ved å bruke funksjonsverdien $f(t_k)$ og den deriverte av funksjonen ved tida $t_k$, $f'(t_k)$ sammen med en steglengde $dt$ som representerer en liten $\\Delta t$.\n",
    "\n",
    "$$f(t_{k+1}) = f(t_k) + f'(t_k)\\cdot dt$$\n",
    "```"
   ]
  },
  {
   "cell_type": "markdown",
   "metadata": {},
   "source": [
    "### Implementering\n",
    "Vi starter med et enkelt eksempel, nemlig den enkle differensiallikningen vi så på ovenfor, $f'(x) = 1$. En vanlig måte å skrive dette på er $y' = 1$. Vi lager oss derfor en funksjon som kan inneholde både $x$ og $y$. Vi kan plotte denne for ulike initialbetingelser. En måte å gjøre dette på er slik:\n",
    "\n",
    "1. Definer hvilke verdier vi skal evaluere funksjonen i, altså et intervall $[x_0, x_{slutt}]$. Husk at vi bare kan derivere og integrere numerisk i bestemte _punkter_. Vi får altså ikke funksjoner når vi integrerer en differensiallikning – vi får funksjonsverdier.\n",
    "2. Sett en steglengde som spesifiserer avstanden mellom _x_-punktene. Ut fra dette regner du ut antall ganger løkka skal gå, altså antall funksjonsverdier vi skal finne. Dette regner vi ut ved å ta differansen mellom $x_0$ og $x_{slutt}$, som vi dividerer på steglengden $dx$. Da får vi antall intervaller mellom $x_0$ og $x_{slutt}$ med avstand $dx$. For å finne antall punkter, må vi derfor ta antall intervaller og legge til 1: \n",
    "\n",
    "$N_{punkter} = \\frac{x_{slutt} - x_0}{dx} + 1$\n",
    "\n",
    "3. Vi definerer så differensiallikningen som en funksjon og lager arrayer $x$ og $y$ for å spare på verdiene vi regner ut. Vi fyller inn initalbetingelsene inn i disse arrayene.\n",
    "4. Nå kan vi bruke Eulers metode til å løse differensiallikningen."
   ]
  },
  {
   "cell_type": "code",
   "execution_count": 11,
   "metadata": {
    "scrolled": true
   },
   "outputs": [
    {
     "data": {
      "image/png": "[encoded data removed]",
      "text/plain": [
       "<Figure size 432x288 with 1 Axes>"
      ]
     },
     "metadata": {
      "needs_background": "light"
     },
     "output_type": "display_data"
    }
   ],
   "source": [
    "import matplotlib.pyplot as plt\n",
    "import numpy as np\n",
    "\n",
    "# Plotteverdier\n",
    "x0 = 0                         # startverdi for x\n",
    "x_slutt = 5.0                  # sluttverdi for x\n",
    "dx = 1E-5                      # steglengde\n",
    "N = int((x_slutt - x0)/dx) + 1 # antall punkter\n",
    "\n",
    "# Initialbetingelser\n",
    "y0 = 1                  # intitialbetingelse for y\n",
    "\n",
    "# Differensiallikningen\n",
    "def yder(y,x):\n",
    "    return 1 \n",
    "\n",
    "# Lager arrayer for å spare på verdiene\n",
    "x = np.zeros(N)\n",
    "y = np.zeros(N)\n",
    "y[0] = y0     # Legger inn initalbetingelsen for y\n",
    "x[0] = x0\n",
    "\n",
    "# Eulers metode\n",
    "for i in range(N-1):\n",
    "    y[i+1] = y[i] + yder(y[i],x[i])*dx\n",
    "    x[i+1] = x[i] + dx\n",
    "\n",
    "plt.plot(x,y)\n",
    "plt.xlabel(\"x\")\n",
    "plt.ylabel(\"y\")\n",
    "plt.grid()\n",
    "plt.show()"
   ]
  },
  {
   "cell_type": "markdown",
   "metadata": {},
   "source": [
    "```{admonition} Underveisoppgave\n",
    ":class: tip\n",
    "Studer programmet ovenfor og regn ut løkka for hånd med fra $x = 0$ til $x = 5$ med steglengde $dx = 1$.\n",
    "```\n",
    "\n",
    "Dersom vi endrer initialbetingelsene, får vi naturlig nok andre løsninger:"
   ]
  },
  {
   "cell_type": "code",
   "execution_count": 12,
   "metadata": {},
   "outputs": [
    {
     "data": {
      "image/png": "[encoded data removed]",
      "text/plain": [
       "<Figure size 432x288 with 1 Axes>"
      ]
     },
     "metadata": {
      "needs_background": "light"
     },
     "output_type": "display_data"
    }
   ],
   "source": [
    "# Plotteverdier\n",
    "x0 = 0                         # startverdi for x\n",
    "x_slutt = 5.0                  # sluttverdi for x\n",
    "dx = 1E-3                      # steglengde\n",
    "N = int((x_slutt - x0)/dx) + 1 # antall punkter\n",
    "\n",
    "# Initialbetingelser\n",
    "y0 = 1                  # intitialbetingelse for y\n",
    "\n",
    "# Differensiallikningen\n",
    "def yder(y,x):\n",
    "    return 1 \n",
    "\n",
    "# Lager arrayer for å spare på verdiene\n",
    "x = np.zeros(N)\n",
    "y = np.zeros(N)\n",
    "x[0] = x0\n",
    "\n",
    "y_liste = [0, 1, 2, 3]\n",
    "for y0 in y_liste:\n",
    "    y[0] = y0 \n",
    "    for i in range(N-1):\n",
    "        y[i+1] = y[i] + yder(y[i],x[i])*dx\n",
    "        x[i+1] = x[i] + dx\n",
    "    plt.plot(x,y,label=f\"y0={y0}\")\n",
    "plt.grid()\n",
    "plt.legend()\n",
    "plt.xlabel(\"x\")\n",
    "plt.ylabel(\"y\")\n",
    "plt.show()"
   ]
  },
  {
   "cell_type": "markdown",
   "metadata": {},
   "source": [
    "Det er enkelt å se at funksjonene vi får ovenfor er $y = x + C$, der $C$ avhenger av initialbetingelsene. Vi får derimot ikke selve funksjonsuttrykket som output, men vi får, som nevnt før, _funksjonsverdiene_. Vi kan også løse likningen $y' = y + x$ på samme måte. Den analytiske løsningen for denne likningen er $y = Ce^x - x - 1$. Resultatene blir da slik for de samme initialbetingelsene som ovenfor:"
   ]
  },
  {
   "cell_type": "code",
   "execution_count": 13,
   "metadata": {},
   "outputs": [
    {
     "data": {
      "image/png": "[encoded data removed]",
      "text/plain": [
       "<Figure size 432x288 with 1 Axes>"
      ]
     },
     "metadata": {
      "needs_background": "light"
     },
     "output_type": "display_data"
    }
   ],
   "source": [
    "def yder(y,x):\n",
    "    return y + x\n",
    "\n",
    "y_liste = [0, 1, 2, 3]\n",
    "for y0 in y_liste:\n",
    "    y[0] = y0 \n",
    "    for i in range(N-1):\n",
    "        y[i+1] = y[i] + yder(y[i],x[i])*dx\n",
    "        x[i+1] = x[i] + dx\n",
    "    plt.plot(x,y,label=f\"y0={y0}\")\n",
    "plt.grid()\n",
    "plt.legend()\n",
    "plt.xlabel(\"x\")\n",
    "plt.ylabel(\"y\")\n",
    "plt.show()"
   ]
  },
  {
   "cell_type": "markdown",
   "metadata": {},
   "source": [
    "```{admonition} Underveisoppgave\n",
    ":class: tip\n",
    "Løs differensiallikninga $y' + y^3 = \\sin(x)$ med Eulers metode fra $x = 0$ til $x = 10$. Bruk initialbetingelsen $y(0) = 0$. Vær nøye med hvordan du definerer funksjonen.\n",
    "```\n"
   ]
  },
  {
   "cell_type": "markdown",
   "metadata": {},
   "source": [
    "## Newtons 2. lov\n",
    "\n",
    "Vi så at Newtons 2. lov gir oss differensiallikninger når vi omformulerer akselerasjonen som den deriverte av farten.\n",
    "\n",
    "$$a(t) = v'(t) = s''(t)$$\n",
    "\n",
    "Vi kan altså få både en førsteordens og en andreordens difflikning ut av Newtons 2. lov. Det betyr også at vi kan finne akselerasjon og fart ut fra strekning ved å derivere, og motsatt finne fart og posisjon fra akselerasjon ved å integrere. Vi kan med andre ord skrive Newtons 2. lov slik:\n",
    "\n",
    "$$F = ma(t) = mv'(t) = ms''(t)$$\n",
    "\n",
    "La oss ta et eksempel. Når vi slipper ei kule fra en viss høyde, kan vi regne med at to krefter virker på kula: tyngdekraften og luftmotstand. For en lett ball som faller, kan vi si at summen av krefter er summen av gravitasjonskraften og luftmotstanden i $y$-retning på en graf. Vi definerer positiv retning oppover $y$-aksen.\n",
    "\n",
    "$$\\sum F = G - L = ma(t) = mv'(t) = ms''(t)$$\n",
    "\n",
    "Vi ser at vi nå har den deriverte av hastigheten, som er akselerasjonen. For å kunne løse denne likningen, må vi finne ut hva summen av kreftene er. Du husker kanskje at $G = mg$, og at en mulig modell for luftmotstand er $L = -kv$, der $k$ er en konstant som blant annet er avhengig av legemets form. Da kan vi skrive uttrykket slik:\n",
    "\n",
    "$$ma(t) = - mg + (- kv(t))$$\n",
    "\n",
    "$$a(t) = \\frac{- mg - kv(t)}{m} = - g - \\frac{kv(t)}{m}$$\n",
    "\n",
    "Dette er en førsteordens difflikning der vi har en funksjon $v(t)$, og dens deriverte $a(t)$ (det vil si $v'(t)$). La oss løse denne numerisk."
   ]
  },
  {
   "cell_type": "code",
   "execution_count": 5,
   "metadata": {},
   "outputs": [
    {
     "data": {
      "image/png": "[encoded data removed]",
      "text/plain": [
       "<Figure size 432x288 with 1 Axes>"
      ]
     },
     "metadata": {
      "needs_background": "light"
     },
     "output_type": "display_data"
    }
   ],
   "source": [
    "import matplotlib.pyplot as plt\n",
    "import numpy as np\n",
    "\n",
    "# Konstanter\n",
    "k = 0.1   # Luftmotstand\n",
    "g = 9.81  # Tyngdeakselerasjon i m/s^2\n",
    "m = 1     # Masse i kg\n",
    "v0 = 0    # Starthastighet i m/s\n",
    "s0 = 0    # Startposisjon i m\n",
    "\n",
    "# Tidsvariabler\n",
    "dt = 1E-5 # Tidsintervall i s\n",
    "tid_start = 0\n",
    "tid_slutt = 10\n",
    "N = int((tid_slutt-tid_start)/dt) + 1 # Antall punkter\n",
    "\n",
    "# Arrayer\n",
    "t = np.zeros(N)\n",
    "a = np.zeros(N)\n",
    "v = np.zeros(N)\n",
    "s = np.zeros(N)\n",
    "\n",
    "# Startverdier\n",
    "t[0] = tid_start\n",
    "v[0] = v0\n",
    "s[0] = s0\n",
    "\n",
    "for i in range(N-1):\n",
    "    a[i] = - g - k*v[i]/m\n",
    "    v[i+1] = v[i] + a[i]*dt\n",
    "    s[i+1] = s[i] + v[i]*dt + 0.5*a[i]*dt**2\n",
    "    t[i+1] = t[i] + dt\n",
    "\n",
    "plt.plot(t,s)\n",
    "plt.title('Fallende kule')\n",
    "plt.xlabel('Tid (s)')\n",
    "plt.ylabel('strekning (m)')\n",
    "plt.show()"
   ]
  },
  {
   "cell_type": "markdown",
   "metadata": {},
   "source": [
    "```{admonition} Underveisoppgave\n",
    ":class: tip\n",
    "Studer programmet ovenfor og forklar hvordan det fungerer linje for linje.\n",
    "```"
   ]
  },
  {
   "cell_type": "markdown",
   "metadata": {},
   "source": [
    "### Newtons 2. lov i kjemi\n",
    "Du tenker kanskje at Newtons lover kun benyttes i fysikk? Det er ikke tilfellet. Newtons 2. lov benyttes i tilfeller der vi kan beskrive partikler med klassisk mekanikk. Vi bruker loven til å finne akselerasjonen, og dermed hastighet og posisjon, til partikler gitt kreftene mellom dem (svake bindinger). Ovenfor brukte vi et enkelt eksempel med en fallende kule, men eksempelet kan utvides til helt andre tilfeller der kreftene er noe annet enn gravitasjon og luftmotstand. Når vi bruker Newtons 2. lov til å regne ut bevegelsen til atomer og molekyler, bruker vi en simuleringsmetode som kalles _molekyldynamikk_.\n",
    "\n",
    "La oss se på et enkelt eksempel der vi bruker en enkel modell for å beskrive vibrasjonen i en binding mellom to like atomer (for eksempel $O_2$). Vi kan lage bindingsmodeller som enkle \"fjærmodeller\". Da ser vi på atomene som kuler som henger i hver sin ende av en fjær. Dersom bindingen er stiv (høy \"fjærkonstant\"), vibrerer atomene mye, og motsatt. Enkle fjærkrefter følger Hooks lov:\n",
    "\n",
    "$$F = -k\\cdot (x - x_0)$$\n",
    "\n",
    "der _x_ er posisjonen og $x_0$ er likevektsposisjonen, altså posisjonen der fjæra ikke er komprimert eller strukket ut. Fjærkonstanten _k_ beskriver stivheten til fjæra. Vi kan finne _k_ for ulike bindinger eksperimentelt eller ved hjelp av datasimuleringer.\n",
    "\n",
    "La oss se på et program som simulerer konseptet bak bindingsvibrasjon. Vi lar en kule stå i ro og beskriver kun hvordan den andre kula beveger seg fram og tilbake. Vi velger enkle verdier for $m$, $k$, $x0$ og $t$, slik at vi får illustrert konseptet enklere. For atomer vil selvsagt disse verdiene være svært mye lavere!"
   ]
  },
  {
   "cell_type": "code",
   "execution_count": 21,
   "metadata": {},
   "outputs": [
    {
     "data": {
      "image/png": "[encoded data removed]",
      "text/plain": [
       "<Figure size 432x288 with 1 Axes>"
      ]
     },
     "metadata": {
      "needs_background": "light"
     },
     "output_type": "display_data"
    }
   ],
   "source": [
    "import numpy as np\n",
    "import matplotlib.pyplot as plt\n",
    "\n",
    "# Konstanter og variabler\n",
    "m = 1    # Masse i kg\n",
    "k = 2    # Fjærkonstant\n",
    "x_eq = 0 # Likevektsposisjon i m\n",
    "v0 = 0   # Startfart i m/s\n",
    "x0 = 1   # Startposisjon i m\n",
    "\n",
    "# Tidssteg\n",
    "dt = 1E-6\n",
    "tid = 40        # Tid i s\n",
    "N = int(tid/dt) # Intervaller\n",
    "\n",
    "# Initialisering\n",
    "v = np.zeros(N+1)\n",
    "x = np.zeros(N+1)\n",
    "t = np.zeros(N+1)\n",
    "\n",
    "v[0] = v0\n",
    "x[0] = x0\n",
    "\n",
    "# Integrasjonsløkke\n",
    "for i in range(N):\n",
    "    a = -k/m*(x[i]-x_eq)\n",
    "    # Eulers metode\n",
    "    v[i+1] = v[i] + a*dt\n",
    "    x[i+1] = x[i] + v[i]*dt\n",
    "    t[i+1] = t[i] + dt\n",
    "    \n",
    "plt.plot(t,x)\n",
    "plt.show()"
   ]
  },
  {
   "cell_type": "markdown",
   "metadata": {},
   "source": [
    "```{admonition} Underveisoppgave\n",
    ":class: tip\n",
    "Studer programmet ovenfor og forklar hvordan det fungerer linje for linje.\n",
    "```"
   ]
  },
  {
   "cell_type": "markdown",
   "metadata": {},
   "source": [
    "## Fartslover (ratelover)\n",
    "Fartslover i kjemi er eksempler på differensiallikninger. La oss ta endring i konsentrasjon i reaksjonen mellom hydrogengass og jod i gassfase som et eksempel. Denne reaksjonen har en relativt enkel ratelov. Husk at formen på ratelovene ikke har noen direkte sammenheng med det støkiometriske forholdet mellom reaktanter og produkter. De er derimot basert på empiriske observasjoner (eksperimenter). Reaksjonen er egentlig reversibel, men vi forenkler og beskriver den kun i én retning til å begynne med. Reaksjonslikningen for reaksjonen kan da skrives slik:\n",
    "\n",
    "$$H_2 (g) + I_2 (g) \\rightarrow 2HI (g)$$\n",
    "\n",
    "\n",
    "Fartsloven for denne reaksjonen med hensyn på konsentrasjonen av $HI$ (her kalt _c_) er som følger:\n",
    "\n",
    "$$c'(t) = k_r[H_2][I_2]$$\n",
    "\n",
    "Vi har altså en likning som beskriver endringen i systemet $c'(t)$ (en differensiallikning), men ingen informasjon om selve konsentrasjonen $c(t)$. Vi ønsker med andre ord å finne konsentrasjonen av $HI$ ved enhver tid gitt en eller annen startbetingelse (konsentrasjonen av produkter og reaktanter til å begynne med). Det er det samme som å si at vi ønsker å finne funksjonsverdien $c(t + dt)$ for hvert tidssteg $dt$. \n",
    "\n",
    "Likningen ovenfor har i utgangspunkt tre ukjente, $[HI]_{t+dt}$, $[H]_{t+dt}$ og $[I]_{t+dt}$. Heldigvis er disse ukjente størrelsene avhengige av hverandre. Det er fordi alle tar utgangspunkt i den samme rateloven for $[HI]$ fordi de er støkiometrisk ekvivalente (forsvinner 1 mol $H_2$, dannes 2 mol $HI$, og det brukes 1 mol $I_2$ osv.). De tre ratelovene kan vi derfor formulere slik:\n",
    "\n",
    "$$[HI]'(t) = k_r[H_2][I_2]$$\n",
    "\n",
    "$$[H_2]'(t) = -0.5 [HI]'(t) = -0.5 \\cdot k_r[H_2][I_2]$$\n",
    "\n",
    "$$[I_2]'(t) = [H_2]'(t) = -0.5\\cdot k_r[H_2][I_2]$$\n",
    "\n",
    "For en generell ratelov som løses med Forward Euler, har vi at:\n",
    "\n",
    "$$c(t+dt) \\approx c(t) + c'(t)\\cdot dt$$\n",
    "\n",
    "Fartslover er koblede differensiallikninger, det vil si at de avhenger av hverandre. Derfor kan det være litt mer å huske på når vi løser farstlover enn når vi for eksempel løser Newtons 2. lov. Her er et eksempel som simulerer utviklingen av $H_2$, $I_2$ og $HI$ over 500 sekunder:\n",
    "\n",
    "```{admonition} Underveisoppgave\n",
    ":class: tip\n",
    "Forklar hva som skjer i programmet nedenfor og fyll inn det som mangler (Eulers metode).\n",
    "```\n",
    "\n",
    "````{admonition} Løsningsforslag\n",
    ":class: tip, dropdown\n",
    "```{code-block} Python\n",
    "for i in range(N-1):\n",
    "    HIder = k*H[i]*I[i]\n",
    "    Hder = -0.5*HIder\n",
    "    Ider = Hder\n",
    "    # Eulers metode\n",
    "    HI[i+1] = HI[i] + HIder*dt\n",
    "    H[i+1] = H[i] + Hder*dt\n",
    "    I[i+1] = I[i] + Ider*dt\n",
    "    t[i+1] = t[i] + dt\n",
    "```\n",
    "````\n",
    "\n",
    "<iframe src=\"https://trinket.io/embed/python3/09d06157a6\" width=\"100%\" height=\"600\" frameborder=\"0\" marginwidth=\"0\" marginheight=\"0\" allowfullscreen></iframe>"
   ]
  },
  {
   "cell_type": "markdown",
   "metadata": {},
   "source": [
    "Ofte kan det være lurt å gruppere kode i funksjoner slik at det er lettere å gjenbruke koden og fordi vi da har større kontroll på når vi gjør hver operasjon.\n",
    "\n",
    "```{admonition} Underveisoppgave\n",
    ":class: tip\n",
    "Modifiser programmet ovenfor slik at du bruker en funksjon _forward\\_euler(HI0, H20, I20, k, tid_slutt, h)_ til å integrere fartslovene.\n",
    "```\n",
    "\n",
    "````{admonition} Løsningsforslag\n",
    ":class: tip, dropdown\n",
    "```{code-block} Python\n",
    "import numpy as np\n",
    "import matplotlib.pyplot as plt \n",
    "\n",
    "# Difflikninger\n",
    "def dHI(H,I,k):\n",
    "    return k*H*I\n",
    "\n",
    "def dH2(H,I,k):\n",
    "    return -0.5*k*H*I\n",
    "\n",
    "def dI2(H,I,k):\n",
    "    return -0.5*k*H*I\n",
    "\n",
    "#Forward Euler\n",
    "def FE(HI0, H0, I0, k, tid_slutt, t0=0, h=1E-5):\n",
    "    N = int((tid_slutt - t0)/h)\n",
    "    HI = np.zeros(N+1)\n",
    "    H = np.zeros(N+1)\n",
    "    I = np.zeros(N+1)\n",
    "    t = np.zeros(N+1)\n",
    "    HI[0] = HI0\n",
    "    H[0] = H0\n",
    "    I[0] = I0\n",
    "    t[0] = t0\n",
    "    for i in range(N):\n",
    "        HIder = dHI(H[i],I[i],k)\n",
    "        Hder = -0.5*HIder\n",
    "        Ider = Hder\n",
    "        HI[i+1] = HI[i] + HIder*h\n",
    "        H[i+1] = H[i] + Hder*h\n",
    "        I[i+1] = I[i] + Ider*h\n",
    "        t[i+1] = t[i] + h\n",
    "    return HI, H, I, t\n",
    "\n",
    "HI, H2, I2, t = FE(HI0=0, H0=1, I0=1, k = 4.84E-2, tid_slutt = 500)\n",
    "plt.title('Reaksjonskinetikk for dannelse av HI')\n",
    "plt.xlabel('tid (s)')\n",
    "plt.ylabel('Konsentrasjon (mol/L)')\n",
    "plt.plot(t, HI, label = 'HI')\n",
    "plt.plot(t, H2, label = 'H2')\n",
    "plt.show()\n",
    "```\n",
    "````"
   ]
  },
  {
   "cell_type": "markdown",
   "metadata": {},
   "source": [
    "Ved høye temperaturer vil flere og flere HI-molekyler kollidere og rives løs igjen til $I_2$ og $H_2$. Reaksjonen er derfor egentlig reversibel, selv om vi har gjort en forenkling og beskrevet den som irreversibel ovenfor. Det viser seg at den motsatte reaksjonen følger denne rateloven:\n",
    "\n",
    "$$c'(t) = k_{bakover}[HI]^2$$\n",
    "\n",
    "Reaksjonen er altså andreordens med hensyn på konsentrasjonen av hydrogenjodid. Den totale rateloven for hydrogenjodid blir derfor:\n",
    "\n",
    "$$c'(t) = k_{framover}[H_2][I_2] - k_{bakover}[HI]^2$$\n",
    "\n",
    "Dersom vi kjenner likevektskonstanten $K$ ved den gitte temperaturen, kan vi finne $k_{bakover}$ ved å benytte følgende sammenheng:\n",
    "\n",
    "$$K = \\frac{k_{framover}}{k_{bakover}}$$\n",
    "\n",
    "\n",
    "```{admonition} Underveisoppgave\n",
    ":class: tip\n",
    "Lag et program som simulerer reaksjonen mellom $I_2$ og $H_2$ ved 450$^\\circ$C. Sett likevektskontstanten til å være 10 og $k_{framover}$ til å være $4.8\\cdot 10^{-2}$. Lag et plott som viser konsentrasjonen som funksjon av tid, og et plott som viser reaksjonsfarten som funksjon av tid. Kommenter plottene. Stemmer dette med det du kan om likevekter?\n",
    "```\n",
    "\n",
    "````{admonition} Løsningsforslag\n",
    ":class: tip, dropdown\n",
    "```{code-block} Python\n",
    "import numpy as np\n",
    "import matplotlib.pyplot as plt\n",
    "\n",
    "#Initialbetingelser\n",
    "\n",
    "H0 = 1          # Konsentrasjon av hydrogengass i mol/L    \n",
    "I0 = 1          # Konsentrasjon av jodgass i mol/L\n",
    "HI0 = 0         # Konsentrasjon av hydrogenjodid i mol/L\n",
    "k_f = 4.84E-2   # Ratekonstanten forover\n",
    "K = 10          # Omtrentlig likevektskonstant ved 400 grader\n",
    "k_b = k_f/K     # K = k_framover/k_bakover\n",
    "\n",
    "#Tidssteg\n",
    "tid_slutt = 250            # antall sekunder\n",
    "t0 = 0                     # starttid\n",
    "dt = 1E-3                  # tidsintervallet\n",
    "N = int((tid_slutt-t0)/dt) # antall punkter\n",
    "\n",
    "HI = np.zeros(N)\n",
    "H = np.zeros(N)\n",
    "I = np.zeros(N)\n",
    "t = np.zeros(N)\n",
    "\n",
    "#Arrayer\n",
    "t = np.zeros(N)        # Tid i sekunder\n",
    "H = np.zeros(N)        # Konsentrasjon av H2\n",
    "I = np.zeros(N)        # Konsentrasjon av I2\n",
    "HI = np.zeros(N)       # Konsentrasjon av HI\n",
    "Hder = np.zeros(N)     # Konsentrasjonsendring av H2\n",
    "Ider = np.zeros(N)     # Konsentrasjonsendring av I2\n",
    "HIder = np.zeros(N)    # Konsentrasjonsendring av HI\n",
    "forlengsrate = np.zeros(N)\n",
    "baklengsrate = np.zeros(N)\n",
    "\n",
    "H[0] = H0\n",
    "I[0] = I0\n",
    "HI[0] = HI0\n",
    "\n",
    "# Eulers metode\n",
    "for i in range(N-1):\n",
    "    forlengsrate[i] = k_f*H[i]\n",
    "    baklengsrate[i] = k_b*HI[i]\n",
    "    HIder[i] = forlengsrate[i] - baklengsrate[i]    # Rateloven for HI\n",
    "    Hder[i] = - 0.5*HIder[i]        # Endringen i [H2]\n",
    "    Ider[i] = Hder[i]               # Endringen i [I2]\n",
    "    HI[i+1] = HI[i] + HIder[i]*dt\n",
    "    H[i+1] = H[i] + Hder[i]*dt\n",
    "    I[i+1] = I[i] + Ider[i]*dt\n",
    "    t[i+1] = t[i] + dt\n",
    "\n",
    "plt.title('Reaksjonsfart for dannelse av HI')\n",
    "plt.xlabel('tid (s)')\n",
    "plt.ylabel('Reaksjonsfart (mol/L)/s')\n",
    "plt.plot(t[:-1], forlengsrate[:-1], label = 'H$_2$ + I$_2$ --> 2HI',color='green')\n",
    "plt.plot(t[:-1], baklengsrate[:-1], label = '2HI --> H$_2$ + I$_2$',color='maroon')\n",
    "plt.legend()\n",
    "plt.grid()\n",
    "plt.show()\n",
    "\n",
    "plt.xlabel('tid (s)')\n",
    "plt.ylabel('Konsentrasjon (mol/L)')\n",
    "plt.plot(t, HI, label = 'Produkter',color='green')\n",
    "plt.plot(t, H, label = 'Reaktanter',color='purple')\n",
    "plt.legend()\n",
    "plt.grid()\n",
    "plt.show()\n",
    "```\n",
    "````"
   ]
  },
  {
   "cell_type": "markdown",
   "metadata": {},
   "source": [
    "Når vi løser differensiallikninger, er det ikke alltid tilnærmingene er gode. Spesielt når vi har å gjøre med svingninger, gir Forward Euler ustabile og ofte helt feil resultater, spesielt med mindre $dt$ er svært liten. Og dersom $dt$ blir svært liten, får vi også et problem med veldig tunge beregninger. Det kan også bli et problem dersom vi ønsker å studere et system langt fram i tid. Forward Euler er derfor mer ment som en introduksjon til løsing av differensiallikninger, da metoden i seg selv ikke benyttes i stor grad. Vi skal nå se på et utvalg andre metoder.\n",
    "\n",
    "## Backward Euler\n",
    "Forskjellen på Forward Euler (FE) og Backward Euler (BE) er liten i teorien, men betydelig for implementering. FE regner ut funksjonsverdien ved tida $t+dt$ med utgangspunkt funksjonsverdien ved tida $t$ og den deriverte av funksjonen ved tida $t$. BE regner ut funksjonsverdien ved tida $t+dt$ med funksjonsverdien ved tida $t$ og den deriverte av funksjonen ved tida $t+dt$. Det er altså bare en forskjell i hvilken deriverte vi tar utgangspunkt i: FE tar utgangspunkt i framoverdifferansen av den deriverte, mens BE tar utgangspunkt i bakoverdifferansen. Dette ser ubetydelig ut, men det gir en ganske stor forskjell i hvordan vi implementerer metoden. \n",
    "\n",
    "Vi kaller Forward Euler for en _eksplisitt metode_ fordi vi finner tilstanden til et system ved et seinere tidspunkt ($t + dt$) ut fra endringen av systemet ved det nåværende tidspunktet ($f'(t)$). Backward Euler er derimot en _implisitt metode_ fordi vi finner tilstanden til et system ved et seinere tidspunkt ($t + dt$) ut fra endringen av systemet ved det samme tidspunktet ($f'(t + dt)$). Vi kan generalisere BE-metoden slik:\n",
    "\n",
    "```{admonition}\n",
    "Vi kan finne funksjonsverdiene $f(t_{k+1})$ ved å bruke funksjonsverdien $f(t_k)$ og den deriverte av funksjonen ved tida $t_{k+1}$.\n",
    "\n",
    "$$f(t_{k+1}) = f(t_k) + f'(t_{k+1})\\cdot dt$$\n",
    "\n",
    "der dt = steglengden.\n",
    "```\n",
    "\n",
    "Implisitte metoder er gode på såkalte _stive_ differensiallikninger, det vil si likninger som er numerisk ustabile med mindre tidssteget er svært lite. Numerisk ustabile likninger gir løsninger med en betydelig feil som ofte akkumuleres over tid. BE gir også gode resultater med store tidssteg og egner seg derfor godt til simulering av systemer over lengre tidsintervaller, men den gir i utgangspunktet like store feil som FE med samme tidssteg. Den egner seg derfor best som introduksjon til implisitte metoder, og vi skal derfor ikke se på implementering av denne metoden her. Vi skal snart se på hvordan vi kan bruke implisitte metoder fra scipy-biblioteket til å løse stive differensiallikninger. Men før vi gjør det, skal vi kikke litt på en metode som er mye brukt til å løse differensiallikninger som ikke er stive, nemlig Runge-Kutta 4.\n",
    "\n",
    "```{admonition} Underveisoppgave\n",
    ":class: tip\n",
    "Oppsummer hva som er forskjellene og likhetene mellom Forward Euler og Backward Euler, og hva som er forskjellen på en eksplisitt og en implisitt metode.\n",
    "```\n",
    "\n",
    "## Runge-Kutta 4\n",
    "Forward Euler er en del av en større familie av numeriske metoder kalt _Runge-Kutta-metoder_. Disse metodene blei systematisert og utvikla av de tyske matematikerne Carl Runge og Martin Wilhelm Kutta på starten av 1900-tallet. En av de vanligste Runge-Kutta-metodene kalles _Runge-Kutta 4_ (RK4), og er en _fjerdeordens_ RK-metode. Med det menes det at en funksjon evalueres på fire ulike steder per funksjonsverdiestimat. Dette krever en del regnekraft, men RK4 er en svært mye brukt metode på grunn av algoritmens stabilitet og presisjon. Det er en eksplisitt metode på lik linje med FE, så for store tidssteg er den ikke så god på stive differensiallikninger. Eulers metode er den enkleste RK-metoden, og er av første orden (RK1). Vi kan generalisere RK4 slik:\n",
    "\n",
    "````{admonition} Runge-Kutta 4\n",
    "En differensiallikning $y' = f(t, y)$ kan løses gitt en initialbetingelse $y(t_0)$ og en steglengde $dt$ ved følgende metode:\n",
    "\n",
    "for n = 0, 1, 2, 3, ..., N: \n",
    "\n",
    "$k_1 = f(t_n, y_n) \\cdot dt$\n",
    "\n",
    "$k_2 = f(t_n + \\frac{dt}{2}, y_n + \\frac{k_1}{2})\\cdot dt$\n",
    "\n",
    "$k_3 = f(t_n + \\frac{dt}{2}, y_n + \\frac{k_2}{2})\\cdot dt$\n",
    "\n",
    "$k_4 = f(t_n + dt, y_n + k_3)\\cdot dt$\n",
    "\n",
    "$y_{n+1} = y_n + \\frac{1}{6}(k_1 + 2k_2 + 2k_3 + k_4)$\n",
    "\n",
    "$t_{n+1} = t_n + dt$\n",
    "````\n",
    "\n",
    "## ODE-løsere\n",
    "Backward-metoder og Runge-Kutta-metoder av høyere orden er vanskelig å implementere. La oss se derfor se hvordan vi kan løse differensiallikninger med funksjoner fra scipy-biblioteket. De differensiallikningene vi har sett på, kaller vi for _ODE-er_ (ordinary differential equations) for å skille dem fra _PDE-er_ (partial differential equations). Vi skal ikke se på partielle differensiallikninger her, men mange av prinsippene for å løse dem er like som for ODE-er. Vi kommer til å bruke ODE som forkortelse videre.\n",
    "\n",
    "Vi starter med enkle differensiallikninger for å illustrere de grunnleggende prinsippene. En enkel differensiallikning vi kan begynne med, er:\n",
    "\n",
    "$$y' = t - y$$\n",
    "\n",
    "Vi kan skrive høyresida her som $f(t,y)$, siden den kan beskrives som en funksjon av _t_ og _y_. Deretter kan vi implementere en løser ved hjelp av en funksjon som heter _solve\\_ivp_ (\"solve initial value problem\")."
   ]
  },
  {
   "cell_type": "code",
   "execution_count": 26,
   "metadata": {},
   "outputs": [
    {
     "data": {
      "image/png": "[encoded data removed]",
      "text/plain": [
       "<Figure size 432x288 with 1 Axes>"
      ]
     },
     "metadata": {
      "needs_background": "light"
     },
     "output_type": "display_data"
    }
   ],
   "source": [
    "import numpy as np\n",
    "import matplotlib.pyplot as plt\n",
    "from scipy.integrate import solve_ivp\n",
    "\n",
    "def dy_dt(t, y):\n",
    "    return t - y\n",
    "\n",
    "a = 0\n",
    "b = 4\n",
    "t = np.linspace(a,b,1000)\n",
    "y0 = 1\n",
    "y_int = solve_ivp(dy_dt, [a,b], [1], t_eval=t)\n",
    "\n",
    "plt.xlabel(\"t\")\n",
    "plt.ylabel(\"y\")\n",
    "plt.plot(y_int.t, y_int.y[0])\n",
    "\n",
    "plt.show()"
   ]
  },
  {
   "cell_type": "markdown",
   "metadata": {},
   "source": [
    "Vi definerer her et sett med t-verdier slik at vi får et intervall å integrere over. Dernest er det viktig å ha en startbetingelse for $y$ (husk: vi trenger den forrige $y$-verdien for å finne den neste). Funksjonen _solve\\_ivp_ er en generell løser for differensiallikninger og tar som første parameter en funksjon av typen $f(t,y)$ – legg merke til rekkefølgen på parameterne. Deretter legger vi inn tidsintervallet som vi skal integrere over. Dette legges inn som en liste.\n",
    "\n",
    "Etter tidsintervallet legges startbetingelsene inn. Siden _solve\\_ivp_ er en løser som kan løse systemer av differensiallikninger, må vi lage startbetingelsen som en liste. Deretter har vi en del valgfrie parametre. Vi har brukt parameteren _t\\_eval_ her fordi den sier hvilke $t$-verdier vi skal regne ut $y$-verdier for. Hvis vi ikke gjør dette, får vi integralet kun evaluert i noen få punkter. Det kan være greit hvis vi for eksempel bare ønsker sluttverdien, men ikke hvis vi ønsker å plotte resultatene.\n",
    "\n",
    "Dersom du prøver å printe ut resultatene fra _solve\\_ivp_, får du mye ulik informasjon. Derfor henter vi ut spesifikke _t-_ og _y-_verdier ved  å skrive _y_int2.t_, som henter ut tidsverdiene, og _y_int2.y[0]_, som henter ut _y_-verdiene. Legg merke til at $y$ kan inneholde flere elementer ettersom vi kan løse systemer av differensiallikninger. Her må vi eksplisitt be om det første elementet (element 0 med Python-språk), selv om arrayen ikke inneholder flere $y$-verdier.\n",
    "\n",
    "```{admonition} Underveisoppgave\n",
    ":class: tip\n",
    "Løs differensiallikningen $f'(t) = \\cos(t)$ med $f(t_0) = 0$ med _solve\\_ivp_ fra $t=0$ til $t=\\pi$. Plott den analytiske løsningen $f(t) = \\sin(t)$ i samme koordinatsystem for å sammenlikne.\n",
    "```\n",
    "\n",
    "Algoritmene som brukes i slike biblioteker, er ofte sammensatte algoritmer som benytter seg av flere prinsipper enn en enkelt metode. Som standard benytter _solve\\_ivp_ seg av en blanding av Runge-Kutta 4 og Runge-Kutta 5, kalt RK45. Vi kan gi en ekstra parameter _method_ for å angi andre metoder. For eksempel kan det være nyttig med en _backward-løser_ hvis vi skal løse stive differensiallikninger. En slik metode er BDF (Backward Differentiation Formula):"
   ]
  },
  {
   "cell_type": "code",
   "execution_count": 27,
   "metadata": {},
   "outputs": [],
   "source": [
    "y_int = solve_ivp(dy_dt, [a,b], [1], t_eval=t, method = 'BDF')"
   ]
  },
  {
   "cell_type": "markdown",
   "metadata": {},
   "source": [
    "Dette er altså en samling av bakoverløsere i samme familie. Den benytter automatisk en orden som passer likningene vi skal løse. Dersom ordenen settes lik 1, får vi Backward Euler, som vi har sett på tidligere."
   ]
  },
  {
   "cell_type": "markdown",
   "metadata": {},
   "source": [
    "Vi har nå en måte å løse de koblede ratelovene på med Scipy-biblioteket. Det som er lurt å gjøre først, er å omformulere ratelovene som én Python-funksjon som returnerer ratelovene som en array eller liste med tre elementer:"
   ]
  },
  {
   "cell_type": "code",
   "execution_count": 29,
   "metadata": {},
   "outputs": [],
   "source": [
    "def ratelover(t,y):\n",
    "    CHI = y[0]\n",
    "    CH2 = y[1]\n",
    "    CI2 = y[2]\n",
    "    k = 4.84E-2\n",
    "    dHIdt = k*CH2*CI2\n",
    "    dH2dt = -0.5*dHIdt\n",
    "    dI2dt = dH2dt\n",
    "    return [dHIdt, dH2dt, dI2dt]"
   ]
  },
  {
   "cell_type": "markdown",
   "metadata": {},
   "source": [
    "Her er det viktig å huske på at $y$ må være en array med tre elementer: ett element for hver startbetingelse. Deretter formulerer vi ratelovene ut fra disse startbetingelsene. Ettersom funksjonen integreres, får vi nye verdier for $y[0]$, $y[1]$ og $y[2]$.\n",
    "\n",
    "```{admonition} Underveisoppgave\n",
    ":class: tip\n",
    "Studer funksjonen ovenfor og forklar hver linje med kode, og hva som skjer med disse verdiene når funksjonen integreres.\n",
    "```\n",
    "\n",
    "Videre kan vi løse og plotte ODE-ene på samme måte som tidligere:"
   ]
  },
  {
   "cell_type": "code",
   "execution_count": 31,
   "metadata": {
    "scrolled": false
   },
   "outputs": [
    {
     "data": {
      "image/png": "[encoded data removed]",
      "text/plain": [
       "<Figure size 432x288 with 1 Axes>"
      ]
     },
     "metadata": {
      "needs_background": "light"
     },
     "output_type": "display_data"
    }
   ],
   "source": [
    "a = 0\n",
    "b = 500\n",
    "t = np.linspace(a,b,100)\n",
    "y0 = [0,1,1] # Array med startverdier\n",
    "y_int = solve_ivp(ratelover, [a,b], y0, t_eval=t)\n",
    "\n",
    "plt.xlabel(\"t (s)\")\n",
    "plt.ylabel(\"c (mol/L)\")\n",
    "plt.plot(y_int.t, y_int.y[0]) # Plotter [HI]\n",
    "plt.plot(y_int.t, y_int.y[1]) # Plotter [H2]\n",
    "plt.show()"
   ]
  },
  {
   "cell_type": "markdown",
   "metadata": {},
   "source": [
    "## Oppgaver\n",
    "\n",
    "```{admonition} Oppgave\n",
    ":class: tip\n",
    "Implementer Eulers metode som en Python-funksjon, og løs differensiallikningen $y' = y$ med initialbetingelsen $y(0) = 2$. Løs den samme likningen med ulike løsninger fra scipy-biblioteket og sammenlikn resultatene.\n",
    "```\n",
    "\n",
    "```{admonition} Oppgave\n",
    ":class: tip\n",
    "Ta en generell irreversibel reaksjon $A + B \\rightarrow 2C$ som følger rateloven $\\frac{dC}{dt} = k[A][B]$. Vi starter med 1.00 mol/L av hver av reaktantene, og 0 mol/L av produktet. Ratekonstanten k = 0.01 s$^{-1}$.\n",
    "Lag et program som simulerer utviklingen de 500 første sekundene.\n",
    "```\n",
    "\n",
    "```{admonition} Oppgave\n",
    ":class: tip\n",
    "Løs puslespillet nedenfor.\n",
    "```"
   ]
  },
  {
   "cell_type": "code",
   "execution_count": 1,
   "metadata": {
    "tags": [
     "remove-input"
    ]
   },
   "outputs": [
    {
     "data": {
      "text/html": [
       "\n",
       "        <iframe\n",
       "            width=\"1000\"\n",
       "            height=\"550\"\n",
       "            src=\"https://parsons.herokuapp.com/puzzle/67c135760a964287b3dfa83e658cfd00\"\n",
       "            frameborder=\"0\"\n",
       "            allowfullscreen\n",
       "        ></iframe>\n",
       "        "
      ],
      "text/plain": [
       "<IPython.lib.display.IFrame at 0x1db4161d2e0>"
      ]
     },
     "execution_count": 1,
     "metadata": {},
     "output_type": "execute_result"
    }
   ],
   "source": [
    "from IPython.display import IFrame\n",
    "IFrame('https://parsons.herokuapp.com/puzzle/67c135760a964287b3dfa83e658cfd00', width=1000, height=550)"
   ]
  },
  {
   "cell_type": "markdown",
   "metadata": {},
   "source": [
    "## Videoer\n",
    "\n",
    "````{tabbed} Differensiallikninger\n",
    "<iframe width=\"850\" height=\"450\" src=\"https://www.youtube.com/embed/O08ToTAqp5w\" title=\"YouTube video player\" frameborder=\"0\" allow=\"accelerometer; autoplay; clipboard-write; encrypted-media; gyroscope; picture-in-picture\" allowfullscreen></iframe>\n",
    "````\n",
    "\n",
    "````{tabbed} Fartslover (ratelover)\n",
    "<iframe width=\"850\" height=\"450\" src=\"https://www.youtube.com/embed/Ql-68OsKDaQ\" title=\"YouTube video player\" frameborder=\"0\" allow=\"accelerometer; autoplay; clipboard-write; encrypted-media; gyroscope; picture-in-picture\" allowfullscreen></iframe>\n",
    "````"
   ]
  }
 ],
 "metadata": {
  "celltoolbar": "Edit Metadata",
  "kernelspec": {
   "display_name": "Python 3",
   "language": "python",
   "name": "python3"
  },
  "language_info": {
   "codemirror_mode": {
    "name": "ipython",
    "version": 3
   },
   "file_extension": ".py",
   "mimetype": "text/x-python",
   "name": "python",
   "nbconvert_exporter": "python",
   "pygments_lexer": "ipython3",
   "version": "3.8.8"
  }
 },
 "nbformat": 4,
 "nbformat_minor": 4
}
