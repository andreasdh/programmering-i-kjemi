{
 "cells": [
  {
   "cell_type": "markdown",
   "metadata": {},
   "source": [
    "# En første kodesnutt"
   ]
  },
  {
   "cell_type": "markdown",
   "metadata": {},
   "source": [
    "### Oppgaver for nybegynnere\n",
    "\n",
    "Her skal vi bruke en enkel nettbasert editor som heter \"Trinket\". Du kjører programmet ditt ved å trykke på \"play\"-knappen.\n",
    "\n",
    "1. Se på programmet nedenfor. Forklar hva programmet gjør.'\n",
    "\n",
    "<iframe src=\"https://trinket.io/embed/python3/0a3e2ca03a\" width=\"100%\" height=\"600\" frameborder=\"0\" marginwidth=\"0\" marginheight=\"0\" allowfullscreen></iframe>\n",
    "\n",
    "2. Kjør programmet. Fikk du det du trodde?\n",
    "3. Endre på konsentrasjonen av oksoniumioner (H$_3$O$^+$) og se hva som skjer når du kjører programmet på nytt.\n",
    "4. Lag det samme programmet i en annen editor (f.eks. VSCode eller Spyder) og kjør programmet.\n",
    "5. Prøv å lage et program som regner ut konsentrasjonen av (H$_3$O$^+$) ut fra pH, altså den motsatte operasjonen. Du kan bruke programmet nedenfor som utgangspunkt.\n",
    "\n",
    "### Oppgaver for de som kan litt fra før\n",
    "1. Lag et program som skriver ut summen og produktet av to tall.\n",
    "2. Lag et program som regner om grader C til K.\n",
    "3. Lag et program som regner ut radius til en sirkel med arealet 4.\n",
    "4. Lag et program som avgjør om en løsning er sur, basisk eller nøytral."
   ]
  },
  {
   "cell_type": "markdown",
   "metadata": {},
   "source": []
  }
 ],
 "metadata": {
  "kernelspec": {
   "display_name": "Python 3",
   "language": "python",
   "name": "python3"
  },
  "language_info": {
   "codemirror_mode": {
    "name": "ipython",
    "version": 3
   },
   "file_extension": ".py",
   "mimetype": "text/x-python",
   "name": "python",
   "nbconvert_exporter": "python",
   "pygments_lexer": "ipython3",
   "version": "3.8.5"
  }
 },
 "nbformat": 4,
 "nbformat_minor": 4
}
