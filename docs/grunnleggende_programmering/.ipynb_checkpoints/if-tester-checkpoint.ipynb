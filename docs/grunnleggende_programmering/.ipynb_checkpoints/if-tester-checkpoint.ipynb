{
 "cells": [
  {
   "cell_type": "markdown",
   "metadata": {},
   "source": [
    "# Vilkår (if-tester)\n",
    "\n",
    "```{admonition} Læringsutbytte\n",
    "Etter å ha arbeidet med dette temaet, skal du kunne:\n",
    "1. bruke vilkår til å systematisere valg i programkode\n",
    "2. illustrere og løse matematiske og naturvitenskapelige problemstillinger med sammensatt kode der vilkår inngår\n",
    "```\n",
    "````{admonition} Innledende oppgave\n",
    ":class: tip\n",
    "Før du går i gang med å programmere, prøv å forklare hva følgende kodesnutter gjør:\n",
    "\n",
    "```{code-block} Python\n",
    "tall = 10\n",
    "\n",
    "if tall > 8:\n",
    "    print(\"Tallet er større enn 8.\")\n",
    "```\n",
    "\n",
    "```{code-block} Python\n",
    "tall = 10\n",
    "\n",
    "if tall < 8:\n",
    "    print(\"Tallet er mindre enn 8.\")\n",
    "```\n",
    "\n",
    "```{code-block} Python\n",
    "tall = 10\n",
    "if tall < 8:\n",
    "    print(\"Tallet er mindre enn 8.\")\n",
    "else:\n",
    "    print(\"Tallet er ikke mindre enn 8.\")\n",
    "```\n",
    "\n",
    "```{code-block} Python\n",
    "tall = 10\n",
    "if tall < 8:\n",
    "    print(\"Tallet er mindre enn 8.\")\n",
    "elif tall >= 8:\n",
    "    print(\"Tallet er ikke mindre enn 8.\")\n",
    "```\n",
    "````\n",
    "\n",
    "## Definisjon\n",
    "\n",
    "```{admonition} Vilkår\n",
    "Et vilkår, eller en betingelse, er en logisk test for å sjekke om et kriterium er oppfylt. Dersom kriteriet er oppfylt, utføres det en handling. Dersom kriteriet ikke er oppfylt, blir ikke handlingen utført. Vilkår beskrives ofte i programmering som en «hvis-setning» («if» i Python).\n",
    "```\n",
    "Vilkår er sentrale i programmering, men også sentrale i hverdagen. Vi kan lage et enkelt eksempel ut fra billettpriser på bussen. Hvis du er under 18 år, blir prisen 31 kroner. Hvis ikke, regnes du som voksen, og må betale 62 kroner. Vi kan beskrive dette med følgende pseudokode:\n",
    "\n",
    "```{code-block} text\n",
    "hvis alder er mindre enn 18:\n",
    "    pris = 31\n",
    "hvis ikke:\n",
    "    pris = 62\n",
    "```\n",
    "\n",
    "Dersom vi oversetter denne pseudokoden til Python-kode, ser vi at logikken og strukturen er ganske lik:\n",
    "\n",
    "```{code-block} Python\n",
    "if alder < 18:\n",
    "    pris = 31\n",
    "else: \n",
    "    pris = 62\n",
    "```\n",
    "\n",
    "```{admonition} Underveisoppgave\n",
    ":class: tip\n",
    "Vi kan illustrere hvordan vilkår fungerer med et puslespill. Puslespillet nedenfor er basert på billettpriseksempelet. Løs puslespillet nedenfor uten å se på Python-koden ovenfor. Pass på at innrykkene er riktig! Hva tror du innrykk betyr?\n",
    "```"
   ]
  },
  {
   "cell_type": "code",
   "execution_count": 9,
   "metadata": {
    "tags": [
     "remove-input"
    ]
   },
   "outputs": [
    {
     "data": {
      "text/html": [
       "\n",
       "        <iframe\n",
       "            width=\"1000\"\n",
       "            height=\"450\"\n",
       "            src=\"https://parsons.herokuapp.com/puzzle/1a01c8b7115240199d88a732d06317b1\"\n",
       "            frameborder=\"0\"\n",
       "            allowfullscreen\n",
       "        ></iframe>\n",
       "        "
      ],
      "text/plain": [
       "<IPython.lib.display.IFrame at 0x1fad942a100>"
      ]
     },
     "execution_count": 9,
     "metadata": {},
     "output_type": "execute_result"
    }
   ],
   "source": [
    "from IPython.display import IFrame\n",
    "IFrame('https://parsons.herokuapp.com/puzzle/1a01c8b7115240199d88a732d06317b1', width=1000, height=450)"
   ]
  },
  {
   "cell_type": "markdown",
   "metadata": {},
   "source": [
    "## Vilkår i Python\n",
    "La oss se på et eksempel i Python:\n",
    "\n",
    "```{code-block} Python\n",
    "tall = float(input(\"Tast inn et tall: \"))\n",
    "if tall > 1:\n",
    "    print(\"Hurra, tallet er større enn 1!\")\n",
    "```\n",
    "\n",
    "Programmet ber brukeren om å taste inn et vilkårlig tall som deretter konverteres til flyttall. Vilkåret starter med _if_, etterfulgt av variabelnavnet. Deretter gir vi et kriterium som skal sjekkes. Her tester vi om tallet er større enn 1. Dersom det er større enn 1, skrives det ut en beskjed. Vi må ha et kolon etter første linje, og innrykk på alt som hører til det spesifikke kriteriet. Dersom kriteriet ikke er oppfylt, skjer det ingen ting. Dersom vi vil at det skal skje noe selv om kriteriet ikke er oppfylt, kan vi legge til _else_-kommandoen:\n",
    "\n",
    "```{code-block} Python\n",
    "tall = float(input(\"Tast inn et tall: \"))\n",
    "if tall > 1:\n",
    "    print(\"Hurra, tallet er større enn 1!\")\n",
    "else:\n",
    "    print(\"Tallet er ikke større enn 1.\")\n",
    "```\n",
    "Dersom kriteriet (tall > 1) ikke er sant, blir beskjeden etter _else_ skrevet ut. Vi kan legge til enda flere kriterier ved å bruke _elif_ (forkortelse for _else if_):\n",
    "\n",
    "```{code-block} Python\n",
    "tall = float(input(\"Tast inn et tall: \"))\n",
    "if tall > 1:\n",
    "    print(\"Hurra, tallet er større enn 1!\")\n",
    "elif tall < 1:\n",
    "    print(\"Tallet er mindre enn 1!\")\n",
    "else:\n",
    "    print(\"Tallet er 1!\")\n",
    "```\n",
    "\n",
    "Det er en logisk konklusjon at tallet _er_ 1 dersom det verken er større eller mindre enn 1. For å være helt sikre, kan vi erstatte else-kommandoen med nok en elif-kommando:\n",
    "\n",
    "```{code-block} Python\n",
    "tall = float(input(\"Tast inn et tall: \"))\n",
    "if tall > 1:\n",
    "    print(\"Hurra, tallet er større enn 1!\")\n",
    "elif tall < 1:\n",
    "    print(\"Tallet er mindre enn 1!\")\n",
    "elif tall == 1:\n",
    "    print(\"Tallet er 1!\")\n",
    "```\n",
    "\n",
    "Legg merke til at symbolet _==_ brukes for å teste om tallet er lik 1. Dersom vi bruker enkel likhetstegn (=) tror Python at vi prøver å tilordne en variabel. Da får vi en feilmelding. De ulike symbolene som brukes i vilkår, er oppsummert i tabellen nedenfor.\n",
    "\n",
    "| Symbol | Betydning |\n",
    "| ------ | --------- |\n",
    "| > | Større enn |\n",
    "| < | Mindre enn |\n",
    "| == | Er lik |\n",
    "| <= | Mindre enn eller lik |\n",
    "| >= | Større enn eller lik |\n",
    "| != | Ikke lik |\n",
    "\n",
    "Det er noen ting å passe spesielt på når vi programmerer med vilkår:\n",
    "- Alt som er rykket inn utføres kun hvis if-testen ovenfor er sann. Innrykk er derfor viktig for strukturen.\n",
    "- \"elif\" står for \"else if\", og sjekker noe nytt, mens \"else\" brukes for å gjøre noe dersom ingen av kriteriene under \"if\" og \"elif\" er sanne.\n",
    "- Det er den første if-testen som er sann i en serie av if-elif-else som utføres. Alle andre overses. Dersom vi skriver \"if\" en gang til, begynner vi på en ny serie med if-elif-else.\n",
    "- Vi _må_ begynne med \"if\", mens \"elif\" og \"else\" er valgfritt.\n",
    "- De logiske operatorene vi kan velge mellom, er:\n",
    "\n",
    "```{admonition} Underveisoppgave\n",
    ":class: tip\n",
    "Lag et program der du sjekker om et tall er positivt, negativt eller null, og skriver ut relevante setninger når de ulike kriteriene er nådd. Du kan ta utgangspunkt i programkoden i kodeboksen her:\n",
    "```\n",
    "<iframe src=\"https://trinket.io/embed/python3/12af96f83e?font=1.5em\" width=\"100%\" height=\"500\" frameborder=\"0\" marginwidth=\"0\" marginheight=\"0\" allowfullscreen></iframe>"
   ]
  },
  {
   "cell_type": "markdown",
   "metadata": {},
   "source": [
    "## Oppgaver\n",
    "```{admonition} Oppgave 3.1\n",
    ":class: tip\n",
    "Forklar hvorfor de to ulike programmene nedenfor gir ulike output.\n",
    "```"
   ]
  },
  {
   "cell_type": "code",
   "execution_count": null,
   "metadata": {},
   "outputs": [],
   "source": [
    "a = 10\n",
    "if a > 5:\n",
    "    a = a + 5\n",
    "a = a + 2\n",
    "print(a)"
   ]
  },
  {
   "cell_type": "code",
   "execution_count": null,
   "metadata": {},
   "outputs": [],
   "source": [
    "a = 10\n",
    "if a > 5:\n",
    "    a = a + 5\n",
    "else:\n",
    "    a = a + 2\n",
    "print(a)"
   ]
  },
  {
   "cell_type": "markdown",
   "metadata": {},
   "source": [
    "```{admonition} Oppgave 3.2\n",
    ":class: tip\n",
    "Lag et program som spør brukeren om alderen til brukeren. Skriv ut en kommentar som avhenger av om alderen er under eller over 17. Utvid programmet til å skille mellom flere aldre.\n",
    "```\n",
    "\n",
    "```{admonition} Oppgave 3.3\n",
    ":class: tip\n",
    "Lag et program som tar en poengsum som input. Programmet skal finne ut hvilken karakter du får dersom maks poengsum er 60 poeng. Finn på karaktergrenser selv.\n",
    "\n",
    "Utvid programmet til å ta maks poengsum som et tilleggsargument. Programmet skal benytte prosenter av denne makssummen til å regne ut sluttkarakteren. Lag prosentgrensene selv.\n",
    "```\n",
    "\n",
    "```{admonition} Oppgave 3.4\n",
    ":class: tip\n",
    "Lag et program som tar to tall som input. Programmet skal skrive ut hvilket av de to tallene som er størst.\n",
    "```\n",
    "\n",
    "```{admonition} Oppgave 3.5\n",
    ":class: tip\n",
    "Puslespillet nedenfor skal bli et program som skal regne ut hvor mange løsninger en andregradslikning på formen $ax^2 + bx + c = 0$ har. Prøv å sette sammen puslespillet. Hvis du blir fort ferdig eller trenger en ekstra utfordring, kan du prøve [denne varianten](http://parsons.problemsolving.io/puzzle/a56e0f5a917a4079aadffb571c3d411e).\n",
    "```"
   ]
  },
  {
   "cell_type": "code",
   "execution_count": 1,
   "metadata": {
    "tags": [
     "remove-input"
    ]
   },
   "outputs": [
    {
     "data": {
      "text/html": [
       "\n",
       "        <iframe\n",
       "            width=\"600\"\n",
       "            height=\"600\"\n",
       "            src=\"https://parsons.herokuapp.com/puzzle/6e30d3320c8e4ba69b61a0e302754a3c\"\n",
       "            frameborder=\"0\"\n",
       "            allowfullscreen\n",
       "        ></iframe>\n",
       "        "
      ],
      "text/plain": [
       "<IPython.lib.display.IFrame at 0x1eef3fd7ac0>"
      ]
     },
     "execution_count": 1,
     "metadata": {},
     "output_type": "execute_result"
    }
   ],
   "source": [
    "from IPython.display import IFrame\n",
    "IFrame('https://parsons.herokuapp.com/puzzle/6e30d3320c8e4ba69b61a0e302754a3c', width=1000, height=600)"
   ]
  },
  {
   "cell_type": "markdown",
   "metadata": {},
   "source": [
    "```{admonition} Oppgave 3.6\n",
    ":class: tip\n",
    "Modifiser programmet i puslespillet ovenfor slik at det også regner ut hva løsningene er.\n",
    "```\n",
    "\n",
    "```{admonition} Oppgave 3.7\n",
    ":class: tip\n",
    "Lag en kalkulator der brukeren må taste inn to tall og en regneoperasjon. Du bestemmer selv hvor mange regneoperasjoner programmet skal håndtere.\n",
    "```\n",
    "\n",
    "```{admonition} Oppgave 3.8\n",
    ":class: tip\n",
    "Lag et program der du kan taste inn bølgelengden til synlig lys i nm og få ut hvilken farge lyset har. Utvid eventuelt prorammet med andre deler av det elektromagnetiske spekteret.\n",
    "```\n",
    "\n",
    "```{admonition} Oppgave 3.9\n",
    ":class: tip\n",
    "Lag et program med en variabel kalt pH. Programmet skal skrive ut om løsningen med denne pH-en er sur, basisk eller nøytral.\n",
    "\n",
    "$$pH = -log([H_3O^+])$$\n",
    "\n",
    "Her står $[H_3O^+]$ for konsentrasjonen av $H_3O^+$-ioner. Test programmet med $[H_3O^+] = 1\\cdot 10^{-7}$. Dette bør gi nøytral løsning.\n",
    "```\n",
    "\n",
    "```{admonition} Oppgave 3.10\n",
    ":class: tip\n",
    "pH-en i en buffer med bufferparene HA (svak syre) og A$^-$ (korresponderende svak base) er gitt ved bufferlikningen:\n",
    "\n",
    "$$pH = pK_a + log\\left(\\frac{[A^-]}{[HA]}\\right)$$\n",
    "\n",
    "a) Lag en funksjon som tar $pK_a$ og konsentrasjonen av syra og korresponderende base som parametere. Funksjonen skal returnere pH-en i løsningen.\n",
    "b) Test funksjonen for en eddiksyre-acetat-buffer ($pK_a = 4.76$). Kall på funksjonen med $[CH_3COOH] = 2.3\\cdot 10^{-3}$ mol/L og $[CH_3COO^-] = 2.0\\cdot 10^{-3}$ mol/L. Testen bør gi pH = 4.82.\n",
    "```\n",
    "\n",
    "````{admonition} Oppgave 3.11\n",
    ":class: tip\n",
    "En kjemisk reaksjon er spontan dersom graden av uorden (entropi) øker i systemet (positiv endring i entropi), og/eller reaksjonen er tilstrekkelig eksoterm (gir fra seg varme, dvs. negativ endring i entalpi). Vi gir endringen i entropi symbolet $\\Delta S$ og endringen i entalpi symbolet $\\Delta H$. \n",
    "\n",
    "For å holde styr på hvilke reaksjoner som går spontant, kan vi bruke Gibbs frie energi som tar høyde for både entropien og entalpien i reaksjonen. Dersom endringen i Gibbs frie energi i en reaksjon er negativ, er reaksjonen spontan. Sammenhengen er slik:\n",
    "\n",
    "$$\\Delta G = \\Delta H - T\\Delta S$$\n",
    "\n",
    "Her er $\\Delta G$ Gibbs frie energi, $\\Delta H$ er entalpien, $T$ er temperaturen i kelvin og $\\Delta S$ er entropien. Vi har to lister med ulike verdier for entalpi og entropi:\n",
    "\n",
    "```{code-block} Python\n",
    "S_liste = [-10, 0.9, 5.1, 1.5, -0.1, 3, -0.4, 0.5, 0.8, 0.1]\n",
    "H_liste = [100, 12, -100, -75, -20, 10, 20, -35, 49, -10]\n",
    "```\n",
    "\n",
    "Lag et program som sjekker om en gitt kombinasjon av $\\Delta S$ og $\\Delta H$ fra listene ovenfor gir en spontan reaksjon eller ikke for $T = 298$ K. Alle kombinasjoner av listeelementene skal sjekkes. Programmet skal telle opp hvor mange reaksjoner som er spontane og skrive dette ut. I dette tilfellet skal 71 av 100 reaksjoner være spontane.\n",
    "```\n",
    "\n",
    "```{admonition} Oppgave 3.12\n",
    ":class:tip\n",
    "I en løsning er pH et mål på konsentrasjonen av oksoniumioner:\n",
    "\n",
    "$$pH = - log([H_3O^+])$$\n",
    "\n",
    "a) Lag en funksjon som tar som parameter konsentrasjonen av oksoniumioner og returnerer pH-en i løsningen. Test funksjonen med $[H_3O^+] = 1\\cdot 10^{-5}$ mol/L, noe som vil gi $pH = 5$.\n",
    "b) Utvid funksjonen slik at den også skriver ut hvorvidt løsningen er sur, nøytral eller basisk.\n",
    "\n",
    "\n",
    "En løsning vil sjeldent ha pH eksakt lik 7, og programmet vil derfor nesten aldri skrive ut at løsningen er nøytral. Vi kan kompensere for dette på ulike måter. Vi kan se på to mulige løsninger her. Den første kan være å runde av pH-en til et visst antall desimaler. Dette kan for eksempel gjøres med funksjonen _round(verdi, antall desimaler)_. Den andre løsningen går på å legge til en toleranseparameter, _tol_, slik at nøytral pH defineres som $pH = 7 \\pm tol$.\n",
    "\n",
    "c) Ta utgangspunkt i funksjonen fra b) og bruk avrundingsfunksjonen slik at vi får litt slingringsmonn på nøytral pH. Rund av til ett desimal og gjør justeringer i koden slik at f.eks. $[H_3O^+] = 1.1\\cdot 10^{-7}$ gir utskriften \"Løsningen er nøytral\".\n",
    "\n",
    "d) Ta utgangspunkt i funksjonen fra b) og legg inn en toleranseparameter i funksjonen som gjør at $[H_3O^+] = 1.3\\cdot10^{-7}$ gir utskriften \"Løsningen er nøytral\" dersom toleransen er 0.2.\n",
    "e) Hvilke fordeler er det med å bruke en toleranseparameter i slike beregninger?\n",
    "```"
   ]
  },
  {
   "cell_type": "markdown",
   "metadata": {},
   "source": [
    "## Video\n",
    "Se videoen nedenfor for å få en gjennomgang av det viktigste når vi skal programmere if-tester i Python:\n",
    "\n",
    "<iframe width=\"900\" height=\"600\" src=\"https://www.youtube.com/embed/XkDoYa7aGwc\" title=\"YouTube video player\" frameborder=\"0\" allow=\"accelerometer; autoplay; clipboard-write; encrypted-media; gyroscope; picture-in-picture\" allowfullscreen></iframe>"
   ]
  }
 ],
 "metadata": {
  "celltoolbar": "Edit Metadata",
  "kernelspec": {
   "display_name": "Python 3",
   "language": "python",
   "name": "python3"
  },
  "language_info": {
   "codemirror_mode": {
    "name": "ipython",
    "version": 3
   },
   "file_extension": ".py",
   "mimetype": "text/x-python",
   "name": "python",
   "nbconvert_exporter": "python",
   "pygments_lexer": "ipython3",
   "version": "3.8.5"
  }
 },
 "nbformat": 4,
 "nbformat_minor": 4
}
