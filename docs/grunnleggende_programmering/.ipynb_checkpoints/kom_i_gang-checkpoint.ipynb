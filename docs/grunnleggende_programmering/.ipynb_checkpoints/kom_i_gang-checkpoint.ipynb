{
 "cells": [
  {
   "cell_type": "markdown",
   "metadata": {},
   "source": [
    "# En første kodesnutt"
   ]
  },
  {
   "cell_type": "markdown",
   "metadata": {},
   "source": [
    "### Oppgaver for nybegynnere\n",
    "1. Lag et program \n",
    "2. Definer tre variabler med hver sin datatype (streng, heltall og flyttall). Skriv så ut disse variablene.\n",
    "3. Lag et program som regner om grader C til K.\n",
    "4. Lag et program som regner ut radius til en sirkel med arealet 4.\n",
    "5. Lag et program som regner ut pH-en i en løsning (eventuelt også pH-en i en bufferløsning).\n",
    "\n",
    "### Oppgaver for de som kan litt fra før\n",
    "1. Lag et program som avgjør om en løsning er sur, basisk eller nøytral gitt enten konsentrasjonen av $H_3O^+$ eller pH-en.\n",
    "2. Lag et program som skriver ut alle partall fra og med 0 til 99.\n",
    "3. Lag et program som regner ut summen av de 499 første heltallene.\n",
    "4. Lag en funksjon som regner ut volumet løsning du må pipettere ut for å fortynne en løsning med kjent konsentrasjon:\n",
    "\n",
    "$$c_1V_1 = c_2V_2$$"
   ]
  },
  {
   "cell_type": "markdown",
   "metadata": {},
   "source": [
    "<iframe src=\"https://trinket.io/embed/python3/0a3e2ca03a\" width=\"100%\" height=\"600\" frameborder=\"0\" marginwidth=\"0\" marginheight=\"0\" allowfullscreen></iframe>"
   ]
  }
 ],
 "metadata": {
  "kernelspec": {
   "display_name": "Python 3",
   "language": "python",
   "name": "python3"
  },
  "language_info": {
   "codemirror_mode": {
    "name": "ipython",
    "version": 3
   },
   "file_extension": ".py",
   "mimetype": "text/x-python",
   "name": "python",
   "nbconvert_exporter": "python",
   "pygments_lexer": "ipython3",
   "version": "3.8.5"
  }
 },
 "nbformat": 4,
 "nbformat_minor": 4
}
