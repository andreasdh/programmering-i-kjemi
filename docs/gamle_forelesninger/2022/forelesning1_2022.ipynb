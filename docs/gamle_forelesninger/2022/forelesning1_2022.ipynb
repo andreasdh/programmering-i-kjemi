{
 "cells": [
  {
   "cell_type": "markdown",
   "metadata": {},
   "source": [
    "# Forelesning 1: Programmering i kjemi"
   ]
  },
  {
   "cell_type": "markdown",
   "metadata": {},
   "source": [
    "## Periodesystemet og periodiske egenskaper"
   ]
  },
  {
   "cell_type": "code",
   "execution_count": null,
   "metadata": {},
   "outputs": [],
   "source": [
    "from mendeleev import element\n",
    "\n",
    "Z = 3\n",
    "grunnstoff = element(Z)\n",
    "navn = grunnstoff.name\n",
    "symbol = grunnstoff.symbol\n",
    "elektronegativitet = grunnstoff.electronegativity()\n",
    "\n",
    "print(f\"Navn: {navn}, Symbol: {symbol}, Elektronegativitet: {elektronegativitet}\")"
   ]
  },
  {
   "cell_type": "markdown",
   "metadata": {},
   "source": [
    "- Oppgave: Modifiser programmet slik at det skriver ut informasjonen (navn, symbol og elektronegativitet) om de 18 letteste grunnstoffene."
   ]
  },
  {
   "cell_type": "code",
   "execution_count": null,
   "metadata": {},
   "outputs": [],
   "source": [
    "from mendeleev import element\n",
    "\n",
    "print(\"Navn       Symbol    Elektronegativitet\")\n",
    "print(\"---------------------------------------\")\n",
    "\n",
    "for Z in range(1,19):\n",
    "    grunnstoff = element(Z)\n",
    "    navn = grunnstoff.name\n",
    "    symbol = grunnstoff.symbol\n",
    "    elektronegativitet = grunnstoff.electronegativity()\n",
    "    print(f\"{navn:11}|{symbol:9}|{elektronegativitet}\")"
   ]
  },
  {
   "cell_type": "markdown",
   "metadata": {},
   "source": [
    "### Trender i elektrongativitet"
   ]
  },
  {
   "cell_type": "code",
   "execution_count": null,
   "metadata": {},
   "outputs": [],
   "source": [
    "from mendeleev import element\n",
    "import matplotlib.pyplot as plt\n",
    "\n",
    "atomnumre = []\n",
    "el_neg = []\n",
    "\n",
    "for Z in range(1,119):\n",
    "    grunnstoff = element(Z)\n",
    "    elektronegativitet = grunnstoff.electronegativity()\n",
    "    atomnumre.append(Z)\n",
    "    el_neg.append(elektronegativitet)"
   ]
  },
  {
   "cell_type": "markdown",
   "metadata": {},
   "source": [
    "- Oppgave: Plott listene mot hverandre. Modifiser programmet slik at det kun plotter grunnstoffene i andre periode. Forklar trenden du ser."
   ]
  },
  {
   "cell_type": "code",
   "execution_count": null,
   "metadata": {},
   "outputs": [],
   "source": [
    "plt.scatter(atomnumre, el_neg, color=\"hotpink\")\n",
    "plt.xlabel(\"Atomnummer\")\n",
    "plt.ylabel(\"Elektronegativitet\")\n",
    "plt.show()"
   ]
  },
  {
   "cell_type": "markdown",
   "metadata": {},
   "source": [
    "### Elektronegativitet i gruppe 1\n",
    "Oppgave: Plott elektronegativitet som funksjon av atomnummer for grunnstoffene i gruppe 1."
   ]
  },
  {
   "cell_type": "markdown",
   "metadata": {},
   "source": [
    "## Støkiometriske beregninger"
   ]
  },
  {
   "cell_type": "code",
   "execution_count": null,
   "metadata": {},
   "outputs": [],
   "source": [
    "!pip install chemlib"
   ]
  },
  {
   "cell_type": "markdown",
   "metadata": {},
   "source": [
    "### Stoffmengdeberegninger"
   ]
  },
  {
   "cell_type": "code",
   "execution_count": null,
   "metadata": {},
   "outputs": [],
   "source": [
    "from chemlib import Compound\n",
    "\n",
    "butan1ol = Compound(\"C4H9OH\")\n",
    "NH3 = Compound(\"NH3\")"
   ]
  },
  {
   "cell_type": "code",
   "execution_count": null,
   "metadata": {},
   "outputs": [],
   "source": [
    "butan1ol.get_amounts(grams=2)"
   ]
  },
  {
   "cell_type": "code",
   "execution_count": null,
   "metadata": {},
   "outputs": [],
   "source": [
    "butan1ol.get_amounts(molecules=2)"
   ]
  },
  {
   "cell_type": "markdown",
   "metadata": {},
   "source": [
    "### Kjemiske reaksjoner"
   ]
  },
  {
   "cell_type": "code",
   "execution_count": null,
   "metadata": {},
   "outputs": [],
   "source": [
    "from chemlib import Reaction\n",
    "\n",
    "H2 = Compound(\"H2\")\n",
    "I2 = Compound(\"I2\")\n",
    "HI = Compound(\"HI\")"
   ]
  },
  {
   "cell_type": "code",
   "execution_count": null,
   "metadata": {},
   "outputs": [],
   "source": [
    "reaksjon = Reaction([H2, I2],[HI])"
   ]
  },
  {
   "cell_type": "code",
   "execution_count": null,
   "metadata": {},
   "outputs": [],
   "source": [
    "print(reaksjon.formula)\n",
    "print(reaksjon.is_balanced)"
   ]
  },
  {
   "cell_type": "code",
   "execution_count": null,
   "metadata": {},
   "outputs": [],
   "source": [
    "reaksjon.balance()\n",
    "v"
   ]
  },
  {
   "cell_type": "markdown",
   "metadata": {},
   "source": [
    "- Oppgave: Bruk chemlib til å balansere ufullstendig forbrenning av benzen (vi får vann og CO)"
   ]
  },
  {
   "cell_type": "code",
   "execution_count": null,
   "metadata": {},
   "outputs": [],
   "source": [
    "from chemlib import Reaction, Compound\n",
    "\n",
    "benzen = Compound(\"C6H6\")\n",
    "O2 = Compound(\"O2\")\n",
    "CO = Compound(\"CO\")\n",
    "H2O = Compound(\"H2O\")\n",
    "\n",
    "forbrenning = Reaction([benzen, O2], [CO, H2O])\n",
    "forbrenning.balance()\n",
    "print(forbrenning.formula)\n",
    "print(forbrenning.is_balanced)"
   ]
  },
  {
   "cell_type": "markdown",
   "metadata": {},
   "source": [
    "## Elektrokjemi"
   ]
  },
  {
   "cell_type": "markdown",
   "metadata": {},
   "source": [
    "### Galvaniske elementer"
   ]
  },
  {
   "cell_type": "code",
   "execution_count": null,
   "metadata": {},
   "outputs": [],
   "source": [
    "from chemlib import Galvanic_Cell"
   ]
  },
  {
   "cell_type": "code",
   "execution_count": null,
   "metadata": {},
   "outputs": [],
   "source": [
    "celle = Galvanic_Cell(\"Pb\", \"Zn\")"
   ]
  },
  {
   "cell_type": "code",
   "execution_count": null,
   "metadata": {},
   "outputs": [],
   "source": [
    "egenskaper = celle.properties\n",
    "print(egenskaper)"
   ]
  },
  {
   "cell_type": "code",
   "execution_count": null,
   "metadata": {},
   "outputs": [],
   "source": [
    "egenskaper[\"Cell Potential\"]"
   ]
  },
  {
   "cell_type": "markdown",
   "metadata": {},
   "source": [
    "### Elektrolyse"
   ]
  },
  {
   "cell_type": "code",
   "execution_count": null,
   "metadata": {},
   "outputs": [],
   "source": [
    "from chemlib import electrolysis\n",
    "\n",
    "elektrolyse = electrolysis(\"Cu\", n = 2, amps = 10, seconds = 3600)"
   ]
  },
  {
   "cell_type": "code",
   "execution_count": null,
   "metadata": {},
   "outputs": [],
   "source": [
    "elektrolyse"
   ]
  },
  {
   "cell_type": "markdown",
   "metadata": {},
   "source": [
    "- Oppgave: Finn ut hvor lang tid det minimum tar å dekke en gjenstand med 30 g sølv med en løsning AgNO$_3$ når vi bruker en strømstyrke på 10 A."
   ]
  }
 ],
 "metadata": {
  "kernelspec": {
   "display_name": "Python 3 (ipykernel)",
   "language": "python",
   "name": "python3"
  },
  "language_info": {
   "codemirror_mode": {
    "name": "ipython",
    "version": 3
   },
   "file_extension": ".py",
   "mimetype": "text/x-python",
   "name": "python",
   "nbconvert_exporter": "python",
   "pygments_lexer": "ipython3",
   "version": "3.9.12"
  }
 },
 "nbformat": 4,
 "nbformat_minor": 4
}
