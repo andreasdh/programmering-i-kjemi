{
 "cells": [
  {
   "cell_type": "markdown",
   "metadata": {},
   "source": [
    "## Forelesning 2: Plotting og datahåndtering\n",
    "I denne forelesningen skal vi se på datavisualisering og datahåndtering. Vi skal se på:\n",
    "- enkel plotting (med matplotlib og seaborn)\n",
    "- lese datafiler (med pandas)\n",
    "- rydde og visualisere data (med pandas)\n",
    "\n",
    "Vi kan plotte små datasett ved å benytte lister:"
   ]
  },
  {
   "cell_type": "code",
   "execution_count": null,
   "metadata": {},
   "outputs": [],
   "source": [
    "import matplotlib.pyplot as plt\n",
    "\n",
    "# pH i vann som funksjon av temperaturen i grader C\n",
    "T = [0, 10, 20, 30, 40, 50, 60, 70, 80, 90, 100]\n",
    "pH = [7.48, 7.29, 7.10, 6.90, 6.72, 6.61, 6.50, 6.41, 6.32, 6.26, 6.19]\n",
    "\n",
    "plt.scatter(T,pH,color=\"hotpink\")\n",
    "plt.xlabel(\"Temperatur ($^o$C)\")\n",
    "plt.ylabel(\"pH\")\n",
    "plt.show()"
   ]
  },
  {
   "cell_type": "markdown",
   "metadata": {},
   "source": [
    "Store datafiler kan vi lese inn direkte, enten ved hjelp av basisfunksjonene i Python eller ved hjelp av biblioteker som _numpy_ og _pandas_."
   ]
  },
  {
   "cell_type": "code",
   "execution_count": null,
   "metadata": {},
   "outputs": [],
   "source": [
    "!pip install pandas"
   ]
  },
  {
   "cell_type": "code",
   "execution_count": null,
   "metadata": {},
   "outputs": [],
   "source": [
    "import pandas as pd\n",
    "import matplotlib.pyplot as plt\n",
    "\n",
    "df = pd.read_csv(\"https://www.uio.no/studier/emner/matnat/ifi/IN-KJM1900/h21/datafiler/periodesystemet.csv\")"
   ]
  },
  {
   "cell_type": "code",
   "execution_count": null,
   "metadata": {},
   "outputs": [],
   "source": [
    "df.describe()"
   ]
  },
  {
   "cell_type": "code",
   "execution_count": null,
   "metadata": {},
   "outputs": [],
   "source": [
    "atomradius = df[\"AtomicRadius\"]\n",
    "tetthet = df[\"Density\"]"
   ]
  },
  {
   "cell_type": "code",
   "execution_count": null,
   "metadata": {
    "scrolled": true
   },
   "outputs": [],
   "source": [
    "plt.scatter(atomradius, tetthet)\n",
    "plt.xlabel(\"Atomradius (Å)\")\n",
    "plt.ylabel(\"Tetthet (g/cm$^3$)\")\n",
    "plt.show()"
   ]
  },
  {
   "cell_type": "code",
   "execution_count": null,
   "metadata": {},
   "outputs": [],
   "source": [
    "lav_elneg = df[df[\"Electronegativity\"] <= 2]"
   ]
  },
  {
   "cell_type": "code",
   "execution_count": null,
   "metadata": {
    "scrolled": true
   },
   "outputs": [],
   "source": [
    "lav_elneg"
   ]
  },
  {
   "cell_type": "code",
   "execution_count": null,
   "metadata": {},
   "outputs": [],
   "source": [
    "df[\"BoilingAndMelting\"] = df[\"BoilingPoint\"] + df[\"MeltingPoint\"]"
   ]
  },
  {
   "cell_type": "code",
   "execution_count": null,
   "metadata": {
    "scrolled": true
   },
   "outputs": [],
   "source": [
    "df.pop(\"BoilingAndMelting\")"
   ]
  },
  {
   "cell_type": "code",
   "execution_count": null,
   "metadata": {},
   "outputs": [],
   "source": [
    "df.tail(10)"
   ]
  },
  {
   "cell_type": "markdown",
   "metadata": {},
   "source": [
    "Menti: www.menti.com/wzruzmq8cw"
   ]
  },
  {
   "cell_type": "code",
   "execution_count": null,
   "metadata": {},
   "outputs": [],
   "source": [
    "fil = \"https://www.uio.no/studier/emner/matnat/ifi/IN-KJM1900/h21/datafiler/penguings.txt\"\n",
    "pingviner = pd.read_csv(fil)\n",
    "pingviner.head()"
   ]
  },
  {
   "cell_type": "code",
   "execution_count": null,
   "metadata": {},
   "outputs": [],
   "source": [
    "# Sjekke hvilke kolonnekategorier vi har\n",
    "pingvindata.columns\n",
    "\n",
    "# Printe en spesifikk kolonne\n",
    "pingvindata[\"flipper_length_mm\"]\n",
    "\n",
    "# Printe et utvalg elementer [fra:til] av en spesifikk kolonne\n",
    "pingvindata[\"flipper_length_mm\"][0:10]\n",
    "\n",
    "# Printe flere kolonner\n",
    "pingvindata[[\"bill_length_mm\", \"bill_depth_mm\", \"flipper_length_mm\"]]\n",
    "\n",
    "# Printe spesifikke elementer\n",
    "pingvindata.iloc[1]       # Element 1 (andre element)\n",
    "pingvindata.iloc[100,2] # Element 100, kolonneverdi 2\n",
    "pingvindata.loc[pingvindata[\"sex\"] == \"FEMALE\"] # Damepingviner\n",
    "\n",
    "# Se sorterte verdier\n",
    "pingvindata.sort_values([\"bill_length_mm\", \"bill_depth_mm\"])\n",
    "\n",
    "# Legger til en ny kolonne\n",
    "pingvindata[\"total_mm\"] = pingvindata[\"bill_length_mm\"] + pingvindata[\"bill_depth_mm\"] \n",
    "\n",
    "# Lagre fila i en ny csv-fil\n",
    "pingvindata.to_csv(\"ny_pingvinfil.csv\", index = False)\n",
    "\n",
    "# Sletter kolonnen har lagt til (to måter å gjøre det på)\n",
    "pingvindata = pingvindata.drop(columns=[\"total_mm\"])\n",
    "# Eller:\n",
    "pingvindata.pop(\"total_mm\")\n",
    "\n",
    "# Sletter alle pingviner som har mangelfull info \n",
    "pingvindata.dropna()"
   ]
  },
  {
   "cell_type": "markdown",
   "metadata": {},
   "source": [
    "## Visualisering\n",
    "\n",
    "Seaborn-biblioteket er en utvidelse av matplotlib som gir tilgang til mange fine visualiseringer."
   ]
  },
  {
   "cell_type": "code",
   "execution_count": null,
   "metadata": {},
   "outputs": [],
   "source": [
    "import matplotlib.pyplot as plt\n",
    "import seaborn as sns"
   ]
  },
  {
   "cell_type": "code",
   "execution_count": null,
   "metadata": {},
   "outputs": [],
   "source": [
    "sns.relplot(data = df, x = \"AtomicNumber\", y = \"Electronegativity\", hue = \"Phase\")"
   ]
  },
  {
   "cell_type": "code",
   "execution_count": null,
   "metadata": {
    "scrolled": true
   },
   "outputs": [],
   "source": [
    "sns.histplot(data = df, x = \"BoilingPoint\", bins = 10)\n",
    "plt.ylabel(\"Antall\")"
   ]
  },
  {
   "cell_type": "markdown",
   "metadata": {},
   "source": [
    "# Ulike filformater"
   ]
  },
  {
   "cell_type": "code",
   "execution_count": null,
   "metadata": {},
   "outputs": [],
   "source": [
    "import pandas as pd"
   ]
  },
  {
   "cell_type": "code",
   "execution_count": null,
   "metadata": {},
   "outputs": [],
   "source": [
    "bands = pd.read_csv(\"https://www.uio.no/studier/emner/matnat/ifi/IN-KJM1900/h20/datafiler/bands.txt\",\n",
    "                    delimiter = \"\\t\", skiprows = 2, names = [\"k-values\", \"Band 1\", \"Band 2\", \"Band 3\"])"
   ]
  },
  {
   "cell_type": "code",
   "execution_count": null,
   "metadata": {},
   "outputs": [],
   "source": [
    "bands.head()"
   ]
  },
  {
   "cell_type": "code",
   "execution_count": null,
   "metadata": {},
   "outputs": [],
   "source": [
    "dec = pd.read_csv(\"https://www.uio.no/studier/emner/matnat/ifi/IN-KJM1900/h20/datafiler/dec.txt\", delimiter = \" \")"
   ]
  },
  {
   "cell_type": "code",
   "execution_count": null,
   "metadata": {},
   "outputs": [],
   "source": [
    "dec.pop(\"Unnamed: 4\")\n",
    "dec.head()"
   ]
  },
  {
   "cell_type": "code",
   "execution_count": null,
   "metadata": {},
   "outputs": [],
   "source": [
    "titrering = pd.read_csv(\"https://raw.githubusercontent.com/andreasdh/programmering-i-kjemi/master/docs/datafiler/titreringsdata.txt\")"
   ]
  },
  {
   "cell_type": "code",
   "execution_count": null,
   "metadata": {},
   "outputs": [],
   "source": [
    "titrering.head()"
   ]
  },
  {
   "cell_type": "code",
   "execution_count": null,
   "metadata": {},
   "outputs": [],
   "source": [
    "fil = \"https://www.uio.no/studier/emner/matnat/ifi/IN-KJM1900/h20/datafiler/posisjon.txt\"\n",
    "posisjon = pd.read_csv(fil, delimiter = \"        \", engine = \"python\")"
   ]
  },
  {
   "cell_type": "code",
   "execution_count": null,
   "metadata": {},
   "outputs": [],
   "source": [
    "posisjon.head()"
   ]
  },
  {
   "cell_type": "code",
   "execution_count": null,
   "metadata": {},
   "outputs": [],
   "source": [
    "fil2 = \"https://www.uio.no/studier/emner/matnat/ifi/IN-KJM1900/h21/datafiler/penguings.txt\"\n",
    "pingviner = pd.read_csv(fil2, usecols = [0,2,3,4,5])"
   ]
  },
  {
   "cell_type": "code",
   "execution_count": null,
   "metadata": {},
   "outputs": [],
   "source": [
    "pingviner.head()"
   ]
  },
  {
   "cell_type": "markdown",
   "metadata": {},
   "source": [
    "### Vi kan også lage egne tekstfiler"
   ]
  },
  {
   "cell_type": "code",
   "execution_count": 11,
   "metadata": {},
   "outputs": [],
   "source": [
    "solkrem = {\"navn\": [\"avobenzone\", \"homosalat\", \"oksibenzon\"], \n",
    "           \"masse\": [310.39, 262.36, 228.24], \"blokker\": [\"UV-A\", \"UV-B\", \"UV-A + UV-B\"]}\n",
    "\n",
    "df_sol = pd.DataFrame(solkrem)\n",
    "df_sol.to_csv(\"solkremforbindelser\", index=False)"
   ]
  },
  {
   "cell_type": "code",
   "execution_count": null,
   "metadata": {},
   "outputs": [],
   "source": []
  }
 ],
 "metadata": {
  "celltoolbar": "Edit Metadata",
  "kernelspec": {
   "display_name": "Python 3 (ipykernel)",
   "language": "python",
   "name": "python3"
  },
  "language_info": {
   "codemirror_mode": {
    "name": "ipython",
    "version": 3
   },
   "file_extension": ".py",
   "mimetype": "text/x-python",
   "name": "python",
   "nbconvert_exporter": "python",
   "pygments_lexer": "ipython3",
   "version": "3.9.12"
  }
 },
 "nbformat": 4,
 "nbformat_minor": 4
}
