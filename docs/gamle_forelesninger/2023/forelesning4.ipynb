{
 "cells": [
  {
   "cell_type": "markdown",
   "id": "ef51c485",
   "metadata": {},
   "source": [
    "# Forelesning 4: Numerisk derivasjon\n",
    "\n",
    "https://www.menti.com/oos4kx9c72"
   ]
  },
  {
   "cell_type": "markdown",
   "id": "96edd8e7",
   "metadata": {},
   "source": [
    "## Definisjon\n",
    "\n",
    "Analytisk derivasjon:\n",
    "$$f'(x) = \\lim_{\\Delta x \\rightarrow 0} \\frac{f(x+\\Delta x)-f(x)}{\\Delta x}$$\n",
    "\n",
    "Numerisk derivasjon:\n",
    "$$f'(x) \\approx \\frac{f(x+\\Delta x)-f(x)}{\\Delta x}$$\n",
    "\n",
    "der $\\Delta x$ er et lite tall.\n",
    "\n",
    "## Derivasjon av funksjoner"
   ]
  },
  {
   "cell_type": "code",
   "execution_count": 1,
   "id": "8cb6f759",
   "metadata": {},
   "outputs": [
    {
     "name": "stdout",
     "output_type": "stream",
     "text": [
      "1.999999987845058\n"
     ]
    }
   ],
   "source": [
    "def f(x):\n",
    "    return x**2 + 1\n",
    "\n",
    "x = 1\n",
    "dx = 1E-8\n",
    "\n",
    "dy = f(x + dx) - f(x)\n",
    "dydx = dy/dx\n",
    "\n",
    "print(dydx)"
   ]
  },
  {
   "cell_type": "code",
   "execution_count": 2,
   "id": "6fa27d86",
   "metadata": {},
   "outputs": [
    {
     "name": "stdout",
     "output_type": "stream",
     "text": [
      "2.000000165480742\n"
     ]
    }
   ],
   "source": [
    "def f(x):\n",
    "    return x**2 + 1\n",
    "\n",
    "\n",
    "def fder(f, x, dx = 1E-8):\n",
    "    der = (f(x + dx) - f(x))/dx\n",
    "    return der\n",
    "\n",
    "print(fder(f,1,1E-10))"
   ]
  },
  {
   "cell_type": "code",
   "execution_count": 3,
   "id": "b2e0f380",
   "metadata": {},
   "outputs": [
    {
     "name": "stdout",
     "output_type": "stream",
     "text": [
      "-0.999999993922529\n"
     ]
    }
   ],
   "source": [
    "def f(x):\n",
    "    return x**3 - 4*x + 3\n",
    "\n",
    "\n",
    "def framoverdifferanse(f, a, dx = 1E-8):\n",
    "    \"\"\"\n",
    "    Deriverer en funksjon f i punktet a.\n",
    "    ----------\n",
    "    f : function\n",
    "        Funksjonen vi skal derivere.\n",
    "    a : float\n",
    "        Punktet vi skal evaluere den deriverte i.\n",
    "    dx : float, optional\n",
    "        Endringen i x-verdier. The default is 1E-8.\n",
    "\n",
    "    Returns\n",
    "    -------\n",
    "    der : float.\n",
    "          Den deriverte av f(a)\n",
    "    \"\"\"\n",
    "    der = (f(x + dx) - f(x))/dx\n",
    "    return der\n",
    "\n",
    "print(framoverdifferanse(f,1))"
   ]
  },
  {
   "cell_type": "markdown",
   "id": "0537dec1",
   "metadata": {},
   "source": [
    "Velger en dx som er så liten som mulig ($dx \\rightarrow 0$), men ikke for liten. Da forstørres feilen, og vi får en dårligere tilnærming."
   ]
  },
  {
   "cell_type": "code",
   "execution_count": 5,
   "id": "f436db2f",
   "metadata": {},
   "outputs": [
    {
     "name": "stdout",
     "output_type": "stream",
     "text": [
      "-1.00000003833145\n",
      "-1.0000000161269895\n"
     ]
    }
   ],
   "source": [
    "def bakoverdifferanse(f, a, dx = 1E-8):\n",
    "    der = (f(a) - f(a - dx))/dx\n",
    "    return der\n",
    "\n",
    "print(bakoverdifferanse(f,1))\n",
    "\n",
    "def sentraldifferanse(f, a, dx = 1E-8):\n",
    "    der = (f(a + dx) - f(a - dx))/(2*dx)\n",
    "    return der\n",
    "\n",
    "print(sentraldifferanse(f,1))"
   ]
  },
  {
   "cell_type": "markdown",
   "id": "8b118061",
   "metadata": {},
   "source": [
    "## Derivasjon av data"
   ]
  },
  {
   "cell_type": "code",
   "execution_count": 6,
   "id": "67791c3d",
   "metadata": {},
   "outputs": [],
   "source": [
    "import pandas as pd\n",
    "import matplotlib.pyplot as plt"
   ]
  },
  {
   "cell_type": "code",
   "execution_count": 7,
   "id": "c64fad49",
   "metadata": {},
   "outputs": [],
   "source": [
    "data = pd.read_csv(\"https://raw.githubusercontent.com/andreasdh/programmering-i-kjemi/master/docs/datafiler/heistur_kjemi_fysikk.txt\")"
   ]
  },
  {
   "cell_type": "code",
   "execution_count": 8,
   "id": "ae5feca4",
   "metadata": {},
   "outputs": [],
   "source": [
    "tid = data[\"time_s\"]\n",
    "s = data[\"height_m\"]\n",
    "v = []\n",
    "\n",
    "for i in range(len(tid)-1):\n",
    "    dy = s[i+1] - s[i]\n",
    "    dt = tid[i+1] - tid[i]\n",
    "    dydt = dy/dt\n",
    "    v.append(dydt)\n",
    "    \n",
    "v.append(None)"
   ]
  },
  {
   "cell_type": "code",
   "execution_count": 11,
   "id": "dd7f7642",
   "metadata": {},
   "outputs": [
    {
     "data": {
      "image/png": "[encoded data removed]",
      "text/plain": [
       "<Figure size 640x480 with 1 Axes>"
      ]
     },
     "metadata": {},
     "output_type": "display_data"
    }
   ],
   "source": [
    "plt.plot(tid, v)\n",
    "plt.xlabel(\"Tid\")\n",
    "plt.ylabel(\"Fart (m/s)\")\n",
    "plt.show()"
   ]
  }
 ],
 "metadata": {
  "kernelspec": {
   "display_name": "Python 3 (ipykernel)",
   "language": "python",
   "name": "python3"
  },
  "language_info": {
   "codemirror_mode": {
    "name": "ipython",
    "version": 3
   },
   "file_extension": ".py",
   "mimetype": "text/x-python",
   "name": "python",
   "nbconvert_exporter": "python",
   "pygments_lexer": "ipython3",
   "version": "3.11.4"
  }
 },
 "nbformat": 4,
 "nbformat_minor": 5
}
