{
 "cells": [
  {
   "cell_type": "markdown",
   "metadata": {},
   "source": [
    "# Forelesning 6: Numerisk integrasjon\n"
   ]
  },
  {
   "cell_type": "markdown",
   "metadata": {},
   "source": [
    "## Det bestemte integralet"
   ]
  },
  {
   "cell_type": "code",
   "execution_count": 8,
   "metadata": {},
   "outputs": [
    {
     "name": "stdout",
     "output_type": "stream",
     "text": [
      "26.995950134999916\n",
      "27\n"
     ]
    }
   ],
   "source": [
    "def f(x):\n",
    "    return 3*x**2\n",
    "\n",
    "def analytisk_integrert(x):\n",
    "    return x**3\n",
    "\n",
    "N = 10000\n",
    "a = 0\n",
    "b = 3\n",
    "\n",
    "A = 0\n",
    "dx = (b - a)/N\n",
    "\n",
    "for i in range(N):\n",
    "    A = A + f(a + i*dx)*dx\n",
    "    \n",
    "print(A)\n",
    "print(analytisk_integrert(b) - analytisk_integrert(a))"
   ]
  },
  {
   "cell_type": "code",
   "execution_count": 13,
   "metadata": {},
   "outputs": [
    {
     "data": {
      "text/plain": [
       "26.99595013499999"
      ]
     },
     "execution_count": 13,
     "metadata": {},
     "output_type": "execute_result"
    }
   ],
   "source": [
    "def rektangelmetoden_venstre(f, a, b, N=10000):\n",
    "    A = 0\n",
    "    dx = (b - a)/N\n",
    "    for i in range(N):\n",
    "        A = A + f(a + )(i*dx)\n",
    "    return A*dx\n",
    "\n",
    "rektangelmetoden_venstre(f, 0, 3)"
   ]
  },
  {
   "cell_type": "code",
   "execution_count": 14,
   "metadata": {},
   "outputs": [
    {
     "data": {
      "text/plain": [
       "26.99595013499999"
      ]
     },
     "execution_count": 14,
     "metadata": {},
     "output_type": "execute_result"
    }
   ],
   "source": [
    "def rektangelmetoden_høyre(f, a, b, N=10000):\n",
    "    A = 0\n",
    "    dx = (b - a)/N\n",
    "    for i in range(N):\n",
    "        A = A + f(a + (i+1)*dx)\n",
    "    return A*dx\n",
    "\n",
    "rektangelmetoden_høyre(f, 0, 3)"
   ]
  },
  {
   "cell_type": "code",
   "execution_count": 16,
   "metadata": {},
   "outputs": [
    {
     "data": {
      "text/plain": [
       "26.999999932499964"
      ]
     },
     "execution_count": 16,
     "metadata": {},
     "output_type": "execute_result"
    }
   ],
   "source": [
    "def rektangelmetoden_midtpunkt(f, a, b, N=10000):\n",
    "    A = 0\n",
    "    dx = (b - a)/N\n",
    "    for i in range(N):\n",
    "        A = A + f(a + (1+2*i)*(dx/2))*dx\n",
    "    return A\n",
    "\n",
    "rektangelmetoden_midtpunkt(f, a, b)"
   ]
  },
  {
   "cell_type": "markdown",
   "metadata": {},
   "source": [
    "## Andre tilnærminger"
   ]
  },
  {
   "cell_type": "code",
   "execution_count": 15,
   "metadata": {},
   "outputs": [
    {
     "data": {
      "text/plain": [
       "27.000000134999997"
      ]
     },
     "execution_count": 15,
     "metadata": {},
     "output_type": "execute_result"
    }
   ],
   "source": [
    "def trapesmetoden(f, a, b, N=10000):\n",
    "    dx = (b - a)/N\n",
    "    A = (f(a) + f(b))/2\n",
    "    for i in range(1,N):\n",
    "        A = A + f(a + i*dx)\n",
    "    return A*dx\n",
    "\n",
    "trapesmetoden(f, 0, 3)"
   ]
  },
  {
   "cell_type": "markdown",
   "metadata": {},
   "source": [
    "## Bruke biblioteksfunksjoner til å integrere\n",
    "Benytter scipy-biblioteket."
   ]
  },
  {
   "cell_type": "code",
   "execution_count": 17,
   "metadata": {},
   "outputs": [],
   "source": [
    "from scipy import integrate # eventuelt from scipy.integrate import trapezoid\n",
    "import numpy as np\n",
    "\n",
    "def f(x):\n",
    "    return 3*x**2"
   ]
  },
  {
   "cell_type": "code",
   "execution_count": 23,
   "metadata": {},
   "outputs": [],
   "source": [
    "a = 0\n",
    "b = 3\n",
    "x = np.linspace(a, b, 100000)\n",
    "y = f(x)"
   ]
  },
  {
   "cell_type": "code",
   "execution_count": 29,
   "metadata": {},
   "outputs": [],
   "source": [
    "trapesmetoden = integrate.trapezoid(y, x)\n",
    "simpsons = integrate.simpson(y, x)\n",
    "gauss = integrate.quad(f, a, b)"
   ]
  },
  {
   "cell_type": "code",
   "execution_count": 30,
   "metadata": {},
   "outputs": [
    {
     "name": "stdout",
     "output_type": "stream",
     "text": [
      "trapesmetoden: 27.000000001350028, simpsons metode: 27.00000000000001, gauss: (27.0, 2.9976021664879227e-13)\n"
     ]
    }
   ],
   "source": [
    "print(f\"trapesmetoden: {trapesmetoden}, simpsons metode: {simpsons}, gauss: {gauss}\")"
   ]
  },
  {
   "cell_type": "code",
   "execution_count": 32,
   "metadata": {},
   "outputs": [
    {
     "data": {
      "text/latex": [
       "$\\displaystyle \\frac{x^{3}}{3} - 2 \\sin{\\left(\\frac{x}{2} \\right)} - \\frac{e^{- 2 x}}{2}$"
      ],
      "text/plain": [
       "x**3/3 - 2*sin(x/2) - exp(-2*x)/2"
      ]
     },
     "execution_count": 32,
     "metadata": {},
     "output_type": "execute_result"
    }
   ],
   "source": [
    "from sympy import *\n",
    "\n",
    "x = symbols(\"x\")\n",
    "y = x**2 - cos(x/2) + 1/exp(2*x)\n",
    "\n",
    "integrate(y,x)"
   ]
  }
 ],
 "metadata": {
  "kernelspec": {
   "display_name": "Python 3 (ipykernel)",
   "language": "python",
   "name": "python3"
  },
  "language_info": {
   "codemirror_mode": {
    "name": "ipython",
    "version": 3
   },
   "file_extension": ".py",
   "mimetype": "text/x-python",
   "name": "python",
   "nbconvert_exporter": "python",
   "pygments_lexer": "ipython3",
   "version": "3.9.12"
  }
 },
 "nbformat": 4,
 "nbformat_minor": 4
}
