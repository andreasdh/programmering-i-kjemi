{
 "cells": [
  {
   "cell_type": "markdown",
   "id": "72a2f4e8",
   "metadata": {},
   "source": [
    "$$u'(t) = a\\cdot u(t)$$"
   ]
  },
  {
   "cell_type": "markdown",
   "id": "219e2560",
   "metadata": {},
   "source": [
    "$$u'(t) = a\\cdot u(t)$$"
   ]
  },
  {
   "cell_type": "code",
   "execution_count": 1,
   "id": "ded53f2b",
   "metadata": {},
   "outputs": [],
   "source": [
    "u = 1   # tonn per innbygger\n",
    "a = 0.1 # utslippsrate\n",
    "t = 0   # starttid\n",
    "tid_slutt = 100 # år etter 1835\n",
    "dt = 1E-3 #\n",
    "\n"
   ]
  },
  {
   "cell_type": "code",
   "execution_count": null,
   "id": "08c4b744",
   "metadata": {},
   "outputs": [],
   "source": []
  }
 ],
 "metadata": {
  "kernelspec": {
   "display_name": "Python 3 (ipykernel)",
   "language": "python",
   "name": "python3"
  },
  "language_info": {
   "codemirror_mode": {
    "name": "ipython",
    "version": 3
   },
   "file_extension": ".py",
   "mimetype": "text/x-python",
   "name": "python",
   "nbconvert_exporter": "python",
   "pygments_lexer": "ipython3",
   "version": "3.9.12"
  }
 },
 "nbformat": 4,
 "nbformat_minor": 5
}
