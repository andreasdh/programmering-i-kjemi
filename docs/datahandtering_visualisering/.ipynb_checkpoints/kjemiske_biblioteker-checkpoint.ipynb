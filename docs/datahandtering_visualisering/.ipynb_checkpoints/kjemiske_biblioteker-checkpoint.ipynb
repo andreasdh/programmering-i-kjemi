{
 "cells": [
  {
   "cell_type": "markdown",
   "metadata": {},
   "source": [
    "# Kjemiske biblioteker"
   ]
  },
  {
   "cell_type": "markdown",
   "metadata": {},
   "source": [
    "Det finnes mange Python-biblioteker som inneholder funksjonalitet rettet mot kjemi. Vi har til og med visualiserings- og simuleringsverktøy som er utviklet her på UiO! Her skal vi derimot se på noen eksternt utviklete biblioteker som kan brukes til enkle beregninger og visualiseringer. \n",
    "\n",
    "Først ser vi litt på biblioteket Mendeleev, som inneholder svært mye informasjon om grunnstoffene våre, og som dermed kan brukes til å visualisere og studere sammenhenger i periodesystemet. Deretter ser vi på biblioteket Chemlib, som også inneholder en del informasjon om grunnstoffene, men som også kan brukes til støkiometrisk beregninger og beregninger knyttet til elektrokjemiske celler. Til slutt ser vi på pHcalc, som brukes til å beregne pH i både enkle og sammensatte løsninger.\n",
    "\n",
    "For å installere disse bibliotekene fra en notebook, skriver du følgende i en kodelinje:"
   ]
  },
  {
   "cell_type": "code",
   "execution_count": null,
   "metadata": {},
   "outputs": [],
   "source": [
    "!pip install mendeleev chemlib phcalc"
   ]
  },
  {
   "cell_type": "markdown",
   "metadata": {},
   "source": [
    "## Mendeleev\n",
    "\n",
    "Grunnenheten i Mendeleev-biblioteket er _element_. Dette er en såkalt _klasse_, som fungerer som en oppskrift for å opprette ulike grunnstoff-_objekter_. Hvert grunnstoffobjekt har en del felles egenskaper fordi de er laget med samme oppskrift/klasse. For eksempel har de elektronegativitet, kokepunkt, smeltepunkt, atomnummer osv. Vi oppretter et grunnstoffobjekt ved å bruke denne klassen på samme måte som vi bruker en funksjon. Parameteren skal være enten atomnummeret eller atomsymbolet:"
   ]
  },
  {
   "cell_type": "code",
   "execution_count": 10,
   "metadata": {},
   "outputs": [],
   "source": [
    "from mendeleev import element\n",
    "\n",
    "hydrogen = element(\"H\") # Eller: grunnstoff = element(1)"
   ]
  },
  {
   "cell_type": "markdown",
   "metadata": {},
   "source": [
    "Nå har vi et grunnstoffobjekt som representerer hydrogen. Vi kan finne ulike egenskaper til hydrogen ved å bruke _metoder_ som er bygd inn i _element_-klassen (oppskriften på grunnstoffet). Disse metodene gir oss informasjon om akkurat denne utgaven av klassen. Her er noen eksempler:"
   ]
  },
  {
   "cell_type": "code",
   "execution_count": 11,
   "metadata": {},
   "outputs": [
    {
     "name": "stdout",
     "output_type": "stream",
     "text": [
      "Navn: Hydrogen, Symbol: H, Elektronegativitet: 2.2\n"
     ]
    }
   ],
   "source": [
    "navn = hydrogen.name\n",
    "symbol = hydrogen.symbol\n",
    "elektronegativitet = hydrogen.electronegativity()\n",
    "\n",
    "print(f\"Navn: {navn}, Symbol: {symbol}, Elektronegativitet: {elektronegativitet}\")"
   ]
  },
  {
   "cell_type": "markdown",
   "metadata": {},
   "source": [
    "Dette er bare et lite utvalg egenskaper vi kan se på. Dersom du undersøker ut grunnstoffobjektet, får du en oversikt over alle egenskapene som er registrert for grunnstoffet:"
   ]
  },
  {
   "cell_type": "code",
   "execution_count": 12,
   "metadata": {},
   "outputs": [
    {
     "data": {
      "text/plain": [
       "Element(\n",
       "\tabundance_crust=1400.0,\n",
       " \tabundance_sea=108000.0,\n",
       " \tannotation='density(@ -253C), evaporation_heat(H-H), fusion_heat(H-H), ',\n",
       " \tatomic_number=1,\n",
       " \tatomic_radius=25.0,\n",
       " \tatomic_radius_rahm=154.0,\n",
       " \tatomic_volume=14.1,\n",
       " \tatomic_weight=1.008,\n",
       " \tatomic_weight_uncertainty=None,\n",
       " \tblock='s',\n",
       " \tboiling_point=20.28,\n",
       " \tc6=6.499026705,\n",
       " \tc6_gb=6.51,\n",
       " \tcas='1333-74-0',\n",
       " \tcovalent_radius_bragg=None,\n",
       " \tcovalent_radius_cordero=31.0,\n",
       " \tcovalent_radius_pyykko=32.0,\n",
       " \tcovalent_radius_pyykko_double=None,\n",
       " \tcovalent_radius_pyykko_triple=None,\n",
       " \tcpk_color='#ffffff',\n",
       " \tdensity=8.2e-05,\n",
       " \tdescription='Colourless, odourless gaseous chemical element. Lightest and most abundant element in the universe. Present in water and in all organic compounds. Chemically reacts with most elements. Discovered by Henry Cavendish in 1776.',\n",
       " \tdipole_polarizability=4.50711,\n",
       " \tdipole_polarizability_unc=3e-05,\n",
       " \tdiscoverers='Henry Cavendish',\n",
       " \tdiscovery_location='England',\n",
       " \tdiscovery_year=1766,\n",
       " \tec=<ElectronicConfiguration(conf=\"1s1\")>,\n",
       " \teconf='1s',\n",
       " \telectron_affinity=0.754195,\n",
       " \ten_allen=13.61,\n",
       " \ten_ghosh=0.2638,\n",
       " \ten_pauling=2.2,\n",
       " \tevaporation_heat=0.904,\n",
       " \tfusion_heat=0.117,\n",
       " \tgas_basicity=None,\n",
       " \tgeochemical_class='volatile',\n",
       " \tglawe_number=103,\n",
       " \tgoldschmidt_class='atmophile',\n",
       " \tgroup=<Group(symbol=IA, name=Alkali metals)>,\n",
       " \tgroup_id=1,\n",
       " \theat_of_formation=217.998,\n",
       " \tionic_radii=[IonicRadius(\n",
       "\tatomic_number=1,\n",
       " \tcharge=1,\n",
       " \tcoordination='I',\n",
       " \tcrystal_radius=-24.0,\n",
       " \teconf='1s0',\n",
       " \tid=172,\n",
       " \tionic_radius=-38.0,\n",
       " \tmost_reliable=False,\n",
       " \torigin='',\n",
       " \tspin='',\n",
       "), IonicRadius(\n",
       "\tatomic_number=1,\n",
       " \tcharge=1,\n",
       " \tcoordination='II',\n",
       " \tcrystal_radius=-4.0,\n",
       " \teconf='1s0',\n",
       " \tid=173,\n",
       " \tionic_radius=-18.0,\n",
       " \tmost_reliable=False,\n",
       " \torigin='',\n",
       " \tspin='',\n",
       ")],\n",
       " \tis_monoisotopic=None,\n",
       " \tis_radioactive=False,\n",
       " \tisotopes=[<Isotope(Z=1, A=1, mass=1.007825031898, abundance=99.9855)>, <Isotope(Z=1, A=2, mass=2.014101777844, abundance=0.0145)>, <Isotope(Z=1, A=3, mass=3.01604928132, abundance=0.0)>, <Isotope(Z=1, A=4, mass=4.026431867, abundance=0.0)>, <Isotope(Z=1, A=5, mass=5.035311492, abundance=0.0)>, <Isotope(Z=1, A=6, mass=6.044955437, abundance=0.0)>, <Isotope(Z=1, A=7, mass=7.052749, abundance=0.0)>],\n",
       " \tjmol_color='#ffffff',\n",
       " \tlattice_constant=3.75,\n",
       " \tlattice_structure='HEX',\n",
       " \tmelting_point=14.01,\n",
       " \tmendeleev_number=105,\n",
       " \tmetallic_radius=None,\n",
       " \tmetallic_radius_c12=78.0,\n",
       " \tmolar_heat_capacity=28.836,\n",
       " \tmolcas_gv_color='#f2f2f2',\n",
       " \tname='Hydrogen',\n",
       " \tname_origin='Greek: hydro (water) and genes (generate)',\n",
       " \tperiod=1,\n",
       " \tpettifor_number=103,\n",
       " \tproton_affinity=None,\n",
       " \tscreening_constants=[<ScreeningConstant(Z=   1, n=  1, s=s, screening=    0.0000)>],\n",
       " \tsources='Commercial quantities are produced by reacting superheated steam with methane or carbon. In lab work from reaction of metals with acid solutions or electrolysis.',\n",
       " \tspecific_heat_capacity=14.304,\n",
       " \tsymbol='H',\n",
       " \tthermal_conductivity=0.1815,\n",
       " \tuses='Most hydrogen is used in the production of ammonia. Also used in balloons and in metal refining. Also used as fuel in rockets. Its two heavier isotopes are: deuterium (D) and tritium (T) used respectively for nuclear fission and fusion.',\n",
       " \tvdw_radius=110.00000000000001,\n",
       " \tvdw_radius_alvarez=120.0,\n",
       " \tvdw_radius_batsanov=None,\n",
       " \tvdw_radius_bondi=120.0,\n",
       " \tvdw_radius_dreiding=319.5,\n",
       " \tvdw_radius_mm3=162.0,\n",
       " \tvdw_radius_rt=110.00000000000001,\n",
       " \tvdw_radius_truhlar=None,\n",
       " \tvdw_radius_uff=288.6,\n",
       ")"
      ]
     },
     "execution_count": 12,
     "metadata": {},
     "output_type": "execute_result"
    }
   ],
   "source": [
    "hydrogen"
   ]
  },
  {
   "cell_type": "markdown",
   "metadata": {},
   "source": [
    "Elektronegativitet er en spesiell størrelse her, og fungerer som en egen metode som krever at vi enten avslutter med en tom parentes, eller en parentes med en parameter inni. Siden vi kan beregne elektronegativitet med utgangspunkt i ulike skalaer, kan vi f.eks. skrive:"
   ]
  },
  {
   "cell_type": "code",
   "execution_count": 18,
   "metadata": {},
   "outputs": [
    {
     "name": "stdout",
     "output_type": "stream",
     "text": [
      "2.2\n",
      "13.61\n",
      "6.799217002568\n"
     ]
    }
   ],
   "source": [
    "print(hydrogen.electronegativity(\"pauling\"))    # Paulings skala\n",
    "print(hydrogen.electronegativity(\"allen\"))      # Allens skala\n",
    "print(hydrogen.electronegativity(\"mulliken\"))   # Mullikens skala"
   ]
  },
  {
   "cell_type": "markdown",
   "metadata": {},
   "source": [
    "For å få en komplett liste over funksjonaliteten i Mendeleev, kan du undersøke [dokumentasjonen til mendeleev-biblioteket](https://mendeleev.readthedocs.io/en/stable/])."
   ]
  },
  {
   "cell_type": "markdown",
   "metadata": {},
   "source": [
    "```{admonition} Underveisoppgave\n",
    ":class: tip\n",
    "Lag et program som skriver ut navn, symbol og elektronegativitet for de 18 letteste grunnstoffene.\n",
    "```\n",
    "\n",
    "````{admonition} Løsningsforslag\n",
    ":class: tip, dropdown\n",
    "\n",
    "Du trenger ikke å skrive ut en like oversiktlig tabell som nedenfor - det viktigste er at du har brukt en løkke for å iterere gjennom de 18 første grunnstoffene i periodesystemet.\n",
    "\n",
    "```{code-block} Python\n",
    "from mendeleev import element\n",
    "\n",
    "print(\"Navn       Symbol    Elektronegativitet\")\n",
    "print(\"---------------------------------------\")\n",
    "\n",
    "for Z in range(1,19):\n",
    "    grunnstoff = element(Z)\n",
    "    navn = grunnstoff.name\n",
    "    symbol = grunnstoff.symbol\n",
    "    elektronegativitet = grunnstoff.electronegativity()\n",
    "    print(f\"{navn:11}|{symbol:9}|{elektronegativitet}\")\n",
    "```\n",
    "````"
   ]
  },
  {
   "cell_type": "markdown",
   "metadata": {},
   "source": [
    "### Trender i elektrongativitet\n",
    "\n",
    "Vi kan bruke lister eller tilsvarende datasamlinger for å spare på verdiene underveis i løkka. Da kan vi plotte ulike egenskaper mot hverandre og utforske trender i periodesystemet:"
   ]
  },
  {
   "cell_type": "code",
   "execution_count": 20,
   "metadata": {},
   "outputs": [
    {
     "data": {
      "image/png": "[encoded data removed]",
      "text/plain": [
       "<Figure size 640x480 with 1 Axes>"
      ]
     },
     "metadata": {},
     "output_type": "display_data"
    }
   ],
   "source": [
    "from mendeleev import element\n",
    "import matplotlib.pyplot as plt\n",
    "\n",
    "atomnumre = []\n",
    "el_neg = []\n",
    "\n",
    "for Z in range(1,119):\n",
    "    grunnstoff = element(Z)\n",
    "    elektronegativitet = grunnstoff.electronegativity()\n",
    "    atomnumre.append(Z)\n",
    "    el_neg.append(elektronegativitet)\n",
    "    \n",
    "plt.scatter(atomnumre, el_neg, color=\"hotpink\")\n",
    "plt.title(\"Elektronegativitetstrender i periodesystemet\")\n",
    "plt.xlabel(\"Atomnummer\")\n",
    "plt.ylabel(\"Elektronegativitet\")\n",
    "plt.show()"
   ]
  },
  {
   "cell_type": "markdown",
   "metadata": {},
   "source": [
    "```{admonition} Underveisoppgave\n",
    ":class: tip\n",
    "Modifiser programmet slik at det kun plotter grunnstoffene i andre periode. Forklar trenden du ser.\n",
    "```\n",
    "\n",
    "````{admonition} Løsningsforslag\n",
    ":class: tip, dropdown\n",
    "\n",
    "```{code-block} Python\n",
    "from mendeleev import element\n",
    "import matplotlib.pyplot as plt\n",
    "\n",
    "atomnumre = []\n",
    "el_neg = []\n",
    "gruppe2 = [4, 12, 20, 38, 56, 88]\n",
    "\n",
    "for Z in gruppe2:\n",
    "    grunnstoff = element(Z)\n",
    "    elektronegativitet = grunnstoff.electronegativity()\n",
    "    atomnumre.append(Z)\n",
    "    el_neg.append(elektronegativitet)\n",
    "    \n",
    "plt.scatter(atomnumre, el_neg, color=\"navy\")\n",
    "plt.title(\"Elektronegativitetstrender i gruppe 2\")\n",
    "plt.xlabel(\"Atomnummer\")\n",
    "plt.ylabel(\"Elektronegativitet\")\n",
    "plt.show()\n",
    "```\n",
    "````"
   ]
  },
  {
   "cell_type": "code",
   "execution_count": 22,
   "metadata": {},
   "outputs": [
    {
     "data": {
      "image/png": "[encoded data removed]",
      "text/plain": [
       "<Figure size 640x480 with 1 Axes>"
      ]
     },
     "metadata": {},
     "output_type": "display_data"
    }
   ],
   "source": []
  },
  {
   "cell_type": "markdown",
   "metadata": {},
   "source": [
    "### Elektronegativitet i gruppe 1\n",
    "Oppgave: Plott elektronegativitet som funksjon av atomnummer for grunnstoffene i gruppe 1."
   ]
  },
  {
   "cell_type": "markdown",
   "metadata": {},
   "source": [
    "## Støkiometriske beregninger\n",
    "\n",
    "La oss nå se på hvordan vi kan bruke "
   ]
  },
  {
   "cell_type": "markdown",
   "metadata": {},
   "source": [
    "### Stoffmengdeberegninger"
   ]
  },
  {
   "cell_type": "code",
   "execution_count": 5,
   "metadata": {},
   "outputs": [],
   "source": [
    "from chemlib import Compound\n",
    "\n",
    "butan1ol = Compound(\"C4H9OH\")\n",
    "NH3 = Compound(\"NH3\")"
   ]
  },
  {
   "cell_type": "code",
   "execution_count": 3,
   "metadata": {},
   "outputs": [
    {
     "data": {
      "text/plain": [
       "{'grams': 2,\n",
       " 'molecules': 1.6243271319293604e+22,\n",
       " 'moles': 0.026982178271251833}"
      ]
     },
     "execution_count": 3,
     "metadata": {},
     "output_type": "execute_result"
    }
   ],
   "source": [
    "butan1ol.get_amounts(grams=2)"
   ]
  },
  {
   "cell_type": "code",
   "execution_count": 4,
   "metadata": {},
   "outputs": [
    {
     "data": {
      "text/plain": [
       "{'molecules': 2,\n",
       " 'moles': 3.322259136212625e-24,\n",
       " 'grams': 2.4625581395348844e-22}"
      ]
     },
     "execution_count": 4,
     "metadata": {},
     "output_type": "execute_result"
    }
   ],
   "source": [
    "butan1ol.get_amounts(molecules=2)"
   ]
  },
  {
   "cell_type": "markdown",
   "metadata": {},
   "source": [
    "### Løsninger og fortynning"
   ]
  },
  {
   "cell_type": "code",
   "execution_count": 6,
   "metadata": {},
   "outputs": [],
   "source": [
    "from chemlib import Solution"
   ]
  },
  {
   "cell_type": "code",
   "execution_count": 13,
   "metadata": {},
   "outputs": [],
   "source": [
    "sol1 = Solution(\"NaNO3\", 0.24) # 0.24 mol/L NaNO3\n",
    "sol2 = Solution.by_grams_per_liters(\"NaOH\", grams = 40, liters = 1)"
   ]
  },
  {
   "cell_type": "code",
   "execution_count": 10,
   "metadata": {
    "scrolled": true
   },
   "outputs": [
    {
     "name": "stdout",
     "output_type": "stream",
     "text": [
      "1.000075005625422\n"
     ]
    }
   ],
   "source": [
    "print(sol2.molarity)"
   ]
  },
  {
   "cell_type": "code",
   "execution_count": 14,
   "metadata": {},
   "outputs": [],
   "source": [
    "C2 = sol1.dilute(V1 = 0.1, V2 = 3.44)"
   ]
  },
  {
   "cell_type": "code",
   "execution_count": 15,
   "metadata": {},
   "outputs": [
    {
     "data": {
      "text/plain": [
       "{'Solute': 'Na₁N₁O₃', 'Molarity': 0.0069767441860465115, 'Volume': 3.44}"
      ]
     },
     "execution_count": 15,
     "metadata": {},
     "output_type": "execute_result"
    }
   ],
   "source": [
    "C2"
   ]
  },
  {
   "cell_type": "markdown",
   "metadata": {},
   "source": [
    "### Kjemiske reaksjoner"
   ]
  },
  {
   "cell_type": "code",
   "execution_count": 16,
   "metadata": {},
   "outputs": [],
   "source": [
    "from chemlib import Reaction\n",
    "\n",
    "H2 = Compound(\"H2\")\n",
    "I2 = Compound(\"I2\")\n",
    "HI = Compound(\"HI\")"
   ]
  },
  {
   "cell_type": "code",
   "execution_count": 17,
   "metadata": {},
   "outputs": [],
   "source": [
    "reaksjon = Reaction([H2, I2],[HI])"
   ]
  },
  {
   "cell_type": "code",
   "execution_count": 20,
   "metadata": {},
   "outputs": [
    {
     "name": "stdout",
     "output_type": "stream",
     "text": [
      "1H₂ + 1I₂ --> 1H₁I₁\n",
      "False\n"
     ]
    }
   ],
   "source": [
    "print(reaksjon.formula)\n",
    "print(reaksjon.is_balanced)"
   ]
  },
  {
   "cell_type": "code",
   "execution_count": 21,
   "metadata": {},
   "outputs": [
    {
     "name": "stdout",
     "output_type": "stream",
     "text": [
      "1H₂ + 1I₂ --> 2H₁I₁\n",
      "True\n"
     ]
    }
   ],
   "source": [
    "reaksjon.balance()\n",
    "v"
   ]
  },
  {
   "cell_type": "markdown",
   "metadata": {},
   "source": [
    "- Oppgave: Bruk chemlib til å balansere ufullstendig forbrenning av benzen (vi får vann og CO)"
   ]
  },
  {
   "cell_type": "code",
   "execution_count": 22,
   "metadata": {},
   "outputs": [
    {
     "name": "stdout",
     "output_type": "stream",
     "text": [
      "2C₆H₆ + 9O₂ --> 12C₁O₁ + 6H₂O₁\n",
      "True\n"
     ]
    }
   ],
   "source": [
    "from chemlib import Reaction, Compound\n",
    "\n",
    "benzen = Compound(\"C6H6\")\n",
    "O2 = Compound(\"O2\")\n",
    "CO = Compound(\"CO\")\n",
    "H2O = Compound(\"H2O\")\n",
    "\n",
    "forbrenning = Reaction([benzen, O2], [CO, H2O])\n",
    "forbrenning.balance()\n",
    "print(forbrenning.formula)\n",
    "print(forbrenning.is_balanced)"
   ]
  },
  {
   "cell_type": "markdown",
   "metadata": {},
   "source": [
    "## Elektrokjemi"
   ]
  },
  {
   "cell_type": "markdown",
   "metadata": {},
   "source": [
    "### Galvaniske elementer"
   ]
  },
  {
   "cell_type": "code",
   "execution_count": 23,
   "metadata": {},
   "outputs": [],
   "source": [
    "from chemlib import Galvanic_Cell"
   ]
  },
  {
   "cell_type": "code",
   "execution_count": 41,
   "metadata": {},
   "outputs": [],
   "source": [
    "celle = Galvanic_Cell(\"Pb\", \"Zn\")"
   ]
  },
  {
   "cell_type": "code",
   "execution_count": 42,
   "metadata": {},
   "outputs": [
    {
     "name": "stdout",
     "output_type": "stream",
     "text": [
      "{'Cell': 'Zn | Zn2+ || Pb2+ | Pb', 'Anode': 'Zn', 'Cathode': 'Pb', 'Cell Potential': 0.63}\n"
     ]
    }
   ],
   "source": [
    "egenskaper = celle.properties\n",
    "print(egenskaper)"
   ]
  },
  {
   "cell_type": "code",
   "execution_count": 29,
   "metadata": {},
   "outputs": [
    {
     "data": {
      "text/plain": [
       "1.1"
      ]
     },
     "execution_count": 29,
     "metadata": {},
     "output_type": "execute_result"
    }
   ],
   "source": [
    "egenskaper[\"Cell Potential\"]"
   ]
  },
  {
   "cell_type": "markdown",
   "metadata": {},
   "source": [
    "### Elektrolyse"
   ]
  },
  {
   "cell_type": "code",
   "execution_count": 44,
   "metadata": {},
   "outputs": [],
   "source": [
    "from chemlib import electrolysis\n",
    "\n",
    "elektrolyse = electrolysis(\"Cu\", n = 2, amps = 10, seconds = 3600)"
   ]
  },
  {
   "cell_type": "code",
   "execution_count": 45,
   "metadata": {},
   "outputs": [
    {
     "data": {
      "text/plain": [
       "{'element': 'Cu',\n",
       " 'n': 2,\n",
       " 'seconds': 3600,\n",
       " 'amps': 10,\n",
       " 'grams': 11.854982639788567}"
      ]
     },
     "execution_count": 45,
     "metadata": {},
     "output_type": "execute_result"
    }
   ],
   "source": [
    "elektrolyse"
   ]
  },
  {
   "cell_type": "markdown",
   "metadata": {},
   "source": [
    "- Oppgave: Finn ut hvor lang tid det minimum tar å dekke en gjenstand med 30 g sølv med en løsning AgNO$_3$ når vi bruker en strømstyrke på 10 A."
   ]
  },
  {
   "cell_type": "markdown",
   "metadata": {},
   "source": [
    "### Sterke syrer og baser"
   ]
  },
  {
   "cell_type": "code",
   "execution_count": 57,
   "metadata": {},
   "outputs": [],
   "source": [
    "from pHcalc.pHcalc import Acid, System, Neutral"
   ]
  },
  {
   "cell_type": "code",
   "execution_count": 58,
   "metadata": {},
   "outputs": [],
   "source": [
    "no3 = Neutral(charge=-1, conc=0.1)"
   ]
  },
  {
   "cell_type": "code",
   "execution_count": 59,
   "metadata": {},
   "outputs": [
    {
     "name": "stdout",
     "output_type": "stream",
     "text": [
      "1.000001525878904\n"
     ]
    }
   ],
   "source": [
    "sol = System(no3)\n",
    "sol.pHsolve()\n",
    "print(sol.pH)"
   ]
  },
  {
   "cell_type": "markdown",
   "metadata": {},
   "source": [
    "Oppgave: Beregn pH i et system som består av 1 M HF og 1 M CHOOH (metansyre/maursyre)"
   ]
  }
 ],
 "metadata": {
  "kernelspec": {
   "display_name": "Python 3 (ipykernel)",
   "language": "python",
   "name": "python3"
  },
  "language_info": {
   "codemirror_mode": {
    "name": "ipython",
    "version": 3
   },
   "file_extension": ".py",
   "mimetype": "text/x-python",
   "name": "python",
   "nbconvert_exporter": "python",
   "pygments_lexer": "ipython3",
   "version": "3.9.12"
  }
 },
 "nbformat": 4,
 "nbformat_minor": 4
}
