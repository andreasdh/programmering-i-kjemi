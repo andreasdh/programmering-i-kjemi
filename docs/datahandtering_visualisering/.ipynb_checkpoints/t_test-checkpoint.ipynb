{
 "cells": [
  {
   "cell_type": "markdown",
   "id": "d853ab5c",
   "metadata": {},
   "source": [
    "# Hypothesis testing"
   ]
  },
  {
   "cell_type": "markdown",
   "id": "022b9e2d",
   "metadata": {},
   "source": [
    "One Sample T-test: This test is used to compare the mean of a sample to a known or hypothesized population mean. Here’s how you can do it:"
   ]
  },
  {
   "cell_type": "code",
   "execution_count": 4,
   "id": "26584220",
   "metadata": {},
   "outputs": [],
   "source": [
    "from scipy import stats\n",
    "\n",
    "data = [1, 2, 3, 4, 5]\n",
    "popmean = 3\n",
    "\n",
    "t_statistic, p_value = stats.ttest_1samp(data, popmean)"
   ]
  },
  {
   "cell_type": "markdown",
   "id": "97f69373",
   "metadata": {},
   "source": [
    "Two Sample T-test (paired): This test is used to compare the means of two samples that are taken from the same population or group."
   ]
  },
  {
   "cell_type": "code",
   "execution_count": 5,
   "id": "9dbe962b",
   "metadata": {},
   "outputs": [],
   "source": [
    "from scipy import stats\n",
    "\n",
    "data1 = [1, 2, 3, 4, 5]\n",
    "data2 = [2, 3, 4, 5, 6]\n",
    "\n",
    "t_statistic, p_value = stats.ttest_rel(data1, data2)"
   ]
  },
  {
   "cell_type": "markdown",
   "id": "126e1fe0",
   "metadata": {},
   "source": [
    "Two Sample T-test (independent): This test is used to compare the means of two samples that are taken from different populations or groups."
   ]
  },
  {
   "cell_type": "code",
   "execution_count": 6,
   "id": "89d70e62",
   "metadata": {},
   "outputs": [],
   "source": [
    "from scipy import stats\n",
    "\n",
    "# your data\n",
    "data1 = [1, 2, 3, 4, 5]\n",
    "data2 = [2, 3, 4, 5, 6]\n",
    "\n",
    "t_statistic, p_value = stats.ttest_ind(data1, data2)"
   ]
  },
  {
   "cell_type": "markdown",
   "id": "ac5e8fde",
   "metadata": {},
   "source": [
    "Welch’s T-test: This test is similar to the independent two-sample t-test, but it does not assume that the two populations have equal variances."
   ]
  },
  {
   "cell_type": "code",
   "execution_count": 7,
   "id": "02ad4cd7",
   "metadata": {},
   "outputs": [],
   "source": [
    "from scipy import stats\n",
    "\n",
    "# your data\n",
    "data1 = [1, 2, 3, 4, 5]\n",
    "data2 = [2, 3, 4, 5, 6]\n",
    "\n",
    "t_statistic, p_value = stats.ttest_ind(data1, data2, equal_var=False)"
   ]
  },
  {
   "cell_type": "markdown",
   "id": "109dda85",
   "metadata": {},
   "source": [
    "In all these examples, t_statistic is the calculated t-statistic and p_value is the two-tailed p-value. If the p-value is less than your significance level (commonly 0.05), you would reject the null hypothesis. Otherwise, you would fail to reject the null hypothesis."
   ]
  }
 ],
 "metadata": {
  "kernelspec": {
   "display_name": "Python 3 (ipykernel)",
   "language": "python",
   "name": "python3"
  },
  "language_info": {
   "codemirror_mode": {
    "name": "ipython",
    "version": 3
   },
   "file_extension": ".py",
   "mimetype": "text/x-python",
   "name": "python",
   "nbconvert_exporter": "python",
   "pygments_lexer": "ipython3",
   "version": "3.11.4"
  }
 },
 "nbformat": 4,
 "nbformat_minor": 5
}
