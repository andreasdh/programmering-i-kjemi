{
 "cells": [
  {
   "cell_type": "markdown",
   "metadata": {},
   "source": [
    "# Tema 6: Numerisk integrasjon\n",
    "\n",
    "\n",
    "Repetisjon (programmeringspuslespill):\n",
    "\n",
    "[Rektangelmetoden](http://parsons.problemsolving.io/puzzle/e6f9400da6d54c1389d6a1f7489eca36)\n",
    "\n",
    "[Diskret derivasjon](http://parsons.problemsolving.io/puzzle/cd36da48d9cc4fcbbaf13103d84454bf)\n",
    "\n",
    "[Halveringsmetoden](http://parsons.problemsolving.io/puzzle/267d396f643145f6891e3965b75b93b2)\n",
    "\n",
    "## Rektangelmetoden"
   ]
  },
  {
   "cell_type": "code",
   "execution_count": 5,
   "metadata": {},
   "outputs": [
    {
     "name": "stdout",
     "output_type": "stream",
     "text": [
      "Numerisk verdi: 6.399840001066687\n",
      "Analytisk verdi: 6.4\n"
     ]
    }
   ],
   "source": [
    "n = 100000\n",
    "\n",
    "def f(x):\n",
    "    return x**4\n",
    "\n",
    "def f_analytisk(x):\n",
    "    return (1/5)*x**5\n",
    "\n",
    "def rektangelmetoden_venstre(f, a, b, n):\n",
    "    A = 0\n",
    "    h = (b-a)/n\n",
    "    for i in range(n):\n",
    "        A = A + f(a+i*h)\n",
    "    return A*h\n",
    "\n",
    "print(f'Numerisk verdi: {rektangelmetoden_venstre(f,0,2,n)}')\n",
    "print(f'Analytisk verdi: {f_analytisk(2)-f_analytisk(0)}')"
   ]
  },
  {
   "cell_type": "markdown",
   "metadata": {},
   "source": [
    "## Bruk av biblioteker"
   ]
  },
  {
   "cell_type": "code",
   "execution_count": 6,
   "metadata": {},
   "outputs": [
    {
     "name": "stdout",
     "output_type": "stream",
     "text": [
      "6.4000000010666875\n",
      "6.400000000000016\n"
     ]
    }
   ],
   "source": [
    "from scipy import integrate\n",
    "import numpy as np\n",
    "\n",
    "x = np.linspace(0,2,n)\n",
    "y = f(x)\n",
    "\n",
    "trapes = integrate.trapz(y,x)\n",
    "simpsons = integrate.simps(y,x)\n",
    "print(trapes)\n",
    "print(simpsons)"
   ]
  },
  {
   "cell_type": "markdown",
   "metadata": {},
   "source": [
    "## Tilfeldige tall"
   ]
  },
  {
   "cell_type": "code",
   "execution_count": 7,
   "metadata": {},
   "outputs": [
    {
     "name": "stdout",
     "output_type": "stream",
     "text": [
      "0.167036\n",
      "0.16666666666666666\n"
     ]
    }
   ],
   "source": [
    "import numpy as np\n",
    "N = 1000000\n",
    "seksere = 0\n",
    "\n",
    "for i in range(N):\n",
    "    kast = np.random.randint(1,7)\n",
    "    if kast == 6:\n",
    "        seksere += 1\n",
    "        \n",
    "relfrek = seksere/N\n",
    "print(relfrek)\n",
    "print(1/6)"
   ]
  },
  {
   "cell_type": "code",
   "execution_count": 8,
   "metadata": {},
   "outputs": [
    {
     "data": {
      "image/png": "[encoded data removed]",
      "text/plain": [
       "<Figure size 432x288 with 1 Axes>"
      ]
     },
     "metadata": {
      "needs_background": "light"
     },
     "output_type": "display_data"
    }
   ],
   "source": [
    "import matplotlib.pyplot as plt\n",
    "\n",
    "N = 1000\n",
    "antall_seksere = 0\n",
    "relativ_frekvens = []\n",
    "antall_kast = []\n",
    "\n",
    "for i in range(1,N+1):\n",
    "    kast = np.random.randint(1,7)\n",
    "    if kast == 6:\n",
    "        antall_seksere += 1\n",
    "    relfrek = antall_seksere/i\n",
    "    relativ_frekvens.append(relfrek)\n",
    "    antall_kast.append(i)\n",
    "\n",
    "plt.plot(antall_kast,relativ_frekvens)\n",
    "plt.show()"
   ]
  },
  {
   "cell_type": "markdown",
   "metadata": {},
   "source": [
    "## Monte Carlo-integrasjon"
   ]
  },
  {
   "cell_type": "code",
   "execution_count": 9,
   "metadata": {},
   "outputs": [
    {
     "name": "stdout",
     "output_type": "stream",
     "text": [
      "3.144164\n"
     ]
    }
   ],
   "source": [
    "# Vi skal finne pi\n",
    "import numpy as np\n",
    "\n",
    "N = 1000000\n",
    "M = 0\n",
    "\n",
    "for i in range(N):\n",
    "    x = np.random.uniform(-1,1)\n",
    "    y = np.random.uniform(-1,1)\n",
    "    if x**2 + y**2 <= 1:\n",
    "        M += 1\n",
    "A = 4*M/N\n",
    "print(A)"
   ]
  },
  {
   "cell_type": "code",
   "execution_count": 10,
   "metadata": {},
   "outputs": [
    {
     "name": "stdout",
     "output_type": "stream",
     "text": [
      "Numerisk verdi: 6.658632580247065\n",
      "Analytisk verdi: 6.4\n"
     ]
    }
   ],
   "source": [
    "def montecarlo(f,a,b,n):\n",
    "    h = (b-a)/n\n",
    "    x = np.random.uniform(a,b,n)\n",
    "    y = f(x)\n",
    "    fsum = np.sum(y)\n",
    "    integral = h*fsum\n",
    "    return integral\n",
    "\n",
    "def f(x):\n",
    "    return x**4\n",
    "\n",
    "def f_analytisk(x):\n",
    "    return (1/5)*x**5\n",
    "\n",
    "print(f'Numerisk verdi: {montecarlo(f,0,2,1000)}')\n",
    "print(f'Analytisk verdi: {f_analytisk(2)-f_analytisk(0)}')"
   ]
  },
  {
   "cell_type": "markdown",
   "metadata": {},
   "source": [
    "## Heistur, sesong 2"
   ]
  },
  {
   "cell_type": "code",
   "execution_count": 11,
   "metadata": {},
   "outputs": [
    {
     "name": "stdout",
     "output_type": "stream",
     "text": [
      "15.806602796813385\n"
     ]
    }
   ],
   "source": [
    "import numpy as np\n",
    "\n",
    "data = np.loadtxt('Datafiler-innhold/heistur.csv',delimiter=',',skiprows=1)\n",
    "\n",
    "tid = data[:,3]\n",
    "v = data[:,4]\n",
    "integral = 0\n",
    "\n",
    "for i in range(len(v)-2):\n",
    "    bredde = tid[i+1] - tid[i]\n",
    "    dy = abs(v[i+1])\n",
    "    integral += dy*bredde\n",
    "    \n",
    "print(integral)"
   ]
  },
  {
   "cell_type": "markdown",
   "metadata": {},
   "source": [
    "## Numeriske biblioteker: Integrasjon"
   ]
  },
  {
   "cell_type": "code",
   "execution_count": null,
   "metadata": {},
   "outputs": [],
   "source": [
    "from scipy import integrate\n",
    "\n",
    "def f(x):\n",
    "    return x**2 - 4\n",
    "\n",
    "# Lager arrayer med verdier vi skal integrere\n",
    "n = 1000\n",
    "x = np.linspace(0,5,n)\n",
    "y = f(x)\n",
    "\n",
    "# Integrasjon\n",
    "trapes = integrate.trapz(y,x) # Trenger arrayer\n",
    "simpsons = integrate.simps(y,x) # Trenger arrayer\n",
    "print(\"Trapesmetoden:\",trapes)\n",
    "print(\"Simpsons metode:\",simpsons)"
   ]
  },
  {
   "cell_type": "markdown",
   "metadata": {},
   "source": [
    "## Numeriske biblioteker: Multippel integrasjon\n",
    "\n",
    "$$\\int_0^{\\frac{\\pi}{2}} \\int_{-1}^1 x \\sin(y) - ye^x dxdy$$\n",
    "$$\\int_0^3 \\int_0^2 \\int_0^1 xyz dxdydz$$"
   ]
  },
  {
   "cell_type": "code",
   "execution_count": 1,
   "metadata": {},
   "outputs": [
    {
     "name": "stdout",
     "output_type": "stream",
     "text": [
      "Numerisk verdi av dobbeltintegralet: -2.899692718238082\n",
      "Analytisk verdi av dobbeltintegralet: -2.8996927182380823\n",
      "Numerisk verdi av trippelintegralet: 4.5\n",
      "Analytisk verdi av trippelintegralet: 4.5\n"
     ]
    }
   ],
   "source": [
    "from scipy import integrate\n",
    "import numpy as np\n",
    "\n",
    "def f(y,x):\n",
    "    return x*np.sin(y) - y*np.exp(x)\n",
    "\n",
    "def g(z, y, x):\n",
    "    return x*y*z\n",
    "\n",
    "numerisk_dobbel = integrate.dblquad(f, -1, 1, 0, np.pi/2)\n",
    "numerisk_trippel = integrate.tplquad(g, 0, 1, 0, 2, 0, 3)\n",
    "\n",
    "analytisk_dobbel = np.pi**2/8 * (1/np.exp(1)-np.exp(1))\n",
    "analytisk_trippel = 9/2\n",
    "print(f'Numerisk verdi av dobbeltintegralet: {numerisk_dobbel[0]}')\n",
    "print(f'Analytisk verdi av dobbeltintegralet: {analytisk_dobbel}')\n",
    "\n",
    "print(f'Numerisk verdi av trippelintegralet: {numerisk_trippel[0]}')\n",
    "print(f'Analytisk verdi av trippelintegralet: {analytisk_trippel}')"
   ]
  },
  {
   "cell_type": "code",
   "execution_count": null,
   "metadata": {},
   "outputs": [],
   "source": []
  }
 ],
 "metadata": {
  "kernelspec": {
   "display_name": "Python 3",
   "language": "python",
   "name": "python3"
  },
  "language_info": {
   "codemirror_mode": {
    "name": "ipython",
    "version": 3
   },
   "file_extension": ".py",
   "mimetype": "text/x-python",
   "name": "python",
   "nbconvert_exporter": "python",
   "pygments_lexer": "ipython3",
   "version": "3.8.3"
  }
 },
 "nbformat": 4,
 "nbformat_minor": 4
}
