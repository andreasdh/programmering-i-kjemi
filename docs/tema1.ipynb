{
 "cells": [
  {
   "cell_type": "markdown",
   "metadata": {},
   "source": [
    "# Tema 1: Molekylvisualisering"
   ]
  },
  {
   "cell_type": "markdown",
   "metadata": {},
   "source": [
    "## 1. Hypotese\n",
    "Her gjetter vi på noe greier.\n",
    "\n",
    "## 2. Teori\n",
    "Spektroskopi er gøy."
   ]
  },
  {
   "cell_type": "code",
   "execution_count": 1,
   "metadata": {},
   "outputs": [
    {
     "data": {
      "image/png": "[encoded data removed]",
      "text/plain": [
       "<Figure size 432x288 with 1 Axes>"
      ]
     },
     "metadata": {
      "needs_background": "light"
     },
     "output_type": "display_data"
    }
   ],
   "source": [
    "import numpy as np\n",
    "import matplotlib.pyplot as plt\n",
    "\n",
    "P = np.array([1, 2, 3, 4, 5, 6, 7])\n",
    "\n",
    "R = 8.31 # Gasskonstanten\n",
    "T = 298  # Temp. i K\n",
    "n = 1    # Stoffmengde i mol\n",
    "\n",
    "V = n*R*T/P\n",
    "\n",
    "plt.plot(P,V,color='hotpink',marker='o',linestyle='')\n",
    "plt.show()"
   ]
  },
  {
   "cell_type": "markdown",
   "metadata": {},
   "source": [
    "Vi kan skrive matematikk og reaksjonslikninger med LaTeX:\n",
    "\n",
    "$$2H_2 (g) + O_2 (g) \\rightarrow 2H_2O (l)$$\n",
    "\n",
    "$$\\int_0^1 e^{2x} dx$$"
   ]
  },
  {
   "cell_type": "code",
   "execution_count": 1,
   "metadata": {},
   "outputs": [
    {
     "data": {
      "application/3dmoljs_load.v0": "<div id=\"3dmolviewer_16026747874585693\"  style=\"position: relative; width: 640px; height: 480px\">\n        <p id=\"3dmolwarning_16026747874585693\" style=\"background-color:#ffcccc;color:black\">You appear to be running in JupyterLab (or JavaScript failed to load for some other reason).  You need to install the 3dmol extension: <br>\n        <tt>jupyter labextension install jupyterlab_3dmol</tt></p>\n        </div>\n<script>\n\nvar loadScriptAsync = function(uri){\n  return new Promise((resolve, reject) => {\n    var tag = document.createElement('script');\n    tag.src = uri;\n    tag.async = true;\n    tag.onload = () => {\n      resolve();\n    };\n  var firstScriptTag = document.getElementsByTagName('script')[0];\n  firstScriptTag.parentNode.insertBefore(tag, firstScriptTag);\n});\n};\n\nif(typeof $3Dmolpromise === 'undefined') {\n$3Dmolpromise = null;\n  $3Dmolpromise = loadScriptAsync('https://3dmol.org/build/3Dmol.js');\n}\n\nvar viewer_16026747874585693 = null;\nvar warn = document.getElementById(\"3dmolwarning_16026747874585693\");\nif(warn) {\n    warn.parentNode.removeChild(warn);\n}\n$3Dmolpromise.then(function() {\nviewer_16026747874585693 = $3Dmol.createViewer($(\"#3dmolviewer_16026747874585693\"),{backgroundColor:\"white\"});\n$3Dmol.download(\"cid:6013\", viewer_16026747874585693, {}, function() {\n\tviewer_16026747874585693.setStyle({\"stick\": {\"color\": \"spectrum\"}});\nviewer_16026747874585693.render();\n})\n});\n</script>",
      "text/html": [
       "<div id=\"3dmolviewer_16026747874585693\"  style=\"position: relative; width: 640px; height: 480px\">\n",
       "        <p id=\"3dmolwarning_16026747874585693\" style=\"background-color:#ffcccc;color:black\">You appear to be running in JupyterLab (or JavaScript failed to load for some other reason).  You need to install the 3dmol extension: <br>\n",
       "        <tt>jupyter labextension install jupyterlab_3dmol</tt></p>\n",
       "        </div>\n",
       "<script>\n",
       "\n",
       "var loadScriptAsync = function(uri){\n",
       "  return new Promise((resolve, reject) => {\n",
       "    var tag = document.createElement('script');\n",
       "    tag.src = uri;\n",
       "    tag.async = true;\n",
       "    tag.onload = () => {\n",
       "      resolve();\n",
       "    };\n",
       "  var firstScriptTag = document.getElementsByTagName('script')[0];\n",
       "  firstScriptTag.parentNode.insertBefore(tag, firstScriptTag);\n",
       "});\n",
       "};\n",
       "\n",
       "if(typeof $3Dmolpromise === 'undefined') {\n",
       "$3Dmolpromise = null;\n",
       "  $3Dmolpromise = loadScriptAsync('https://3dmol.org/build/3Dmol.js');\n",
       "}\n",
       "\n",
       "var viewer_16026747874585693 = null;\n",
       "var warn = document.getElementById(\"3dmolwarning_16026747874585693\");\n",
       "if(warn) {\n",
       "    warn.parentNode.removeChild(warn);\n",
       "}\n",
       "$3Dmolpromise.then(function() {\n",
       "viewer_16026747874585693 = $3Dmol.createViewer($(\"#3dmolviewer_16026747874585693\"),{backgroundColor:\"white\"});\n",
       "$3Dmol.download(\"cid:6013\", viewer_16026747874585693, {}, function() {\n",
       "\tviewer_16026747874585693.setStyle({\"stick\": {\"color\": \"spectrum\"}});\n",
       "viewer_16026747874585693.render();\n",
       "})\n",
       "});\n",
       "</script>"
      ]
     },
     "metadata": {},
     "output_type": "display_data"
    },
    {
     "data": {
      "text/plain": [
       "<py3Dmol.view at 0x1a72cfcdcd0>"
      ]
     },
     "execution_count": 1,
     "metadata": {},
     "output_type": "execute_result"
    }
   ],
   "source": [
    "import py3Dmol\n",
    "\n",
    "testosteron = py3Dmol.view(query='cid:6013')\n",
    "testosteron.setStyle({'stick':{'color':'spectrum'}})"
   ]
  },
  {
   "cell_type": "code",
   "execution_count": 2,
   "metadata": {},
   "outputs": [
    {
     "data": {
      "application/3dmoljs_load.v0": "<div id=\"3dmolviewer_16026747919582522\"  style=\"position: relative; width: 640px; height: 480px\">\n        <p id=\"3dmolwarning_16026747919582522\" style=\"background-color:#ffcccc;color:black\">You appear to be running in JupyterLab (or JavaScript failed to load for some other reason).  You need to install the 3dmol extension: <br>\n        <tt>jupyter labextension install jupyterlab_3dmol</tt></p>\n        </div>\n<script>\n\nvar loadScriptAsync = function(uri){\n  return new Promise((resolve, reject) => {\n    var tag = document.createElement('script');\n    tag.src = uri;\n    tag.async = true;\n    tag.onload = () => {\n      resolve();\n    };\n  var firstScriptTag = document.getElementsByTagName('script')[0];\n  firstScriptTag.parentNode.insertBefore(tag, firstScriptTag);\n});\n};\n\nif(typeof $3Dmolpromise === 'undefined') {\n$3Dmolpromise = null;\n  $3Dmolpromise = loadScriptAsync('https://3dmol.org/build/3Dmol.js');\n}\n\nvar viewer_16026747919582522 = null;\nvar warn = document.getElementById(\"3dmolwarning_16026747919582522\");\nif(warn) {\n    warn.parentNode.removeChild(warn);\n}\n$3Dmolpromise.then(function() {\nviewer_16026747919582522 = $3Dmol.createViewer($(\"#3dmolviewer_16026747919582522\"),{backgroundColor:\"white\"});\n$3Dmol.download(\"pdb:6B7N\", viewer_16026747919582522, {}, function() {\n\tviewer_16026747919582522.setStyle({\"cartoon\": {\"color\": \"spectrum\"}});\nviewer_16026747919582522.render();\n})\n});\n</script>",
      "text/html": [
       "<div id=\"3dmolviewer_16026747919582522\"  style=\"position: relative; width: 640px; height: 480px\">\n",
       "        <p id=\"3dmolwarning_16026747919582522\" style=\"background-color:#ffcccc;color:black\">You appear to be running in JupyterLab (or JavaScript failed to load for some other reason).  You need to install the 3dmol extension: <br>\n",
       "        <tt>jupyter labextension install jupyterlab_3dmol</tt></p>\n",
       "        </div>\n",
       "<script>\n",
       "\n",
       "var loadScriptAsync = function(uri){\n",
       "  return new Promise((resolve, reject) => {\n",
       "    var tag = document.createElement('script');\n",
       "    tag.src = uri;\n",
       "    tag.async = true;\n",
       "    tag.onload = () => {\n",
       "      resolve();\n",
       "    };\n",
       "  var firstScriptTag = document.getElementsByTagName('script')[0];\n",
       "  firstScriptTag.parentNode.insertBefore(tag, firstScriptTag);\n",
       "});\n",
       "};\n",
       "\n",
       "if(typeof $3Dmolpromise === 'undefined') {\n",
       "$3Dmolpromise = null;\n",
       "  $3Dmolpromise = loadScriptAsync('https://3dmol.org/build/3Dmol.js');\n",
       "}\n",
       "\n",
       "var viewer_16026747919582522 = null;\n",
       "var warn = document.getElementById(\"3dmolwarning_16026747919582522\");\n",
       "if(warn) {\n",
       "    warn.parentNode.removeChild(warn);\n",
       "}\n",
       "$3Dmolpromise.then(function() {\n",
       "viewer_16026747919582522 = $3Dmol.createViewer($(\"#3dmolviewer_16026747919582522\"),{backgroundColor:\"white\"});\n",
       "$3Dmol.download(\"pdb:6B7N\", viewer_16026747919582522, {}, function() {\n",
       "\tviewer_16026747919582522.setStyle({\"cartoon\": {\"color\": \"spectrum\"}});\n",
       "viewer_16026747919582522.render();\n",
       "})\n",
       "});\n",
       "</script>"
      ]
     },
     "metadata": {},
     "output_type": "display_data"
    },
    {
     "data": {
      "text/plain": [
       "<py3Dmol.view at 0x1a72cfcdee0>"
      ]
     },
     "execution_count": 2,
     "metadata": {},
     "output_type": "execute_result"
    }
   ],
   "source": [
    "spike_prot = py3Dmol.view(query='pdb:6B7N')\n",
    "spike_prot.setStyle({'cartoon':{'color':'spectrum'}})"
   ]
  },
  {
   "cell_type": "code",
   "execution_count": 4,
   "metadata": {},
   "outputs": [
    {
     "data": {
      "application/3dmoljs_load.v0": "<div id=\"3dmolviewer_1602678061823799\"  style=\"position: relative; width: 640px; height: 480px\">\n        <p id=\"3dmolwarning_1602678061823799\" style=\"background-color:#ffcccc;color:black\">You appear to be running in JupyterLab (or JavaScript failed to load for some other reason).  You need to install the 3dmol extension: <br>\n        <tt>jupyter labextension install jupyterlab_3dmol</tt></p>\n        </div>\n<script>\n\nvar loadScriptAsync = function(uri){\n  return new Promise((resolve, reject) => {\n    var tag = document.createElement('script');\n    tag.src = uri;\n    tag.async = true;\n    tag.onload = () => {\n      resolve();\n    };\n  var firstScriptTag = document.getElementsByTagName('script')[0];\n  firstScriptTag.parentNode.insertBefore(tag, firstScriptTag);\n});\n};\n\nif(typeof $3Dmolpromise === 'undefined') {\n$3Dmolpromise = null;\n  $3Dmolpromise = loadScriptAsync('https://3dmol.org/build/3Dmol.js');\n}\n\nvar viewer_1602678061823799 = null;\nvar warn = document.getElementById(\"3dmolwarning_1602678061823799\");\nif(warn) {\n    warn.parentNode.removeChild(warn);\n}\n$3Dmolpromise.then(function() {\nviewer_1602678061823799 = $3Dmol.createViewer($(\"#3dmolviewer_1602678061823799\"),{backgroundColor:\"white\"});\n$3Dmol.download(\"pdb:6B7N\", viewer_1602678061823799, {}, function() {\n\tviewer_1602678061823799.setStyle({\"cartoon\": {\"color\": \"spectrum\"}});\n\tviewer_1602678061823799.addSurface(\"vdW\",{\"opacity\": 0.6, \"colorscheme\": {\"gradient\": \"rwb\"}});\n\tviewer_1602678061823799.addSurface(\"vdW\",{\"opacity\": 1, \"colorscheme\": {\"gradient\": \"rwb\"}});\nviewer_1602678061823799.render();\n})\n});\n</script>",
      "text/html": [
       "<div id=\"3dmolviewer_1602678061823799\"  style=\"position: relative; width: 640px; height: 480px\">\n",
       "        <p id=\"3dmolwarning_1602678061823799\" style=\"background-color:#ffcccc;color:black\">You appear to be running in JupyterLab (or JavaScript failed to load for some other reason).  You need to install the 3dmol extension: <br>\n",
       "        <tt>jupyter labextension install jupyterlab_3dmol</tt></p>\n",
       "        </div>\n",
       "<script>\n",
       "\n",
       "var loadScriptAsync = function(uri){\n",
       "  return new Promise((resolve, reject) => {\n",
       "    var tag = document.createElement('script');\n",
       "    tag.src = uri;\n",
       "    tag.async = true;\n",
       "    tag.onload = () => {\n",
       "      resolve();\n",
       "    };\n",
       "  var firstScriptTag = document.getElementsByTagName('script')[0];\n",
       "  firstScriptTag.parentNode.insertBefore(tag, firstScriptTag);\n",
       "});\n",
       "};\n",
       "\n",
       "if(typeof $3Dmolpromise === 'undefined') {\n",
       "$3Dmolpromise = null;\n",
       "  $3Dmolpromise = loadScriptAsync('https://3dmol.org/build/3Dmol.js');\n",
       "}\n",
       "\n",
       "var viewer_1602678061823799 = null;\n",
       "var warn = document.getElementById(\"3dmolwarning_1602678061823799\");\n",
       "if(warn) {\n",
       "    warn.parentNode.removeChild(warn);\n",
       "}\n",
       "$3Dmolpromise.then(function() {\n",
       "viewer_1602678061823799 = $3Dmol.createViewer($(\"#3dmolviewer_1602678061823799\"),{backgroundColor:\"white\"});\n",
       "$3Dmol.download(\"pdb:6B7N\", viewer_1602678061823799, {}, function() {\n",
       "\tviewer_1602678061823799.setStyle({\"cartoon\": {\"color\": \"spectrum\"}});\n",
       "\tviewer_1602678061823799.addSurface(\"vdW\",{\"opacity\": 0.6, \"colorscheme\": {\"gradient\": \"rwb\"}});\n",
       "\tviewer_1602678061823799.addSurface(\"vdW\",{\"opacity\": 1, \"colorscheme\": {\"gradient\": \"rwb\"}});\n",
       "viewer_1602678061823799.render();\n",
       "})\n",
       "});\n",
       "</script>"
      ]
     },
     "metadata": {},
     "output_type": "display_data"
    },
    {
     "data": {
      "text/plain": [
       "<py3Dmol.view at 0x1a72cfcdee0>"
      ]
     },
     "execution_count": 4,
     "metadata": {},
     "output_type": "execute_result"
    }
   ],
   "source": [
    "spike_prot.addSurface('vdW',{'opacity':1, 'colorscheme': {'gradient':'rwb'}})"
   ]
  },
  {
   "cell_type": "code",
   "execution_count": null,
   "metadata": {},
   "outputs": [],
   "source": []
  }
 ],
 "metadata": {
  "kernelspec": {
   "display_name": "Python 3",
   "language": "python",
   "name": "python3"
  },
  "language_info": {
   "codemirror_mode": {
    "name": "ipython",
    "version": 3
   },
   "file_extension": ".py",
   "mimetype": "text/x-python",
   "name": "python",
   "nbconvert_exporter": "python",
   "pygments_lexer": "ipython3",
   "version": "3.8.3"
  }
 },
 "nbformat": 4,
 "nbformat_minor": 4
}
