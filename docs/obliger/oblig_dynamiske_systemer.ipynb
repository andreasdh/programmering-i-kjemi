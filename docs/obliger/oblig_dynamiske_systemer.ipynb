{
 "cells": [
  {
   "cell_type": "markdown",
   "id": "35cb5036",
   "metadata": {},
   "source": [
    "# Oblig 9: Dynamiske systemer og integrasjon\n",
    "\n",
    "```{admonition} Læringsmål\n",
    "I dissse oppgavene skal du lære og vise at du behersker følgende:\n",
    "\n",
    "- Plotte og visualisere utviklingen i et dynamisk system.\n",
    "- Simulere fartslover (ratelover).\n",
    "- Sammenlikne eksperimentelle data med simuleringer.\n",
    "- Forstå hva som menes med numerisk integrasjon, og gjøre rede for ulike metoder som kan brukes til dette.\n",
    "```\n",
    "\n",
    "## Teoretisk bakgrunn\n",
    "\n",
    "_Chapman-modellen_ kan benyttes for å simulere produksjon og nedbrytning av ozon i stratosfæren. Den er basert på følgende reaksjonslikninger med tilhørende reaksjonskoeffisienter:\n",
    "\n",
    "\\begin{align}\n",
    "& \\textrm{O}_2 + h \\nu \\rightarrow 2\\textrm{O} & k_1 = 3.0 \\times 10^{-12} \\textrm{ s}^{-1}&, \\label{eq:k1} \\\\\n",
    "& \\textrm{O}_2 + \\textrm{O} + \\textrm{M} \\rightarrow \\textrm{O}_3 + M & k_2 = 1.2 \\times 10^{-33} \\textrm{ cm}^6 \\textrm{ molec}^{-2} \\textrm{ s}^{-1}&, \\label{eq:k2} \\\\\n",
    "& \\textrm{O}_3 + h \\nu ' \\rightarrow \\textrm{O} + \\textrm{O}_2 & k_3 = 5.5 \\times 10^{-4} \\textrm{ s}^{-1}&, \\label{eq:k3} \\\\\n",
    "& \\textrm{O} + \\textrm{O}_3 \\rightarrow 2 \\textrm{O}_2 & k_4 = 6.9 \\times 10^{-16} \\textrm{ cm}^3 \\textrm{ molec}^{-1} \\textrm{ s}^{-1}&, \\label{eq:k4}\n",
    "\\end{align}\n",
    "\n",
    "hvor O, O$_2$ og O$_3$ er henholdsvis oksygen, dioksygen og ozon. M er en ikke-reagerende støtpartner, mens $h \\nu$ og $h \\nu '$ er energi tilført av UV-stråling med bølgelengde, $\\lambda$, under 242 nm og 336 nm, henholdsvis. \n",
    "\n",
    "Den første reaksjonslikningen beskriver spaltingen av O$_2$ til 2 O-atomer som resultat av UV-stråling. Den andre reaksjonslikningen viser den påfølgende reaksjonen mellom O$_2$ og O som krever en kollisjon med M for å danne O$_3$, mens de to siste reaksjonslikningene viser hvordan O$_3$ brytes ned henholdsvis som resultat av UV-stråling for å danne O og O$_2$, og gjennom reaksjon med O for produksjon av 2 O$_2$-molekyler.\n",
    "\n",
    "Fartslovene for [O], [O$_2$] og [O$_3$] er gitt ved henholdsvis\n",
    "\n",
    "\\begin{align}\n",
    "& \\frac{d[\\textrm{O}]}{dt} = 2 k_1 [\\textrm{O}_2] - k_2 [\\textrm{O}_2] [\\textrm{O}] [\\textrm{M}] + k_3 [\\textrm{O}_3] - k_4 [\\textrm{O}] [\\textrm{O}_3], \\label{eq:dodt} \\\\\n",
    "& \\frac{d[\\textrm{O}_2]}{dt} = - k_1 [\\textrm{O}_2] - k_2 [\\textrm{O}_2] [\\textrm{O}] [\\textrm{M}] + k_3 [\\textrm{O}_3] + 2 k_4 [\\textrm{O}] [\\textrm{O}_3], \\label{eq:do2dt} \\\\\n",
    "& \\frac{d[\\textrm{O}_3]}{dt} = k_2 [\\textrm{O}_2] [\\textrm{O}] [\\textrm{M}] - k_3 [\\textrm{O}_3] - k_4 [\\textrm{O}] [\\textrm{O}_3]. \\label{eq:do3dt}\n",
    "\\end{align}\n",
    "\n",
    "Konsentrasjonene er gitt i molekyler per kubikkcentimerer (molec/cm$^3$). Steady-state-approksimasjonen sier at konsentrasjonen av intermediatene i en reaksjon er konstant, hvilket leder til uttrykkene nedenfor for [O$_3$] og [O] dersom vi regner med at [O$_2$] er konstant lik [O$_2$]$_{t=0}$ under hele forløpet.\n",
    "\n",
    "\\begin{align}\n",
    "& [\\textrm{O}_3] = \\sqrt{\\frac{k_1 k_2}{k_3 k_4}}[\\textrm{O}_2][\\textrm{M}]^{\\frac{1}{2}}, \\label{eq:o3ss} \\\\\n",
    "& [\\textrm{O}] = \\frac{k_3[\\textrm{O}_3]}{k_2[\\textrm{O}_2][\\textrm{M}]}. \\label{eq:oss}\n",
    "\\end{align}\n",
    "\n",
    "Ratekonstantene er gitt ved omtrent 25 km høyde, hvor $[\\textrm{M}] \\approx 9.0 \\times 10^{17}$ molec cm$^{-3}$. Systemet har følgende initialbetingelser:\n",
    "\n",
    "\\begin{align}\n",
    "& [\\textrm{O}_2]_{t=0} = 0.21[\\textrm{M}], \\label{eq:inito2} \\\\\n",
    "& [\\textrm{O}]_{t=0} = 0, \\label{eq:inito} \\\\\n",
    "& [\\textrm{O}_3]_{t=0} = 0 \\label{eq:inito3}.\n",
    "\\end{align}\n"
   ]
  },
  {
   "cell_type": "markdown",
   "id": "4e580f6c",
   "metadata": {},
   "source": [
    "## 9.1 Simulering av ozonnedbrytning\n",
    "\n",
    "a) Lag et program som beregner og plotter [O$_3$] og [O] som funksjon av tid i intervallet $t \\in [0,100]$ ved å benytte Forward Euler-algoritmen på fartslovene i teoridelen med de gitte initialbetingelsene og tidssteg $h = 0.001$. Plott med logaritmisk skala på $y$-aksen (_plt.yscale('log')_).\n",
    "\n",
    "b) Beregn og plott de samme verdiene med en backward-metode ('BDF) ved å bruke funksjonen _scipy.integrate.solve\\_ivp_ fra Scipy-biblioteket for $t \\in [0,10^8]$. Evaluer punktene for _t = np.linspace(t0,tid_slutt,int(1E6))_.\n",
    "\n",
    "c) Sammenlikn de beregnede verdiene med BDF for [O$_3$] og [O] (de siste i arrayene) ved $t=10^8$ s med verdiene fra steady-state-approksimasjonen. Beregn og kommenter det prosentvise avviket mellom steady-state og BDF-beregningene."
   ]
  },
  {
   "cell_type": "markdown",
   "id": "50ceadd7",
   "metadata": {},
   "source": [
    "## 9.2 Numerisk integrasjon\n",
    "Når vi løser fartslovene, _integrerer_ vi dem. Det finnes ulike metoder for numerisk integrasjon, og hver metode har sine styrker og svakheter.\n",
    "\n",
    "a) Forklar hvorfor fartslover er differensiallikninger. Hva finner vi når vi integrerer dem med Eulers metode?\n",
    "b) Implementer rektangelmetoden og trapesmetoden for numerisk integrasjon som Python-funksjoner. Bruk begge metodene til å integrere en funksjon der du kjenner den analytisk integrerte. Sammenlikn de to metodene"
   ]
  }
 ],
 "metadata": {
  "kernelspec": {
   "display_name": "Python 3 (ipykernel)",
   "language": "python",
   "name": "python3"
  },
  "language_info": {
   "codemirror_mode": {
    "name": "ipython",
    "version": 3
   },
   "file_extension": ".py",
   "mimetype": "text/x-python",
   "name": "python",
   "nbconvert_exporter": "python",
   "pygments_lexer": "ipython3",
   "version": "3.8.5"
  }
 },
 "nbformat": 4,
 "nbformat_minor": 5
}
