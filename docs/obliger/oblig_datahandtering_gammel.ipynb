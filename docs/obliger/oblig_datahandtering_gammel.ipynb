{
 "cells": [
  {
   "cell_type": "markdown",
   "id": "f4c28c6d",
   "metadata": {},
   "source": [
    "# Oblig 7: Datahåndtering\n",
    "\n",
    "```{admonition} Læringsmål\n",
    "I dissse oppgavene skal du lære og vise at du behersker følgende:\n",
    "\n",
    "- Lage egne funksjoner til statistisk beregning.\n",
    "- Bruke biblioteker til statistisk beregning.\n",
    "- Beregne gjennomsnitt, standardavvik og relativ og absolutt feil.\n",
    "- Utføre regresjonsanalyse på eksperimentelle data, og tolke regresjonsmodellen.\n",
    "- Benytte enkle maskinlæringsalgoritmer til å utforske datasett og danne hypoteser om sammenhenger.\n",
    "```\n",
    "\n",
    "## 7.1 Spektroskopi\n",
    "\n",
    "Vi bruker et datasett vi har fått fra en analyse av innholdet av $Pb^{2+}$ i bekkevann som utgangspunkt. Til dette er det brukt spektroskopisk analyse. I spektroskopiske analyser finner vi konsentrasjonen til et stoff ved å undersøke hvor mye lys stoffet absorberer av en bestemt bølgelengde. For å finne konsentrasjonen i en ukjent løsning, lager vi først en _standardkurve_ ut fra absorpsjonen til løsninger med kjent konsentrasjon. Vi analyserer en rekke løsninger og får følgende resultater:\n",
    "\n",
    "| Konsentrasjon (ppm) | Absorbans |\n",
    "| -- | -- |\n",
    "| 0.0 | 0.0 |\n",
    "| 0.100 | 0.116 |\n",
    "| 0.200 | 0.216 |\n",
    "| 0.300 | 0.310 |\n",
    "| 0.400 | 0.425 |\n",
    "| 0.500 | 0.520 |\n",
    "\n",
    "a) Lag et program som gjør lineær regresjon på dataene og plotter datapunktene og den tilpassede regresjonskurven i samme koordinatsystem.\n",
    "\n",
    "b) Analysen ved 283 nm av vannprøva ga absorbans på 0.340. Bruk standardkurven og programmet til å bestemme konsentrasjonen av blyioner i vannprøva i ppm.\n"
   ]
  },
  {
   "cell_type": "markdown",
   "id": "e930618a",
   "metadata": {},
   "source": [
    "## 7.2 Væskekromatografi\n",
    "\n",
    "a) Lag et program som inneholder en funksjon _gjennomsnitt_ og en funksjon _standardavvik_ som regner ut gjennomsnittet og standardavviket gitt en liste med datapunkter som parameter. Test funksjonene på _liste = [1,2,2,1,3,3]_ og sammenlikn med numpy-funksjonene _mean_ og _std_.\n",
    "\n",
    "b) Benytt funksjonene du lagde i a) til å regne ut gjennomsnittet og standardavviket av følgende målinger gjort av koffein i te med væskekromatografi:\n",
    "\n",
    "| Injeksjon | Konsentrasjon (mg/mL) |\n",
    "|:--|:--:|\n",
    "|1 |245 |\n",
    "|2 |272 |\n",
    "|3 |252 |\n",
    "|4 |264 |\n",
    "|5 |261 |\n",
    "|6 |272 |\n",
    "|7 |255 |\n",
    "|8 |260 |\n",
    "|9 |268 |\n",
    "|10 |259 |"
   ]
  },
  {
   "cell_type": "markdown",
   "id": "15e38810",
   "metadata": {},
   "source": [
    "## 7.3 Kjemiske parametre i rødvin\n",
    "\n",
    "Her skal vi se nærmere på hvordan vi kan bruke maskinlæring til klassifisering og prediksjon. Bruk pandas-biblioteket til filhåndtering i denne oppgaven. Fila [vin.csv](https://www.uio.no/studier/emner/matnat/ifi/IN-KJM1900/h20/datafiler/vin.csv) beskriver ulike kjemiske parametre i 1500 rødviner, i tillegg til en vurdering av vinkvaliteten, på en skala fra 1--8.\n",
    "\n",
    "a) Les fila og beskriv de ulike kategoriene.\n",
    "\n",
    "b) Lag et korrelasjonsplott med utgangspunkt i alle kategoriene i datasettet. Hvilke faktorer ser ut til å korrelere med god vinkvalitet? Gi også eksempler på faktorer som ikke korrelerer og faktorer som har negativ korrelasjon. Forklar hva dette betyr. Prøv gjerne å forklare noen av korrelasjonene.\n",
    "\n",
    "c) Lag et søylediagram med vinkvalitet på førsteaksen og det totale innhold med svoveldioksid på andreaksen. Hva kan årsaken være til denne fordelingen? Sammenlikn med korrelasjonen mellom disse faktorene.\n",
    "\n",
    "d) Lag en ny kolonne i datasettet som inneholder \"kvalitetskategorien\" til vinen. Den skal inneholde 0 hvis vinen har under 6 i kvalitet, og 1 hvis den har 6 eller mer.\n",
    "\n",
    "e) Lag en modell som skal forutsi kvalitetskategorien til vinen. Bruk en bestemmelsestrealgoritme som grunnlag for modellen. Følg framgangsmåten som er [beskrevet her](https://andreasdh.github.io/programmering-i-kjemi/docs/datahandtering_visualisering/maskinlaring.html). \n",
    "\n",
    "f) Test og valider modellen din. Kommenter resultatet. Hvorfor brukte vi en egen kvalitetskategori og ikke vinkvaliteten på en skala fra 1--8 direkte?"
   ]
  }
 ],
 "metadata": {
  "kernelspec": {
   "display_name": "Python 3 (ipykernel)",
   "language": "python",
   "name": "python3"
  },
  "language_info": {
   "codemirror_mode": {
    "name": "ipython",
    "version": 3
   },
   "file_extension": ".py",
   "mimetype": "text/x-python",
   "name": "python",
   "nbconvert_exporter": "python",
   "pygments_lexer": "ipython3",
   "version": "3.9.7"
  }
 },
 "nbformat": 4,
 "nbformat_minor": 5
}
