{
 "cells": [
  {
   "cell_type": "markdown",
   "id": "7ad8a26a",
   "metadata": {},
   "source": [
    "# Obliger\n",
    "\n",
    "Her finner du informasjon om de obligatoriske oppgavene i emnet. Du må få godkjent hver oppgave for å kunne gå opp til eksamen. For å få godkjent oppgavene må du følge kriteriene nedenfor:\n",
    "\n",
    "## Kriterier for obliger\n",
    "- Programmene bør ha en hensiktsmessig mengde kommentarer som gjør koden enkel å lese, og som viser at at du forstår det du selv har laget.\n",
    "- Hver oppgave skal leveres som en rapport i form av en Jupyter Notebook-fil som har god struktur og inneholder:\n",
    "    - hensiktsmessige overskrifter.\n",
    "    - kode med kommentarer.\n",
    "    - drøfting av resultater.\n",
    "- Algoritmene og de numeriske metodene bør forklares i Markdown (tekst).\n",
    "- Resultatene bør komme tydelig fram, og output må kommenteres.\n",
    "- Alle plott skal ha aksetitler og merkelapper (labels) der det er relevant.\n",
    "- Alle numeriske metoder må implementeres som Python-funksjoner. De bør også inneholde:\n",
    "    - relevant feilhåndtering\n",
    "    - maks antall iterasjoner og toleranse der det er relevant\n",
    "- Det skal komme godt fram, både gjennom programmene og i teksten i Markdown, at du forstår det kjemiske og matematiske innholdet.\n",
    "- Ikke kopier kode direkte. Du kan bruke kode fra læreverk, internett og liknende som inspirasjon, men modifiser og forklar koden slik at det kommer godt fram at du forstå alt som skjer."
   ]
  }
 ],
 "metadata": {
  "kernelspec": {
   "display_name": "Python 3 (ipykernel)",
   "language": "python",
   "name": "python3"
  },
  "language_info": {
   "codemirror_mode": {
    "name": "ipython",
    "version": 3
   },
   "file_extension": ".py",
   "mimetype": "text/x-python",
   "name": "python",
   "nbconvert_exporter": "python",
   "pygments_lexer": "ipython3",
   "version": "3.8.5"
  }
 },
 "nbformat": 4,
 "nbformat_minor": 5
}
