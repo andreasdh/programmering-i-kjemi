{
 "cells": [
  {
   "cell_type": "markdown",
   "id": "7ad8a26a",
   "metadata": {},
   "source": [
    "# Obligatoriske oppgaver\n",
    "\n",
    "Her finner du informasjon om de obligatoriske oppgavene i emnet. Du må få godkjent hver oppgave for å kunne gå opp til eksamen. For å få godkjent oppgavene må du følge kriteriene nedenfor. De to obligene skal leveres som en skriftlig, helhetlig rapport utformet i Jupyter Notebook, der du viser at du forstår sammenhengen mellom programmering, matematikk og kjemi.\n",
    "\n",
    "Målet med oppgavene er at dere skal trene på å skrive, snakke om og kommunisere programkode og vise kjemisk og matematisk forståelse gjennom denne koden. Dette er relevante ferdigheter til eksamen.\n",
    "\n",
    "## Kriterier for obliger\n",
    "- Programmene bør ha en hensiktsmessig mengde kommentarer som gjør koden enkel å lese, og som viser at at du forstår det du selv har laget.\n",
    "- Hver oppgave skal leveres som en rapport i form av en Jupyter Notebook-fil som har god struktur og inneholder:\n",
    "        1. Hensikt: Forklar kort hva du skal gjøre og hvorfor. \n",
    "        2. Teori: Gjør rede for teorien bak det du skal gjøre, f.eks. bør du skrive om titrering, spektroskopi, ratelover/fartslover, integrasjon, Eulers metode derivasjon osv. dersom det er relevant for oppgava. bruk gjerne LaTeX-notasjon når du skriver matematikk i teoridelen!\n",
    "        3. Beskrivelse og resultater: Forklar hva du gjorde med ord, kode og output. Forklar og diskuter alle output.\n",
    "        4. Konklusjon: Hva har du gjort, hvorfor er det nyttig og i hvilke situasjoner kan du få bruk for dette?\n",
    "- Resultatene bør komme tydelig fram, og alle output (tall og figurer) må kommenteres.\n",
    "- Alle plott skal ha aksetitler! De skal også ha merkelapper (labels) der det er relevant.\n",
    "- Alle numeriske metoder må implementeres som Python-funksjoner.\n",
    "- Det skal komme godt fram, både gjennom programmene og i teksten i Markdown, at du forstår det kjemiske og matematiske innholdet.\n",
    "- Ikke kopier fullstendig kode direkte fra andre kilder. Du kan bruke kode fra læreverk, internett, ChatGPT og liknende som inspirasjon, men modifiser og forklar koden slik at det kommer godt fram at du forstå alt som skjer.\n",
    "- På slutten av hver oblig skal du skrive en liten rapport som heter \"Refleksjon over læring med AI\". Der skal du drøfte følgende:\n",
    "        1. Legg ved chatlogen og kommenter kort hvordan du har brukt KI, hvordan det har fungert og hvordan du ønsker å bruke det seinere. \n",
    "                - Var det noen typer interaksjon med AI-en du lærte mer av enn andre?\n",
    "                - Var bruken av PapertBot nyttig i denne oppgaven?\n",
    "        2. Gjør rede for hva AI-en har bidratt med av kunnskap, og hva du har bidratt med selv. Hvor mye av simuleringen tror du at du kunne lagd selv dersom du hadde bedre tid?\n",
    "        3. Beskriv kort hva AI-en var god til som du ikke kunne så godt.\n",
    "        4. Beskriv kort hva du var god til som AI-en ikke kunne så godt.\n",
    "\n",
    "## Hvordan bruke PapertBot?\n",
    "Seymour Papert var professor i matematikk og en pioner innenfor bruk av datamaskiner for å lære og forstå realfag. Helt fra 60-tallet var han opptatt av at vi kan bruke datamaskiner til å utforske realfag og bygge realfaglige forståelse gjennom dette. Du skal derfor bruke en instruks på UiO-gpt som kalles PapertBot når du jobber med oppgavene i obligene i dette emnet. \n",
    "\n",
    "Her er en kort beskrivelse av hva du må gjøre for å legge inn instruksen PapertBot:\n",
    "1. Gå inn på gpt.uio.no og logg deg inn med Feide.\n",
    "2. Velg \"Ny samtale\" og scroll helt opp. Der kan du velge AI-modell: Velg \"GPT-4 Omni\". Klikk også på \"Velg instruksjon\".\n",
    "3. Trykk på \"Opprett ny instruksjon\". Gi instruksjonen navnet \"PapertBot\" og skriv inn følgende instruks:\n",
    "\n",
    "Du skal ta rollen som Seymour Papert som en pedagogisk veileder i et emne i programmering for kjemikere på Universitetet i Oslo. Din pedagogiske forankring skal være i konstruksjonisme. Det betyr at du skal være opptatt av \"computational thinking\" på en måte som gir kjemifaglig og matematisk læring. Du skal skrive pedagogiske tilbakemeldinger og hjelpe meg på vei dersom jeg skal løse et problem. Du skal starte med å finne ut hva jeg kan om grunnleggende nødvendige forkunnskaper for å forstå temaet. Du skal unngå å gi meg svaret med en gang, men gi meg korte hint til hvordan jeg kan komme meg videre med problemet. Du skal ikke gi mye informasjon med en gang, kun små biter. Det beste er hvis du stiller spørsmål tilbake istedenfor å gi meg for mye informasjon. Prøv å finne ut av hva jeg kan ved å stille små spørsmål, og følg opp med en evaluering av dette og et nytt spørsmål som leder meg videre. Disse spørsmålene skal stimulere til egen refleksjon om temaet som blir diskutert. Målet med interaksjonen vår er at jeg skal lære mest mulig om det vi snakker om.\n",
    "\n",
    "4. Lagre og gå tilbake. \n",
    "5. Du skal nå velge instruksen \"PapertBot\" hver gang du bruker AI til arbeidet ditt. Du må velge instruksjonen hver gang du åpner en ny chat, men du kan velge PapertBot fra nedtrekksmenyen, så du trenger ikke definere boten på nytt (akkurat som om du lagde en Python-funksjon!)."
   ]
  }
 ],
 "metadata": {
  "kernelspec": {
   "display_name": "Python 3 (ipykernel)",
   "language": "python",
   "name": "python3"
  },
  "language_info": {
   "codemirror_mode": {
    "name": "ipython",
    "version": 3
   },
   "file_extension": ".py",
   "mimetype": "text/x-python",
   "name": "python",
   "nbconvert_exporter": "python",
   "pygments_lexer": "ipython3",
   "version": "3.9.12"
  }
 },
 "nbformat": 4,
 "nbformat_minor": 5
}
