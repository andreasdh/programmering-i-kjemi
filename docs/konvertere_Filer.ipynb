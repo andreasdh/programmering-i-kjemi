{
 "cells": [
  {
   "cell_type": "code",
   "execution_count": 15,
   "metadata": {},
   "outputs": [],
   "source": [
    "import pandas as pd\n",
    "\n",
    "data = pd.read_csv(\"datafiler/heistur.csv\")"
   ]
  },
  {
   "cell_type": "code",
   "execution_count": 16,
   "metadata": {},
   "outputs": [
    {
     "data": {
      "text/html": [
       "<div>\n",
       "<style scoped>\n",
       "    .dataframe tbody tr th:only-of-type {\n",
       "        vertical-align: middle;\n",
       "    }\n",
       "\n",
       "    .dataframe tbody tr th {\n",
       "        vertical-align: top;\n",
       "    }\n",
       "\n",
       "    .dataframe thead th {\n",
       "        text-align: right;\n",
       "    }\n",
       "</style>\n",
       "<table border=\"1\" class=\"dataframe\">\n",
       "  <thead>\n",
       "    <tr style=\"text-align: right;\">\n",
       "      <th></th>\n",
       "      <th>time_s</th>\n",
       "      <th>pressure_hpa</th>\n",
       "      <th>height_m</th>\n",
       "      <th>time2</th>\n",
       "      <th>vel</th>\n",
       "    </tr>\n",
       "  </thead>\n",
       "  <tbody>\n",
       "    <tr>\n",
       "      <th>0</th>\n",
       "      <td>1.033081</td>\n",
       "      <td>1001.395130</td>\n",
       "      <td>0.000000</td>\n",
       "      <td>1.549616</td>\n",
       "      <td>-0.402009</td>\n",
       "    </tr>\n",
       "    <tr>\n",
       "      <th>1</th>\n",
       "      <td>2.066150</td>\n",
       "      <td>1001.444541</td>\n",
       "      <td>-0.415303</td>\n",
       "      <td>2.582691</td>\n",
       "      <td>-0.829707</td>\n",
       "    </tr>\n",
       "    <tr>\n",
       "      <th>2</th>\n",
       "      <td>3.099231</td>\n",
       "      <td>1001.546527</td>\n",
       "      <td>-1.272457</td>\n",
       "      <td>3.615772</td>\n",
       "      <td>-0.809154</td>\n",
       "    </tr>\n",
       "    <tr>\n",
       "      <th>3</th>\n",
       "      <td>4.132312</td>\n",
       "      <td>1001.645994</td>\n",
       "      <td>-2.108379</td>\n",
       "      <td>4.648853</td>\n",
       "      <td>-0.756657</td>\n",
       "    </tr>\n",
       "    <tr>\n",
       "      <th>4</th>\n",
       "      <td>5.165393</td>\n",
       "      <td>1001.739016</td>\n",
       "      <td>-2.890067</td>\n",
       "      <td>5.681934</td>\n",
       "      <td>-0.874474</td>\n",
       "    </tr>\n",
       "  </tbody>\n",
       "</table>\n",
       "</div>"
      ],
      "text/plain": [
       "     time_s  pressure_hpa  height_m     time2       vel\n",
       "0  1.033081   1001.395130  0.000000  1.549616 -0.402009\n",
       "1  2.066150   1001.444541 -0.415303  2.582691 -0.829707\n",
       "2  3.099231   1001.546527 -1.272457  3.615772 -0.809154\n",
       "3  4.132312   1001.645994 -2.108379  4.648853 -0.756657\n",
       "4  5.165393   1001.739016 -2.890067  5.681934 -0.874474"
      ]
     },
     "execution_count": 16,
     "metadata": {},
     "output_type": "execute_result"
    }
   ],
   "source": [
    "data.head()"
   ]
  },
  {
   "cell_type": "code",
   "execution_count": 17,
   "metadata": {},
   "outputs": [
    {
     "data": {
      "text/plain": [
       "0    -0.402009\n",
       "1    -0.829707\n",
       "2    -0.809154\n",
       "3    -0.756657\n",
       "4    -0.874474\n",
       "5    -0.706064\n",
       "6    -0.730928\n",
       "7    -0.784588\n",
       "8    -0.826292\n",
       "9    -0.894415\n",
       "10   -0.776926\n",
       "11   -0.835626\n",
       "12   -0.750388\n",
       "13   -0.836678\n",
       "14   -0.777407\n",
       "15   -0.628311\n",
       "16   -0.741254\n",
       "17   -0.733456\n",
       "18   -0.901809\n",
       "19   -0.595334\n",
       "20   -0.249872\n",
       "21   -0.073863\n",
       "22   -0.105707\n",
       "23   -0.081538\n",
       "24         NaN\n",
       "Name: vel, dtype: float64"
      ]
     },
     "execution_count": 17,
     "metadata": {},
     "output_type": "execute_result"
    }
   ],
   "source": [
    "data.pop(\"time2\")\n",
    "data.pop(\"vel\")"
   ]
  },
  {
   "cell_type": "code",
   "execution_count": 18,
   "metadata": {},
   "outputs": [
    {
     "data": {
      "text/html": [
       "<div>\n",
       "<style scoped>\n",
       "    .dataframe tbody tr th:only-of-type {\n",
       "        vertical-align: middle;\n",
       "    }\n",
       "\n",
       "    .dataframe tbody tr th {\n",
       "        vertical-align: top;\n",
       "    }\n",
       "\n",
       "    .dataframe thead th {\n",
       "        text-align: right;\n",
       "    }\n",
       "</style>\n",
       "<table border=\"1\" class=\"dataframe\">\n",
       "  <thead>\n",
       "    <tr style=\"text-align: right;\">\n",
       "      <th></th>\n",
       "      <th>time_s</th>\n",
       "      <th>pressure_hpa</th>\n",
       "      <th>height_m</th>\n",
       "    </tr>\n",
       "  </thead>\n",
       "  <tbody>\n",
       "    <tr>\n",
       "      <th>0</th>\n",
       "      <td>1.033081</td>\n",
       "      <td>1001.395130</td>\n",
       "      <td>0.000000</td>\n",
       "    </tr>\n",
       "    <tr>\n",
       "      <th>1</th>\n",
       "      <td>2.066150</td>\n",
       "      <td>1001.444541</td>\n",
       "      <td>-0.415303</td>\n",
       "    </tr>\n",
       "    <tr>\n",
       "      <th>2</th>\n",
       "      <td>3.099231</td>\n",
       "      <td>1001.546527</td>\n",
       "      <td>-1.272457</td>\n",
       "    </tr>\n",
       "    <tr>\n",
       "      <th>3</th>\n",
       "      <td>4.132312</td>\n",
       "      <td>1001.645994</td>\n",
       "      <td>-2.108379</td>\n",
       "    </tr>\n",
       "    <tr>\n",
       "      <th>4</th>\n",
       "      <td>5.165393</td>\n",
       "      <td>1001.739016</td>\n",
       "      <td>-2.890067</td>\n",
       "    </tr>\n",
       "  </tbody>\n",
       "</table>\n",
       "</div>"
      ],
      "text/plain": [
       "     time_s  pressure_hpa  height_m\n",
       "0  1.033081   1001.395130  0.000000\n",
       "1  2.066150   1001.444541 -0.415303\n",
       "2  3.099231   1001.546527 -1.272457\n",
       "3  4.132312   1001.645994 -2.108379\n",
       "4  5.165393   1001.739016 -2.890067"
      ]
     },
     "execution_count": 18,
     "metadata": {},
     "output_type": "execute_result"
    }
   ],
   "source": [
    "data.head()"
   ]
  },
  {
   "cell_type": "code",
   "execution_count": 22,
   "metadata": {},
   "outputs": [],
   "source": [
    "data.to_csv(\"heistur2.csv\", sep=\",\", header=True, index=False)"
   ]
  }
 ],
 "metadata": {
  "kernelspec": {
   "display_name": "Python 3",
   "language": "python",
   "name": "python3"
  },
  "language_info": {
   "codemirror_mode": {
    "name": "ipython",
    "version": 3
   },
   "file_extension": ".py",
   "mimetype": "text/x-python",
   "name": "python",
   "nbconvert_exporter": "python",
   "pygments_lexer": "ipython3",
   "version": "3.8.5"
  }
 },
 "nbformat": 4,
 "nbformat_minor": 4
}
