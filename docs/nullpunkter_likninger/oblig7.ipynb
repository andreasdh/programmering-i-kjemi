{
 "cells": [
  {
   "cell_type": "markdown",
   "id": "d00af96e",
   "metadata": {},
   "source": [
    "# Oblig 7\n",
    "\n",
    "## a)\n",
    "\n",
    "Blabla"
   ]
  },
  {
   "cell_type": "code",
   "execution_count": 1,
   "id": "bcc4cc94",
   "metadata": {},
   "outputs": [
    {
     "ename": "SyntaxError",
     "evalue": "invalid syntax (<ipython-input-1-ca40ad4cb923>, line 1)",
     "output_type": "error",
     "traceback": [
      "\u001b[1;36m  File \u001b[1;32m\"<ipython-input-1-ca40ad4cb923>\"\u001b[1;36m, line \u001b[1;32m1\u001b[0m\n\u001b[1;33m    from dlfkj\u001b[0m\n\u001b[1;37m              ^\u001b[0m\n\u001b[1;31mSyntaxError\u001b[0m\u001b[1;31m:\u001b[0m invalid syntax\n"
     ]
    }
   ],
   "source": [
    "from dlfkj\n",
    " while  a =2:"
   ]
  },
  {
   "cell_type": "markdown",
   "id": "2d32aa72",
   "metadata": {},
   "source": [
    "Jeg skulle egentlig fått... Men fikk... fordi... Programmet skal fungere slik:\n",
    "1. blalbal.\n",
    "2. blablalbsa\n",
    "3. blskdjfglkjg"
   ]
  },
  {
   "cell_type": "code",
   "execution_count": null,
   "id": "3e8bdf90",
   "metadata": {},
   "outputs": [],
   "source": []
  }
 ],
 "metadata": {
  "kernelspec": {
   "display_name": "Python 3",
   "language": "python",
   "name": "python3"
  },
  "language_info": {
   "codemirror_mode": {
    "name": "ipython",
    "version": 3
   },
   "file_extension": ".py",
   "mimetype": "text/x-python",
   "name": "python",
   "nbconvert_exporter": "python",
   "pygments_lexer": "ipython3",
   "version": "3.8.8"
  }
 },
 "nbformat": 4,
 "nbformat_minor": 5
}
