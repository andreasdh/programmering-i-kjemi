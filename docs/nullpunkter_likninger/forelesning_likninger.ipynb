{
 "cells": [
  {
   "cell_type": "markdown",
   "metadata": {},
   "source": [
    "# Tema 4: Likninger og nullpunkter"
   ]
  },
  {
   "cell_type": "markdown",
   "metadata": {},
   "source": [
    "Vi skal finne når løseligheten er lik, og har følgende uttrykk fra regresjon av dataene våre:\n",
    "\n",
    "$$𝑦_{𝑁𝐻_3}=0.00868T^2−1.69830T+81.41071$$\n",
    "$$𝑦_{𝑁𝑎𝐶𝑙}=0.03500T+35.30000$$\n",
    "\n",
    "La oss bruke Newtons metode som en funksjon med en god *docstring*:\n",
    "\n",
    "$$𝑥_{𝑛+1}=x_n−\\frac{𝑓(x_n)}{𝑓′(x_n)}$$"
   ]
  },
  {
   "cell_type": "code",
   "execution_count": 12,
   "metadata": {},
   "outputs": [
    {
     "name": "stdout",
     "output_type": "stream",
     "text": [
      "Løseligheten er lik ved T = 31.605006244089658 grader C\n"
     ]
    }
   ],
   "source": [
    "def y_NH3(T):\n",
    "    return 0.00868*T**2 - 1.69830*T + 81.41071\n",
    "\n",
    "def y_NH3_der(T):\n",
    "    return 2*0.00868*T - 1.69830\n",
    "\n",
    "def y_NaCl(T):\n",
    "    return 0.03500*T + 35.3\n",
    "\n",
    "def y_NaCl_der(T):\n",
    "    return 0.03500\n",
    "\n",
    "def sol(T):\n",
    "    return y_NH3(T) - y_NaCl(T)\n",
    "\n",
    "def sol_der(T):\n",
    "    return y_NH3_der(T) - y_NaCl_der(T)\n",
    "\n",
    "def newtons(f,fder,x,tol=1E-10):\n",
    "    \"\"\"\n",
    "    Newtons metode for å finne nullpunkter.\n",
    "    \n",
    "    Parameters\n",
    "    ----------\n",
    "    f : funksjon\n",
    "        Funksjonen som vi skal finne nullpunktet til.\n",
    "    fder : funksjon\n",
    "        Den deriverte av funksjonen.\n",
    "    x : float\n",
    "        Startgjett på nullpunktet.\n",
    "    tol : float, optional\n",
    "        Toleranse for hvor nær nullpunktet vi kan være. The default is 1E-10.\n",
    "\n",
    "    Returns\n",
    "    -------\n",
    "    x : float\n",
    "        Tilnærming til nullpunktet.     \n",
    "    \"\"\"\n",
    "    while abs(f(x)) > tol:\n",
    "        x = x - f(x)/fder(x)\n",
    "    return x\n",
    "\n",
    "nullpunkt = newtons(sol, sol_der, 50)\n",
    "print(f'Løseligheten er lik ved T = {nullpunkt} grader C')"
   ]
  },
  {
   "cell_type": "markdown",
   "metadata": {},
   "source": [
    "## Numerisk biblioteker\n",
    "Vi har også funksjoner fra Scipy-biblioteket som kan brukes til å finne nullpunkter. Her kan vi også bruke metoder vi ikke har lært å implementere."
   ]
  },
  {
   "cell_type": "code",
   "execution_count": 4,
   "metadata": {},
   "outputs": [
    {
     "name": "stdout",
     "output_type": "stream",
     "text": [
      "Halveringsmetoden:       converged: True\n",
      "           flag: 'converged'\n",
      " function_calls: 44\n",
      "     iterations: 42\n",
      "           root: 1.9999999999993179\n",
      "Newtons metode:       converged: True\n",
      "           flag: 'converged'\n",
      " function_calls: 12\n",
      "     iterations: 6\n",
      "           root: 2.0\n"
     ]
    }
   ],
   "source": [
    "from scipy.optimize import root_scalar\n",
    "import numpy as np\n",
    "\n",
    "def f(x):\n",
    "    return x**2 - 4\n",
    "def fder(x):\n",
    "    return 2*x\n",
    "\n",
    "nullpunkt_halveringsmetoden = root_scalar(f,method='bisect',bracket=[0,5])\n",
    "print(\"Halveringsmetoden:\", nullpunkt_halveringsmetoden)\n",
    "nullpunkt_newtonsmetode = root_scalar(f,method='newton',fprime=fder,x0=4)\n",
    "print(\"Newtons metode:\", nullpunkt_newtonsmetode)"
   ]
  },
  {
   "cell_type": "code",
   "execution_count": null,
   "metadata": {},
   "outputs": [],
   "source": []
  }
 ],
 "metadata": {
  "kernelspec": {
   "display_name": "Python 3",
   "language": "python",
   "name": "python3"
  },
  "language_info": {
   "codemirror_mode": {
    "name": "ipython",
    "version": 3
   },
   "file_extension": ".py",
   "mimetype": "text/x-python",
   "name": "python",
   "nbconvert_exporter": "python",
   "pygments_lexer": "ipython3",
   "version": "3.8.3"
  }
 },
 "nbformat": 4,
 "nbformat_minor": 4
}
