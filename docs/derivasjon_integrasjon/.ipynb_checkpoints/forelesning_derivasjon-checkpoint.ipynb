{
 "cells": [
  {
   "cell_type": "markdown",
   "metadata": {},
   "source": [
    "# Forelesning: Numerisk derivasjon"
   ]
  },
  {
   "cell_type": "markdown",
   "metadata": {},
   "source": [
    "## Derivasjon av funksjoner"
   ]
  },
  {
   "cell_type": "code",
   "execution_count": 2,
   "metadata": {},
   "outputs": [
    {
     "name": "stdout",
     "output_type": "stream",
     "text": [
      "2.000000165480742\n"
     ]
    }
   ],
   "source": [
    "def derivert(f,x,dx=1E-9):\n",
    "    dfdx = (f(x+dx) - f(x))/dx\n",
    "    return dfdx\n",
    "\n",
    "def f(x):\n",
    "    return x**2 - 4\n",
    "\n",
    "def analytisk_derv(x):\n",
    "    return 2*x\n",
    "\n",
    "dfdx = derivert(f,1)\n",
    "print(dfdx)"
   ]
  },
  {
   "cell_type": "markdown",
   "metadata": {},
   "source": [
    "## Sekantmetoden\n",
    "Dersom vi ikke har den analytisk deriverte, kan vi bruke tilnærmingen til den deriverte når vi skal finne nullpunkter. Da modifiserer vi Newtons metode. Denne metoden kalles *sekantmetoden* fordi vi tilnærmer den deriverte som stigningstallet til en sekant mellom to svært nærliggende punkter."
   ]
  },
  {
   "cell_type": "code",
   "execution_count": 3,
   "metadata": {},
   "outputs": [],
   "source": [
    "def sekantmetoden(f,x,tol=1E-10):\n",
    "    while abs(f(x)) > tol:\n",
    "        x = x - f(x)/derivert(f,x) \n",
    "    return x\n",
    "\n",
    "def newtons_metode(f,x,tol=1E-10):\n",
    "    while abs(f(x)) > tol:\n",
    "        x = x - f(x)/analytisk_derv(x) \n",
    "    return x "
   ]
  },
  {
   "cell_type": "code",
   "execution_count": 4,
   "metadata": {},
   "outputs": [
    {
     "name": "stdout",
     "output_type": "stream",
     "text": [
      "-2.0000000000063727\n",
      "-2.000000000006711\n"
     ]
    }
   ],
   "source": [
    "nullpunkt1 = sekantmetoden(f,-5)\n",
    "nullpunkt2 = newtons_metode(f,-5)\n",
    "print(nullpunkt1)\n",
    "print(nullpunkt2)"
   ]
  },
  {
   "cell_type": "markdown",
   "metadata": {},
   "source": [
    "## Derivasjon av diskrete data"
   ]
  },
  {
   "cell_type": "code",
   "execution_count": 10,
   "metadata": {},
   "outputs": [
    {
     "data": {
      "image/png": "[encoded data removed]",
      "text/plain": [
       "<Figure size 432x288 with 1 Axes>"
      ]
     },
     "metadata": {
      "needs_background": "light"
     },
     "output_type": "display_data"
    }
   ],
   "source": [
    "import numpy as np\n",
    "import matplotlib.pyplot as plt\n",
    "\n",
    "data = np.loadtxt('datafiler/heistur.csv', delimiter=',', skiprows = 1)\n",
    "t = data[:,0]\n",
    "s = data[:,2]\n",
    "\n",
    "fart = []\n",
    "\n",
    "for i in range(len(t)-1):\n",
    "    ds = s[i+1] - s[i]\n",
    "    dt = t[i+1] - t[i]\n",
    "    v = ds/dt\n",
    "    fart.append(v)\n",
    "\n",
    "plt.plot(t[:-1],fart)\n",
    "plt.show()"
   ]
  },
  {
   "cell_type": "markdown",
   "metadata": {},
   "source": [
    "## Bruk av biblioteker"
   ]
  },
  {
   "cell_type": "code",
   "execution_count": 11,
   "metadata": {},
   "outputs": [
    {
     "name": "stdout",
     "output_type": "stream",
     "text": [
      "4.000000330961484\n"
     ]
    }
   ],
   "source": [
    "from scipy.misc import derivative\n",
    "\n",
    "def f(x):\n",
    "    return x**2 - 4\n",
    "\n",
    "derivert = derivative(f,2,dx=1E-9)\n",
    "print(derivert)"
   ]
  }
 ],
 "metadata": {
  "kernelspec": {
   "display_name": "Python 3",
   "language": "python",
   "name": "python3"
  },
  "language_info": {
   "codemirror_mode": {
    "name": "ipython",
    "version": 3
   },
   "file_extension": ".py",
   "mimetype": "text/x-python",
   "name": "python",
   "nbconvert_exporter": "python",
   "pygments_lexer": "ipython3",
   "version": "3.8.5"
  }
 },
 "nbformat": 4,
 "nbformat_minor": 4
}
