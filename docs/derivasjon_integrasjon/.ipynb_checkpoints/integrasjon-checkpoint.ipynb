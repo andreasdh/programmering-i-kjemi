{
 "cells": [
  {
   "cell_type": "markdown",
   "metadata": {},
   "source": [
    "# Integrasjon\n",
    "\n",
    "```{admonition} Læringsutbytte\n",
    "Etter å ha arbeidet med dette temaet, skal du kunne:\n",
    "1. Forklare forskjellen på ulike tilnærminger til rektangelmetoden (venstre-, høyre- og midtpunktstilnærming).\n",
    "2. Forklare og utlede trapesmetoden.\n",
    "3. Implementere rektangelmetoden og trapesmetoden.\n",
    "4. Integrere funksjoner numerisk.\n",
    "```\n",
    "\n",
    "## Integrasjon\n",
    "Du kjenner kanskje integrasjon som en metode å regne ut arealet under en graf eller volumet til legemer på. I tillegg kjenner du antakelig til integrasjon som den motsatte operasjonen av derivasjon. At derivasjon og integrasjon er motsatte operasjoner, er bevist gjennom _analysens fundamentalteorem_. Termen _analyse_ brukes her om den greinen av matematikk som omhandler derivasjon og integrasjon (_kalkulus_). Siden datamaskinen kun kan operere med bestemte verdier, kan vi med numeriske algoritmer kun tilnærme _det bestemte integralet_. Vi antideriverer derfor ikke her.\n",
    "\n",
    "## Integraler i kjemi\n",
    "Det finnes mange anvendelser av integrasjon i kjemi. Integrasjon brukes til alt fra å beregne molekylgeometri i kvantekjemi til å beregne arealet til en topp i et NMR-spekter eller et kromatogram. Dessuten integrerer vi når vi løser differensiallikninger. I for eksempel NMR-spektre sier integralet under signalkurvene hva den relative forekomsten av H-atomer er i det bestemte miljøet. Numerisk integrasjon kan finne disse arealene for oss.\n",
    "\n",
    "Her skal vi se på ulike metoder for å tilnærme det bestemte integralet.\n",
    "\n",
    "## Rektangelmetoden\n",
    "\n",
    "Vi kan enklest gjøre en tilnærming til det bestemte integralet ved å utnytte at det kan skrives som en grenseverdi av Riemann-summer. En Riemann-sum kan beskrives som en tilnærming til arealet under en graf ved hjelp av arealet til geometriske figurer. En vanlig tilnærming er å bruke rektangler:\n",
    "\n",
    "\n",
    "\n",
    "\n",
    "Her benyttes $N = 10$ rektangler for å tilnærme integralet av $f(x) = \\cos{(x)} +2$ for $x\\in[2,12]$. Bredden av rektanglene må være $(b-a)/N = (12-2)/10 = 1$. Vi ser også at høyden av hvert rektangel er $f(x_n)$ der $n\\in[2,11]$, det vil si at vi lar venstresiden av rektangelet gå opp til grafen. Dersom vi regner ut arealet til hver av disse rektanglene, får vi 18.046675645664006, noe som ligger et lite stykke unna den analytiske verdien ($(\\sin{(12)} + 2\\cdot 12)-(\\sin{(2)} + 2\\cdot 2) \\approx 18.554129655173885$. Dersom vi øker antall rektangler, her til 50, får vi naturlig nok et bedre estimat (her har vi inkludert resultatene i figuren):"
   ]
  },
  {
   "cell_type": "code",
   "execution_count": 6,
   "metadata": {
    "tags": [
     "remove-input"
    ]
   },
   "outputs": [
    {
     "data": {
      "text/html": [
       "<iframe width=\"950\" height=\"600\" src=\"https://www.youtube.com/embed/XHahL9ER2wA? autoplay=0&rel=0\" frameborder=\"0\" allow=\"accelerometer; autoplay; encrypted-media; gyroscope; picture-in-picture\" allowfullscreen></iframe>"
      ],
      "text/plain": [
       "<IPython.core.display.HTML object>"
      ]
     },
     "execution_count": 6,
     "metadata": {},
     "output_type": "execute_result"
    }
   ],
   "source": [
    "from IPython.display import HTML\n",
    "# Youtube\n",
    "HTML('<iframe width=\"950\" height=\"600\" src=\"https://www.youtube.com/embed/XHahL9ER2wA? autoplay=0&rel=0\" frameborder=\"0\" allow=\"accelerometer; autoplay; encrypted-media; gyroscope; picture-in-picture\" allowfullscreen></iframe>')"
   ]
  },
  {
   "cell_type": "markdown",
   "metadata": {},
   "source": [
    "Når du har sett videoen, kan du gjøre følgende oppgave for å sjekke om du forstår innholdet:\n",
    "\n",
    "```{admonition} Underveisoppgave: Derivasjon av funksjoner\n",
    ":class: tip\n",
    "Implementer algoritmen for rektangelmetoden som en Python-funksjon. Test metoden på integralet \n",
    "\n",
    "$$\\int_2^8 f(x) = x^2 - 2x + 4 \\ dx$$\n",
    "```\n",
    "\n",
    "\n",
    "<iframe src=\"https://trinket.io/embed/python3/c3011e7078\" width=\"100%\" height=\"356\" frameborder=\"0\" marginwidth=\"0\" marginheight=\"0\" allowfullscreen></iframe>\n",
    "\n",
    "\n",
    "## Ulike tilnærminger"
   ]
  },
  {
   "cell_type": "code",
   "execution_count": 7,
   "metadata": {
    "tags": [
     "remove-input"
    ]
   },
   "outputs": [
    {
     "data": {
      "text/html": [
       "<iframe width=\"950\" height=\"600\" src=\"https://www.youtube.com/embed/KOL92Jxp_Yk? autoplay=0&rel=0\" frameborder=\"0\" allow=\"accelerometer; autoplay; encrypted-media; gyroscope; picture-in-picture\" allowfullscreen></iframe>"
      ],
      "text/plain": [
       "<IPython.core.display.HTML object>"
      ]
     },
     "execution_count": 7,
     "metadata": {},
     "output_type": "execute_result"
    }
   ],
   "source": [
    "from IPython.display import HTML\n",
    "# Youtube\n",
    "HTML('<iframe width=\"950\" height=\"600\" src=\"https://www.youtube.com/embed/KOL92Jxp_Yk? autoplay=0&rel=0\" frameborder=\"0\" allow=\"accelerometer; autoplay; encrypted-media; gyroscope; picture-in-picture\" allowfullscreen></iframe>')"
   ]
  },
  {
   "cell_type": "markdown",
   "metadata": {},
   "source": [
    "Når du har sett videoen, kan du gjøre følgende oppgave for å sjekke om du forstår innholdet:\n",
    "\n",
    "```{admonition} Underveisoppgave: Derivasjon av funksjoner\n",
    ":class: tip\n",
    "Implementer trapesmetoden og ulike tilnærmnger for rektangelmetoden som Python-funksjoner. Gjør en feilanalyse av metodene og sammenlikn svarene du får på integralet\n",
    "\n",
    "$$\\int_2^8 f(x) = x^2 - 2x + 4 \\ dx$$\n",
    "```\n",
    "\n",
    "\n",
    "<iframe src=\"https://trinket.io/embed/python3/fbbf64658b\" width=\"100%\" height=\"356\" frameborder=\"0\" marginwidth=\"0\" marginheight=\"0\" allowfullscreen></iframe>\n"
   ]
  }
 ],
 "metadata": {
  "celltoolbar": "Edit Metadata",
  "kernelspec": {
   "display_name": "Python 3",
   "language": "python",
   "name": "python3"
  },
  "language_info": {
   "codemirror_mode": {
    "name": "ipython",
    "version": 3
   },
   "file_extension": ".py",
   "mimetype": "text/x-python",
   "name": "python",
   "nbconvert_exporter": "python",
   "pygments_lexer": "ipython3",
   "version": "3.8.5"
  }
 },
 "nbformat": 4,
 "nbformat_minor": 4
}
