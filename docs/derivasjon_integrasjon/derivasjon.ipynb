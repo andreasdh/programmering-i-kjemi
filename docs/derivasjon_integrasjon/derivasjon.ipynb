{
 "cells": [
  {
   "cell_type": "markdown",
   "metadata": {},
   "source": [
    "# Numerisk derivasjon\n",
    "\n",
    "```{admonition} Læringsutbytte\n",
    "Etter å ha arbeidet med denne delen av emnet, skal du kunne:\n",
    "1. forklare den teoretisk bakgrunnen for numerisk derivasjon, og forskjellen på numerisk og analytisk derivasjon\n",
    "2. implementere framoverdifferansen, bakoverdifferansen og sentraldifferansen for numerisk derivasjon\n",
    "3. derivere funksjoner og eksperimentelle data\n",
    "```\n",
    "\n",
    "## Derivasjonsbegrepet\n",
    "Derivasjon handler om endring. Den deriverte kan beskrive stigningen og forandringen i et forløp. Nærmere bestemt handler det om momentan endring, altså endringen mellom to tilstander (funksjonsverdier) over en svært liten endring i en annen tilstand: \n",
    "\n",
    "$$f'(x) = \\frac{df}{dt} = \\lim_{\\Delta x \\rightarrow 0} \\frac{f(x+dx) - f(x)}{dx}$$\n",
    "\n",
    "Vi har derfor nytte av derivasjon i mange tilfeller der vi ønsker å beskrive en utvikling, og det er ikke sjeldent i kjemi. Tenk for eksempel på følgende scenarioer:\n",
    "\n",
    "- Vi ønsker å finne ekvivalenspunktet i en titrering. Det er der endringen (den deriverte) er størst.\n",
    "- Vi ønsker å finne maksimum og minimum energi til et molekyl. Ekstremalpunkter er der den deriverte er lik 0.\n",
    "- Vi ønsker å finne ut av hvordan konsentrasjon endrer seg med tid for hvert minste tidssteg. Dette kan representeres som $dc/dt$.\n",
    "\n",
    "Vi kan derimot ikke alltid derivere analytisk for hånd, så det er en stor verdi i å beherske numerisk derivasjon. Da kan vi enklest tilnærme den analytisk deriverte med en numerisk derivert:\n",
    "\n",
    "```{admonition} Numerisk derivasjon (framoverdifferansen)\n",
    "For en liten verdi av $dx$ kan vi tilnærme den førstederiverte slik:\n",
    "\n",
    "$$f'(x) = \\frac{df}{dx} \\approx \\frac{f(x+dx) - f(x)}{dx}$$\n",
    "```\n",
    "\n",
    "der vi tilnærmer grenseverdien med en svært liten verdi av dx. Her skal vi se på denne metoden og andre metoder som kan brukes til å tilnærme den deriverte numerisk.\n",
    "\n",
    "```{admonition} Underveisoppgave\n",
    ":class: tip\n",
    "Bruk definisjonen ovenfor og regn ut $f'(1)$ for $f(x) = 2x + 2$. Sett $dx = 1\\cdot 10^{-8}$.\n",
    "```\n",
    "\n",
    "````{admonition} Løsningsforslag\n",
    ":class: tip, dropdown\n",
    "```{code-block} Python\n",
    "def f(x):\n",
    "    return x**2\n",
    "\n",
    "dx = 1E-8\n",
    "x = 1\n",
    "fder = (f(x + dx) - f(x))/dx\n",
    "\n",
    "print(\"f'(1) =\", fder)\n",
    "```\n",
    "````"
   ]
  },
  {
   "cell_type": "markdown",
   "metadata": {},
   "source": [
    "Løsningsforslaget ovenfor viser en enkel måte å implementere den numeriske deriverte på. Det kan også være nyttig å kunne lage metoden som en funksjon:"
   ]
  },
  {
   "cell_type": "code",
   "execution_count": 9,
   "metadata": {},
   "outputs": [],
   "source": [
    "def deriver(f, x, dx = 1E-8):\n",
    "    dy = f(x + dx) - f(x)\n",
    "    return dy/dx"
   ]
  },
  {
   "cell_type": "markdown",
   "metadata": {},
   "source": [
    "Legg merke til at vi ikke deriverer symbolsk. Det betyr at vi ikke får en annen funksjon når vi deriverer en funksjon. Vi får bare _funksjonsverdier_. Vi må altså deriverere i gitte punkter, for eksempel $f'(1)$ eller $f'(-5)$. Dersom vi ønsker å visualisere den deriverte til en funksjon, må vi derfor derivere funksjonen i flere punkter. Dette kan vi gjøre vektorisert ved hjelp av arrayer:"
   ]
  },
  {
   "cell_type": "code",
   "execution_count": 8,
   "metadata": {},
   "outputs": [
    {
     "data": {
      "image/png": "[encoded data removed]",
      "text/plain": [
       "<Figure size 432x288 with 1 Axes>"
      ]
     },
     "metadata": {
      "needs_background": "light"
     },
     "output_type": "display_data"
    }
   ],
   "source": [
    "import numpy as np\n",
    "import matplotlib.pyplot as plt\n",
    "\n",
    "def f(x):# Definerer en funksjon vi skal derivere\n",
    "    return 3*x**3 + x**2 - 1\n",
    "\n",
    "x = np.linspace(-2,2,100)\n",
    "y = f(x)\n",
    "yder = deriver(f,x)\n",
    "\n",
    "plt.plot(x,y,label=\"f(x)\") # Plotter funksjonen\n",
    "plt.plot(x,yder,label=\"f'(x)\") # Plotter den deriverte funksjonen\n",
    "plt.xlabel(\"x\")\n",
    "plt.ylabel(\"y\")\n",
    "plt.legend()\n",
    "plt.show()"
   ]
  },
  {
   "cell_type": "markdown",
   "metadata": {},
   "source": [
    "## Feilanalyse\n",
    "La oss nå ta en titt på hvilke verdier av $\\Delta x$ som gir best resultat. Det må vel være den verdien som ligger nærmest 0, altså en så liten verdi som mulig -- eller? La oss teste dette ved å skrive ut den deriverte for ulike verdier av $\\Delta x$:"
   ]
  },
  {
   "cell_type": "code",
   "execution_count": 13,
   "metadata": {},
   "outputs": [
    {
     "name": "stdout",
     "output_type": "stream",
     "text": [
      "For delta_x = 0.1 er feilen: 4.000000000000092 %\n",
      "For delta_x = 0.01 er feilen: 0.40000000000048885 %\n",
      "For delta_x = 0.001 er feilen: 0.03999999998569592 %\n",
      "For delta_x = 0.0001 er feilen: 0.003999999920267783 %\n",
      "For delta_x = 1e-05 er feilen: 0.00040000068821655077 %\n",
      "For delta_x = 1e-06 er feilen: 3.999977025159751e-05 %\n",
      "For delta_x = 1e-07 er feilen: 4.010780685348436e-06 %\n",
      "For delta_x = 1e-08 er feilen: 6.07747097092215e-07 %\n",
      "For delta_x = 1e-09 er feilen: 8.274037099909037e-06 %\n",
      "For delta_x = 1e-10 er feilen: 8.274037099909037e-06 %\n",
      "For delta_x = 1e-11 er feilen: 8.274037099909037e-06 %\n",
      "For delta_x = 1e-12 er feilen: 0.008890058234101161 %\n",
      "For delta_x = 1e-13 er feilen: 0.07992778373591136 %\n",
      "For delta_x = 1e-14 er feilen: 0.524016993585974 %\n",
      "For delta_x = 1e-15 er feilen: 6.581410364015028 %\n",
      "For delta_x = 1e-16 er feilen: 100.0 %\n",
      "For delta_x = 1e-17 er feilen: 100.0 %\n"
     ]
    }
   ],
   "source": [
    "def f(x):\n",
    "    return 2*x**2 + x - 5\n",
    "\n",
    "def fder_analytisk(x):\n",
    "    return 4*x + 1\n",
    "\n",
    "x = 1\n",
    "delta_x = [10**-i for i in range(1,18)] # liste med verdier fra 10^-18 til 10^-1\n",
    "analytisk = fder_analytisk(x)\n",
    "\n",
    "for i in range(len(delta_x)):\n",
    "    numerisk = deriver(f, x, delta_x[i]) \n",
    "    feil = abs(numerisk-analytisk)/analytisk * 100\n",
    "    print(\"For delta_x =\", delta_x[i],\"er feilen:\", feil, \"%\")"
   ]
  },
  {
   "cell_type": "markdown",
   "metadata": {},
   "source": [
    "Vi ser at \"store\" verdier som 0.1 og 0.01 gir en del feil. Men vi ser også faktisk at nøyaktigheten er størst ved $dx = 10^{-8}$, og at den synker både med økende og med minkende $dx$. Og attpåtil gir $dx \\leq 10^{-16}$ null som svar! Dette gir naturlig nok en feil på 100 \\%, siden den analytiske verdien er 5.\n",
    "\n",
    "Vi forventer kanskje ikke dette resultatet. Dersom vi kun ser på definisjonen av den deriverte, er det ikke spesielt logisk at det skal slå slik ut. Men det hele handler om at tall ikke er representert eksakt i en datamaskin, og når datamaskinen skal operere med svært små tall, kan det bli en liten avrundingsfeil når den regner med tallene. Denne avrundingsfeilen gjør at vi får feil dersom vi velger for små verdier av $dx$. Dersom vi gjør en mer generell feilanalyse, viser det seg at $10^{-8}$ er en god verdi å velge her. "
   ]
  },
  {
   "cell_type": "markdown",
   "metadata": {},
   "source": [
    "````{admonition} Underveisoppgave\n",
    ":class: tip\n",
    "Lag et plott med feilen som funksjon av _dx_ med utgangspunkt i programmet ovenfor. Bruk logaritmiske akser – dette får resultatene tydeligere fram. Du kan lage logaritmiske akser slik:\n",
    "```{code-block} Python\n",
    "plt.yscale('log')\n",
    "plt.xscale('log')\n",
    "```\n",
    "````\n",
    "\n",
    "````{admonition} Løsningsforslag\n",
    ":class: tip, dropdown\n",
    "```{code-block} Python\n",
    "import matplotlib.pyplot as plt\n",
    "\n",
    "def f(x):\n",
    "    return 2*x**2 + x - 5\n",
    "\n",
    "def fder_analytisk(x):\n",
    "    return 4*x + 1\n",
    "\n",
    "x = 1\n",
    "delta_x = [10**-i for i in range(1,18)] # liste med verdier fra 10^-18 til 10^-1\n",
    "analytisk = fder_analytisk(x)\n",
    "avvik = []\n",
    "\n",
    "for i in range(len(delta_x)):\n",
    "    numerisk = deriver(f, x, delta_x[i]) \n",
    "    feil = abs(numerisk-analytisk)/analytisk * 100\n",
    "    avvik.append(feil)\n",
    "    print(\"For delta_x =\", delta_x[i], \"er feilen:\", feil, \"%\")\n",
    "\n",
    "plt.plot(delta_x, avvik)\n",
    "plt.yscale('log')\n",
    "plt.xscale('log')\n",
    "plt.xlabel('dx')\n",
    "plt.ylabel('Feil (%)')\n",
    "plt.show()\n",
    "```\n",
    "````"
   ]
  },
  {
   "cell_type": "markdown",
   "metadata": {},
   "source": [
    "## Andre tilnærminger\n",
    "\n",
    "Tilnærmingen til den deriverte som vi har sett på, tar utgangspunkt i punktene $(x, f(x))$ og $(x+dx, f(x+dx))$ for å regne ut den momentane vekstfarten (altså den deriverte) i punktet $x$. Men vi kan like godt bruke andre punkter. Metoden vi har sett på, kalles _framoverdifferansen_ fordi den tar utgangspunkt i punktet $x$ og _neste_ punkt $x + dx$. Tilsvarende kan vi ta utgangspunkt i punktet $x$ og _forrige_ punkt $x - dx$. Dette kaller vi _bakoverdifferansen_. Bakoverdifferansen gir samme feil som framoverdifferansen, men er teoretisk nyttig for å utlede andre metoder.\n",
    "\n",
    "```{admonition} Numerisk derivasjon (bakoverdifferansen)\n",
    "For en liten verdi av $dx$ kan vi tilnærme den førstederiverte slik:\n",
    "\n",
    "$$\\frac{df}{dx} \\approx \\frac{f(x) - f(x-dx)}{dx}$$\n",
    "```\n",
    "\n",
    "En metode som derimot gir mindre feil enn både framover- og bakoverdifferansen, er _sentraldifferansen_. Det er en slags kombinasjon av framover- og bakoverdifferansen, der vi tar utgangspunkt i gjennomsnittet (midtpunktet) av $x+dx$ og $x-dx$.\n",
    "\n",
    "```{admonition} Numerisk derivasjon (sentraldifferansen)\n",
    "For en liten verdi av $dx$ kan vi tilnærme den førstederiverte slik:\n",
    "\n",
    "$$\\frac{df}{dx} \\approx \\frac{f(x+dx) - f(x-dx)}{2\\cdot dx}$$\n",
    "```\n",
    "\n",
    "<img src=\"https://github.com/andreasdh/programmering-i-kjemi/blob/master/docs/bilder/numerisk_derivasjon.png?raw=true\" width=\"500\"/>\n",
    "\n",
    "```{admonition} Underveisoppgave\n",
    "Implementer bakover- og sentraldifferansen som Python-funksjoner. Gjør en feilanalyse med de tre ulike tilnærmingene for ulike verdier av $\\Delta x$. Bruk funksjonen $f(x) = \\sin{(x)}$ og sammenlikn med den analytiske verdien av den deriverte, $f'(x) = \\cos{(x)}$\n",
    "```"
   ]
  },
  {
   "cell_type": "markdown",
   "metadata": {},
   "source": [
    "## Numerisk derivasjon av data\n",
    "Nå kommer vi til den nyttigste delen av numerisk derivasjon, nemlig derivasjon av diskrete data. Vi kan derivere på samme måte som vi gjorde med kontinuerlige funksjoner, men vi har gitt en $dx$ som er gitt av avstanden mellom datapunktene våre. Hvis målefrekvensen er lav, blir $dx$ høy, og motsatt. La oss se på hvordan vi kan derivere en titrerkurve:"
   ]
  },
  {
   "cell_type": "code",
   "execution_count": 20,
   "metadata": {},
   "outputs": [
    {
     "data": {
      "text/html": [
       "<div>\n",
       "<style scoped>\n",
       "    .dataframe tbody tr th:only-of-type {\n",
       "        vertical-align: middle;\n",
       "    }\n",
       "\n",
       "    .dataframe tbody tr th {\n",
       "        vertical-align: top;\n",
       "    }\n",
       "\n",
       "    .dataframe thead th {\n",
       "        text-align: right;\n",
       "    }\n",
       "</style>\n",
       "<table border=\"1\" class=\"dataframe\">\n",
       "  <thead>\n",
       "    <tr style=\"text-align: right;\">\n",
       "      <th></th>\n",
       "      <th>volum</th>\n",
       "      <th>pH</th>\n",
       "    </tr>\n",
       "  </thead>\n",
       "  <tbody>\n",
       "    <tr>\n",
       "      <th>0</th>\n",
       "      <td>0.00</td>\n",
       "      <td>2.51</td>\n",
       "    </tr>\n",
       "    <tr>\n",
       "      <th>1</th>\n",
       "      <td>2.05</td>\n",
       "      <td>2.76</td>\n",
       "    </tr>\n",
       "    <tr>\n",
       "      <th>2</th>\n",
       "      <td>4.00</td>\n",
       "      <td>3.03</td>\n",
       "    </tr>\n",
       "    <tr>\n",
       "      <th>3</th>\n",
       "      <td>6.01</td>\n",
       "      <td>3.11</td>\n",
       "    </tr>\n",
       "    <tr>\n",
       "      <th>4</th>\n",
       "      <td>8.22</td>\n",
       "      <td>3.31</td>\n",
       "    </tr>\n",
       "  </tbody>\n",
       "</table>\n",
       "</div>"
      ],
      "text/plain": [
       "   volum    pH\n",
       "0   0.00  2.51\n",
       "1   2.05  2.76\n",
       "2   4.00  3.03\n",
       "3   6.01  3.11\n",
       "4   8.22  3.31"
      ]
     },
     "execution_count": 20,
     "metadata": {},
     "output_type": "execute_result"
    }
   ],
   "source": [
    "import pandas as pd\n",
    "\n",
    "# Leser og sjekker ut dataene\n",
    "data = pd.read_csv(\"https://raw.githubusercontent.com/andreasdh/programmering-i-kjemi/master/docs/datafiler/titreringsdata.txt\")\n",
    "data.head()"
   ]
  },
  {
   "cell_type": "code",
   "execution_count": 106,
   "metadata": {
    "scrolled": true
   },
   "outputs": [
    {
     "data": {
      "image/png": "[encoded data removed]",
      "text/plain": [
       "<Figure size 432x288 with 1 Axes>"
      ]
     },
     "metadata": {
      "needs_background": "light"
     },
     "output_type": "display_data"
    }
   ],
   "source": [
    "# Plotter dataene\n",
    "import matplotlib.pyplot as plt\n",
    "\n",
    "x = data[\"volum\"]\n",
    "y = data[\"pH\"]\n",
    "\n",
    "plt.scatter(x, y)\n",
    "plt.title(\"Titrering av eddiksyre med NaOH\")\n",
    "plt.xlabel(\"Volum tilsatt NaOH (mL)\")\n",
    "plt.ylabel(\"pH\")\n",
    "plt.show()"
   ]
  },
  {
   "cell_type": "markdown",
   "metadata": {},
   "source": [
    "I en titrering er vi ofte ute etter ekvivalenspunktet, altså der stoffmengden av analytt og titrant er ekvivalente. Ekvivalenspunktet ligger der endringen i pH er brattest, altså der  den deriverte $\\frac{dpH}{dV}$ er størst. Vi har ikke noe uttrykk å derivere, men vi kan tilnærme den deriverte med en numerisk derivert. Siden vi ikke kan sette $dx$ til en bestemt verdi, blir ikke tilnærmingen særlig god hvis vi har målt sjeldent. Forskjellen i _x_-verdi er nemlig gitt av målingene (her er $dV$ antall mL som blir tilsatt hver gang vi måler pH). Men selv i tilfeller der tilnærmingen ikke er god, kan vi si noe om den gjennomsnittlige endringen mellom to punkter. La oss derivere:"
   ]
  },
  {
   "cell_type": "code",
   "execution_count": 100,
   "metadata": {
    "scrolled": false
   },
   "outputs": [
    {
     "data": {
      "image/png": "[encoded data removed]",
      "text/plain": [
       "<Figure size 432x288 with 1 Axes>"
      ]
     },
     "metadata": {
      "needs_background": "light"
     },
     "output_type": "display_data"
    }
   ],
   "source": [
    "dydx = []\n",
    "for i in range(len(y)-1):\n",
    "    dy = y[i+1]-y[i]\n",
    "    dx = x[i+1]-x[i]\n",
    "    der = dy/dx\n",
    "    dydx.append(der)\n",
    "\n",
    "dydx.append(None)\n",
    "plt.plot(x, y, label='Titrerkurve')\n",
    "plt.plot(x, dydx, label='Derivert titrerkurve')\n",
    "plt.title('Titrering av eddiksyre med NaOH')\n",
    "plt.xlabel('Volum NaOH tilsatt (mL)')\n",
    "plt.ylabel('pH')\n",
    "plt.legend()\n",
    "plt.savefig('derivert_titrering.pdf')\n",
    "plt.show()"
   ]
  },
  {
   "cell_type": "markdown",
   "metadata": {},
   "source": [
    "I løkka bruker vi samme framgangsmåte som vi gjorde da vi deriverte funksjoner, men nå tar vi verdiene fra ei liste med verdier. Vi kan kun kjøre løkka til lengden av lengden av listene minus 1, fordi vi skal ta forskjellen mellom verdier. Da blir det nemlig én verdi mindre enn i _y_- og _x_-listene. Derfor legger vi til en ekstra verdi \"None\" til slutt i lista, slik at alle listene blir like lange.\n",
    "\n",
    "Vi ser tydelig at det er størst endring i ekvivalenspunktet. Vi kan finne hvilket volum dette tilsvarer slik:"
   ]
  },
  {
   "cell_type": "code",
   "execution_count": 103,
   "metadata": {},
   "outputs": [
    {
     "data": {
      "text/html": [
       "<div>\n",
       "<style scoped>\n",
       "    .dataframe tbody tr th:only-of-type {\n",
       "        vertical-align: middle;\n",
       "    }\n",
       "\n",
       "    .dataframe tbody tr th {\n",
       "        vertical-align: top;\n",
       "    }\n",
       "\n",
       "    .dataframe thead th {\n",
       "        text-align: right;\n",
       "    }\n",
       "</style>\n",
       "<table border=\"1\" class=\"dataframe\">\n",
       "  <thead>\n",
       "    <tr style=\"text-align: right;\">\n",
       "      <th></th>\n",
       "      <th>volum</th>\n",
       "      <th>pH</th>\n",
       "      <th>endring</th>\n",
       "    </tr>\n",
       "  </thead>\n",
       "  <tbody>\n",
       "    <tr>\n",
       "      <th>25</th>\n",
       "      <td>33.52</td>\n",
       "      <td>8.7</td>\n",
       "      <td>19.75</td>\n",
       "    </tr>\n",
       "  </tbody>\n",
       "</table>\n",
       "</div>"
      ],
      "text/plain": [
       "    volum   pH  endring\n",
       "25  33.52  8.7    19.75"
      ]
     },
     "execution_count": 103,
     "metadata": {},
     "output_type": "execute_result"
    }
   ],
   "source": [
    "data[\"endring\"] = dydx  # Legger dydx inn i dataframen\n",
    "ekvivalenspunktet = data[data[\"endring\"] == data[\"endring\"].max()]\n",
    "ekvivalenspunktet.head()"
   ]
  },
  {
   "cell_type": "code",
   "execution_count": 105,
   "metadata": {
    "scrolled": true
   },
   "outputs": [
    {
     "name": "stdout",
     "output_type": "stream",
     "text": [
      "Ekvivalenspunktet ble nådd ved tilsats av 33.52 mL 0.10 M NaOH.\n"
     ]
    }
   ],
   "source": [
    "print(\"Ekvivalenspunktet ble nådd ved tilsats av\", float(ekvivalenspunktet[\"volum\"]), \"mL 0.10 M NaOH.\")"
   ]
  },
  {
   "cell_type": "markdown",
   "metadata": {},
   "source": [
    "Som du ser, kan vi benytte numerisk derivasjon på både kontinuerlige funksjoner og diskrete data. Hovedpoenget er at vi finner ut noe om endringen i en funksjon eller i et datasett. Og desto mindre _dx_ er, desto bedre tilnærming er denne endringen til den momentante endringen i et punkt, altså den deriverte."
   ]
  },
  {
   "cell_type": "markdown",
   "metadata": {},
   "source": [
    "## Oppgaver\n",
    "\n",
    "```{admonition} Oppgave 1\n",
    ":class: tip\n",
    "Beregn f'(1) numerisk for følgende funksjoner. Kontroller ved å derivere for hånd.\n",
    "\n",
    "1. $f(x) = x^2 - 4x + 5$\n",
    "2. $f(x) = e^x$\n",
    "3. $f(x) = \\sqrt{\\ln(x)}$\n",
    "```\n",
    "\n",
    "````{admonition} Oppgave 2\n",
    ":class: tip\n",
    "Skriv om funksjonen _deriver_ slik at _dx_ har en standardverdi. Velg en standardverdi som sannsynligvis vil gi gode resultater.  \n",
    "```{code-block} Python\n",
    "def deriver(f, x, dx = 1E-8):\n",
    "    dy = f(x + dx) - f(x)\n",
    "    return dy/dx\n",
    "```\n",
    "````\n",
    "\n",
    "```{admonition} Oppgave 3\n",
    ":class: tip\n",
    "En partikkel følger posisjonsfunksjonen $x(t) = t^3 + \\frac{1}{3}\\cdot t$. Plott både posisjon, hastighet og akselerasjon for $t = [0,10]$. Husk at $v(t) = s'(t)$ og $a(t) = v'(t)$.\n",
    "```\n",
    "\n",
    "```{admonition} Oppgave 4\n",
    ":class: tip\n",
    "Forklar hva som er forskjellen mellom analytisk og numerisk derivasjon.\n",
    "```\n",
    "\n",
    "```{admonition} Oppgave 5\n",
    ":class: tip\n",
    "Temperaturen $T(t)$ (i celsius) etter $t$ minutter til en nylig lagd te følger denne modellen, som vi har kommet fram til ved regresjon av eksperimentelle data:\n",
    "\n",
    "$$T(t) = 70e^{-0.065t}$$\n",
    "\n",
    "a) Bruk Newtons kvotient for å tilnærme den deriverte til $T(t)$ for 1000 jevnt fordelte verdier av $t$ i intervallet $[0, 60]$\n",
    "b) Plott resultatet fra a) sammen med grafen for $T(t)$. Bruk merkelapper (labels og legend) for grafene.\n",
    "c) Hvor mye synker temperaturen med ved element nr. 42 i lista over verdier for $t$ (vi teller med 0-te element)?\n",
    "```\n",
    "\n",
    "````{admonition} Oppgave 6\n",
    ":class: tip\n",
    "Programmet nedenfor leser av fila \"heistur_kjemi_fysikk.txt\" og finner fart og akselerasjon ved hjelp av numerisk derivasjon. Programmet fungerer derimot ikke helt som det skal. Rett opp feilen. Lag også en ny kolonne \"fart\" og en ny kolonne \"akselerasjon\" i dataframen.\n",
    "\n",
    "\n",
    "<iframe src=\"https://trinket.io/embed/python3/0ead204f00\" width=\"100%\" height=\"450\" frameborder=\"0\" marginwidth=\"0\" marginheight=\"0\" allowfullscreen></iframe>\n",
    "````\n",
    "\n",
    "````{admonition} Løsningsforslag\n",
    ":class: tip, dropdown\n",
    "```{code-block} Python\n",
    "\n",
    "import pandas as pd\n",
    "import matplotlib.pyplot as plt\n",
    "\n",
    "data = pd.read_csv(\"heistur_kjemi_fysikk.txt\")\n",
    "p = data[\"height_m\"]\n",
    "t = data[\"time_s\"]\n",
    "v = [] # fart i m/s\n",
    "a = [] # akselerasjon i m/s^2\n",
    "\n",
    "# Vi trenger to løkker fordi a tar utgangspunkt i v, som derfor må lages først\n",
    "for i in range(len(p)-1):\n",
    "  dt = t[i+1] - t[i]\n",
    "  fart = (p[i+1] - p[i])/dt\n",
    "  v.append(fart)\n",
    "\n",
    "for i in range(len(v)-1):\n",
    "  dt = t[i+1] - t[i]\n",
    "  akselerasjon = (v[i+1] - v[i])/dt\n",
    "  a.append(akselerasjon)\n",
    "\n",
    "v.append(None)\n",
    "a.append(None)\n",
    "a.append(None)\n",
    "\n",
    "# Legger til verdiene i dataframen\n",
    "data[\"fart\"] = v\n",
    "data[\"akselerasjon\"] = a\n",
    "\n",
    "plt.subplot(3,1,1)\n",
    "plt.ylabel(\"Posisjon (m)\")\n",
    "plt.plot(t, p, color = \"limegreen\")\n",
    "plt.subplot(3,1,2)\n",
    "plt.ylabel(\"Fart (m)\")\n",
    "plt.ylim(-1,1)\n",
    "plt.plot(t, v, color = \"navy\")\n",
    "plt.subplot(3,1,3)\n",
    "plt.ylabel(\"Akselerasjon (m)\")\n",
    "plt.plot(t, a, color = \"firebrick\")\n",
    "plt.ylim(-1,1)\n",
    "plt.xlabel(\"Tid (s)\")\n",
    "plt.tight_layout()\n",
    "plt.show()\n",
    "```\n",
    "````\n",
    "\n",
    "```{admonition} Oppgave 7\n",
    ":class: tip\n",
    "Løs puslespillet nedenfor, som skal illustrere derivasjon av diskrete data.\n",
    "```"
   ]
  },
  {
   "cell_type": "code",
   "execution_count": 2,
   "metadata": {
    "tags": [
     "remove-input"
    ]
   },
   "outputs": [
    {
     "data": {
      "text/html": [
       "\n",
       "        <iframe\n",
       "            width=\"1000\"\n",
       "            height=\"750\"\n",
       "            src=\"https://parsons.herokuapp.com/puzzle/cd36da48d9cc4fcbbaf13103d84454bf\"\n",
       "            frameborder=\"0\"\n",
       "            allowfullscreen\n",
       "        ></iframe>\n",
       "        "
      ],
      "text/plain": [
       "<IPython.lib.display.IFrame at 0x21ffaf5ca90>"
      ]
     },
     "execution_count": 2,
     "metadata": {},
     "output_type": "execute_result"
    }
   ],
   "source": [
    "from IPython.display import IFrame\n",
    "IFrame('https://parsons.herokuapp.com/puzzle/cd36da48d9cc4fcbbaf13103d84454bf', width=1000, height=750)"
   ]
  },
  {
   "cell_type": "markdown",
   "metadata": {},
   "source": [
    "## Video\n",
    "\n",
    "```{tabbed} Numerisk derivasjon\n",
    "<iframe width=\"890\" height=\"500\" src=\"https://www.youtube.com/embed/SDZTPkbZCi4? autoplay=0&rel=0\" title=\"YouTube video player\" frameborder=\"0\" allow=\"accelerometer; autoplay; clipboard-write; encrypted-media; gyroscope; picture-in-picture\" allowfullscreen></iframe>\n",
    "```"
   ]
  }
 ],
 "metadata": {
  "celltoolbar": "Edit Metadata",
  "kernelspec": {
   "display_name": "Python 3",
   "language": "python",
   "name": "python3"
  },
  "language_info": {
   "codemirror_mode": {
    "name": "ipython",
    "version": 3
   },
   "file_extension": ".py",
   "mimetype": "text/x-python",
   "name": "python",
   "nbconvert_exporter": "python",
   "pygments_lexer": "ipython3",
   "version": "3.8.5"
  }
 },
 "nbformat": 4,
 "nbformat_minor": 4
}
