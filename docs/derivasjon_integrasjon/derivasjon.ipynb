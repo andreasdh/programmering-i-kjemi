{
 "cells": [
  {
   "cell_type": "markdown",
   "metadata": {},
   "source": [
    "# Numerisk derivasjon\n",
    "\n",
    "```{admonition} Læringsutbytte\n",
    "Etter å ha arbeidet med denne delen av emnet, skal du kunne:\n",
    "1. forklare den teoretisk bakgrunnen for numerisk derivasjon, og forskjellen på numerisk og analytisk derivasjon\n",
    "2. implementere framoverdifferansen, bakoverdifferansen og sentraldifferansen for numerisk derivasjon\n",
    "3. derivere funksjoner og eksperimentelle data\n",
    "```\n",
    "\n",
    "## Derivasjonsbegrepet\n",
    "Derivasjon handler om endring. Den deriverte kan beskrive stigningen og forandringen i et forløp. Nærmere bestemt handler det om momentan endring, altså endringen mellom to tilstander (funksjonsverdier) over en svært liten endring i en annen tilstand: \n",
    "\n",
    "$$f'(x) = \\frac{df}{dt} = \\lim_{\\Delta x \\rightarrow 0} \\frac{f(x+dx) - f(x)}{dx}$$\n",
    "\n",
    "Vi har derfor nytte av derivasjon i mange tilfeller der vi ønsker å beskrive en utvikling, og det er ikke sjeldent i kjemi. Tenk for eksempel på følgende scenarioer:\n",
    "\n",
    "- Vi ønsker å finne ekvivalenspunktet i en titrering. Det er der endringen (den deriverte) er størst.\n",
    "- Vi ønsker å finne maksimum og minimum energi til et molekyl. Ekstremalpunkter er der den deriverte er lik 0.\n",
    "- Vi ønsker å finne ut av hvordan konsentrasjon endrer seg med tid for hvert minste tidssteg. Dette kan representeres som $dc/dt$.\n",
    "\n",
    "Vi kan derimot ikke alltid derivere analytisk for hånd, så det er en stor verdi i å beherske numerisk derivasjon. Da kan vi enklest tilnærme den analytisk deriverte med en numerisk derivert:\n",
    "\n",
    "```{admonition} Numerisk derivasjon (framoverdifferansen)\n",
    "For en liten verdi av $dx$ kan vi tilnærme den førstederiverte slik:\n",
    "\n",
    "$$f'(x) = \\frac{df}{dx} \\approx \\frac{f(x+dx) - f(x)}{dx}$$\n",
    "```\n",
    "\n",
    "der vi tilnærmer grenseverdien med en svært liten verdi av dx. Her skal vi se på denne metoden og andre metoder som kan brukes til å tilnærme den deriverte numerisk.\n",
    "\n",
    "```{admonition} Oppgave\n",
    ":class: tip\n",
    "Bruk definisjonen ovenfor og regn ut $f'(1)$ for $f(x) = 2x + 2$. Sett $dx = 1\\cdot 10^{-8}$.\n",
    "```\n",
    "\n",
    "````{admonition} Løsningsforslag\n",
    ":class: tip, dropdown\n",
    "```{code-block} Python\n",
    "def f(x):\n",
    "    return x**2\n",
    "\n",
    "dx = 1E-8\n",
    "x = 1\n",
    "fder = (f(x + dx) - f(x))/dx\n",
    "\n",
    "print(\"f'(1) =\", fder)\n",
    "```\n",
    "````"
   ]
  },
  {
   "cell_type": "markdown",
   "metadata": {},
   "source": [
    "Løsningsforslaget ovenfor viser en enkel måte å implementere den numeriske deriverte på. Det kan også være nyttig å kunne lage metoden som en funksjon:"
   ]
  },
  {
   "cell_type": "code",
   "execution_count": 5,
   "metadata": {},
   "outputs": [],
   "source": [
    "def deriver(f, x, dx = 1E-8):\n",
    "    dy = f(x + dx) - f(x)\n",
    "    return dy/dx"
   ]
  },
  {
   "cell_type": "markdown",
   "metadata": {},
   "source": [
    "Legg merke til at vi ikke deriverer symbolsk. Det betyr at vi ikke får en annen funksjon når vi deriverer en funksjon. Vi får bare _funksjonsverdier_. Vi må altså deriverere i gitte punkter, for eksempel $f'(1)$ eller $f'(-5)$. Dersom vi ønsker å visualisere den deriverte til en funksjon, må vi derfor derivere funksjonen i flere punkter. Dette kan vi gjøre vektorisert ved hjelp av arrayer:"
   ]
  },
  {
   "cell_type": "code",
   "execution_count": 8,
   "metadata": {},
   "outputs": [
    {
     "data": {
      "image/png": "[encoded data removed]",
      "text/plain": [
       "<Figure size 432x288 with 1 Axes>"
      ]
     },
     "metadata": {
      "needs_background": "light"
     },
     "output_type": "display_data"
    }
   ],
   "source": [
    "import numpy as np\n",
    "import matplotlib.pyplot as plt\n",
    "\n",
    "def f(x):# Definerer en funksjon vi skal derivere\n",
    "    return 3*x**3 + x**2 - 1\n",
    "\n",
    "x = np.linspace(-2,2,100)\n",
    "y = f(x)\n",
    "yder = deriver(f,x)\n",
    "\n",
    "plt.plot(x,y,label=\"f(x)\") # Plotter funksjonen\n",
    "plt.plot(x,yder,label=\"f'(x)\") # Plotter den deriverte funksjonen\n",
    "plt.xlabel(\"x\")\n",
    "plt.ylabel(\"y\")\n",
    "plt.legend()\n",
    "plt.show()"
   ]
  },
  {
   "cell_type": "code",
   "execution_count": 4,
   "metadata": {
    "tags": [
     "remove-input"
    ]
   },
   "outputs": [
    {
     "data": {
      "text/html": [
       "<iframe width=\"950\" height=\"600\" src=\"https://www.youtube.com/embed/SDZTPkbZCi4? autoplay=0&rel=0\" frameborder=\"0\" allow=\"accelerometer; autoplay; encrypted-media; gyroscope; picture-in-picture\" allowfullscreen></iframe>"
      ],
      "text/plain": [
       "<IPython.core.display.HTML object>"
      ]
     },
     "execution_count": 4,
     "metadata": {},
     "output_type": "execute_result"
    }
   ],
   "source": [
    "from IPython.display import HTML\n",
    "# Youtube\n",
    "HTML('<iframe width=\"950\" height=\"600\" src=\"https://www.youtube.com/embed/SDZTPkbZCi4? autoplay=0&rel=0\" frameborder=\"0\" allow=\"accelerometer; autoplay; encrypted-media; gyroscope; picture-in-picture\" allowfullscreen></iframe>')"
   ]
  },
  {
   "cell_type": "markdown",
   "metadata": {},
   "source": [
    "Når du har sett videoen, kan du gjøre følgende oppgaver for å sjekke om du forstår innholdet:\n",
    "\n",
    "```{admonition} Underveisoppgave: Derivasjon av funksjoner\n",
    ":class: tip\n",
    "Vi har $f(x) = x^2 + 2$. Finn $f'(1)$ ved hjelp av numerisk derivasjon.\n",
    "```\n",
    "\n",
    "\n",
    "```{admonition} Underveisoppgave: Derivasjon av diskrete data\n",
    ":class: tip\n",
    "Fila titrering.txt inneholder pH i en løsning av eddiksyre som funksjon av tilsatt volum NaOH (i mL). Les av fildataene og plott pH som funksjon av volum tilsatt NaOH. Deriver så dataene og plott dette i samme koordinatsystem. Hva sier den deriverte grafen deg?\n",
    "```\n",
    "\n",
    "\n",
    "<iframe src=\"https://trinket.io/embed/python3/646cc16cf1\" width=\"100%\" height=\"356\" frameborder=\"0\" marginwidth=\"0\" marginheight=\"0\" allowfullscreen></iframe>"
   ]
  },
  {
   "cell_type": "markdown",
   "metadata": {},
   "source": [
    "## Oppgaver\n",
    "\n",
    "```{admonition}\n",
    ":class: tip\n",
    "Løs puslespillet nedenfor slik at funksjonen som benytter halveringsmetoden blir riktig.\n",
    "```"
   ]
  },
  {
   "cell_type": "code",
   "execution_count": 3,
   "metadata": {
    "tags": [
     "remove-input"
    ]
   },
   "outputs": [
    {
     "data": {
      "text/html": [
       "\n",
       "        <iframe\n",
       "            width=\"1000\"\n",
       "            height=\"800\"\n",
       "            src=\"https://parsons.herokuapp.com/puzzle/cd36da48d9cc4fcbbaf13103d84454bf\"\n",
       "            frameborder=\"0\"\n",
       "            allowfullscreen\n",
       "        ></iframe>\n",
       "        "
      ],
      "text/plain": [
       "<IPython.lib.display.IFrame at 0x1ffd019c370>"
      ]
     },
     "execution_count": 3,
     "metadata": {},
     "output_type": "execute_result"
    }
   ],
   "source": [
    "from IPython.display import IFrame\n",
    "IFrame('https://parsons.herokuapp.com/puzzle/cd36da48d9cc4fcbbaf13103d84454bf', width=1000, height=800)"
   ]
  },
  {
   "cell_type": "code",
   "execution_count": null,
   "metadata": {},
   "outputs": [],
   "source": []
  }
 ],
 "metadata": {
  "celltoolbar": "Edit Metadata",
  "kernelspec": {
   "display_name": "Python 3",
   "language": "python",
   "name": "python3"
  },
  "language_info": {
   "codemirror_mode": {
    "name": "ipython",
    "version": 3
   },
   "file_extension": ".py",
   "mimetype": "text/x-python",
   "name": "python",
   "nbconvert_exporter": "python",
   "pygments_lexer": "ipython3",
   "version": "3.8.5"
  }
 },
 "nbformat": 4,
 "nbformat_minor": 4
}
