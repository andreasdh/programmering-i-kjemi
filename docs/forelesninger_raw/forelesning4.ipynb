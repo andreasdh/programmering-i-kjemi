{
 "cells": [
  {
   "cell_type": "markdown",
   "metadata": {},
   "source": [
    "# Forelesning 4: Likninger og nullpunkter"
   ]
  },
  {
   "cell_type": "markdown",
   "metadata": {},
   "source": [
    "Mål: Finne ut ved hvilken temperatur løseligheten til NaCl og ammoniakk er lik. Dette lar seg lett løses analytisk, men vi bruker enkle funksjoner for å illustrere poenget. Vi skal også løse en likning som er analytisk uløselig:\n",
    "\n",
    "$$e^{-t} + t + 5 - \\ln(0.006t + 1) - t^{0.3} - 10 = 0$$\n",
    "\n",
    "som representerer skjæringen mellom følgende funksjoner:\n",
    "\n",
    "$$c_1(t) = e^{-t} + t + 5$$\n",
    "\n",
    "$$c_2(t) = \\ln(0.006t + 1) + t^{0.3} + 10$$"
   ]
  },
  {
   "cell_type": "code",
   "execution_count": 2,
   "metadata": {},
   "outputs": [],
   "source": [
    "T = [0,20,40,60,80,100]\n",
    "sol_NaCl = [35.7, 35.9, 36.4, 37.1, 38, 39.2]\n",
    "sol_NH3 = [88.5, 56, 34, 20, 11, 7]"
   ]
  }
 ],
 "metadata": {
  "kernelspec": {
   "display_name": "Python 3",
   "language": "python",
   "name": "python3"
  },
  "language_info": {
   "codemirror_mode": {
    "name": "ipython",
    "version": 3
   },
   "file_extension": ".py",
   "mimetype": "text/x-python",
   "name": "python",
   "nbconvert_exporter": "python",
   "pygments_lexer": "ipython3",
   "version": "3.8.5"
  }
 },
 "nbformat": 4,
 "nbformat_minor": 4
}
