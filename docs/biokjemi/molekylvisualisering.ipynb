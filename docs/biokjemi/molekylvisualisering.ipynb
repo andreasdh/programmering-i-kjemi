{
 "cells": [
  {
   "cell_type": "markdown",
   "id": "7b6a745d",
   "metadata": {},
   "source": [
    "# Molekylvisualisering\n",
    "Egenskapene til biologiske makromolekyler er i stor grad avhengig av formen til molekylene. Derfor er det veldig nyttig å kunne visualisere molekylene. Her skal vi se på to biblioteker som kan visualisere molekyler i Juypyter Notebook.\n",
    "\n",
    "## Visualisering med py3Dmol\n",
    "\n",
    "Det første biblioteket vi skal se på, er _Py3Dmol_. Her kan du hente opp molekyler fra to store databaser: PDB (Protein Data Bank) og PubChem. For å importere en struktur bruker du kommandoen _view_ og setter parameteren _query_ til enten _'cid'_ for PubChem eller _'pdb'_ for PDB. Du kan også angi filnavnet til en lokal pdb-fil på datamaskinen din, dersom du ønsker det. På PubChem kan du søke etter et molekyl og finne ID-en til dette molekylet (PubChem CID). I PDB starter alle søkeresultater med PDB-ID-en. I eksempelet nedenfor henter vi opp ibuprofen fra PubChem og enzymet RNA-polymerase i initiell transkripsjon (med en bit av et DNA-molekyl). Se om du kan finne de samme molekylene i de to databasene."
   ]
  },
  {
   "cell_type": "code",
   "execution_count": 85,
   "id": "98d0a9d4",
   "metadata": {},
   "outputs": [],
   "source": [
    "import py3Dmol\n",
    "\n",
    "ibuprofen = py3Dmol.view(query='cid:3672')\n",
    "rna_polymerase = py3Dmol.view(query='pdb:5IYC')"
   ]
  },
  {
   "cell_type": "markdown",
   "id": "736698d2",
   "metadata": {},
   "source": [
    "Når vi har hentet strukturene, kan vi spesifisere hva slags stil vi ønsker på molekylene med :setStyle_. Som argument kan du benytte en dictionary med én av følgende nøkler:\n",
    "- 'line'\n",
    "- 'cross'\n",
    "- 'cartoon'\n",
    "- 'stick'\n",
    "- 'sphere'\n",
    "\n",
    "Verdien til nøkkelen kan også være nok en dictionary (nøstede dictionaries), med for eksempel \\lstinline{'color'} som en ny nøkkel. Det finnes mange ulike fargeverdier, men _'spectrum'_ gir ofte fine figurer.\n",
    "\n",
    "Når du har bestemt deg for alt dette, får du en figur du kan rotere og zoome inn og ut på."
   ]
  },
  {
   "cell_type": "code",
   "execution_count": 86,
   "id": "8bf8a7aa",
   "metadata": {},
   "outputs": [
    {
     "data": {
      "application/3dmoljs_load.v0": "<div id=\"3dmolviewer_16437186074229789\"  style=\"position: relative; width: 640px; height: 480px\">\n        <p id=\"3dmolwarning_16437186074229789\" style=\"background-color:#ffcccc;color:black\">You appear to be running in JupyterLab (or JavaScript failed to load for some other reason).  You need to install the 3dmol extension: <br>\n        <tt>jupyter labextension install jupyterlab_3dmol</tt></p>\n        </div>\n<script>\n\nvar loadScriptAsync = function(uri){\n  return new Promise((resolve, reject) => {\n    var tag = document.createElement('script');\n    tag.src = uri;\n    tag.async = true;\n    tag.onload = () => {\n      resolve();\n    };\n  var firstScriptTag = document.getElementsByTagName('script')[0];\n  firstScriptTag.parentNode.insertBefore(tag, firstScriptTag);\n});\n};\n\nif(typeof $3Dmolpromise === 'undefined') {\n$3Dmolpromise = null;\n  $3Dmolpromise = loadScriptAsync('https://3dmol.org/build/3Dmol.js');\n}\n\nvar viewer_16437186074229789 = null;\nvar warn = document.getElementById(\"3dmolwarning_16437186074229789\");\nif(warn) {\n    warn.parentNode.removeChild(warn);\n}\n$3Dmolpromise.then(function() {\nviewer_16437186074229789 = $3Dmol.createViewer($(\"#3dmolviewer_16437186074229789\"),{backgroundColor:\"white\"});\n$3Dmol.download(\"cid:3672\", viewer_16437186074229789, {}, function() {\nviewer_16437186074229789.zoomTo();\n\tviewer_16437186074229789.setStyle({\"stick\": {\"color\": \"spectrum\"}});\nviewer_16437186074229789.render();\n})\n});\n</script>",
      "text/html": [
       "<div id=\"3dmolviewer_16437186074229789\"  style=\"position: relative; width: 640px; height: 480px\">\n",
       "        <p id=\"3dmolwarning_16437186074229789\" style=\"background-color:#ffcccc;color:black\">You appear to be running in JupyterLab (or JavaScript failed to load for some other reason).  You need to install the 3dmol extension: <br>\n",
       "        <tt>jupyter labextension install jupyterlab_3dmol</tt></p>\n",
       "        </div>\n",
       "<script>\n",
       "\n",
       "var loadScriptAsync = function(uri){\n",
       "  return new Promise((resolve, reject) => {\n",
       "    var tag = document.createElement('script');\n",
       "    tag.src = uri;\n",
       "    tag.async = true;\n",
       "    tag.onload = () => {\n",
       "      resolve();\n",
       "    };\n",
       "  var firstScriptTag = document.getElementsByTagName('script')[0];\n",
       "  firstScriptTag.parentNode.insertBefore(tag, firstScriptTag);\n",
       "});\n",
       "};\n",
       "\n",
       "if(typeof $3Dmolpromise === 'undefined') {\n",
       "$3Dmolpromise = null;\n",
       "  $3Dmolpromise = loadScriptAsync('https://3dmol.org/build/3Dmol.js');\n",
       "}\n",
       "\n",
       "var viewer_16437186074229789 = null;\n",
       "var warn = document.getElementById(\"3dmolwarning_16437186074229789\");\n",
       "if(warn) {\n",
       "    warn.parentNode.removeChild(warn);\n",
       "}\n",
       "$3Dmolpromise.then(function() {\n",
       "viewer_16437186074229789 = $3Dmol.createViewer($(\"#3dmolviewer_16437186074229789\"),{backgroundColor:\"white\"});\n",
       "$3Dmol.download(\"cid:3672\", viewer_16437186074229789, {}, function() {\n",
       "viewer_16437186074229789.zoomTo();\n",
       "\tviewer_16437186074229789.setStyle({\"stick\": {\"color\": \"spectrum\"}});\n",
       "viewer_16437186074229789.render();\n",
       "})\n",
       "});\n",
       "</script>"
      ]
     },
     "metadata": {},
     "output_type": "display_data"
    },
    {
     "data": {
      "text/plain": [
       "<py3Dmol.view at 0x1d8d12605e0>"
      ]
     },
     "execution_count": 86,
     "metadata": {},
     "output_type": "execute_result"
    }
   ],
   "source": [
    "ibuprofen.setStyle({'stick': {'color':'spectrum'}})"
   ]
  },
  {
   "cell_type": "code",
   "execution_count": 84,
   "id": "c8ee5f91",
   "metadata": {},
   "outputs": [
    {
     "data": {
      "application/3dmoljs_load.v0": "<div id=\"3dmolviewer_1643718594494797\"  style=\"position: relative; width: 640px; height: 480px\">\n        <p id=\"3dmolwarning_1643718594494797\" style=\"background-color:#ffcccc;color:black\">You appear to be running in JupyterLab (or JavaScript failed to load for some other reason).  You need to install the 3dmol extension: <br>\n        <tt>jupyter labextension install jupyterlab_3dmol</tt></p>\n        </div>\n<script>\n\nvar loadScriptAsync = function(uri){\n  return new Promise((resolve, reject) => {\n    var tag = document.createElement('script');\n    tag.src = uri;\n    tag.async = true;\n    tag.onload = () => {\n      resolve();\n    };\n  var firstScriptTag = document.getElementsByTagName('script')[0];\n  firstScriptTag.parentNode.insertBefore(tag, firstScriptTag);\n});\n};\n\nif(typeof $3Dmolpromise === 'undefined') {\n$3Dmolpromise = null;\n  $3Dmolpromise = loadScriptAsync('https://3dmol.org/build/3Dmol.js');\n}\n\nvar viewer_1643718594494797 = null;\nvar warn = document.getElementById(\"3dmolwarning_1643718594494797\");\nif(warn) {\n    warn.parentNode.removeChild(warn);\n}\n$3Dmolpromise.then(function() {\nviewer_1643718594494797 = $3Dmol.createViewer($(\"#3dmolviewer_1643718594494797\"),{backgroundColor:\"white\"});\n$3Dmol.download(\"pdb:5IYC\", viewer_1643718594494797, {}, function() {\nviewer_1643718594494797.zoomTo();\n\tviewer_1643718594494797.setStyle({\"cartoon\": {\"color\": \"spectrum\"}});\nviewer_1643718594494797.render();\n})\n});\n</script>",
      "text/html": [
       "<div id=\"3dmolviewer_1643718594494797\"  style=\"position: relative; width: 640px; height: 480px\">\n",
       "        <p id=\"3dmolwarning_1643718594494797\" style=\"background-color:#ffcccc;color:black\">You appear to be running in JupyterLab (or JavaScript failed to load for some other reason).  You need to install the 3dmol extension: <br>\n",
       "        <tt>jupyter labextension install jupyterlab_3dmol</tt></p>\n",
       "        </div>\n",
       "<script>\n",
       "\n",
       "var loadScriptAsync = function(uri){\n",
       "  return new Promise((resolve, reject) => {\n",
       "    var tag = document.createElement('script');\n",
       "    tag.src = uri;\n",
       "    tag.async = true;\n",
       "    tag.onload = () => {\n",
       "      resolve();\n",
       "    };\n",
       "  var firstScriptTag = document.getElementsByTagName('script')[0];\n",
       "  firstScriptTag.parentNode.insertBefore(tag, firstScriptTag);\n",
       "});\n",
       "};\n",
       "\n",
       "if(typeof $3Dmolpromise === 'undefined') {\n",
       "$3Dmolpromise = null;\n",
       "  $3Dmolpromise = loadScriptAsync('https://3dmol.org/build/3Dmol.js');\n",
       "}\n",
       "\n",
       "var viewer_1643718594494797 = null;\n",
       "var warn = document.getElementById(\"3dmolwarning_1643718594494797\");\n",
       "if(warn) {\n",
       "    warn.parentNode.removeChild(warn);\n",
       "}\n",
       "$3Dmolpromise.then(function() {\n",
       "viewer_1643718594494797 = $3Dmol.createViewer($(\"#3dmolviewer_1643718594494797\"),{backgroundColor:\"white\"});\n",
       "$3Dmol.download(\"pdb:5IYC\", viewer_1643718594494797, {}, function() {\n",
       "viewer_1643718594494797.zoomTo();\n",
       "\tviewer_1643718594494797.setStyle({\"cartoon\": {\"color\": \"spectrum\"}});\n",
       "viewer_1643718594494797.render();\n",
       "})\n",
       "});\n",
       "</script>"
      ]
     },
     "metadata": {},
     "output_type": "display_data"
    },
    {
     "data": {
      "text/plain": [
       "<py3Dmol.view at 0x1d8d1649070>"
      ]
     },
     "execution_count": 84,
     "metadata": {},
     "output_type": "execute_result"
    }
   ],
   "source": [
    "rna_polymerase.setStyle({'cartoon': {'color':'spectrum'}})"
   ]
  },
  {
   "cell_type": "markdown",
   "id": "2b4d4eed",
   "metadata": {},
   "source": [
    "Vi kan også beregne og tegne elektrontettheten til ulike molekyler. Dette gjøres med _addSurface_, som vist nedenfor. 'VDW' står for van der Waals-krefter, som overflatemodellene tar utgangspunkt i. Du kan  modifisere fargene og utseendet til overflaten etter behov. Et veldig vanlig fargespekter er en gradvis overgang (_'gradient'_) mellom rødt, hvitt og blått (_'rwb'_), der rødt er elektronrike områder, og blått er elektronfattige. Følgende kode viser elektrontettheten til esteren metylbutanat (søk: methyl butanoate i PubChem)."
   ]
  },
  {
   "cell_type": "code",
   "execution_count": 79,
   "id": "84fe85eb",
   "metadata": {},
   "outputs": [
    {
     "data": {
      "application/3dmoljs_load.v0": "<div id=\"3dmolviewer_16437185600241807\"  style=\"position: relative; width: 640px; height: 480px\">\n        <p id=\"3dmolwarning_16437185600241807\" style=\"background-color:#ffcccc;color:black\">You appear to be running in JupyterLab (or JavaScript failed to load for some other reason).  You need to install the 3dmol extension: <br>\n        <tt>jupyter labextension install jupyterlab_3dmol</tt></p>\n        </div>\n<script>\n\nvar loadScriptAsync = function(uri){\n  return new Promise((resolve, reject) => {\n    var tag = document.createElement('script');\n    tag.src = uri;\n    tag.async = true;\n    tag.onload = () => {\n      resolve();\n    };\n  var firstScriptTag = document.getElementsByTagName('script')[0];\n  firstScriptTag.parentNode.insertBefore(tag, firstScriptTag);\n});\n};\n\nif(typeof $3Dmolpromise === 'undefined') {\n$3Dmolpromise = null;\n  $3Dmolpromise = loadScriptAsync('https://3dmol.org/build/3Dmol.js');\n}\n\nvar viewer_16437185600241807 = null;\nvar warn = document.getElementById(\"3dmolwarning_16437185600241807\");\nif(warn) {\n    warn.parentNode.removeChild(warn);\n}\n$3Dmolpromise.then(function() {\nviewer_16437185600241807 = $3Dmol.createViewer($(\"#3dmolviewer_16437185600241807\"),{backgroundColor:\"white\"});\n$3Dmol.download(\"cid:264\", viewer_16437185600241807, {}, function() {\nviewer_16437185600241807.zoomTo();\n\tviewer_16437185600241807.setStyle({\"stick\": {\"color\": \"spectrum\"}});\n\tviewer_16437185600241807.addSurface(\"VDW\",{\"opacity\": 0.6, \"colorscheme\": {\"gradient\": \"rwb\"}});\nviewer_16437185600241807.render();\n})\n});\n</script>",
      "text/html": [
       "<div id=\"3dmolviewer_16437185600241807\"  style=\"position: relative; width: 640px; height: 480px\">\n",
       "        <p id=\"3dmolwarning_16437185600241807\" style=\"background-color:#ffcccc;color:black\">You appear to be running in JupyterLab (or JavaScript failed to load for some other reason).  You need to install the 3dmol extension: <br>\n",
       "        <tt>jupyter labextension install jupyterlab_3dmol</tt></p>\n",
       "        </div>\n",
       "<script>\n",
       "\n",
       "var loadScriptAsync = function(uri){\n",
       "  return new Promise((resolve, reject) => {\n",
       "    var tag = document.createElement('script');\n",
       "    tag.src = uri;\n",
       "    tag.async = true;\n",
       "    tag.onload = () => {\n",
       "      resolve();\n",
       "    };\n",
       "  var firstScriptTag = document.getElementsByTagName('script')[0];\n",
       "  firstScriptTag.parentNode.insertBefore(tag, firstScriptTag);\n",
       "});\n",
       "};\n",
       "\n",
       "if(typeof $3Dmolpromise === 'undefined') {\n",
       "$3Dmolpromise = null;\n",
       "  $3Dmolpromise = loadScriptAsync('https://3dmol.org/build/3Dmol.js');\n",
       "}\n",
       "\n",
       "var viewer_16437185600241807 = null;\n",
       "var warn = document.getElementById(\"3dmolwarning_16437185600241807\");\n",
       "if(warn) {\n",
       "    warn.parentNode.removeChild(warn);\n",
       "}\n",
       "$3Dmolpromise.then(function() {\n",
       "viewer_16437185600241807 = $3Dmol.createViewer($(\"#3dmolviewer_16437185600241807\"),{backgroundColor:\"white\"});\n",
       "$3Dmol.download(\"cid:264\", viewer_16437185600241807, {}, function() {\n",
       "viewer_16437185600241807.zoomTo();\n",
       "\tviewer_16437185600241807.setStyle({\"stick\": {\"color\": \"spectrum\"}});\n",
       "\tviewer_16437185600241807.addSurface(\"VDW\",{\"opacity\": 0.6, \"colorscheme\": {\"gradient\": \"rwb\"}});\n",
       "viewer_16437185600241807.render();\n",
       "})\n",
       "});\n",
       "</script>"
      ]
     },
     "metadata": {},
     "output_type": "display_data"
    },
    {
     "data": {
      "text/plain": [
       "<py3Dmol.view at 0x1d8d164e670>"
      ]
     },
     "execution_count": 79,
     "metadata": {},
     "output_type": "execute_result"
    }
   ],
   "source": [
    "elektronkart = py3Dmol.view(query='cid:264')\n",
    "elektronkart.setStyle({'stick': {'color':'spectrum'}})\n",
    "elektronkart.addSurface('VDW',{'opacity':0.6, 'colorscheme':{'gradient':'rwb'}})"
   ]
  },
  {
   "cell_type": "markdown",
   "id": "06b1cd2e",
   "metadata": {},
   "source": [
    "Vi kan også visualisere $\\alpha$-helikser som rør (tubes) og $\\beta$-plater som piler:"
   ]
  },
  {
   "cell_type": "code",
   "execution_count": 78,
   "id": "7daeeff3",
   "metadata": {},
   "outputs": [
    {
     "data": {
      "application/3dmoljs_load.v0": "<div id=\"3dmolviewer_16437185570627456\"  style=\"position: relative; width: 640px; height: 480px\">\n        <p id=\"3dmolwarning_16437185570627456\" style=\"background-color:#ffcccc;color:black\">You appear to be running in JupyterLab (or JavaScript failed to load for some other reason).  You need to install the 3dmol extension: <br>\n        <tt>jupyter labextension install jupyterlab_3dmol</tt></p>\n        </div>\n<script>\n\nvar loadScriptAsync = function(uri){\n  return new Promise((resolve, reject) => {\n    var tag = document.createElement('script');\n    tag.src = uri;\n    tag.async = true;\n    tag.onload = () => {\n      resolve();\n    };\n  var firstScriptTag = document.getElementsByTagName('script')[0];\n  firstScriptTag.parentNode.insertBefore(tag, firstScriptTag);\n});\n};\n\nif(typeof $3Dmolpromise === 'undefined') {\n$3Dmolpromise = null;\n  $3Dmolpromise = loadScriptAsync('https://3dmol.org/build/3Dmol.js');\n}\n\nvar viewer_16437185570627456 = null;\nvar warn = document.getElementById(\"3dmolwarning_16437185570627456\");\nif(warn) {\n    warn.parentNode.removeChild(warn);\n}\n$3Dmolpromise.then(function() {\nviewer_16437185570627456 = $3Dmol.createViewer($(\"#3dmolviewer_16437185570627456\"),{backgroundColor:\"white\"});\n$3Dmol.download(\"pdb:4KQA\", viewer_16437185570627456, {}, function() {\nviewer_16437185570627456.zoomTo();\n\tviewer_16437185570627456.setStyle({\"cartoon\": {\"arrows\": true, \"tubes\": true, \"color\": \"spectrum\"}});\nviewer_16437185570627456.render();\n})\n});\n</script>",
      "text/html": [
       "<div id=\"3dmolviewer_16437185570627456\"  style=\"position: relative; width: 640px; height: 480px\">\n",
       "        <p id=\"3dmolwarning_16437185570627456\" style=\"background-color:#ffcccc;color:black\">You appear to be running in JupyterLab (or JavaScript failed to load for some other reason).  You need to install the 3dmol extension: <br>\n",
       "        <tt>jupyter labextension install jupyterlab_3dmol</tt></p>\n",
       "        </div>\n",
       "<script>\n",
       "\n",
       "var loadScriptAsync = function(uri){\n",
       "  return new Promise((resolve, reject) => {\n",
       "    var tag = document.createElement('script');\n",
       "    tag.src = uri;\n",
       "    tag.async = true;\n",
       "    tag.onload = () => {\n",
       "      resolve();\n",
       "    };\n",
       "  var firstScriptTag = document.getElementsByTagName('script')[0];\n",
       "  firstScriptTag.parentNode.insertBefore(tag, firstScriptTag);\n",
       "});\n",
       "};\n",
       "\n",
       "if(typeof $3Dmolpromise === 'undefined') {\n",
       "$3Dmolpromise = null;\n",
       "  $3Dmolpromise = loadScriptAsync('https://3dmol.org/build/3Dmol.js');\n",
       "}\n",
       "\n",
       "var viewer_16437185570627456 = null;\n",
       "var warn = document.getElementById(\"3dmolwarning_16437185570627456\");\n",
       "if(warn) {\n",
       "    warn.parentNode.removeChild(warn);\n",
       "}\n",
       "$3Dmolpromise.then(function() {\n",
       "viewer_16437185570627456 = $3Dmol.createViewer($(\"#3dmolviewer_16437185570627456\"),{backgroundColor:\"white\"});\n",
       "$3Dmol.download(\"pdb:4KQA\", viewer_16437185570627456, {}, function() {\n",
       "viewer_16437185570627456.zoomTo();\n",
       "\tviewer_16437185570627456.setStyle({\"cartoon\": {\"arrows\": true, \"tubes\": true, \"color\": \"spectrum\"}});\n",
       "viewer_16437185570627456.render();\n",
       "})\n",
       "});\n",
       "</script>"
      ]
     },
     "metadata": {},
     "output_type": "display_data"
    }
   ],
   "source": [
    "view = py3Dmol.view(query='pdb:4KQA')\n",
    "view.setStyle({'cartoon':{'arrows':True, 'tubes':True, 'color':'spectrum'}})\n",
    "view.show()"
   ]
  },
  {
   "cell_type": "markdown",
   "id": "d4d1f1e4",
   "metadata": {},
   "source": [
    "## Nglview\n",
    "\n",
    "Nglview er et bibliotek med mye av den samme funksjonaliteten som py3Dmol, men den kan i tillegg visualisere dynamiske simuleringer. Vi skal derfor raskt se på hvordan vi kan visualisere ved hjelp av dette biblioteket også."
   ]
  },
  {
   "cell_type": "code",
   "execution_count": 100,
   "id": "bb92ad4d",
   "metadata": {
    "scrolled": true
   },
   "outputs": [
    {
     "data": {
      "application/vnd.jupyter.widget-view+json": {
       "model_id": "ec6a3980435d48ba8cf674eace2db0bc",
       "version_major": 2,
       "version_minor": 0
      },
      "text/plain": [
       "NGLWidget()"
      ]
     },
     "metadata": {},
     "output_type": "display_data"
    }
   ],
   "source": [
    "import nglview as nv\n",
    "\n",
    "protein = nv.show_pdbid(\"3LPO\")\n",
    "protein"
   ]
  },
  {
   "cell_type": "markdown",
   "id": "20e00ea3",
   "metadata": {},
   "source": [
    "Biblioteket viser også automatisk kofaktorer og hemmere, dersom de er inkludert i pdb-fila. Vi kan også legge til overflater og andre modeller (som kule-pinnemodell):"
   ]
  },
  {
   "cell_type": "code",
   "execution_count": 98,
   "id": "87f7d12d",
   "metadata": {},
   "outputs": [],
   "source": [
    "protein.add_surface(selection=\"Ala\", opacity=0.3)\n",
    "protein.add_licorice(\"TRP\")\n",
    "protein.clear_representations()\n",
    "protein.add_representation(repr_type=\"ball-stick\")"
   ]
  }
 ],
 "metadata": {
  "kernelspec": {
   "display_name": "Python 3 (ipykernel)",
   "language": "python",
   "name": "python3"
  },
  "language_info": {
   "codemirror_mode": {
    "name": "ipython",
    "version": 3
   },
   "file_extension": ".py",
   "mimetype": "text/x-python",
   "name": "python",
   "nbconvert_exporter": "python",
   "pygments_lexer": "ipython3",
   "version": "3.8.5"
  }
 },
 "nbformat": 4,
 "nbformat_minor": 5
}
