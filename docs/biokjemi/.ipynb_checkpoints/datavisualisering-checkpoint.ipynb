{
 "cells": [
  {
   "cell_type": "markdown",
   "metadata": {},
   "source": [
    "# Datavisualisering\n",
    "\n",
    "```{admonition} Læringsutbytte\n",
    "Etter å ha arbeidet med dette temaet, skal du kunne:\n",
    "1. bruke matplotlib-biblioteket til visualisering\n",
    "2. plotte datapunkter fra lister og filer\n",
    "3. lage og tolke ulike visualiseringer\n",
    "```\n",
    "Kjemi er et eksperimentelt fag, og det er viktig å kunne generere informative figurer som beskriver eksperimentelle data på en god måte. Det blir stadig vanligere å bruke programmering til dette. Det finnes flere typer biblioteker som kan gi oss fine og profesjonelle figurer. Vi begynner med et mye brukt bibliotek som heter _matplotlib_.\n",
    "\n",
    "## Plotting av lister\n",
    "Hvis vi har få datapunkter, kan vi skrive dem inn i lister direkte i programmet vårt og plotte dem. La oss ta et eksempel der vi har målt absorbansen til et enzym med et spektrometer. Vi har fått følgende data:\n",
    "\n",
    "| tid (min) | absorbans |\n",
    "| -- | -- |\n",
    "| 0 | 0.011 |\n",
    "| 3 | 0.102 |\n",
    "| 6 | 0.188 |\n",
    "| 9 | 0.269 |\n",
    "| 12 | 0.353 |\n",
    "| 15 | 0.438 |\n",
    "| 20 | 0.581 |\n",
    "| 25 | 0.712 |\n",
    "| 30 | 0.814 |\n",
    "\n",
    "Dette kan vi plotte enkelt slik:"
   ]
  },
  {
   "cell_type": "code",
   "execution_count": 2,
   "metadata": {
    "scrolled": true
   },
   "outputs": [
    {
     "data": {
      "image/png": "[encoded data removed]",
      "text/plain": [
       "<Figure size 432x288 with 1 Axes>"
      ]
     },
     "metadata": {
      "needs_background": "light"
     },
     "output_type": "display_data"
    }
   ],
   "source": [
    "import matplotlib.pyplot as plt\n",
    "\n",
    "t = [0, 3, 6, 9, 12, 15, 20, 25, 30]                                # Tid i min\n",
    "A = [0.011, 0.102, 0.188, 0.269, 0.353, 0.438, 0.581, 0.712, 0.814] # Absorbans\n",
    "plt.plot(t,A)                                                       # Plotter A mot t\n",
    "plt.show()                                                          # Viser plottet"
   ]
  },
  {
   "cell_type": "markdown",
   "metadata": {},
   "source": [
    "Hvis vi har lyst til å modifisere og pynte på plottet, har vi mange muligheter til det. Her er noen forslag til en del nyttige endringer av plottet ovenfor:"
   ]
  },
  {
   "cell_type": "code",
   "execution_count": 9,
   "metadata": {},
   "outputs": [
    {
     "data": {
      "image/png": "[encoded data removed]",
      "text/plain": [
       "<Figure size 432x288 with 1 Axes>"
      ]
     },
     "metadata": {
      "needs_background": "light"
     },
     "output_type": "display_data"
    }
   ],
   "source": [
    "plt.plot(t,A,color=\"limegreen\",marker=\"o\",linestyle=\"--\")\n",
    "plt.title(\"Spektrofotometri av enzym ved 420 nm\") # Tittel på plottet\n",
    "plt.xlabel(\"Tid (min)\") # Aksetittel på x-aksen\n",
    "plt.ylabel(\"Absorbans\") # Aksetittel på y-aksen\n",
    "plt.xlim(0,35) # Definisjonsmengde\n",
    "plt.ylim(0,1) # Verdimengde\n",
    "plt.grid() # Lager rutenett\n",
    "plt.show()"
   ]
  },
  {
   "cell_type": "markdown",
   "metadata": {},
   "source": [
    "Det finnes utrolig mange måter å modifisere et plott på. Tabellene nedenfor viser en oversikt over nyttige plottekommandoer, linjestiler, markører og farger, som du kan bruke for å lage akkurat den figuren du ønsker. Du bør også søke litt rundt på nettet for å finne andre muligheter, for eksempel ved å søke på «python plotting colors» og liknende. Du må bruke internett flittig når du lurer på noe i programmering!\n",
    "\n",
    "En veldig nyttig kommando når vi skal representere flere grafer i samme koordinatsystem, er _legend_. Denne kommandoen viser merkelappene (\"labels\") til de ulike plottene. Programmet nedenfor gir et eksempel på dette.\n",
    "\n",
    "```{admonition} Underveisoppgave\n",
    ":class: tip\n",
    "Programmet nedenfor plotter miljøgifter i ulike organismer i to innsjøer. Studer programmet og eksperimenter med ulike verdier fra tabellen nedenfor.\n",
    "```\n",
    "\n",
    "<iframe src=\"https://trinket.io/embed/python3/ffda9bdd1b\" width=\"100%\" height=\"400\" frameborder=\"0\" marginwidth=\"0\" marginheight=\"0\" allowfullscreen></iframe>"
   ]
  },
  {
   "cell_type": "markdown",
   "metadata": {},
   "source": [
    "````{tabbed} Nyttige plottekommandoer\n",
    "```{code-block} Python\n",
    "plot(x,y)         # plotter x mot y og trekker rette linjer mellom\n",
    "scatter(x,y)      # plotter kun punkter\n",
    "show()            # viser plottet\n",
    "\n",
    "title(\"tittel\")   # tittel på plottet\n",
    "xlabel(\"tekst\")   # x-aksetittel\n",
    "ylabel(\"tekst\")   # y-aksetittel\n",
    "xlim(fra, til)    # definisjonsmengde\n",
    "ylim(fra, til)    # verdimengde\n",
    "grid()            # rutenett på\n",
    "\n",
    "axhline(y=0, color='black') # x-akse\n",
    "axvline(x=0, color='black') # y-akse\n",
    "```\n",
    "Inni plottekommandoen kan vi også legge til farger, linjestiler, markører, merkelapper og liknende:\n",
    "\n",
    "```{code-block} Python\n",
    "plot(x,y,color=\"\",marker=\"\",linestyle=\"\",label=\"\")\n",
    "```\n",
    "```` \n",
    "\n",
    "````{tabbed} Markører\n",
    "| Markør | Forklaring |\n",
    "| -----  | ---------- |\n",
    "| \".\" | punkt |\n",
    "| \"o\" | sirkel |\n",
    "| \" \" (mellomrom) | ingen markør |\n",
    "| \"^\" | triangel opp |\n",
    "| \"v\" | triangel ned |\n",
    "| \"s\" | firkant |\n",
    "| \"p\" | femkant |\n",
    "```` \n",
    "\n",
    "````{tabbed} Linjestiler\n",
    "| Linjestil | Forklaring |\n",
    "| -----  | ---------- |\n",
    "| \"-\" | heltrukket linje |\n",
    "| \"--\" | stipla linje (lange) |\n",
    "| \";\" |  stipla linje (korte) |\n",
    "| \"-.\" | stilpa linje (annenhver kort/lang) |\n",
    "| \" \" (mellomrom) | ingen linje |\n",
    "```` \n",
    "\n",
    "````{tabbed} Farger\n",
    "![farger](https://matplotlib.org/2.0.2/_images/named_colors.png)\n",
    "```` "
   ]
  },
  {
   "cell_type": "markdown",
   "metadata": {},
   "source": [
    "## Plotte funksjoner\n",
    "\n",
    "Hvis vi trenger å generere mange punkter, for eksempel for å plotte en funksjon, kan vi gjøre dette med kommandoen _linspace_, som genererer et visst antall (_n_) punkter mellom en verdi _a_ og en verdi _b_. Den generelle syntaksen for dette er:\n",
    "\n",
    "```{code-block} Python\n",
    "x = linspace(a, b, n)\n",
    "```\n",
    "\n",
    "Her lages det en array, noe som betyr at hvis vi gjør en matematisk operasjon på den, vil alle elementene påvirkes. Vi kan for eksempel mate arrayen inn i en funksjon. Da får en tilsvarende array med funksjonsverdier for alle verdier av _x_:"
   ]
  },
  {
   "cell_type": "code",
   "execution_count": 11,
   "metadata": {},
   "outputs": [
    {
     "data": {
      "image/png": "[encoded data removed]",
      "text/plain": [
       "<Figure size 432x288 with 1 Axes>"
      ]
     },
     "metadata": {
      "needs_background": "light"
     },
     "output_type": "display_data"
    }
   ],
   "source": [
    "import matplotlib.pyplot as plt\n",
    "import numpy as np\n",
    "\n",
    "def f(x):\n",
    "    return 2*x**2 - 2*x + 1 \n",
    "\n",
    "x = np.linspace(-2, 3, 1000) # lager 1000 x-verdier mellom -2 og 3\n",
    "y = f(x)                     # NB: Vi kan også skrive y = x*x**2 - 2*x + 1 uten å definere en funksjon!\n",
    "\n",
    "plt.plot(x,y)\n",
    "plt.xlabel('x')\n",
    "plt.ylabel('y')\n",
    "plt.grid()\n",
    "plt.show()"
   ]
  },
  {
   "cell_type": "markdown",
   "metadata": {},
   "source": [
    "```{admonition} Underveisoppgave\n",
    ":class: tip\n",
    "Plott tre funksjoner i samme koordinatsystem. Eksperimenter med farger, linjestiler og annet. Husk aksetitler!\n",
    "```\n",
    "\n",
    "```{admonition} Løsningsforslag\n",
    ":class: tip, dropdown\n",
    "<iframe src=\"https://trinket.io/embed/python3/87f8b456bd\" width=\"100%\" height=\"300\" frameborder=\"0\" marginwidth=\"0\" marginheight=\"0\" allowfullscreen></iframe>\n",
    "```"
   ]
  },
  {
   "cell_type": "markdown",
   "metadata": {},
   "source": [
    "```{admonition} Underveisoppgave\n",
    ":class: tip\n",
    "Plott tre av dine favorittfunksjoner i samme koordinatsystem. Tilpass akser og tittel og pynt på plottet.\n",
    "```"
   ]
  },
  {
   "cell_type": "markdown",
   "metadata": {},
   "source": [
    "## Datafiler\n",
    "Vi kan også visualisere data som er lagret i datafiler. Data lagres ofte i _råtekstformat_ fordi de er robuste og kan leses av alle. Det betyr at dataene ikke har noen formatering eller annen informasjon enn de faktiske dataene. En Word-fil er for eksempel ikke råtekst, fordi den inneholder formatering av tekst som farger, kursivering og tekststørrelse. Eksempler på råtekstfiler er .txt-filer og .csv-filer. Råtekstdata kan vi lage manuelt, eller vi kan få dem fra sensorer eller laste dem ned fra internett. De fleste store datafiler lagres i råtekstformat.\n",
    "\n",
    "Vi kan bruke Python til å lese slike data på mange ulike måter. Her skal vi bruke pandas-biblioteket til å lese filer, men du kan gjerne benytte andre framgangsmåter (som funksjonen _loadtxt_ fra numpy). Vi tar utgangspunkt i en liten fil med få datapunkter, slik at det er enkelt å se hva som skjer når vi leser fila. Fila beskriver temperaturen i en kaffekopp (i $^oC$) med tida (i minutter), og ser slik ut:\n",
    "\n",
    "```{code-block} text\n",
    "tid (min), temperatur (grader celsius)\n",
    "0,90\n",
    "1,80\n",
    "2,72\n",
    "3,64\n",
    "4,59\n",
    "5,51\n",
    "6,45\n",
    "7,42\n",
    "8,39\n",
    "9,37\n",
    "10,36\n",
    "```\n",
    "\n",
    "Vi ser at fila skiller datapunktene med komma, og at første linje som fungerer som overskrift. Dette er viktig informasjon når vi skal lese fila. For å lese en datafil, må den enten ligge i samme mappe som programmet som leser fila, eller så må du spesifisere hvilken filbane fila har. Det enkleste er å legge den i samme mappe som programmet, eller i en mappe som for eksempel heter \"datafiler\", som ligger i samme mappe som programmet ditt.\n",
    "\n",
    "Nedenfor ser du hvordan du kan lese fila med _read\\_csv_ fra pandas og med _loadtxt_ fra numpy. Du kan velge en av måtene å lese data på."
   ]
  },
  {
   "cell_type": "markdown",
   "metadata": {},
   "source": [
    "`````{tabbed} Pandas-biblioteket\n",
    "Et svært mye brukt bibliotek er Pandas-biblioteket. Det benyttes mye i datahåndtering og maskinlæring, og er kanskje den enkleste måten å lese filer på. Med funksjonen _read\\_csv_ leses filer av typen .txt eller .csv, og vi får en ny datatype som kalles en _dataramme_ (_dataframe_). En slik datatype kan ses på som en slags dictionary, der kolonneoverskriftene fungerer som nøkler. Dermed skriver vi _data[\"temperatur\"]_ for å få tilgang til kolonnen med overskriften \"temperatur\".\n",
    "\n",
    "<iframe src=\"https://trinket.io/embed/python3/07e4100152\" width=\"100%\" height=\"600\" frameborder=\"0\" marginwidth=\"0\" marginheight=\"0\" allowfullscreen></iframe>\n",
    "\n",
    "Pandas gir penest og ryddigst output dersom du bruker det i Jupyter Notebook. Vi skal bruke Pandas videre her, så da får du en smakebit på hva som er mulig.\n",
    "`````\n",
    "\n",
    "`````{tabbed} Numpy-biblioteket\n",
    "Det finnes også en nyttig funksjon som heter _loadtxt_ i _numpy_-biblioteket, som lar deg lese filer på en vektorisert måte uten løkker. Da lages det en array av dataene, med en array for hver kolonne inni denne arrayen. Arrayen er altså todimensjonal, og vi må derfor trekke ut de relevante kolonnene i hver sin endimensjonale array.\n",
    "\n",
    "<iframe src=\"https://trinket.io/embed/python3/a9e44ccdb9\" width=\"100%\" height=\"600\" frameborder=\"0\" marginwidth=\"0\" marginheight=\"0\" allowfullscreen></iframe>\n",
    "\n",
    "Her utfører vi \"array-slicing\", det vil si at vi plukker ut elementer fra en todimensjonal array og lager en ny endimensjonal array av det.\n",
    "\n",
    "````{admonition} Underveisoppgave\n",
    ":class: tip\n",
    "Kjør programmet nedenfor i Trinket-vinduet ovenfor. Hva viser programmet deg om array-slicing? Eksperimenter gjerne med å bytte ut verdiene, slik at du forstår hvordan verdiene plukkes ut\n",
    "\n",
    "```{code-block} Python\n",
    "import numpy as np\n",
    "import matplotlib.pyplot as plt\n",
    "\n",
    "data = np.loadtxt(\"temperatur.txt\", skiprows = 1, delimiter = \",\") # Får to arrayer (kolonner) i en array\n",
    "print(data)\n",
    "t = data[0:3,0]\n",
    "T = data[0:3,1] \n",
    "print(t)\n",
    "print(T)\n",
    "\n",
    "plt.scatter(t, T)\n",
    "plt.xlabel(\"Tid (s)\")\n",
    "plt.xlabel(\"Temperatur ($^o$C)\")\n",
    "plt.show()\n",
    "```\n",
    "````\n",
    "```````"
   ]
  },
  {
   "cell_type": "markdown",
   "metadata": {},
   "source": [
    "Her leser vi data direkte fra en nettbasert editor (Trinket). Vi kan også lese ved å angi en nettadresse istedenfor et filnavn. Men hvis du har fila lagret lokalt på datamaskinen din, må du huske å legge den i samme mappe som programmet som skal lese fila (eller angi filbanen der fila ligger)."
   ]
  },
  {
   "cell_type": "markdown",
   "metadata": {},
   "source": [
    "## Videoer\n",
    "I videoen nedenfor kan du få en innføring eller repetisjon i hvordan du plotter i Python.\n",
    "\n",
    "<iframe width=\"800\" height=\"600\" src=\"https://www.youtube.com/embed/71SeDOstEwY\" title=\"YouTube video player\" frameborder=\"0\" allow=\"accelerometer; autoplay; clipboard-write; encrypted-media; gyroscope; picture-in-picture\" allowfullscreen></iframe>"
   ]
  }
 ],
 "metadata": {
  "kernelspec": {
   "display_name": "Python 3 (ipykernel)",
   "language": "python",
   "name": "python3"
  },
  "language_info": {
   "codemirror_mode": {
    "name": "ipython",
    "version": 3
   },
   "file_extension": ".py",
   "mimetype": "text/x-python",
   "name": "python",
   "nbconvert_exporter": "python",
   "pygments_lexer": "ipython3",
   "version": "3.8.5"
  }
 },
 "nbformat": 4,
 "nbformat_minor": 4
}
