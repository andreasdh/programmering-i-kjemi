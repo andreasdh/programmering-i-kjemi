{
 "cells": [
  {
   "cell_type": "markdown",
   "metadata": {},
   "source": [
    "# Forelesning 1: Programmering i kjemi"
   ]
  },
  {
   "cell_type": "markdown",
   "metadata": {},
   "source": [
    "## Periodesystemet og periodiske egenskaper"
   ]
  },
  {
   "cell_type": "code",
   "execution_count": 7,
   "metadata": {},
   "outputs": [
    {
     "name": "stdout",
     "output_type": "stream",
     "text": [
      "Navn: Lithium, Symbol: Li, Elektronegativitet: 0.98\n"
     ]
    }
   ],
   "source": [
    "from mendeleev import element\n",
    "\n",
    "Z = 3\n",
    "grunnstoff = element(Z)\n",
    "navn = grunnstoff.name\n",
    "symbol = grunnstoff.symbol\n",
    "elektronegativitet = grunnstoff.electronegativity()\n",
    "\n",
    "print(f\"Navn: {navn}, Symbol: {symbol}, Elektronegativitet: {elektronegativitet}\")"
   ]
  },
  {
   "attachments": {},
   "cell_type": "markdown",
   "metadata": {},
   "source": [
    "- Oppgave: Modifiser programmet slik at det skriver ut informasjonen (navn, symbol og elektronegativitet) om de 18 letteste grunnstoffene."
   ]
  },
  {
   "cell_type": "code",
   "execution_count": 58,
   "metadata": {},
   "outputs": [
    {
     "name": "stdout",
     "output_type": "stream",
     "text": [
      "Navn       Symbol    Elektronegativitet\n",
      "---------------------------------------\n",
      "Hydrogen   |H        |2.2\n",
      "Helium     |He       |None\n",
      "Lithium    |Li       |0.98\n",
      "Beryllium  |Be       |1.57\n",
      "Boron      |B        |2.04\n",
      "Carbon     |C        |2.55\n",
      "Nitrogen   |N        |3.04\n",
      "Oxygen     |O        |3.44\n",
      "Fluorine   |F        |3.98\n",
      "Neon       |Ne       |None\n",
      "Sodium     |Na       |0.93\n",
      "Magnesium  |Mg       |1.31\n",
      "Aluminum   |Al       |1.61\n",
      "Silicon    |Si       |1.9\n",
      "Phosphorus |P        |2.19\n",
      "Sulfur     |S        |2.58\n",
      "Chlorine   |Cl       |3.16\n",
      "Argon      |Ar       |None\n"
     ]
    }
   ],
   "source": [
    "from mendeleev import element\n",
    "\n",
    "print(\"Navn       Symbol    Elektronegativitet\")\n",
    "print(\"---------------------------------------\")\n",
    "\n",
    "for Z in range(1,19):\n",
    "    grunnstoff = element(Z)\n",
    "    navn = grunnstoff.name\n",
    "    symbol = grunnstoff.symbol\n",
    "    elektronegativitet = grunnstoff.electronegativity()\n",
    "    print(f\"{navn:11}|{symbol:9}|{elektronegativitet}\")"
   ]
  },
  {
   "cell_type": "markdown",
   "metadata": {},
   "source": [
    "### Trender i elektrongativitet"
   ]
  },
  {
   "cell_type": "code",
   "execution_count": 20,
   "metadata": {},
   "outputs": [],
   "source": [
    "from mendeleev import element\n",
    "import matplotlib.pyplot as plt\n",
    "\n",
    "atomnumre = []\n",
    "el_neg = []\n",
    "\n",
    "for Z in range(1,119):\n",
    "    grunnstoff = element(Z)\n",
    "    elektronegativitet = grunnstoff.electronegativity()\n",
    "    atomnumre.append(Z)\n",
    "    el_neg.append(elektronegativitet)"
   ]
  },
  {
   "attachments": {},
   "cell_type": "markdown",
   "metadata": {},
   "source": [
    "- Oppgave: Plott listene mot hverandre. Modifiser programmet slik at det kun plotter grunnstoffene i andre periode. Forklar trenden du ser."
   ]
  },
  {
   "cell_type": "code",
   "execution_count": 21,
   "metadata": {},
   "outputs": [
    {
     "data": {
      "image/png": "[encoded data removed]",
      "text/plain": [
       "<Figure size 432x288 with 1 Axes>"
      ]
     },
     "metadata": {
      "needs_background": "light"
     },
     "output_type": "display_data"
    }
   ],
   "source": [
    "plt.scatter(atomnumre, el_neg, color=\"hotpink\")\n",
    "plt.xlabel(\"Atomnummer\")\n",
    "plt.ylabel(\"Elektronegativitet\")\n",
    "plt.show()"
   ]
  },
  {
   "cell_type": "markdown",
   "metadata": {},
   "source": [
    "### Elektronegativitet i gruppe 1\n",
    "Oppgave: Plott elektronegativitet som funksjon av atomnummer for grunnstoffene i gruppe 1."
   ]
  },
  {
   "cell_type": "markdown",
   "metadata": {},
   "source": [
    "## Støkiometriske beregninger"
   ]
  },
  {
   "cell_type": "markdown",
   "metadata": {},
   "source": [
    "### Stoffmengdeberegninger"
   ]
  },
  {
   "cell_type": "code",
   "execution_count": null,
   "metadata": {},
   "outputs": [],
   "source": []
  },
  {
   "cell_type": "markdown",
   "metadata": {},
   "source": [
    "### Løsninger og fortynning"
   ]
  },
  {
   "cell_type": "code",
   "execution_count": null,
   "metadata": {},
   "outputs": [],
   "source": []
  },
  {
   "cell_type": "markdown",
   "metadata": {},
   "source": [
    "### Kjemiske reaksjoner"
   ]
  },
  {
   "cell_type": "code",
   "execution_count": null,
   "metadata": {},
   "outputs": [],
   "source": []
  },
  {
   "attachments": {},
   "cell_type": "markdown",
   "metadata": {},
   "source": [
    "- Oppgave: Bruk chemlib til å balansere ufullstendig forbrenning av benzen (vi får vann og CO)"
   ]
  },
  {
   "cell_type": "markdown",
   "metadata": {},
   "source": [
    "## Elektrokjemi"
   ]
  },
  {
   "cell_type": "markdown",
   "metadata": {},
   "source": [
    "### Galvaniske elementer"
   ]
  },
  {
   "cell_type": "code",
   "execution_count": null,
   "metadata": {},
   "outputs": [],
   "source": []
  },
  {
   "cell_type": "markdown",
   "metadata": {},
   "source": [
    "### Elektrolyse"
   ]
  },
  {
   "cell_type": "code",
   "execution_count": null,
   "metadata": {},
   "outputs": [],
   "source": []
  },
  {
   "attachments": {},
   "cell_type": "markdown",
   "metadata": {},
   "source": [
    "- Oppgave: Finn ut hvor lang tid det minimum tar å dekke en gjenstand med 30 g sølv med en løsning AgNO$_3$ når vi bruker en strømstyrke på 10 A."
   ]
  },
  {
   "cell_type": "markdown",
   "metadata": {},
   "source": [
    "## pH-beregninger\n",
    "\n",
    "### Sterke syrer og baser"
   ]
  },
  {
   "cell_type": "code",
   "execution_count": null,
   "metadata": {},
   "outputs": [],
   "source": []
  },
  {
   "cell_type": "markdown",
   "metadata": {},
   "source": [
    "### Svake syrer og baser"
   ]
  },
  {
   "cell_type": "code",
   "execution_count": null,
   "metadata": {},
   "outputs": [],
   "source": []
  },
  {
   "attachments": {},
   "cell_type": "markdown",
   "metadata": {},
   "source": [
    "Oppgave: Beregn pH i et system som består av 1 M HF og 1 M CHOOH (metansyre/maursyre)"
   ]
  }
 ],
 "metadata": {
  "kernelspec": {
   "display_name": "Python 3 (ipykernel)",
   "language": "python",
   "name": "python3"
  },
  "language_info": {
   "codemirror_mode": {
    "name": "ipython",
    "version": 3
   },
   "file_extension": ".py",
   "mimetype": "text/x-python",
   "name": "python",
   "nbconvert_exporter": "python",
   "pygments_lexer": "ipython3",
   "version": "3.9.12"
  }
 },
 "nbformat": 4,
 "nbformat_minor": 4
}
