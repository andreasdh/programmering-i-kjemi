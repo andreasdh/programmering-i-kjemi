{
 "cells": [
  {
   "cell_type": "markdown",
   "metadata": {},
   "source": [
    "# Forelesning 6: Numerisk integrasjon\n"
   ]
  },
  {
   "cell_type": "markdown",
   "metadata": {},
   "source": [
    "## Det bestemte integralet"
   ]
  },
  {
   "cell_type": "code",
   "execution_count": 21,
   "metadata": {},
   "outputs": [
    {
     "name": "stdout",
     "output_type": "stream",
     "text": [
      "2.666266679999545\n"
     ]
    }
   ],
   "source": [
    "def f(x):\n",
    "    return x**2\n",
    "\n",
    "a = 0  # Nedre integrasjonsgrense\n",
    "b = 2  # Øvre integrasjonsgrende\n",
    "n = 10000 # Antall rektangler\n",
    "dx = (b - a)/n # Bredden av hvert rektangel\n",
    "\n",
    "A = 0 # Arealet av rektanglene\n",
    "x = a\n",
    "\n",
    "for i in range(n):\n",
    "    # Summere opp arealet av hvert rektangel\n",
    "    A = A + f(x) * dx\n",
    "    x = x + dx\n",
    "\n",
    "print(A)\n",
    "    "
   ]
  },
  {
   "cell_type": "code",
   "execution_count": 12,
   "metadata": {},
   "outputs": [],
   "source": [
    "def rektangelmetoden_venstre(f, a, b, n = 100000):\n",
    "    dx = (b - a)/n # Bredden av hvert rektangel\n",
    "    A = 0 # Arealet av rektanglene\n",
    "    x = a\n",
    "    for i in range(n):\n",
    "        # Summere opp arealet av hvert rektangel\n",
    "        A = A + f(x) * dx\n",
    "        x = x + dx\n",
    "    return A\n"
   ]
  },
  {
   "cell_type": "raw",
   "metadata": {},
   "source": [
    "## Andre tilnærminger"
   ]
  },
  {
   "cell_type": "code",
   "execution_count": 14,
   "metadata": {},
   "outputs": [],
   "source": [
    "def rektangelmetoden_høyre(f, a, b, n = 100000):\n",
    "    dx = (b - a)/n # Bredden av hvert rektangel\n",
    "    A = 0 # Arealet av rektanglene\n",
    "    x = a + dx\n",
    "    for i in range(n):\n",
    "        # Summere opp arealet av hvert rektangel\n",
    "        A = A + f(x) * dx\n",
    "        x = x + dx\n",
    "    return A"
   ]
  },
  {
   "cell_type": "code",
   "execution_count": 17,
   "metadata": {},
   "outputs": [],
   "source": [
    "def rektangelmetoden_midtpunkt(f, a, b, n = 100000):\n",
    "    dx = (b - a)/n # Bredden av hvert rektangel\n",
    "    A = 0 # Arealet av rektanglene\n",
    "    x = a + dx/2\n",
    "    for i in range(n):\n",
    "        # Summere opp arealet av hvert rektangel\n",
    "        A = A + f(x) * dx\n",
    "        x = x + dx\n",
    "    return A"
   ]
  },
  {
   "cell_type": "code",
   "execution_count": 22,
   "metadata": {},
   "outputs": [
    {
     "name": "stdout",
     "output_type": "stream",
     "text": [
      "2.333318333360897\n",
      "2.3333483333608975\n",
      "2.3333333333359163\n"
     ]
    }
   ],
   "source": [
    "print(rektangelmetoden_venstre(f, 1, 2))\n",
    "print(rektangelmetoden_høyre(f, 1, 2))\n",
    "print(rektangelmetoden_midtpunkt(f, 1, 2))"
   ]
  },
  {
   "cell_type": "code",
   "execution_count": 19,
   "metadata": {},
   "outputs": [],
   "source": [
    "def trapesmetoden(f, a, b, n = 100000):\n",
    "    dx = (b - a)/n # Bredden av hvert rektangel\n",
    "    A = (f(a) + f(b))/2*dx # Arealet av rektanglene\n",
    "    x = a\n",
    "    for i in range(1, n):\n",
    "        # Summere opp arealet av hvert rektangel\n",
    "        A = A + f(x) * dx\n",
    "        x = x + dx\n",
    "    return A"
   ]
  },
  {
   "cell_type": "code",
   "execution_count": 23,
   "metadata": {},
   "outputs": [
    {
     "data": {
      "text/plain": [
       "2.3333033337608957"
      ]
     },
     "execution_count": 23,
     "metadata": {},
     "output_type": "execute_result"
    }
   ],
   "source": [
    "trapesmetoden(f, 1, 2)"
   ]
  },
  {
   "cell_type": "markdown",
   "metadata": {},
   "source": [
    "## Bruke biblioteksfunksjoner til å integrere\n",
    "Benytter scipy-biblioteket."
   ]
  },
  {
   "cell_type": "code",
   "execution_count": 28,
   "metadata": {},
   "outputs": [],
   "source": [
    "from scipy.integrate import trapezoid, simpson, quad"
   ]
  },
  {
   "cell_type": "code",
   "execution_count": 30,
   "metadata": {},
   "outputs": [],
   "source": [
    "x1 = np.linspace(0,1,10000)\n",
    "y1 = f(x)"
   ]
  },
  {
   "cell_type": "code",
   "execution_count": 32,
   "metadata": {},
   "outputs": [
    {
     "data": {
      "text/plain": [
       "0.3333333350003334"
      ]
     },
     "execution_count": 32,
     "metadata": {},
     "output_type": "execute_result"
    }
   ],
   "source": [
    "trapes = trapezoid(y = y1, x = x1)\n",
    "trapes"
   ]
  },
  {
   "cell_type": "code",
   "execution_count": 34,
   "metadata": {},
   "outputs": [
    {
     "data": {
      "text/plain": [
       "0.3333333333333333"
      ]
     },
     "execution_count": 34,
     "metadata": {},
     "output_type": "execute_result"
    }
   ],
   "source": [
    "simps = simpson(y = y1, x = x1)\n",
    "simps"
   ]
  },
  {
   "cell_type": "code",
   "execution_count": 37,
   "metadata": {},
   "outputs": [
    {
     "data": {
      "text/plain": [
       "(0.3333333333333333, 3.700743415417188e-15)"
      ]
     },
     "execution_count": 37,
     "metadata": {},
     "output_type": "execute_result"
    }
   ],
   "source": [
    "kvadratur = quad(f, 0, 1)\n",
    "kvadratur"
   ]
  },
  {
   "cell_type": "code",
   "execution_count": null,
   "metadata": {},
   "outputs": [],
   "source": []
  }
 ],
 "metadata": {
  "kernelspec": {
   "display_name": "Python (my-env)",
   "language": "python",
   "name": "my-env"
  },
  "language_info": {
   "codemirror_mode": {
    "name": "ipython",
    "version": 3
   },
   "file_extension": ".py",
   "mimetype": "text/x-python",
   "name": "python",
   "nbconvert_exporter": "python",
   "pygments_lexer": "ipython3",
   "version": "3.12.7"
  }
 },
 "nbformat": 4,
 "nbformat_minor": 4
}
