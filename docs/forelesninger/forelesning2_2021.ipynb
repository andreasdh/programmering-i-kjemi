{
 "cells": [
  {
   "cell_type": "markdown",
   "metadata": {},
   "source": [
    "## Forelesning 2: Plotting og datahåndtering\n",
    "I denne forelesningen skal vi se på datavisualisering og datahåndtering.\n",
    "- Enkel plotting.\n",
    "- Balansere reaksjonslikninger.\n",
    "- Utforske elektrokjemiske celler.\n",
    "- Regne på pH i ulike syre-base-systemer.\n",
    "- Visualisere molekyler.\n",
    "\n",
    "__Oppgave 1:__ Plott P som funksjon av V når T = 290 K, n = 1 mol og R = 8,314 J/(mol⋅K)\n",
    "\n",
    "Vi kan også plotte små datasett ved å benytte lister:"
   ]
  },
  {
   "cell_type": "code",
   "execution_count": null,
   "metadata": {},
   "outputs": [],
   "source": [
    "# pH i vann som funksjon av temperaturen i grader C\n",
    "T = [0, 10, 20, 30, 40, 50, 60, 70, 80, 90, 100]\n",
    "pH = [7.48, 7.29, 7.10, 6.90, 6.72, 6.61, 6.50, 6.41, 6.32, 6.26, 6.19]\n",
    "\n",
    "#..."
   ]
  },
  {
   "cell_type": "markdown",
   "metadata": {},
   "source": [
    "Store datafiler kan vi lese inn direkte, enten ved hjelp av basisfunksjonene i Python eller ved hjelp av biblioteker som _numpy_ og _pandas_."
   ]
  },
  {
   "cell_type": "code",
   "execution_count": 3,
   "metadata": {},
   "outputs": [],
   "source": [
    "# Lese titreringsdata"
   ]
  },
  {
   "cell_type": "markdown",
   "metadata": {},
   "source": [
    "## Pandas!\n",
    "\n",
    "![](https://miro.medium.com/max/1400/0*1F2u74JQYI8sUuYg)"
   ]
  },
  {
   "cell_type": "code",
   "execution_count": 48,
   "metadata": {
    "scrolled": true
   },
   "outputs": [
    {
     "data": {
      "text/plain": [
       "<matplotlib.collections.PathCollection at 0x1c5fe31fa00>"
      ]
     },
     "execution_count": 48,
     "metadata": {},
     "output_type": "execute_result"
    },
    {
     "data": {
      "image/png": "[encoded data removed]",
      "text/plain": [
       "<Figure size 432x288 with 1 Axes>"
      ]
     },
     "metadata": {
      "needs_background": "light"
     },
     "output_type": "display_data"
    }
   ],
   "source": [
    "# Lese grunnstoff-fil med Pandas\n",
    "import pandas as pd\n",
    "import matplotlib.pyplot as plt\n",
    "\n",
    "data = pd.read_csv(\"../datafiler/periodesystemet.csv\")\n",
    "\n",
    "y = data[\"FirstIonization\"][data[\"FirstIonization\"] < 5]\n",
    "x = y.index.values\n",
    "\n",
    "plt.scatter(x, y)"
   ]
  },
  {
   "cell_type": "code",
   "execution_count": 74,
   "metadata": {},
   "outputs": [
    {
     "data": {
      "text/html": [
       "<div>\n",
       "<style scoped>\n",
       "    .dataframe tbody tr th:only-of-type {\n",
       "        vertical-align: middle;\n",
       "    }\n",
       "\n",
       "    .dataframe tbody tr th {\n",
       "        vertical-align: top;\n",
       "    }\n",
       "\n",
       "    .dataframe thead th {\n",
       "        text-align: right;\n",
       "    }\n",
       "</style>\n",
       "<table border=\"1\" class=\"dataframe\">\n",
       "  <thead>\n",
       "    <tr style=\"text-align: right;\">\n",
       "      <th></th>\n",
       "      <th>AtomicNumber</th>\n",
       "      <th>AtomicMass</th>\n",
       "      <th>NumberofNeutrons</th>\n",
       "      <th>NumberofProtons</th>\n",
       "      <th>NumberofElectrons</th>\n",
       "      <th>Period</th>\n",
       "      <th>Group</th>\n",
       "      <th>AtomicRadius</th>\n",
       "      <th>Electronegativity</th>\n",
       "      <th>FirstIonization</th>\n",
       "      <th>Density</th>\n",
       "      <th>MeltingPoint</th>\n",
       "      <th>BoilingPoint</th>\n",
       "      <th>NumberOfIsotopes</th>\n",
       "      <th>Year</th>\n",
       "      <th>SpecificHeat</th>\n",
       "      <th>NumberofShells</th>\n",
       "      <th>NumberofValence</th>\n",
       "    </tr>\n",
       "  </thead>\n",
       "  <tbody>\n",
       "    <tr>\n",
       "      <th>count</th>\n",
       "      <td>118.000000</td>\n",
       "      <td>118.000000</td>\n",
       "      <td>118.000000</td>\n",
       "      <td>118.000000</td>\n",
       "      <td>118.000000</td>\n",
       "      <td>118.000000</td>\n",
       "      <td>90.000000</td>\n",
       "      <td>86.000000</td>\n",
       "      <td>96.000000</td>\n",
       "      <td>102.000000</td>\n",
       "      <td>105.000000</td>\n",
       "      <td>98.000000</td>\n",
       "      <td>98.000000</td>\n",
       "      <td>103.000000</td>\n",
       "      <td>107.000000</td>\n",
       "      <td>85.000000</td>\n",
       "      <td>118.000000</td>\n",
       "      <td>49.000000</td>\n",
       "    </tr>\n",
       "    <tr>\n",
       "      <th>mean</th>\n",
       "      <td>59.500000</td>\n",
       "      <td>145.988297</td>\n",
       "      <td>86.483051</td>\n",
       "      <td>59.500000</td>\n",
       "      <td>59.500000</td>\n",
       "      <td>5.254237</td>\n",
       "      <td>9.944444</td>\n",
       "      <td>1.825814</td>\n",
       "      <td>1.695000</td>\n",
       "      <td>7.988505</td>\n",
       "      <td>9.232161</td>\n",
       "      <td>1281.475184</td>\n",
       "      <td>2513.143163</td>\n",
       "      <td>28.116505</td>\n",
       "      <td>1865.280374</td>\n",
       "      <td>0.635976</td>\n",
       "      <td>5.254237</td>\n",
       "      <td>4.428571</td>\n",
       "    </tr>\n",
       "    <tr>\n",
       "      <th>std</th>\n",
       "      <td>34.207699</td>\n",
       "      <td>88.954899</td>\n",
       "      <td>54.785320</td>\n",
       "      <td>34.207699</td>\n",
       "      <td>34.207699</td>\n",
       "      <td>1.618200</td>\n",
       "      <td>5.597674</td>\n",
       "      <td>0.611058</td>\n",
       "      <td>0.621174</td>\n",
       "      <td>3.334571</td>\n",
       "      <td>8.630406</td>\n",
       "      <td>903.685175</td>\n",
       "      <td>1601.901036</td>\n",
       "      <td>35.864205</td>\n",
       "      <td>97.951740</td>\n",
       "      <td>1.653965</td>\n",
       "      <td>1.618200</td>\n",
       "      <td>2.345208</td>\n",
       "    </tr>\n",
       "    <tr>\n",
       "      <th>min</th>\n",
       "      <td>1.000000</td>\n",
       "      <td>1.007000</td>\n",
       "      <td>0.000000</td>\n",
       "      <td>1.000000</td>\n",
       "      <td>1.000000</td>\n",
       "      <td>1.000000</td>\n",
       "      <td>1.000000</td>\n",
       "      <td>0.490000</td>\n",
       "      <td>0.700000</td>\n",
       "      <td>3.893900</td>\n",
       "      <td>0.000090</td>\n",
       "      <td>14.175000</td>\n",
       "      <td>4.220000</td>\n",
       "      <td>3.000000</td>\n",
       "      <td>1250.000000</td>\n",
       "      <td>0.094000</td>\n",
       "      <td>1.000000</td>\n",
       "      <td>1.000000</td>\n",
       "    </tr>\n",
       "    <tr>\n",
       "      <th>25%</th>\n",
       "      <td>30.250000</td>\n",
       "      <td>66.465750</td>\n",
       "      <td>36.000000</td>\n",
       "      <td>30.250000</td>\n",
       "      <td>30.250000</td>\n",
       "      <td>4.000000</td>\n",
       "      <td>5.000000</td>\n",
       "      <td>1.425000</td>\n",
       "      <td>1.237500</td>\n",
       "      <td>6.004850</td>\n",
       "      <td>2.700000</td>\n",
       "      <td>510.695000</td>\n",
       "      <td>1069.000000</td>\n",
       "      <td>11.000000</td>\n",
       "      <td>1803.500000</td>\n",
       "      <td>0.168000</td>\n",
       "      <td>4.000000</td>\n",
       "      <td>2.000000</td>\n",
       "    </tr>\n",
       "    <tr>\n",
       "      <th>50%</th>\n",
       "      <td>59.500000</td>\n",
       "      <td>142.575000</td>\n",
       "      <td>83.000000</td>\n",
       "      <td>59.500000</td>\n",
       "      <td>59.500000</td>\n",
       "      <td>6.000000</td>\n",
       "      <td>10.500000</td>\n",
       "      <td>1.800000</td>\n",
       "      <td>1.585000</td>\n",
       "      <td>6.960250</td>\n",
       "      <td>7.290000</td>\n",
       "      <td>1204.150000</td>\n",
       "      <td>2767.000000</td>\n",
       "      <td>19.000000</td>\n",
       "      <td>1878.000000</td>\n",
       "      <td>0.244000</td>\n",
       "      <td>6.000000</td>\n",
       "      <td>4.000000</td>\n",
       "    </tr>\n",
       "    <tr>\n",
       "      <th>75%</th>\n",
       "      <td>88.750000</td>\n",
       "      <td>226.750000</td>\n",
       "      <td>138.000000</td>\n",
       "      <td>88.750000</td>\n",
       "      <td>88.750000</td>\n",
       "      <td>7.000000</td>\n",
       "      <td>15.000000</td>\n",
       "      <td>2.200000</td>\n",
       "      <td>2.062500</td>\n",
       "      <td>8.964925</td>\n",
       "      <td>12.000000</td>\n",
       "      <td>1811.150000</td>\n",
       "      <td>3596.750000</td>\n",
       "      <td>24.000000</td>\n",
       "      <td>1940.000000</td>\n",
       "      <td>0.489000</td>\n",
       "      <td>7.000000</td>\n",
       "      <td>6.000000</td>\n",
       "    </tr>\n",
       "    <tr>\n",
       "      <th>max</th>\n",
       "      <td>118.000000</td>\n",
       "      <td>295.000000</td>\n",
       "      <td>178.000000</td>\n",
       "      <td>118.000000</td>\n",
       "      <td>118.000000</td>\n",
       "      <td>7.000000</td>\n",
       "      <td>18.000000</td>\n",
       "      <td>3.300000</td>\n",
       "      <td>3.980000</td>\n",
       "      <td>24.587400</td>\n",
       "      <td>41.000000</td>\n",
       "      <td>3948.150000</td>\n",
       "      <td>5869.000000</td>\n",
       "      <td>203.000000</td>\n",
       "      <td>2010.000000</td>\n",
       "      <td>14.304000</td>\n",
       "      <td>7.000000</td>\n",
       "      <td>8.000000</td>\n",
       "    </tr>\n",
       "  </tbody>\n",
       "</table>\n",
       "</div>"
      ],
      "text/plain": [
       "       AtomicNumber  AtomicMass  NumberofNeutrons  NumberofProtons  \\\n",
       "count    118.000000  118.000000        118.000000       118.000000   \n",
       "mean      59.500000  145.988297         86.483051        59.500000   \n",
       "std       34.207699   88.954899         54.785320        34.207699   \n",
       "min        1.000000    1.007000          0.000000         1.000000   \n",
       "25%       30.250000   66.465750         36.000000        30.250000   \n",
       "50%       59.500000  142.575000         83.000000        59.500000   \n",
       "75%       88.750000  226.750000        138.000000        88.750000   \n",
       "max      118.000000  295.000000        178.000000       118.000000   \n",
       "\n",
       "       NumberofElectrons      Period      Group  AtomicRadius  \\\n",
       "count         118.000000  118.000000  90.000000     86.000000   \n",
       "mean           59.500000    5.254237   9.944444      1.825814   \n",
       "std            34.207699    1.618200   5.597674      0.611058   \n",
       "min             1.000000    1.000000   1.000000      0.490000   \n",
       "25%            30.250000    4.000000   5.000000      1.425000   \n",
       "50%            59.500000    6.000000  10.500000      1.800000   \n",
       "75%            88.750000    7.000000  15.000000      2.200000   \n",
       "max           118.000000    7.000000  18.000000      3.300000   \n",
       "\n",
       "       Electronegativity  FirstIonization     Density  MeltingPoint  \\\n",
       "count          96.000000       102.000000  105.000000     98.000000   \n",
       "mean            1.695000         7.988505    9.232161   1281.475184   \n",
       "std             0.621174         3.334571    8.630406    903.685175   \n",
       "min             0.700000         3.893900    0.000090     14.175000   \n",
       "25%             1.237500         6.004850    2.700000    510.695000   \n",
       "50%             1.585000         6.960250    7.290000   1204.150000   \n",
       "75%             2.062500         8.964925   12.000000   1811.150000   \n",
       "max             3.980000        24.587400   41.000000   3948.150000   \n",
       "\n",
       "       BoilingPoint  NumberOfIsotopes         Year  SpecificHeat  \\\n",
       "count     98.000000        103.000000   107.000000     85.000000   \n",
       "mean    2513.143163         28.116505  1865.280374      0.635976   \n",
       "std     1601.901036         35.864205    97.951740      1.653965   \n",
       "min        4.220000          3.000000  1250.000000      0.094000   \n",
       "25%     1069.000000         11.000000  1803.500000      0.168000   \n",
       "50%     2767.000000         19.000000  1878.000000      0.244000   \n",
       "75%     3596.750000         24.000000  1940.000000      0.489000   \n",
       "max     5869.000000        203.000000  2010.000000     14.304000   \n",
       "\n",
       "       NumberofShells  NumberofValence  \n",
       "count      118.000000        49.000000  \n",
       "mean         5.254237         4.428571  \n",
       "std          1.618200         2.345208  \n",
       "min          1.000000         1.000000  \n",
       "25%          4.000000         2.000000  \n",
       "50%          6.000000         4.000000  \n",
       "75%          7.000000         6.000000  \n",
       "max          7.000000         8.000000  "
      ]
     },
     "execution_count": 74,
     "metadata": {},
     "output_type": "execute_result"
    }
   ],
   "source": [
    "data.describe()"
   ]
  },
  {
   "cell_type": "markdown",
   "metadata": {},
   "source": [
    "Menti: www.menti.com/wzruzmq8cw"
   ]
  },
  {
   "cell_type": "markdown",
   "metadata": {},
   "source": [
    "## Visualisering\n",
    "\n",
    "Seaborn-biblioteket er en utvidelse av matplotlib som gir tilgang til mange fine visualiseringer."
   ]
  },
  {
   "cell_type": "code",
   "execution_count": null,
   "metadata": {},
   "outputs": [],
   "source": []
  },
  {
   "cell_type": "code",
   "execution_count": null,
   "metadata": {},
   "outputs": [],
   "source": []
  },
  {
   "cell_type": "code",
   "execution_count": null,
   "metadata": {},
   "outputs": [],
   "source": []
  },
  {
   "cell_type": "code",
   "execution_count": null,
   "metadata": {},
   "outputs": [],
   "source": []
  },
  {
   "cell_type": "markdown",
   "metadata": {},
   "source": [
    "## Statistikk\n",
    "- Interkvartilbredde.\n",
    "- Gjennomsnitt.\n",
    "- Varians ($\\sigma^2$) og standardavvik ($\\sigma$):\n",
    "\n",
    "$$\\sigma^2  = \\frac{1}{n-1}\\sum_{i=1}^n(x_i-\\bar{x})^2$$\n",
    "\n",
    "$$\\sigma  = \\sqrt{\\frac{1}{n-1}\\sum_{i=1}^n(x_i-\\bar{x})^2}$$"
   ]
  },
  {
   "cell_type": "code",
   "execution_count": 96,
   "metadata": {},
   "outputs": [],
   "source": [
    "# Boksplott\n",
    "konsentrasjon = [2, 3, 3, 4, 4, 4, 5]"
   ]
  },
  {
   "cell_type": "markdown",
   "metadata": {},
   "source": [
    "__Oppgave:__ Regn ut gjennomsnitt, varians og standardavvik \"for hånd\" (du kan bruke Python som kalkulator)."
   ]
  },
  {
   "cell_type": "code",
   "execution_count": 93,
   "metadata": {},
   "outputs": [
    {
     "data": {
      "text/plain": [
       "<AxesSubplot:>"
      ]
     },
     "execution_count": 93,
     "metadata": {},
     "output_type": "execute_result"
    },
    {
     "data": {
      "image/png": "[encoded data removed]",
      "text/plain": [
       "<Figure size 432x288 with 1 Axes>"
      ]
     },
     "metadata": {
      "needs_background": "light"
     },
     "output_type": "display_data"
    }
   ],
   "source": [
    "sns.boxplot(y=konsentrasjon)\n",
    "# Hva skjer hvis vi legger inn en \"uteligger\"?"
   ]
  },
  {
   "cell_type": "code",
   "execution_count": 108,
   "metadata": {},
   "outputs": [],
   "source": [
    "# Gjennomsnitt, median, varians og standardavvik av elektronegativitet"
   ]
  },
  {
   "cell_type": "markdown",
   "metadata": {},
   "source": [
    "## Regresjon\n",
    "\n",
    "|     Temperatur (°C)     |     NH3, løselighet     (g/100 mL H$_2$O)     |     NaCl, Løselighet      (g/100 mL H$_2$O)     |\n",
    "|-------------------------|--------------------------------------------|----------------------------------------------|\n",
    "|     0                   |     88.5                                   |     35.7                                     |\n",
    "|     20                  |     56.0                                   |     35.9                                     |\n",
    "|     40                  |     34.0                                   |     36.4                                     |\n",
    "|     60                  |     20.0                                   |     37.1                                     |\n",
    "|     80                  |     11.0                                   |     38.0                                     |\n",
    "|     100                 |     7.0                                    |     39.2                                     |"
   ]
  },
  {
   "cell_type": "code",
   "execution_count": 109,
   "metadata": {},
   "outputs": [],
   "source": [
    "# La oss gjøre en regresjon"
   ]
  },
  {
   "cell_type": "markdown",
   "metadata": {},
   "source": [
    "Menti: https://www.menti.com/2sikjeo4ga"
   ]
  }
 ],
 "metadata": {
  "celltoolbar": "Edit Metadata",
  "kernelspec": {
   "display_name": "Python 3",
   "language": "python",
   "name": "python3"
  },
  "language_info": {
   "codemirror_mode": {
    "name": "ipython",
    "version": 3
   },
   "file_extension": ".py",
   "mimetype": "text/x-python",
   "name": "python",
   "nbconvert_exporter": "python",
   "pygments_lexer": "ipython3",
   "version": "3.8.5"
  }
 },
 "nbformat": 4,
 "nbformat_minor": 4
}
