{
 "cells": [
  {
   "cell_type": "markdown",
   "metadata": {},
   "source": [
    "## Forelesning 2: Plotting og datahåndtering\n",
    "I denne forelesningen skal vi se på datavisualisering og datahåndtering.\n",
    "- Enkel plotting\n",
    "- Lese datafiler\n",
    "- Rydde og visualisere data\n",
    "- Gjøre statistiske operasjoner på data\n",
    "\n",
    "__Oppgave 1:__ Plott P som funksjon av V når T = 290 K, n = 1 mol og R = 8,314 J/(mol⋅K)\n",
    "\n",
    "Vi kan også plotte små datasett ved å benytte lister:"
   ]
  },
  {
   "cell_type": "code",
   "execution_count": null,
   "metadata": {},
   "outputs": [],
   "source": [
    "# pH i vann som funksjon av temperaturen i grader C\n",
    "T = [0, 10, 20, 30, 40, 50, 60, 70, 80, 90, 100]\n",
    "pH = [7.48, 7.29, 7.10, 6.90, 6.72, 6.61, 6.50, 6.41, 6.32, 6.26, 6.19]\n",
    "\n",
    "#..."
   ]
  },
  {
   "cell_type": "markdown",
   "metadata": {},
   "source": [
    "Store datafiler kan vi lese inn direkte, enten ved hjelp av basisfunksjonene i Python eller ved hjelp av biblioteker som _numpy_ og _pandas_."
   ]
  },
  {
   "cell_type": "code",
   "execution_count": null,
   "metadata": {},
   "outputs": [],
   "source": [
    "# Lese titreringsdata"
   ]
  },
  {
   "cell_type": "markdown",
   "metadata": {},
   "source": [
    "## Pandas!\n",
    "\n",
    "![](https://miro.medium.com/max/1400/0*1F2u74JQYI8sUuYg)"
   ]
  },
  {
   "cell_type": "code",
   "execution_count": null,
   "metadata": {
    "scrolled": true
   },
   "outputs": [],
   "source": []
  },
  {
   "cell_type": "code",
   "execution_count": null,
   "metadata": {},
   "outputs": [],
   "source": []
  },
  {
   "cell_type": "code",
   "execution_count": null,
   "metadata": {},
   "outputs": [],
   "source": []
  },
  {
   "cell_type": "markdown",
   "metadata": {},
   "source": [
    "Menti: www.menti.com/wzruzmq8cw"
   ]
  },
  {
   "cell_type": "markdown",
   "metadata": {},
   "source": [
    "## Visualisering\n",
    "\n",
    "Seaborn-biblioteket er en utvidelse av matplotlib som gir tilgang til mange fine visualiseringer."
   ]
  },
  {
   "cell_type": "code",
   "execution_count": null,
   "metadata": {},
   "outputs": [],
   "source": []
  },
  {
   "cell_type": "code",
   "execution_count": null,
   "metadata": {},
   "outputs": [],
   "source": []
  },
  {
   "cell_type": "code",
   "execution_count": null,
   "metadata": {},
   "outputs": [],
   "source": []
  },
  {
   "cell_type": "code",
   "execution_count": null,
   "metadata": {},
   "outputs": [],
   "source": []
  },
  {
   "cell_type": "markdown",
   "metadata": {},
   "source": [
    "## Statistikk\n",
    "- Interkvartilbredde.\n",
    "- Gjennomsnitt.\n",
    "- Varians ($\\sigma^2$) og standardavvik ($\\sigma$):\n",
    "\n",
    "$$\\sigma^2  = \\frac{1}{n-1}\\sum_{i=1}^n(x_i-\\bar{x})^2$$\n",
    "\n",
    "$$\\sigma  = \\sqrt{\\frac{1}{n-1}\\sum_{i=1}^n(x_i-\\bar{x})^2}$$"
   ]
  },
  {
   "cell_type": "code",
   "execution_count": null,
   "metadata": {},
   "outputs": [],
   "source": [
    "# Boksplott\n",
    "konsentrasjon = [2, 3, 3, 4, 4, 4, 5]"
   ]
  },
  {
   "cell_type": "markdown",
   "metadata": {},
   "source": [
    "__Oppgave:__ Regn ut gjennomsnitt, varians og standardavvik \"for hånd\" (du kan bruke Python som kalkulator)."
   ]
  },
  {
   "cell_type": "code",
   "execution_count": null,
   "metadata": {},
   "outputs": [],
   "source": [
    "# Hva skjer hvis vi legger inn en \"uteligger\"?"
   ]
  },
  {
   "cell_type": "code",
   "execution_count": null,
   "metadata": {},
   "outputs": [],
   "source": [
    "# Gjennomsnitt, median, varians og standardavvik av elektronegativitet"
   ]
  },
  {
   "cell_type": "markdown",
   "metadata": {},
   "source": [
    "## Regresjon\n",
    "\n",
    "|     Temperatur (°C)     |     NH3, løselighet     (g/100 mL H$_2$O)     |     NaCl, Løselighet      (g/100 mL H$_2$O)     |\n",
    "|-------------------------|--------------------------------------------|----------------------------------------------|\n",
    "|     0                   |     88.5                                   |     35.7                                     |\n",
    "|     20                  |     56.0                                   |     35.9                                     |\n",
    "|     40                  |     34.0                                   |     36.4                                     |\n",
    "|     60                  |     20.0                                   |     37.1                                     |\n",
    "|     80                  |     11.0                                   |     38.0                                     |\n",
    "|     100                 |     7.0                                    |     39.2                                     |"
   ]
  },
  {
   "cell_type": "code",
   "execution_count": null,
   "metadata": {},
   "outputs": [],
   "source": [
    "# La oss gjøre en regresjon"
   ]
  },
  {
   "cell_type": "markdown",
   "metadata": {},
   "source": [
    "Menti: https://www.menti.com/2sikjeo4ga"
   ]
  }
 ],
 "metadata": {
  "celltoolbar": "Edit Metadata",
  "kernelspec": {
   "display_name": "Python 3",
   "language": "python",
   "name": "python3"
  },
  "language_info": {
   "codemirror_mode": {
    "name": "ipython",
    "version": 3
   },
   "file_extension": ".py",
   "mimetype": "text/x-python",
   "name": "python",
   "nbconvert_exporter": "python",
   "pygments_lexer": "ipython3",
   "version": "3.8.8"
  }
 },
 "nbformat": 4,
 "nbformat_minor": 4
}
