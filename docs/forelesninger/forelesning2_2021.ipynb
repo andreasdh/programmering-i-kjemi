{
 "cells": [
  {
   "cell_type": "markdown",
   "metadata": {},
   "source": [
    "## Forelesning 2: Plotting og datahåndtering\n",
    "I denne forelesningen skal vi se på datavisualisering og datahåndtering.\n",
    "- enkel plotting (med matplotlib og seaborn)\n",
    "- lese datafiler (med pandas)\n",
    "- rydde og visualisere data (med pandas)\n",
    "- gjøre statistiske operasjoner på data (pandas og numpy)\n",
    "- gjøre og tolke regresjon (numpy)\n",
    "\n",
    "__Oppgave 1:__ Plott P som funksjon av V når T = 290 K, n = 1 mol og R = 8,314 J/(mol⋅K)"
   ]
  },
  {
   "cell_type": "code",
   "execution_count": 1,
   "metadata": {},
   "outputs": [
    {
     "data": {
      "image/png": "[encoded data removed]",
      "text/plain": [
       "<Figure size 432x288 with 1 Axes>"
      ]
     },
     "metadata": {
      "needs_background": "light"
     },
     "output_type": "display_data"
    }
   ],
   "source": [
    "import matplotlib.pyplot as plt\n",
    "import numpy as np\n",
    "\n",
    "T = 290 # Temperatur i K\n",
    "n = 1   # Stoffmengde i mol\n",
    "R = 8.314 # Gasskonstanten i J/(molK)\n",
    "\n",
    "V = np.linspace(1, 10, 10000) # Volum i m^3\n",
    "P = n*R*T/V\n",
    "\n",
    "plt.plot(V,P)\n",
    "plt.xlabel(\"Volum (m$^3$)\")\n",
    "plt.ylabel(\"Trykk (Pa)\")\n",
    "plt.show()"
   ]
  },
  {
   "cell_type": "markdown",
   "metadata": {},
   "source": [
    "Vi kan også plotte små datasett ved å benytte lister:"
   ]
  },
  {
   "cell_type": "code",
   "execution_count": 2,
   "metadata": {},
   "outputs": [
    {
     "data": {
      "image/png": "[encoded data removed]",
      "text/plain": [
       "<Figure size 432x288 with 1 Axes>"
      ]
     },
     "metadata": {
      "needs_background": "light"
     },
     "output_type": "display_data"
    }
   ],
   "source": [
    "# pH i vann som funksjon av temperaturen i grader C\n",
    "T = [0, 10, 20, 30, 40, 50, 60, 70, 80, 90, 100]\n",
    "pH = [7.48, 7.29, 7.10, 6.90, 6.72, 6.61, 6.50, 6.41, 6.32, 6.26, 6.19]\n",
    "\n",
    "plt.plot(T,pH)\n",
    "plt.xlabel(\"Temperatur ($^o$C)\")\n",
    "plt.ylabel(\"pH\")\n",
    "plt.grid()\n",
    "plt.show()"
   ]
  },
  {
   "cell_type": "markdown",
   "metadata": {},
   "source": [
    "Store datafiler kan vi lese inn direkte, enten ved hjelp av basisfunksjonene i Python eller ved hjelp av biblioteker som _numpy_ og _pandas_."
   ]
  },
  {
   "cell_type": "markdown",
   "metadata": {},
   "source": [
    "## Pandas!\n",
    "\n",
    "![](https://miro.medium.com/max/1400/0*1F2u74JQYI8sUuYg)"
   ]
  },
  {
   "cell_type": "code",
   "execution_count": 4,
   "metadata": {
    "scrolled": true
   },
   "outputs": [],
   "source": [
    "import pandas as pd"
   ]
  },
  {
   "cell_type": "code",
   "execution_count": 5,
   "metadata": {},
   "outputs": [],
   "source": [
    "data = pd.read_csv(\"https://www.uio.no/studier/emner/matnat/ifi/IN-KJM1900/h21/datafiler/periodesystemet.csv\")"
   ]
  },
  {
   "cell_type": "code",
   "execution_count": 7,
   "metadata": {},
   "outputs": [
    {
     "data": {
      "text/html": [
       "<div>\n",
       "<style scoped>\n",
       "    .dataframe tbody tr th:only-of-type {\n",
       "        vertical-align: middle;\n",
       "    }\n",
       "\n",
       "    .dataframe tbody tr th {\n",
       "        vertical-align: top;\n",
       "    }\n",
       "\n",
       "    .dataframe thead th {\n",
       "        text-align: right;\n",
       "    }\n",
       "</style>\n",
       "<table border=\"1\" class=\"dataframe\">\n",
       "  <thead>\n",
       "    <tr style=\"text-align: right;\">\n",
       "      <th></th>\n",
       "      <th>AtomicNumber</th>\n",
       "      <th>Element</th>\n",
       "      <th>Symbol</th>\n",
       "      <th>AtomicMass</th>\n",
       "      <th>NumberofNeutrons</th>\n",
       "      <th>NumberofProtons</th>\n",
       "      <th>NumberofElectrons</th>\n",
       "      <th>Period</th>\n",
       "      <th>Group</th>\n",
       "      <th>Phase</th>\n",
       "      <th>...</th>\n",
       "      <th>FirstIonization</th>\n",
       "      <th>Density</th>\n",
       "      <th>MeltingPoint</th>\n",
       "      <th>BoilingPoint</th>\n",
       "      <th>NumberOfIsotopes</th>\n",
       "      <th>Discoverer</th>\n",
       "      <th>Year</th>\n",
       "      <th>SpecificHeat</th>\n",
       "      <th>NumberofShells</th>\n",
       "      <th>NumberofValence</th>\n",
       "    </tr>\n",
       "  </thead>\n",
       "  <tbody>\n",
       "    <tr>\n",
       "      <th>0</th>\n",
       "      <td>1</td>\n",
       "      <td>Hydrogen</td>\n",
       "      <td>H</td>\n",
       "      <td>1.007</td>\n",
       "      <td>0</td>\n",
       "      <td>1</td>\n",
       "      <td>1</td>\n",
       "      <td>1</td>\n",
       "      <td>1.0</td>\n",
       "      <td>gas</td>\n",
       "      <td>...</td>\n",
       "      <td>13.5984</td>\n",
       "      <td>0.000090</td>\n",
       "      <td>14.175</td>\n",
       "      <td>20.28</td>\n",
       "      <td>3.0</td>\n",
       "      <td>Cavendish</td>\n",
       "      <td>1766.0</td>\n",
       "      <td>14.304</td>\n",
       "      <td>1</td>\n",
       "      <td>1.0</td>\n",
       "    </tr>\n",
       "    <tr>\n",
       "      <th>1</th>\n",
       "      <td>2</td>\n",
       "      <td>Helium</td>\n",
       "      <td>He</td>\n",
       "      <td>4.002</td>\n",
       "      <td>2</td>\n",
       "      <td>2</td>\n",
       "      <td>2</td>\n",
       "      <td>1</td>\n",
       "      <td>18.0</td>\n",
       "      <td>gas</td>\n",
       "      <td>...</td>\n",
       "      <td>24.5874</td>\n",
       "      <td>0.000179</td>\n",
       "      <td>NaN</td>\n",
       "      <td>4.22</td>\n",
       "      <td>5.0</td>\n",
       "      <td>Janssen</td>\n",
       "      <td>1868.0</td>\n",
       "      <td>5.193</td>\n",
       "      <td>1</td>\n",
       "      <td>NaN</td>\n",
       "    </tr>\n",
       "    <tr>\n",
       "      <th>2</th>\n",
       "      <td>3</td>\n",
       "      <td>Lithium</td>\n",
       "      <td>Li</td>\n",
       "      <td>6.941</td>\n",
       "      <td>4</td>\n",
       "      <td>3</td>\n",
       "      <td>3</td>\n",
       "      <td>2</td>\n",
       "      <td>1.0</td>\n",
       "      <td>solid</td>\n",
       "      <td>...</td>\n",
       "      <td>5.3917</td>\n",
       "      <td>0.534000</td>\n",
       "      <td>453.850</td>\n",
       "      <td>1615.00</td>\n",
       "      <td>5.0</td>\n",
       "      <td>Arfvedson</td>\n",
       "      <td>1817.0</td>\n",
       "      <td>3.582</td>\n",
       "      <td>2</td>\n",
       "      <td>1.0</td>\n",
       "    </tr>\n",
       "    <tr>\n",
       "      <th>3</th>\n",
       "      <td>4</td>\n",
       "      <td>Beryllium</td>\n",
       "      <td>Be</td>\n",
       "      <td>9.012</td>\n",
       "      <td>5</td>\n",
       "      <td>4</td>\n",
       "      <td>4</td>\n",
       "      <td>2</td>\n",
       "      <td>2.0</td>\n",
       "      <td>solid</td>\n",
       "      <td>...</td>\n",
       "      <td>9.3227</td>\n",
       "      <td>1.850000</td>\n",
       "      <td>1560.150</td>\n",
       "      <td>2742.00</td>\n",
       "      <td>6.0</td>\n",
       "      <td>Vaulquelin</td>\n",
       "      <td>1798.0</td>\n",
       "      <td>1.825</td>\n",
       "      <td>2</td>\n",
       "      <td>2.0</td>\n",
       "    </tr>\n",
       "    <tr>\n",
       "      <th>4</th>\n",
       "      <td>5</td>\n",
       "      <td>Boron</td>\n",
       "      <td>B</td>\n",
       "      <td>10.811</td>\n",
       "      <td>6</td>\n",
       "      <td>5</td>\n",
       "      <td>5</td>\n",
       "      <td>2</td>\n",
       "      <td>13.0</td>\n",
       "      <td>solid</td>\n",
       "      <td>...</td>\n",
       "      <td>8.2980</td>\n",
       "      <td>2.340000</td>\n",
       "      <td>2573.150</td>\n",
       "      <td>4200.00</td>\n",
       "      <td>6.0</td>\n",
       "      <td>Gay-Lussac</td>\n",
       "      <td>1808.0</td>\n",
       "      <td>1.026</td>\n",
       "      <td>2</td>\n",
       "      <td>3.0</td>\n",
       "    </tr>\n",
       "  </tbody>\n",
       "</table>\n",
       "<p>5 rows × 28 columns</p>\n",
       "</div>"
      ],
      "text/plain": [
       "   AtomicNumber    Element Symbol  AtomicMass  NumberofNeutrons  \\\n",
       "0             1   Hydrogen      H       1.007                 0   \n",
       "1             2     Helium     He       4.002                 2   \n",
       "2             3    Lithium     Li       6.941                 4   \n",
       "3             4  Beryllium     Be       9.012                 5   \n",
       "4             5      Boron      B      10.811                 6   \n",
       "\n",
       "   NumberofProtons  NumberofElectrons  Period  Group  Phase  ...  \\\n",
       "0                1                  1       1    1.0    gas  ...   \n",
       "1                2                  2       1   18.0    gas  ...   \n",
       "2                3                  3       2    1.0  solid  ...   \n",
       "3                4                  4       2    2.0  solid  ...   \n",
       "4                5                  5       2   13.0  solid  ...   \n",
       "\n",
       "  FirstIonization   Density MeltingPoint BoilingPoint NumberOfIsotopes  \\\n",
       "0         13.5984  0.000090       14.175        20.28              3.0   \n",
       "1         24.5874  0.000179          NaN         4.22              5.0   \n",
       "2          5.3917  0.534000      453.850      1615.00              5.0   \n",
       "3          9.3227  1.850000     1560.150      2742.00              6.0   \n",
       "4          8.2980  2.340000     2573.150      4200.00              6.0   \n",
       "\n",
       "   Discoverer    Year  SpecificHeat  NumberofShells  NumberofValence  \n",
       "0   Cavendish  1766.0        14.304               1              1.0  \n",
       "1     Janssen  1868.0         5.193               1              NaN  \n",
       "2   Arfvedson  1817.0         3.582               2              1.0  \n",
       "3  Vaulquelin  1798.0         1.825               2              2.0  \n",
       "4  Gay-Lussac  1808.0         1.026               2              3.0  \n",
       "\n",
       "[5 rows x 28 columns]"
      ]
     },
     "execution_count": 7,
     "metadata": {},
     "output_type": "execute_result"
    }
   ],
   "source": [
    "data.head()"
   ]
  },
  {
   "cell_type": "code",
   "execution_count": 8,
   "metadata": {},
   "outputs": [
    {
     "name": "stdout",
     "output_type": "stream",
     "text": [
      "<class 'pandas.core.frame.DataFrame'>\n",
      "RangeIndex: 118 entries, 0 to 117\n",
      "Data columns (total 28 columns):\n",
      " #   Column             Non-Null Count  Dtype  \n",
      "---  ------             --------------  -----  \n",
      " 0   AtomicNumber       118 non-null    int64  \n",
      " 1   Element            118 non-null    object \n",
      " 2   Symbol             118 non-null    object \n",
      " 3   AtomicMass         118 non-null    float64\n",
      " 4   NumberofNeutrons   118 non-null    int64  \n",
      " 5   NumberofProtons    118 non-null    int64  \n",
      " 6   NumberofElectrons  118 non-null    int64  \n",
      " 7   Period             118 non-null    int64  \n",
      " 8   Group              90 non-null     float64\n",
      " 9   Phase              118 non-null    object \n",
      " 10  Radioactive        37 non-null     object \n",
      " 11  Natural            90 non-null     object \n",
      " 12  Metal              92 non-null     object \n",
      " 13  Nonmetal           19 non-null     object \n",
      " 14  Metalloid          7 non-null      object \n",
      " 15  Type               115 non-null    object \n",
      " 16  AtomicRadius       86 non-null     float64\n",
      " 17  Electronegativity  96 non-null     float64\n",
      " 18  FirstIonization    102 non-null    float64\n",
      " 19  Density            105 non-null    float64\n",
      " 20  MeltingPoint       98 non-null     float64\n",
      " 21  BoilingPoint       98 non-null     float64\n",
      " 22  NumberOfIsotopes   103 non-null    float64\n",
      " 23  Discoverer         109 non-null    object \n",
      " 24  Year               107 non-null    float64\n",
      " 25  SpecificHeat       85 non-null     float64\n",
      " 26  NumberofShells     118 non-null    int64  \n",
      " 27  NumberofValence    49 non-null     float64\n",
      "dtypes: float64(12), int64(6), object(10)\n",
      "memory usage: 25.9+ KB\n"
     ]
    }
   ],
   "source": [
    "data.info()"
   ]
  },
  {
   "cell_type": "code",
   "execution_count": 10,
   "metadata": {},
   "outputs": [
    {
     "data": {
      "text/plain": [
       "<matplotlib.collections.PathCollection at 0x20e8c610250>"
      ]
     },
     "execution_count": 10,
     "metadata": {},
     "output_type": "execute_result"
    },
    {
     "data": {
      "image/png": "[encoded data removed]",
      "text/plain": [
       "<Figure size 432x288 with 1 Axes>"
      ]
     },
     "metadata": {
      "needs_background": "light"
     },
     "output_type": "display_data"
    }
   ],
   "source": [
    "plt.scatter(data[\"AtomicNumber\"], data[\"Electronegativity\"])"
   ]
  },
  {
   "cell_type": "code",
   "execution_count": 6,
   "metadata": {},
   "outputs": [],
   "source": [
    "data_high_elec = data[data[\"Electronegativity\"] > 3]"
   ]
  },
  {
   "cell_type": "code",
   "execution_count": 7,
   "metadata": {
    "scrolled": true
   },
   "outputs": [
    {
     "data": {
      "text/html": [
       "<div>\n",
       "<style scoped>\n",
       "    .dataframe tbody tr th:only-of-type {\n",
       "        vertical-align: middle;\n",
       "    }\n",
       "\n",
       "    .dataframe tbody tr th {\n",
       "        vertical-align: top;\n",
       "    }\n",
       "\n",
       "    .dataframe thead th {\n",
       "        text-align: right;\n",
       "    }\n",
       "</style>\n",
       "<table border=\"1\" class=\"dataframe\">\n",
       "  <thead>\n",
       "    <tr style=\"text-align: right;\">\n",
       "      <th></th>\n",
       "      <th>AtomicNumber</th>\n",
       "      <th>Element</th>\n",
       "      <th>Symbol</th>\n",
       "      <th>AtomicMass</th>\n",
       "      <th>NumberofNeutrons</th>\n",
       "      <th>NumberofProtons</th>\n",
       "      <th>NumberofElectrons</th>\n",
       "      <th>Period</th>\n",
       "      <th>Group</th>\n",
       "      <th>Phase</th>\n",
       "      <th>...</th>\n",
       "      <th>FirstIonization</th>\n",
       "      <th>Density</th>\n",
       "      <th>MeltingPoint</th>\n",
       "      <th>BoilingPoint</th>\n",
       "      <th>NumberOfIsotopes</th>\n",
       "      <th>Discoverer</th>\n",
       "      <th>Year</th>\n",
       "      <th>SpecificHeat</th>\n",
       "      <th>NumberofShells</th>\n",
       "      <th>NumberofValence</th>\n",
       "    </tr>\n",
       "  </thead>\n",
       "  <tbody>\n",
       "    <tr>\n",
       "      <th>6</th>\n",
       "      <td>7</td>\n",
       "      <td>Nitrogen</td>\n",
       "      <td>N</td>\n",
       "      <td>14.007</td>\n",
       "      <td>7</td>\n",
       "      <td>7</td>\n",
       "      <td>7</td>\n",
       "      <td>2</td>\n",
       "      <td>15.0</td>\n",
       "      <td>gas</td>\n",
       "      <td>...</td>\n",
       "      <td>14.5341</td>\n",
       "      <td>0.00125</td>\n",
       "      <td>63.29</td>\n",
       "      <td>77.36</td>\n",
       "      <td>8.0</td>\n",
       "      <td>Rutherford</td>\n",
       "      <td>1772.0</td>\n",
       "      <td>1.040</td>\n",
       "      <td>2</td>\n",
       "      <td>5.0</td>\n",
       "    </tr>\n",
       "    <tr>\n",
       "      <th>7</th>\n",
       "      <td>8</td>\n",
       "      <td>Oxygen</td>\n",
       "      <td>O</td>\n",
       "      <td>15.999</td>\n",
       "      <td>8</td>\n",
       "      <td>8</td>\n",
       "      <td>8</td>\n",
       "      <td>2</td>\n",
       "      <td>16.0</td>\n",
       "      <td>gas</td>\n",
       "      <td>...</td>\n",
       "      <td>13.6181</td>\n",
       "      <td>0.00143</td>\n",
       "      <td>50.50</td>\n",
       "      <td>90.20</td>\n",
       "      <td>8.0</td>\n",
       "      <td>Priestley/Scheele</td>\n",
       "      <td>1774.0</td>\n",
       "      <td>0.918</td>\n",
       "      <td>2</td>\n",
       "      <td>6.0</td>\n",
       "    </tr>\n",
       "    <tr>\n",
       "      <th>8</th>\n",
       "      <td>9</td>\n",
       "      <td>Fluorine</td>\n",
       "      <td>F</td>\n",
       "      <td>18.998</td>\n",
       "      <td>10</td>\n",
       "      <td>9</td>\n",
       "      <td>9</td>\n",
       "      <td>2</td>\n",
       "      <td>17.0</td>\n",
       "      <td>gas</td>\n",
       "      <td>...</td>\n",
       "      <td>17.4228</td>\n",
       "      <td>0.00170</td>\n",
       "      <td>53.63</td>\n",
       "      <td>85.03</td>\n",
       "      <td>6.0</td>\n",
       "      <td>Moissan</td>\n",
       "      <td>1886.0</td>\n",
       "      <td>0.824</td>\n",
       "      <td>2</td>\n",
       "      <td>7.0</td>\n",
       "    </tr>\n",
       "    <tr>\n",
       "      <th>16</th>\n",
       "      <td>17</td>\n",
       "      <td>Chlorine</td>\n",
       "      <td>Cl</td>\n",
       "      <td>35.453</td>\n",
       "      <td>18</td>\n",
       "      <td>17</td>\n",
       "      <td>17</td>\n",
       "      <td>3</td>\n",
       "      <td>17.0</td>\n",
       "      <td>gas</td>\n",
       "      <td>...</td>\n",
       "      <td>12.9676</td>\n",
       "      <td>0.00321</td>\n",
       "      <td>172.31</td>\n",
       "      <td>239.11</td>\n",
       "      <td>11.0</td>\n",
       "      <td>Scheele</td>\n",
       "      <td>1774.0</td>\n",
       "      <td>0.479</td>\n",
       "      <td>3</td>\n",
       "      <td>7.0</td>\n",
       "    </tr>\n",
       "  </tbody>\n",
       "</table>\n",
       "<p>4 rows × 28 columns</p>\n",
       "</div>"
      ],
      "text/plain": [
       "    AtomicNumber   Element Symbol  AtomicMass  NumberofNeutrons  \\\n",
       "6              7  Nitrogen      N      14.007                 7   \n",
       "7              8    Oxygen      O      15.999                 8   \n",
       "8              9  Fluorine      F      18.998                10   \n",
       "16            17  Chlorine     Cl      35.453                18   \n",
       "\n",
       "    NumberofProtons  NumberofElectrons  Period  Group Phase  ...  \\\n",
       "6                 7                  7       2   15.0   gas  ...   \n",
       "7                 8                  8       2   16.0   gas  ...   \n",
       "8                 9                  9       2   17.0   gas  ...   \n",
       "16               17                 17       3   17.0   gas  ...   \n",
       "\n",
       "   FirstIonization  Density MeltingPoint BoilingPoint NumberOfIsotopes  \\\n",
       "6          14.5341  0.00125        63.29        77.36              8.0   \n",
       "7          13.6181  0.00143        50.50        90.20              8.0   \n",
       "8          17.4228  0.00170        53.63        85.03              6.0   \n",
       "16         12.9676  0.00321       172.31       239.11             11.0   \n",
       "\n",
       "           Discoverer    Year  SpecificHeat  NumberofShells  NumberofValence  \n",
       "6          Rutherford  1772.0         1.040               2              5.0  \n",
       "7   Priestley/Scheele  1774.0         0.918               2              6.0  \n",
       "8             Moissan  1886.0         0.824               2              7.0  \n",
       "16            Scheele  1774.0         0.479               3              7.0  \n",
       "\n",
       "[4 rows x 28 columns]"
      ]
     },
     "execution_count": 7,
     "metadata": {},
     "output_type": "execute_result"
    }
   ],
   "source": [
    "data_high_elec.head()"
   ]
  },
  {
   "cell_type": "code",
   "execution_count": 15,
   "metadata": {
    "scrolled": true
   },
   "outputs": [
    {
     "data": {
      "text/html": [
       "<div>\n",
       "<style scoped>\n",
       "    .dataframe tbody tr th:only-of-type {\n",
       "        vertical-align: middle;\n",
       "    }\n",
       "\n",
       "    .dataframe tbody tr th {\n",
       "        vertical-align: top;\n",
       "    }\n",
       "\n",
       "    .dataframe thead th {\n",
       "        text-align: right;\n",
       "    }\n",
       "</style>\n",
       "<table border=\"1\" class=\"dataframe\">\n",
       "  <thead>\n",
       "    <tr style=\"text-align: right;\">\n",
       "      <th></th>\n",
       "      <th>AtomicNumber</th>\n",
       "      <th>AtomicMass</th>\n",
       "      <th>NumberofNeutrons</th>\n",
       "      <th>NumberofProtons</th>\n",
       "      <th>NumberofElectrons</th>\n",
       "      <th>Period</th>\n",
       "      <th>Group</th>\n",
       "      <th>AtomicRadius</th>\n",
       "      <th>Electronegativity</th>\n",
       "      <th>FirstIonization</th>\n",
       "      <th>Density</th>\n",
       "      <th>MeltingPoint</th>\n",
       "      <th>BoilingPoint</th>\n",
       "      <th>NumberOfIsotopes</th>\n",
       "      <th>Year</th>\n",
       "      <th>SpecificHeat</th>\n",
       "      <th>NumberofShells</th>\n",
       "      <th>NumberofValence</th>\n",
       "    </tr>\n",
       "  </thead>\n",
       "  <tbody>\n",
       "    <tr>\n",
       "      <th>count</th>\n",
       "      <td>118.000000</td>\n",
       "      <td>118.000000</td>\n",
       "      <td>118.000000</td>\n",
       "      <td>118.000000</td>\n",
       "      <td>118.000000</td>\n",
       "      <td>118.000000</td>\n",
       "      <td>90.000000</td>\n",
       "      <td>86.000000</td>\n",
       "      <td>96.000000</td>\n",
       "      <td>102.000000</td>\n",
       "      <td>105.000000</td>\n",
       "      <td>98.000000</td>\n",
       "      <td>98.000000</td>\n",
       "      <td>103.000000</td>\n",
       "      <td>107.000000</td>\n",
       "      <td>85.000000</td>\n",
       "      <td>118.000000</td>\n",
       "      <td>49.000000</td>\n",
       "    </tr>\n",
       "    <tr>\n",
       "      <th>mean</th>\n",
       "      <td>59.500000</td>\n",
       "      <td>145.988297</td>\n",
       "      <td>86.483051</td>\n",
       "      <td>59.500000</td>\n",
       "      <td>59.500000</td>\n",
       "      <td>5.254237</td>\n",
       "      <td>9.944444</td>\n",
       "      <td>1.825814</td>\n",
       "      <td>1.695000</td>\n",
       "      <td>7.988505</td>\n",
       "      <td>9.232161</td>\n",
       "      <td>1281.475184</td>\n",
       "      <td>2513.143163</td>\n",
       "      <td>28.116505</td>\n",
       "      <td>1865.280374</td>\n",
       "      <td>0.635976</td>\n",
       "      <td>5.254237</td>\n",
       "      <td>4.428571</td>\n",
       "    </tr>\n",
       "    <tr>\n",
       "      <th>std</th>\n",
       "      <td>34.207699</td>\n",
       "      <td>88.954899</td>\n",
       "      <td>54.785320</td>\n",
       "      <td>34.207699</td>\n",
       "      <td>34.207699</td>\n",
       "      <td>1.618200</td>\n",
       "      <td>5.597674</td>\n",
       "      <td>0.611058</td>\n",
       "      <td>0.621174</td>\n",
       "      <td>3.334571</td>\n",
       "      <td>8.630406</td>\n",
       "      <td>903.685175</td>\n",
       "      <td>1601.901036</td>\n",
       "      <td>35.864205</td>\n",
       "      <td>97.951740</td>\n",
       "      <td>1.653965</td>\n",
       "      <td>1.618200</td>\n",
       "      <td>2.345208</td>\n",
       "    </tr>\n",
       "    <tr>\n",
       "      <th>min</th>\n",
       "      <td>1.000000</td>\n",
       "      <td>1.007000</td>\n",
       "      <td>0.000000</td>\n",
       "      <td>1.000000</td>\n",
       "      <td>1.000000</td>\n",
       "      <td>1.000000</td>\n",
       "      <td>1.000000</td>\n",
       "      <td>0.490000</td>\n",
       "      <td>0.700000</td>\n",
       "      <td>3.893900</td>\n",
       "      <td>0.000090</td>\n",
       "      <td>14.175000</td>\n",
       "      <td>4.220000</td>\n",
       "      <td>3.000000</td>\n",
       "      <td>1250.000000</td>\n",
       "      <td>0.094000</td>\n",
       "      <td>1.000000</td>\n",
       "      <td>1.000000</td>\n",
       "    </tr>\n",
       "    <tr>\n",
       "      <th>25%</th>\n",
       "      <td>30.250000</td>\n",
       "      <td>66.465750</td>\n",
       "      <td>36.000000</td>\n",
       "      <td>30.250000</td>\n",
       "      <td>30.250000</td>\n",
       "      <td>4.000000</td>\n",
       "      <td>5.000000</td>\n",
       "      <td>1.425000</td>\n",
       "      <td>1.237500</td>\n",
       "      <td>6.004850</td>\n",
       "      <td>2.700000</td>\n",
       "      <td>510.695000</td>\n",
       "      <td>1069.000000</td>\n",
       "      <td>11.000000</td>\n",
       "      <td>1803.500000</td>\n",
       "      <td>0.168000</td>\n",
       "      <td>4.000000</td>\n",
       "      <td>2.000000</td>\n",
       "    </tr>\n",
       "    <tr>\n",
       "      <th>50%</th>\n",
       "      <td>59.500000</td>\n",
       "      <td>142.575000</td>\n",
       "      <td>83.000000</td>\n",
       "      <td>59.500000</td>\n",
       "      <td>59.500000</td>\n",
       "      <td>6.000000</td>\n",
       "      <td>10.500000</td>\n",
       "      <td>1.800000</td>\n",
       "      <td>1.585000</td>\n",
       "      <td>6.960250</td>\n",
       "      <td>7.290000</td>\n",
       "      <td>1204.150000</td>\n",
       "      <td>2767.000000</td>\n",
       "      <td>19.000000</td>\n",
       "      <td>1878.000000</td>\n",
       "      <td>0.244000</td>\n",
       "      <td>6.000000</td>\n",
       "      <td>4.000000</td>\n",
       "    </tr>\n",
       "    <tr>\n",
       "      <th>75%</th>\n",
       "      <td>88.750000</td>\n",
       "      <td>226.750000</td>\n",
       "      <td>138.000000</td>\n",
       "      <td>88.750000</td>\n",
       "      <td>88.750000</td>\n",
       "      <td>7.000000</td>\n",
       "      <td>15.000000</td>\n",
       "      <td>2.200000</td>\n",
       "      <td>2.062500</td>\n",
       "      <td>8.964925</td>\n",
       "      <td>12.000000</td>\n",
       "      <td>1811.150000</td>\n",
       "      <td>3596.750000</td>\n",
       "      <td>24.000000</td>\n",
       "      <td>1940.000000</td>\n",
       "      <td>0.489000</td>\n",
       "      <td>7.000000</td>\n",
       "      <td>6.000000</td>\n",
       "    </tr>\n",
       "    <tr>\n",
       "      <th>max</th>\n",
       "      <td>118.000000</td>\n",
       "      <td>295.000000</td>\n",
       "      <td>178.000000</td>\n",
       "      <td>118.000000</td>\n",
       "      <td>118.000000</td>\n",
       "      <td>7.000000</td>\n",
       "      <td>18.000000</td>\n",
       "      <td>3.300000</td>\n",
       "      <td>3.980000</td>\n",
       "      <td>24.587400</td>\n",
       "      <td>41.000000</td>\n",
       "      <td>3948.150000</td>\n",
       "      <td>5869.000000</td>\n",
       "      <td>203.000000</td>\n",
       "      <td>2010.000000</td>\n",
       "      <td>14.304000</td>\n",
       "      <td>7.000000</td>\n",
       "      <td>8.000000</td>\n",
       "    </tr>\n",
       "  </tbody>\n",
       "</table>\n",
       "</div>"
      ],
      "text/plain": [
       "       AtomicNumber  AtomicMass  NumberofNeutrons  NumberofProtons  \\\n",
       "count    118.000000  118.000000        118.000000       118.000000   \n",
       "mean      59.500000  145.988297         86.483051        59.500000   \n",
       "std       34.207699   88.954899         54.785320        34.207699   \n",
       "min        1.000000    1.007000          0.000000         1.000000   \n",
       "25%       30.250000   66.465750         36.000000        30.250000   \n",
       "50%       59.500000  142.575000         83.000000        59.500000   \n",
       "75%       88.750000  226.750000        138.000000        88.750000   \n",
       "max      118.000000  295.000000        178.000000       118.000000   \n",
       "\n",
       "       NumberofElectrons      Period      Group  AtomicRadius  \\\n",
       "count         118.000000  118.000000  90.000000     86.000000   \n",
       "mean           59.500000    5.254237   9.944444      1.825814   \n",
       "std            34.207699    1.618200   5.597674      0.611058   \n",
       "min             1.000000    1.000000   1.000000      0.490000   \n",
       "25%            30.250000    4.000000   5.000000      1.425000   \n",
       "50%            59.500000    6.000000  10.500000      1.800000   \n",
       "75%            88.750000    7.000000  15.000000      2.200000   \n",
       "max           118.000000    7.000000  18.000000      3.300000   \n",
       "\n",
       "       Electronegativity  FirstIonization     Density  MeltingPoint  \\\n",
       "count          96.000000       102.000000  105.000000     98.000000   \n",
       "mean            1.695000         7.988505    9.232161   1281.475184   \n",
       "std             0.621174         3.334571    8.630406    903.685175   \n",
       "min             0.700000         3.893900    0.000090     14.175000   \n",
       "25%             1.237500         6.004850    2.700000    510.695000   \n",
       "50%             1.585000         6.960250    7.290000   1204.150000   \n",
       "75%             2.062500         8.964925   12.000000   1811.150000   \n",
       "max             3.980000        24.587400   41.000000   3948.150000   \n",
       "\n",
       "       BoilingPoint  NumberOfIsotopes         Year  SpecificHeat  \\\n",
       "count     98.000000        103.000000   107.000000     85.000000   \n",
       "mean    2513.143163         28.116505  1865.280374      0.635976   \n",
       "std     1601.901036         35.864205    97.951740      1.653965   \n",
       "min        4.220000          3.000000  1250.000000      0.094000   \n",
       "25%     1069.000000         11.000000  1803.500000      0.168000   \n",
       "50%     2767.000000         19.000000  1878.000000      0.244000   \n",
       "75%     3596.750000         24.000000  1940.000000      0.489000   \n",
       "max     5869.000000        203.000000  2010.000000     14.304000   \n",
       "\n",
       "       NumberofShells  NumberofValence  \n",
       "count      118.000000        49.000000  \n",
       "mean         5.254237         4.428571  \n",
       "std          1.618200         2.345208  \n",
       "min          1.000000         1.000000  \n",
       "25%          4.000000         2.000000  \n",
       "50%          6.000000         4.000000  \n",
       "75%          7.000000         6.000000  \n",
       "max          7.000000         8.000000  "
      ]
     },
     "execution_count": 15,
     "metadata": {},
     "output_type": "execute_result"
    }
   ],
   "source": [
    "data.describe()"
   ]
  },
  {
   "cell_type": "code",
   "execution_count": 16,
   "metadata": {},
   "outputs": [],
   "source": [
    "data[\"CombinedPoint\"] = data[\"BoilingPoint\"] + data[\"MeltingPoint\"]"
   ]
  },
  {
   "cell_type": "code",
   "execution_count": 18,
   "metadata": {},
   "outputs": [
    {
     "data": {
      "text/plain": [
       "0        34.455\n",
       "1           NaN\n",
       "2      2068.850\n",
       "3      4302.150\n",
       "4      6773.150\n",
       "         ...   \n",
       "113         NaN\n",
       "114         NaN\n",
       "115         NaN\n",
       "116         NaN\n",
       "117         NaN\n",
       "Name: CombinedPoint, Length: 118, dtype: float64"
      ]
     },
     "execution_count": 18,
     "metadata": {},
     "output_type": "execute_result"
    }
   ],
   "source": [
    "data.pop(\"CombinedPoint\")"
   ]
  },
  {
   "cell_type": "code",
   "execution_count": 19,
   "metadata": {
    "scrolled": true
   },
   "outputs": [
    {
     "data": {
      "text/html": [
       "<div>\n",
       "<style scoped>\n",
       "    .dataframe tbody tr th:only-of-type {\n",
       "        vertical-align: middle;\n",
       "    }\n",
       "\n",
       "    .dataframe tbody tr th {\n",
       "        vertical-align: top;\n",
       "    }\n",
       "\n",
       "    .dataframe thead th {\n",
       "        text-align: right;\n",
       "    }\n",
       "</style>\n",
       "<table border=\"1\" class=\"dataframe\">\n",
       "  <thead>\n",
       "    <tr style=\"text-align: right;\">\n",
       "      <th></th>\n",
       "      <th>AtomicNumber</th>\n",
       "      <th>Element</th>\n",
       "      <th>Symbol</th>\n",
       "      <th>AtomicMass</th>\n",
       "      <th>NumberofNeutrons</th>\n",
       "      <th>NumberofProtons</th>\n",
       "      <th>NumberofElectrons</th>\n",
       "      <th>Period</th>\n",
       "      <th>Group</th>\n",
       "      <th>Phase</th>\n",
       "      <th>...</th>\n",
       "      <th>FirstIonization</th>\n",
       "      <th>Density</th>\n",
       "      <th>MeltingPoint</th>\n",
       "      <th>BoilingPoint</th>\n",
       "      <th>NumberOfIsotopes</th>\n",
       "      <th>Discoverer</th>\n",
       "      <th>Year</th>\n",
       "      <th>SpecificHeat</th>\n",
       "      <th>NumberofShells</th>\n",
       "      <th>NumberofValence</th>\n",
       "    </tr>\n",
       "  </thead>\n",
       "  <tbody>\n",
       "    <tr>\n",
       "      <th>0</th>\n",
       "      <td>1</td>\n",
       "      <td>Hydrogen</td>\n",
       "      <td>H</td>\n",
       "      <td>1.007</td>\n",
       "      <td>0</td>\n",
       "      <td>1</td>\n",
       "      <td>1</td>\n",
       "      <td>1</td>\n",
       "      <td>1.0</td>\n",
       "      <td>gas</td>\n",
       "      <td>...</td>\n",
       "      <td>13.5984</td>\n",
       "      <td>0.000090</td>\n",
       "      <td>14.175</td>\n",
       "      <td>20.28</td>\n",
       "      <td>3.0</td>\n",
       "      <td>Cavendish</td>\n",
       "      <td>1766.0</td>\n",
       "      <td>14.304</td>\n",
       "      <td>1</td>\n",
       "      <td>1.0</td>\n",
       "    </tr>\n",
       "    <tr>\n",
       "      <th>1</th>\n",
       "      <td>2</td>\n",
       "      <td>Helium</td>\n",
       "      <td>He</td>\n",
       "      <td>4.002</td>\n",
       "      <td>2</td>\n",
       "      <td>2</td>\n",
       "      <td>2</td>\n",
       "      <td>1</td>\n",
       "      <td>18.0</td>\n",
       "      <td>gas</td>\n",
       "      <td>...</td>\n",
       "      <td>24.5874</td>\n",
       "      <td>0.000179</td>\n",
       "      <td>NaN</td>\n",
       "      <td>4.22</td>\n",
       "      <td>5.0</td>\n",
       "      <td>Janssen</td>\n",
       "      <td>1868.0</td>\n",
       "      <td>5.193</td>\n",
       "      <td>1</td>\n",
       "      <td>NaN</td>\n",
       "    </tr>\n",
       "    <tr>\n",
       "      <th>2</th>\n",
       "      <td>3</td>\n",
       "      <td>Lithium</td>\n",
       "      <td>Li</td>\n",
       "      <td>6.941</td>\n",
       "      <td>4</td>\n",
       "      <td>3</td>\n",
       "      <td>3</td>\n",
       "      <td>2</td>\n",
       "      <td>1.0</td>\n",
       "      <td>solid</td>\n",
       "      <td>...</td>\n",
       "      <td>5.3917</td>\n",
       "      <td>0.534000</td>\n",
       "      <td>453.850</td>\n",
       "      <td>1615.00</td>\n",
       "      <td>5.0</td>\n",
       "      <td>Arfvedson</td>\n",
       "      <td>1817.0</td>\n",
       "      <td>3.582</td>\n",
       "      <td>2</td>\n",
       "      <td>1.0</td>\n",
       "    </tr>\n",
       "    <tr>\n",
       "      <th>3</th>\n",
       "      <td>4</td>\n",
       "      <td>Beryllium</td>\n",
       "      <td>Be</td>\n",
       "      <td>9.012</td>\n",
       "      <td>5</td>\n",
       "      <td>4</td>\n",
       "      <td>4</td>\n",
       "      <td>2</td>\n",
       "      <td>2.0</td>\n",
       "      <td>solid</td>\n",
       "      <td>...</td>\n",
       "      <td>9.3227</td>\n",
       "      <td>1.850000</td>\n",
       "      <td>1560.150</td>\n",
       "      <td>2742.00</td>\n",
       "      <td>6.0</td>\n",
       "      <td>Vaulquelin</td>\n",
       "      <td>1798.0</td>\n",
       "      <td>1.825</td>\n",
       "      <td>2</td>\n",
       "      <td>2.0</td>\n",
       "    </tr>\n",
       "    <tr>\n",
       "      <th>4</th>\n",
       "      <td>5</td>\n",
       "      <td>Boron</td>\n",
       "      <td>B</td>\n",
       "      <td>10.811</td>\n",
       "      <td>6</td>\n",
       "      <td>5</td>\n",
       "      <td>5</td>\n",
       "      <td>2</td>\n",
       "      <td>13.0</td>\n",
       "      <td>solid</td>\n",
       "      <td>...</td>\n",
       "      <td>8.2980</td>\n",
       "      <td>2.340000</td>\n",
       "      <td>2573.150</td>\n",
       "      <td>4200.00</td>\n",
       "      <td>6.0</td>\n",
       "      <td>Gay-Lussac</td>\n",
       "      <td>1808.0</td>\n",
       "      <td>1.026</td>\n",
       "      <td>2</td>\n",
       "      <td>3.0</td>\n",
       "    </tr>\n",
       "  </tbody>\n",
       "</table>\n",
       "<p>5 rows × 28 columns</p>\n",
       "</div>"
      ],
      "text/plain": [
       "   AtomicNumber    Element Symbol  AtomicMass  NumberofNeutrons  \\\n",
       "0             1   Hydrogen      H       1.007                 0   \n",
       "1             2     Helium     He       4.002                 2   \n",
       "2             3    Lithium     Li       6.941                 4   \n",
       "3             4  Beryllium     Be       9.012                 5   \n",
       "4             5      Boron      B      10.811                 6   \n",
       "\n",
       "   NumberofProtons  NumberofElectrons  Period  Group  Phase  ...  \\\n",
       "0                1                  1       1    1.0    gas  ...   \n",
       "1                2                  2       1   18.0    gas  ...   \n",
       "2                3                  3       2    1.0  solid  ...   \n",
       "3                4                  4       2    2.0  solid  ...   \n",
       "4                5                  5       2   13.0  solid  ...   \n",
       "\n",
       "  FirstIonization   Density MeltingPoint BoilingPoint NumberOfIsotopes  \\\n",
       "0         13.5984  0.000090       14.175        20.28              3.0   \n",
       "1         24.5874  0.000179          NaN         4.22              5.0   \n",
       "2          5.3917  0.534000      453.850      1615.00              5.0   \n",
       "3          9.3227  1.850000     1560.150      2742.00              6.0   \n",
       "4          8.2980  2.340000     2573.150      4200.00              6.0   \n",
       "\n",
       "   Discoverer    Year  SpecificHeat  NumberofShells  NumberofValence  \n",
       "0   Cavendish  1766.0        14.304               1              1.0  \n",
       "1     Janssen  1868.0         5.193               1              NaN  \n",
       "2   Arfvedson  1817.0         3.582               2              1.0  \n",
       "3  Vaulquelin  1798.0         1.825               2              2.0  \n",
       "4  Gay-Lussac  1808.0         1.026               2              3.0  \n",
       "\n",
       "[5 rows x 28 columns]"
      ]
     },
     "execution_count": 19,
     "metadata": {},
     "output_type": "execute_result"
    }
   ],
   "source": [
    "data.head()"
   ]
  },
  {
   "cell_type": "markdown",
   "metadata": {},
   "source": [
    "Menti: www.menti.com/wzruzmq8cw"
   ]
  },
  {
   "cell_type": "markdown",
   "metadata": {},
   "source": [
    "## Visualisering\n",
    "\n",
    "Seaborn-biblioteket er en utvidelse av matplotlib som gir tilgang til mange fine visualiseringer."
   ]
  },
  {
   "cell_type": "code",
   "execution_count": 28,
   "metadata": {},
   "outputs": [
    {
     "data": {
      "text/plain": [
       "<seaborn.axisgrid.JointGrid at 0x20e8f8f3eb0>"
      ]
     },
     "execution_count": 28,
     "metadata": {},
     "output_type": "execute_result"
    },
    {
     "data": {
      "image/png": "[encoded data removed]",
      "text/plain": [
       "<Figure size 432x432 with 3 Axes>"
      ]
     },
     "metadata": {
      "needs_background": "light"
     },
     "output_type": "display_data"
    }
   ],
   "source": [
    "import seaborn as sns\n",
    "\n",
    "sns.jointplot(data=data, x = \"Group\", y = \"Electronegativity\", hue= \"Phase\")"
   ]
  },
  {
   "cell_type": "code",
   "execution_count": 30,
   "metadata": {},
   "outputs": [
    {
     "data": {
      "text/plain": [
       "<seaborn.axisgrid.FacetGrid at 0x20e8f65c700>"
      ]
     },
     "execution_count": 30,
     "metadata": {},
     "output_type": "execute_result"
    },
    {
     "data": {
      "image/png": "[encoded data removed]",
      "text/plain": [
       "<Figure size 436.875x360 with 1 Axes>"
      ]
     },
     "metadata": {
      "needs_background": "light"
     },
     "output_type": "display_data"
    }
   ],
   "source": [
    "sns.relplot(data = data, x = \"AtomicNumber\", y = \"Electronegativity\", hue = \"Phase\")"
   ]
  },
  {
   "cell_type": "code",
   "execution_count": 35,
   "metadata": {},
   "outputs": [
    {
     "data": {
      "text/plain": [
       "Text(0, 0.5, 'Antall')"
      ]
     },
     "execution_count": 35,
     "metadata": {},
     "output_type": "execute_result"
    },
    {
     "data": {
      "image/png": "[encoded data removed]",
      "text/plain": [
       "<Figure size 432x288 with 1 Axes>"
      ]
     },
     "metadata": {
      "needs_background": "light"
     },
     "output_type": "display_data"
    }
   ],
   "source": [
    "sns.histplot(data=data, x = \"BoilingPoint\", bins = 8)\n",
    "plt.ylabel(\"Antall\")"
   ]
  },
  {
   "cell_type": "markdown",
   "metadata": {},
   "source": [
    "## Statistikk\n",
    "- Interkvartilbredde.\n",
    "- Gjennomsnitt.\n",
    "- Varians ($\\sigma^2$) og standardavvik ($\\sigma$):\n",
    "\n",
    "$$\\sigma^2  = \\frac{1}{n-1}\\sum_{i=1}^n(x_i-\\bar{x})^2$$\n",
    "\n",
    "$$\\sigma  = \\sqrt{\\frac{1}{n-1}\\sum_{i=1}^n(x_i-\\bar{x})^2}$$"
   ]
  },
  {
   "cell_type": "code",
   "execution_count": 40,
   "metadata": {},
   "outputs": [
    {
     "name": "stdout",
     "output_type": "stream",
     "text": [
      "3.58 +- 0.90221\n"
     ]
    }
   ],
   "source": [
    "import numpy as np\n",
    "\n",
    "konsentrasjon = [2.00, 3.00, 3.03, 4.01, 4.00, 4.01, 5.00]\n",
    "snitt = np.mean(konsentrasjon)\n",
    "avvik = np.std(konsentrasjon)\n",
    "\n",
    "print(round(snitt,2),\"+-\", round(avvik,6))"
   ]
  },
  {
   "cell_type": "code",
   "execution_count": 8,
   "metadata": {},
   "outputs": [
    {
     "data": {
      "text/plain": [
       "0.6211737616040001"
      ]
     },
     "execution_count": 8,
     "metadata": {},
     "output_type": "execute_result"
    }
   ],
   "source": [
    "# Gjennomsnitt, median, varians og standardavvik av elektronegativitet\n",
    "elneg = data[\"Electronegativity\"]\n",
    "elneg.mean()\n",
    "elneg.median()\n",
    "elneg.var()\n",
    "elneg.std()"
   ]
  },
  {
   "cell_type": "markdown",
   "metadata": {},
   "source": [
    "## Regresjon\n",
    "\n",
    "|     Temperatur (°C)     |     NH3, løselighet     (g/100 mL H$_2$O)     |     NaCl, Løselighet      (g/100 mL H$_2$O)     |\n",
    "|-------------------------|--------------------------------------------|----------------------------------------------|\n",
    "|     0                   |     88.5                                   |     35.7                                     |\n",
    "|     20                  |     56.0                                   |     35.9                                     |\n",
    "|     40                  |     34.0                                   |     36.4                                     |\n",
    "|     60                  |     20.0                                   |     37.1                                     |\n",
    "|     80                  |     11.0                                   |     38.0                                     |\n",
    "|     100                 |     7.0                                    |     39.2                                     |"
   ]
  },
  {
   "cell_type": "code",
   "execution_count": 46,
   "metadata": {},
   "outputs": [
    {
     "data": {
      "text/plain": [
       "<matplotlib.legend.Legend at 0x20e91070cd0>"
      ]
     },
     "execution_count": 46,
     "metadata": {},
     "output_type": "execute_result"
    },
    {
     "data": {
      "image/png": "[encoded data removed]",
      "text/plain": [
       "<Figure size 432x288 with 1 Axes>"
      ]
     },
     "metadata": {
      "needs_background": "light"
     },
     "output_type": "display_data"
    }
   ],
   "source": [
    "# La oss gjøre en regresjon\n",
    "T = [0,20,40,60,80,100]\n",
    "sol = [35.7, 35.9, 36.4, 37.1, 38, 39.2]\n",
    "\n",
    "reg = np.polyfit(T,sol,1)\n",
    "x = np.linspace(0,120,1000)\n",
    "y = np.polyval(reg,x)\n",
    "\n",
    "plt.scatter(T,sol,label=\"Datapunkter\")\n",
    "plt.plot(x,y,label=\"Tilpasset kurve\",color=\"hotpink\")\n",
    "plt.legend()"
   ]
  },
  {
   "cell_type": "markdown",
   "metadata": {},
   "source": [
    "Menti: https://www.menti.com/2sikjeo4ga"
   ]
  }
 ],
 "metadata": {
  "celltoolbar": "Edit Metadata",
  "kernelspec": {
   "display_name": "Python 3",
   "language": "python",
   "name": "python3"
  },
  "language_info": {
   "codemirror_mode": {
    "name": "ipython",
    "version": 3
   },
   "file_extension": ".py",
   "mimetype": "text/x-python",
   "name": "python",
   "nbconvert_exporter": "python",
   "pygments_lexer": "ipython3",
   "version": "3.8.5"
  }
 },
 "nbformat": 4,
 "nbformat_minor": 4
}
