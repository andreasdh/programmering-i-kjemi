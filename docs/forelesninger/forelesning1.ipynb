{
 "cells": [
  {
   "cell_type": "markdown",
   "metadata": {},
   "source": [
    "# Forelesning 1: Programmering i kjemi"
   ]
  },
  {
   "cell_type": "markdown",
   "metadata": {},
   "source": [
    "## Periodesystemet og periodiske egenskaper"
   ]
  },
  {
   "cell_type": "code",
   "execution_count": 5,
   "metadata": {},
   "outputs": [],
   "source": [
    "# Installere biblioteker i Jupyter Notebook\n",
    "#!pip install mendeleev chemlib pandas seaborn"
   ]
  },
  {
   "cell_type": "code",
   "execution_count": 9,
   "metadata": {},
   "outputs": [
    {
     "name": "stdout",
     "output_type": "stream",
     "text": [
      "<class 'list'>\n"
     ]
    }
   ],
   "source": [
    "# Klasser og objekter\n",
    "liste = [] # Objekt av klassen \"list\"\n",
    "liste.append(1) # Funksjoner som brukes på objekter, kalles \"metoder\""
   ]
  },
  {
   "cell_type": "code",
   "execution_count": 5,
   "metadata": {},
   "outputs": [
    {
     "name": "stdout",
     "output_type": "stream",
     "text": [
      "3680.15 V 1.63 Vanadium\n"
     ]
    }
   ],
   "source": [
    "from mendeleev import element\n",
    "\n",
    "vanadium = element(23)\n",
    "print(vanadium.boiling_point, vanadium.symbol, vanadium.electronegativity(), vanadium.name)"
   ]
  },
  {
   "cell_type": "markdown",
   "metadata": {},
   "source": [
    "- Oppgave: Modifiser programmet slik at det skriver ut informasjonen (navn, symbol og elektronegativitet) om de 18 letteste grunnstoffene."
   ]
  },
  {
   "cell_type": "code",
   "execution_count": 6,
   "metadata": {
    "scrolled": true
   },
   "outputs": [
    {
     "name": "stdout",
     "output_type": "stream",
     "text": [
      "Navn: Hydrogen, Symbol: H, Elektronegativitet: 2.2\n",
      "Navn: Helium, Symbol: He, Elektronegativitet: None\n",
      "Navn: Lithium, Symbol: Li, Elektronegativitet: 0.98\n",
      "Navn: Beryllium, Symbol: Be, Elektronegativitet: 1.57\n",
      "Navn: Boron, Symbol: B, Elektronegativitet: 2.04\n",
      "Navn: Carbon, Symbol: C, Elektronegativitet: 2.55\n",
      "Navn: Nitrogen, Symbol: N, Elektronegativitet: 3.04\n",
      "Navn: Oxygen, Symbol: O, Elektronegativitet: 3.44\n",
      "Navn: Fluorine, Symbol: F, Elektronegativitet: 3.98\n",
      "Navn: Neon, Symbol: Ne, Elektronegativitet: None\n",
      "Navn: Sodium, Symbol: Na, Elektronegativitet: 0.93\n",
      "Navn: Magnesium, Symbol: Mg, Elektronegativitet: 1.31\n",
      "Navn: Aluminum, Symbol: Al, Elektronegativitet: 1.61\n",
      "Navn: Silicon, Symbol: Si, Elektronegativitet: 1.9\n",
      "Navn: Phosphorus, Symbol: P, Elektronegativitet: 2.19\n",
      "Navn: Sulfur, Symbol: S, Elektronegativitet: 2.58\n",
      "Navn: Chlorine, Symbol: Cl, Elektronegativitet: 3.16\n",
      "Navn: Argon, Symbol: Ar, Elektronegativitet: None\n"
     ]
    }
   ],
   "source": [
    "for Z in range(1,19):\n",
    "    grunnstoff = element(Z)\n",
    "    navn = grunnstoff.name\n",
    "    symbol = grunnstoff.symbol\n",
    "    elneg = grunnstoff.electronegativity()\n",
    "    print(f\"Navn: {navn}, Symbol: {symbol}, Elektronegativitet: {elneg}\")"
   ]
  },
  {
   "cell_type": "code",
   "execution_count": 12,
   "metadata": {},
   "outputs": [],
   "source": [
    "import matplotlib.pyplot as plt\n",
    "import numpy as np"
   ]
  },
  {
   "cell_type": "code",
   "execution_count": 11,
   "metadata": {},
   "outputs": [],
   "source": [
    "atomnummer = []\n",
    "elektronegativitet = []\n",
    "\n",
    "for Z in range(3,11):\n",
    "    grunnstoff = element(Z)\n",
    "    atomnummer.append(Z)\n",
    "    elektronegativitet.append(grunnstoff.electronegativity())"
   ]
  },
  {
   "cell_type": "code",
   "execution_count": 17,
   "metadata": {},
   "outputs": [
    {
     "data": {
      "image/png": "[encoded data removed]",
      "text/plain": [
       "<Figure size 640x480 with 1 Axes>"
      ]
     },
     "metadata": {},
     "output_type": "display_data"
    }
   ],
   "source": [
    "plt.scatter(atomnummer, elektronegativitet, color = \"hotpink\")\n",
    "plt.xlabel(\"Atomnummer\")\n",
    "plt.ylabel(\"Elektronegativitet\")\n",
    "plt.show()"
   ]
  },
  {
   "cell_type": "markdown",
   "metadata": {},
   "source": [
    "- Oppgave: Plott listene mot hverandre. Modifiser programmet slik at det kun plotter grunnstoffene i andre periode. Forklar trenden du ser."
   ]
  },
  {
   "cell_type": "markdown",
   "metadata": {},
   "source": [
    "### Elektronegativitet i gruppe 1\n",
    "Oppgave: Plott elektronegativitet som funksjon av atomnummer for grunnstoffene i gruppe 1."
   ]
  },
  {
   "cell_type": "markdown",
   "metadata": {},
   "source": [
    "## Støkiometriske beregninger"
   ]
  },
  {
   "cell_type": "markdown",
   "metadata": {},
   "source": [
    "### Stoffmengdeberegninger"
   ]
  },
  {
   "cell_type": "code",
   "execution_count": 1,
   "metadata": {},
   "outputs": [],
   "source": [
    "from chemlib import Compound, Reaction"
   ]
  },
  {
   "cell_type": "code",
   "execution_count": 2,
   "metadata": {},
   "outputs": [],
   "source": [
    "H2 = Compound(\"H2\")\n",
    "I2 = Compound(\"I2\")\n",
    "HI = Compound(\"HI\")"
   ]
  },
  {
   "cell_type": "code",
   "execution_count": 7,
   "metadata": {},
   "outputs": [
    {
     "data": {
      "text/plain": [
       "False"
      ]
     },
     "execution_count": 7,
     "metadata": {},
     "output_type": "execute_result"
    }
   ],
   "source": [
    "reaksjon = Reaction([H2, I2], [HI])\n",
    "reaksjon.is_balanced"
   ]
  },
  {
   "cell_type": "code",
   "execution_count": 8,
   "metadata": {},
   "outputs": [],
   "source": [
    "reaksjon.balance()"
   ]
  },
  {
   "cell_type": "code",
   "execution_count": 10,
   "metadata": {},
   "outputs": [
    {
     "data": {
      "text/plain": [
       "True"
      ]
     },
     "execution_count": 10,
     "metadata": {},
     "output_type": "execute_result"
    }
   ],
   "source": [
    "reaksjon.is_balanced"
   ]
  },
  {
   "cell_type": "code",
   "execution_count": 11,
   "metadata": {},
   "outputs": [
    {
     "data": {
      "text/plain": [
       "'1H₂ + 1I₂ --> 2H₁I₁'"
      ]
     },
     "execution_count": 11,
     "metadata": {},
     "output_type": "execute_result"
    }
   ],
   "source": [
    "reaksjon.formula"
   ]
  },
  {
   "cell_type": "markdown",
   "metadata": {},
   "source": [
    "- Oppgave: Bruk chemlib til å balansere ufullstendig forbrenning av benzen (vi får vann og CO)"
   ]
  }
 ],
 "metadata": {
  "kernelspec": {
   "display_name": "Python 3 (ipykernel)",
   "language": "python",
   "name": "python3"
  },
  "language_info": {
   "codemirror_mode": {
    "name": "ipython",
    "version": 3
   },
   "file_extension": ".py",
   "mimetype": "text/x-python",
   "name": "python",
   "nbconvert_exporter": "python",
   "pygments_lexer": "ipython3",
   "version": "3.9.12"
  }
 },
 "nbformat": 4,
 "nbformat_minor": 4
}
