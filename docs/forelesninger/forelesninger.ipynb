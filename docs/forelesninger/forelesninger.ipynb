{
 "cells": [
  {
   "cell_type": "markdown",
   "metadata": {},
   "source": [
    "# Forelesninger\n",
    "\n",
    "## Del 1: Datahåndtering og visualisering\n",
    "\n",
    "Forelesningene i denne delen av emnet vil dreie seg om:\n",
    "1. Bruk av nyttige kjemibiblioteker i Python (chemlib, mendeleev)\n",
    "2. Lese, behandle og visualisere data (pandas)\n",
    "3. Deskriptiv statistikk\n",
    "4. Statistisk inferens og modeller (hypothesetesting, regresjon)\n",
    "\n",
    "## Del 2: Numeriske metoder\n",
    "\n",
    "Forelesningene i denne delen av emnet vil dreie seg om:\n",
    "1. Forståelse av numeriske metoder for å løse likninger, derivere, integrere og løse differensialliknkniger\n",
    "2. Implementere numeriske metoder i Python\n",
    "3. Drøfte nøyaktighet og bruksområde for numeriske metoder\n",
    "4. Anvende numeriske metoder på kjemiske problemstillinger\n",
    "\n",
    "## Del 3: Dynamiske systemer\n",
    "\n",
    "Forelesningene i denne delen av emnet vil dreie seg om:\n",
    "\n",
    "1. Lage modeller av dynamiske systemer, spesielt kjemiske reaksjoner\n",
    "2. Løse differensiallikninger som beskriver dynamiske systemer\n",
    "3. Simulere modeller av dynamiske systemer\n",
    "4. Tolke resultatene fra simuleringer\n",
    "5. Drøfte nøyaktighet og bruksområde for modeller av dynamiske systemer\n"
   ]
  }
 ],
 "metadata": {
  "kernelspec": {
   "display_name": "Python 3",
   "language": "python",
   "name": "python3"
  },
  "language_info": {
   "codemirror_mode": {
    "name": "ipython",
    "version": 3
   },
   "file_extension": ".py",
   "mimetype": "text/x-python",
   "name": "python",
   "nbconvert_exporter": "python",
   "pygments_lexer": "ipython3",
   "version": "3.8.5"
  }
 },
 "nbformat": 4,
 "nbformat_minor": 4
}
