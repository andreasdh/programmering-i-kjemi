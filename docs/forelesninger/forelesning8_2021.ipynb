{
 "cells": [
  {
   "cell_type": "markdown",
   "id": "1599bd1f",
   "metadata": {},
   "source": [
    "# Forelesning 8: Dynamiske systemer\n",
    "\n",
    "__Oppgave__: Vi kan lage bindingsmodeller som enkle \"fjærmodeller\". Da ser vi på atomene som kuler som henger i hver sin ende av en fjær. Dersom fjæra er stiv (høy \"fjærkonstant\"), vibrerer atomene mye, og motsatt. Enkle fjærkrefter følger Hooks lov:\n",
    "\n",
    "$$F = -k\\cdot (x - x_0)$$\n",
    "\n",
    "er _x_ er posisjonen og $x_0$ er likevektsposisjonen, dvs. posisjonen der fjæra ikke er komprimert eller strukket ut. Fyll inn det som mangler i programmet nedenfor:\n",
    "\n",
    "<iframe src=\"https://trinket.io/embed/python3/2d5191d8cf\" width=\"100%\" height=\"600\" frameborder=\"0\" marginwidth=\"0\" marginheight=\"0\" allowfullscreen></iframe>\n",
    "\n",
    "__Menti__: https://www.menti.com/mvbm6ic2yq"
   ]
  },
  {
   "cell_type": "markdown",
   "id": "dc9b3b35",
   "metadata": {},
   "source": [
    "## Fartslover (ratelover)\n",
    "Vi bruker følgende reaksjon som eksempel:\n",
    "\n",
    "$$ H_2 (g) + I_2 (g) \\rightarrow 2HI (g)$$\n",
    "\n",
    "Vi har følgende ratelov for reaksjonen:\n",
    "\n",
    "$$\\frac{d[HI]}{dt} = k_r[H_2][I_2]$$"
   ]
  },
  {
   "cell_type": "code",
   "execution_count": null,
   "id": "c5c1ca6e",
   "metadata": {},
   "outputs": [],
   "source": []
  },
  {
   "attachments": {},
   "cell_type": "markdown",
   "id": "2a5fca81",
   "metadata": {},
   "source": [
    "## Enzymkinetikk\n",
    "Vi har følgende når et substrat (S) binder seg til et enzym (E) og danner et enzym-substratkompleks (ES), og til slutt danner et produkt (P):\n",
    "\n",
    "$$𝐸+𝑆 \\underset{k_{-1}}{\\stackrel{k_1}{\\rightleftharpoons}} ES \\underset{k_{-2}}{\\stackrel{k_2}{\\rightleftharpoons}} P + E$$\n",
    "\n",
    "Regner med at $k_{-2} \\approx 0$\n",
    "\n",
    "$$𝐸+𝑆 \\underset{k_{-1}}{\\stackrel{k_1}{\\rightleftharpoons}} ES \\underset{}{\\stackrel{k_2}{\\rightleftharpoons}} P + E$$\n",
    "\n",
    "\n",
    "$$\\frac{𝑑[𝐸]}{𝑑𝑡}= −𝑘_1 [𝐸][𝑆]+𝑘_{-1} [𝐸𝑆]+𝑘_2 [𝐸𝑆]$$\n",
    "\n",
    "$$\\frac{𝑑[𝑆]}{d𝑡}=−𝑘_1 [𝐸][𝑆]+𝑘_{−1} [𝐸𝑆]$$\n",
    "\n",
    "$$\\frac{𝑑[𝐸𝑆]}{𝑑𝑡}=𝑘_1 [𝐸][𝑆]−𝑘_{−1} [𝐸𝑆]−𝑘_2 [𝐸𝑆]$$\n",
    "\n",
    "$$\\frac{𝑑[𝑃]}{𝑑𝑡}=𝑘_2 [𝐸𝑆]$$"
   ]
  },
  {
   "cell_type": "code",
   "execution_count": null,
   "id": "7de7a11f",
   "metadata": {},
   "outputs": [],
   "source": []
  },
  {
   "cell_type": "markdown",
   "id": "c84dea1b",
   "metadata": {},
   "source": [
    "## Bruk av biblioteker"
   ]
  },
  {
   "cell_type": "code",
   "execution_count": null,
   "id": "07ca1a62",
   "metadata": {},
   "outputs": [],
   "source": []
  }
 ],
 "metadata": {
  "kernelspec": {
   "display_name": "Python 3",
   "language": "python",
   "name": "python3"
  },
  "language_info": {
   "codemirror_mode": {
    "name": "ipython",
    "version": 3
   },
   "file_extension": ".py",
   "mimetype": "text/x-python",
   "name": "python",
   "nbconvert_exporter": "python",
   "pygments_lexer": "ipython3",
   "version": "3.8.8"
  }
 },
 "nbformat": 4,
 "nbformat_minor": 5
}
