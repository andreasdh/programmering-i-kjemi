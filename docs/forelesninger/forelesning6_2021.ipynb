{
 "cells": [
  {
   "cell_type": "markdown",
   "metadata": {},
   "source": [
    "# Numerisk integrasjon\n"
   ]
  },
  {
   "cell_type": "markdown",
   "metadata": {},
   "source": [
    "## Først litt om likninger og titrering\n",
    "Vi tar utgangspunkt i en generell syre-base-titrering der vi titrerer en svak syre (HA) med en sterk base (BOH):\n",
    "\n",
    "$$HA (aq) + BOH (aq) \\rightleftharpoons B^+ (aq) + A^- (aq) + H_2O (l)$$\n",
    "\n",
    "Vi kjenner til:\n",
    "\n",
    "1. Konsentrasjonen av basen vi brukte (_titranten_): $c_b$.\n",
    "2. Volumet base vi brukte for å nå ekvivalenspunktet: $V_b$.\n",
    "3. Volumet syre vi titrerte (_analytten_): $V_a$.\n",
    "4. Den tidligere ukjente konsentrasjonen av syra: $c_a$.\n",
    "\n",
    "Ønsker et uttrykk for $[H^+]$ for å finne pH i løsningen ved ekvivalenspunktet.\n",
    "\n",
    "1. Løsninga er nøytral: \n",
    "\n",
    "$[H^+] + [B^+] = [OH^-] + [A^-]$\n",
    "\n",
    "$[H^+] = [OH^-] + [A^-] - [B^+]$\n",
    "\n",
    "2. Konsentrasjon av baserest: \n",
    "\n",
    "$[B^+] = \\frac{c_bV_b}{V_t}$\n",
    "\n",
    "3. Vannets egenprotolyse gir oss et uttrykk for $[OH^-]$: \n",
    "\n",
    "$K_w = [OH^-][H^+]$\n",
    "\n",
    "$[OH^-] = \\frac{K_w}{[H^+]}$\n",
    "\n",
    "4. Konsentrasjon av syreresten:\n",
    "\n",
    "$n_{A^-} = n_{HA,start} - n_{HA,slutt}$\n",
    "\n",
    "$[A^-]\\cdot V_t = c_aV_a - [HA]\\cdot V_t$\n",
    "\n",
    "5. Likevektskonstanten for svak syre \n",
    "\n",
    "$K_a = \\frac{[H^+][A^-]}{[HA]}$\n",
    "\n",
    "$[HA]= \\frac{[H^+][A^-]}{K_a}$\n",
    "\n",
    "9. Setter uttrykk for $[HA]$ inn i uttrykk for $[A^-]$: \n",
    "\n",
    "$[A^-] = \\frac{c_aV_a}{V_t[H^+]/K_a + V_t} = \\frac{c_aV_aK_a}{V_t([H^+]+K_a)}$\n",
    "\n",
    "10. Setter alt inn i den første likninga:\n",
    "\n",
    "$[H^+] = [OH^-] + [A^-]$ - [B^+]\n",
    "\n",
    "$[H^+] = \\left(\\frac{K_w}{[H^+]}\\right) + \\left(\\frac{c_aV_aK_a}{V_t([H^+]+K_a)}\\right) - \\left(\\frac{c_bV_b}{V_t}\\right)$\n",
    "\n",
    "$[H^+]V_t = \\left(\\frac{K_wV_t}{[H^+]}\\right)  + \\left(\\frac{c_aV_aK_a}{([H^+]+K_a)}\\right) - (c_bV_b)$\n",
    "\n",
    "Vi kan løse denne likningen ved å formulere den som et nullpunktsproblem:\n",
    "\n",
    "$[H^+]V_t + c_bV_b - \\frac{K_wV_t}{[H^+]} - \\frac{c_aV_aK_a}{[H^+]+K_a} = 0$\n",
    "\n",
    "Vi kan altså finne nullpunktene til følgende funksjon:\n",
    "\n",
    "$T([H^+]) = [H^+]V_t + c_bV_b - \\frac{K_wV_t}{[H^+]} - \\frac{c_aV_aK_a}{[H^+]+K_a}$\n",
    "\n",
    "Det er litt problematisk å finne nullpunktene, for funksjonen er ikke definert for $[H^+] = 0$. La oss derfor gange opp slik at vi får en funksjon som er definert for denne verdien:\n",
    "\n",
    "$$T([H^+]) = V_t([H^+] + K_a)[H^+]^2 + c_bV_b([H^+] + K_a)[H^+] - K_wV_t([H^+] + K_a) - c_aV_aK_a[H^+]$$"
   ]
  },
  {
   "cell_type": "markdown",
   "metadata": {},
   "source": [
    "## Det bestemte integralet"
   ]
  },
  {
   "cell_type": "code",
   "execution_count": null,
   "metadata": {},
   "outputs": [],
   "source": []
  },
  {
   "cell_type": "markdown",
   "metadata": {},
   "source": [
    "## Andre tilnærminger"
   ]
  },
  {
   "cell_type": "code",
   "execution_count": null,
   "metadata": {},
   "outputs": [],
   "source": []
  }
 ],
 "metadata": {
  "kernelspec": {
   "display_name": "Python 3",
   "language": "python",
   "name": "python3"
  },
  "language_info": {
   "codemirror_mode": {
    "name": "ipython",
    "version": 3
   },
   "file_extension": ".py",
   "mimetype": "text/x-python",
   "name": "python",
   "nbconvert_exporter": "python",
   "pygments_lexer": "ipython3",
   "version": "3.8.5"
  }
 },
 "nbformat": 4,
 "nbformat_minor": 4
}
