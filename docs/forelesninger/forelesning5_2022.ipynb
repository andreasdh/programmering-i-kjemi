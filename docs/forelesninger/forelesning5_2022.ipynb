{
 "cells": [
  {
   "cell_type": "markdown",
   "id": "48960fcc",
   "metadata": {},
   "source": [
    "# Forelesning 5: Likninger og nullpunkter\n",
    "\n",
    "Uledninger og forklaringer på tavla (se også videoer på nettsidene)."
   ]
  },
  {
   "cell_type": "markdown",
   "id": "e595a57b",
   "metadata": {},
   "source": [
    "## Halveringsmetoden"
   ]
  },
  {
   "cell_type": "code",
   "execution_count": 11,
   "id": "b134c4a9",
   "metadata": {},
   "outputs": [],
   "source": [
    "def f(x):\n",
    "    return 2*x - 2\n",
    "\n",
    "\n",
    "a = -5\n",
    "b = 12\n",
    "\n",
    "m = (a+b)/2\n",
    "i = 0\n",
    "tol = 1E-12\n",
    "\n",
    "while abs(f(m)) > tol:\n",
    "    if f(a)*f(m) < 0:\n",
    "        b = m\n",
    "    elif f(b)*f(m) < 0:\n",
    "        a = m\n",
    "    m = (a+b)/2\n",
    "    i += 1"
   ]
  },
  {
   "cell_type": "code",
   "execution_count": 13,
   "id": "d0c5985b",
   "metadata": {},
   "outputs": [
    {
     "name": "stdout",
     "output_type": "stream",
     "text": [
      "1.000000000000341 42\n"
     ]
    }
   ],
   "source": [
    "print(m, i)"
   ]
  },
  {
   "cell_type": "markdown",
   "id": "3ff898f8",
   "metadata": {},
   "source": [
    "## Newtons metode"
   ]
  },
  {
   "cell_type": "code",
   "execution_count": 37,
   "id": "41a67d84",
   "metadata": {},
   "outputs": [
    {
     "name": "stdout",
     "output_type": "stream",
     "text": [
      "1.3572088082974534\n"
     ]
    }
   ],
   "source": [
    "def f(x):\n",
    "    return 2*x**3 - 5\n",
    "\n",
    "def fder(x):\n",
    "    return 6*x**2\n",
    "\n",
    "x = 10\n",
    "for i in range(10):\n",
    "    x = x - f(x)/fder(x)\n",
    "    \n",
    "print(x)"
   ]
  },
  {
   "cell_type": "code",
   "execution_count": 38,
   "id": "0852d841",
   "metadata": {},
   "outputs": [
    {
     "data": {
      "text/plain": [
       "0.0"
      ]
     },
     "execution_count": 38,
     "metadata": {},
     "output_type": "execute_result"
    }
   ],
   "source": [
    "round(f(x),10)"
   ]
  },
  {
   "cell_type": "markdown",
   "id": "10c915f7",
   "metadata": {},
   "source": [
    "## Scipy-biblioteket"
   ]
  },
  {
   "cell_type": "code",
   "execution_count": null,
   "id": "f4e52a00",
   "metadata": {},
   "outputs": [],
   "source": []
  },
  {
   "cell_type": "code",
   "execution_count": null,
   "id": "a46eb337",
   "metadata": {},
   "outputs": [],
   "source": []
  },
  {
   "cell_type": "code",
   "execution_count": null,
   "id": "23d07aa7",
   "metadata": {},
   "outputs": [],
   "source": []
  }
 ],
 "metadata": {
  "kernelspec": {
   "display_name": "Python 3 (ipykernel)",
   "language": "python",
   "name": "python3"
  },
  "language_info": {
   "codemirror_mode": {
    "name": "ipython",
    "version": 3
   },
   "file_extension": ".py",
   "mimetype": "text/x-python",
   "name": "python",
   "nbconvert_exporter": "python",
   "pygments_lexer": "ipython3",
   "version": "3.9.12"
  }
 },
 "nbformat": 4,
 "nbformat_minor": 5
}
