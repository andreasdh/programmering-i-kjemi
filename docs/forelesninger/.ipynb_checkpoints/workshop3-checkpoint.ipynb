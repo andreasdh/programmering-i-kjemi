{
 "cells": [
  {
   "cell_type": "markdown",
   "metadata": {},
   "source": [
    "# Workshop 3: Dynamiske systemer\n",
    "\n",
    "## Enzymkinetikk\n",
    "Vi har følgende når et substrat (S) binder seg til et enzym (E) og danner et enzym-substratkompleks (ES), og til slutt danner et produkt (P):\n",
    "\n",
    "$$𝐸+𝑆 \\underset{k_{-1}}{\\stackrel{k_1}{\\rightleftharpoons}} ES \\underset{k_{-2}}{\\stackrel{k_2}{\\rightleftharpoons}} P + E$$\n",
    "\n",
    "Regner med at $k_{-2} \\approx 0$\n",
    "\n",
    "$$𝐸+𝑆 \\underset{k_{-1}}{\\stackrel{k_1}{\\rightleftharpoons}} ES \\underset{}{\\stackrel{k_2}{\\rightleftharpoons}} P + E$$\n",
    "\n",
    "\n",
    "$$\\frac{𝑑[𝐸]}{𝑑𝑡}= −𝑘_1 [𝐸][𝑆]+𝑘_{-1} [𝐸𝑆]+𝑘_2 [𝐸𝑆]$$\n",
    "\n",
    "$$\\frac{𝑑[𝑆]}{d𝑡}=−𝑘_1 [𝐸][𝑆]+𝑘_{−1} [𝐸𝑆]$$\n",
    "\n",
    "$$\\frac{𝑑[𝐸𝑆]}{𝑑𝑡}=𝑘_1 [𝐸][𝑆]−𝑘_{−1} [𝐸𝑆]−𝑘_2 [𝐸𝑆]$$\n",
    "\n",
    "$$\\frac{𝑑[𝑃]}{𝑑𝑡}=𝑘_2 [𝐸𝑆]$$"
   ]
  },
  {
   "cell_type": "code",
   "execution_count": null,
   "metadata": {},
   "outputs": [],
   "source": []
  }
 ],
 "metadata": {
  "kernelspec": {
   "display_name": "Python 3",
   "language": "python",
   "name": "python3"
  },
  "language_info": {
   "codemirror_mode": {
    "name": "ipython",
    "version": 3
   },
   "file_extension": ".py",
   "mimetype": "text/x-python",
   "name": "python",
   "nbconvert_exporter": "python",
   "pygments_lexer": "ipython3",
   "version": "3.8.5"
  }
 },
 "nbformat": 4,
 "nbformat_minor": 5
}
