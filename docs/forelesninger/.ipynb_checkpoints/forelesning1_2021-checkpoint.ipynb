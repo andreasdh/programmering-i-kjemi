{
 "cells": [
  {
   "cell_type": "markdown",
   "metadata": {},
   "source": [
    "# Forelesning 1: Programmering i kjemi"
   ]
  },
  {
   "cell_type": "markdown",
   "metadata": {},
   "source": [
    "La oss se på noen enkle anvendelser av programmering i kjemi:\n",
    "- Utforske periodiske egenskaper ved grunnstoffer.\n",
    "- Balansere reaksjonslikninger.\n",
    "- Regne på pH i ulike syre-base-systemer.\n",
    "- Visualisere molekyler.\n",
    "\n",
    "$Menti: 45946230$\n",
    "\n",
    "## Jupyter Notebooks til rapportskriving\n",
    "\n",
    "Latex her."
   ]
  },
  {
   "cell_type": "markdown",
   "metadata": {},
   "source": [
    "## Chemlib-bibliotket\n",
    "Chemlib-biblioteket inneholder mye nyttig informasjon om grunnstoffene våre, og du kan balansere blant annet utføre fortynninger, balansere reaksjoner og tegne og regne på elektrokjemiske celler.\n",
    "\n",
    "### Atomegenskaper\n",
    "Her er noen eksempler på hvilke egenskaper vi kan hente opp med chemlib:\n",
    "\n",
    "|     Kommando             |     Forklaring                                                                                                     |\n",
    "|--------------------------|--------------------------------------------------------------------------------------------------------------------|\n",
    "|     AtomicMass           |     Atommasse i g/mol                                                                                              |\n",
    "|     AtomicNumber         |     Atomnummer                                                                                                     |\n",
    "|     AtomicRadius         |     Atomradius i pm                                                                                                |\n",
    "|     BolingPoint          |     Kokepunkt i K                                                                                                  |\n",
    "|     Density              |     Tetthet i g/cm3                                                                                                |\n",
    "|     Discoverer           |     Oppdager av grunnstoffet                                                                                       |\n",
    "|     Electronegativity    |     Pauling-elektronegativitet                                                                                     |\n",
    "|     Electrons            |     Antallet elektroner                                                                                            |\n",
    "|     FirstIonization      |     Første ioniseringsenergi i eV                                                                                  |\n",
    "|     Group                |     Gruppen                                                                                                        |\n",
    "|     Isotopes             |     Antallet isotoper                                                                                              |\n",
    "|     MeltingPoint         |     Smeltepunkt i K                                                                                                |\n",
    "|     Metal                |     Returnerer True hvis stoffet er et   metall.                                                                   |\n",
    "|     Natural              |     True hvis naturlig forekommende isotoper og False hvis ikke    |\n",
    "|     Neutrons             |     Antallet nøytroner                                                                                             |\n",
    "|     Period               |     Perioden                                                                                                       |\n",
    "|     Phase                |     Fase ved romtemperatur                                                                                         |\n",
    "|     Protons              |     Antallet protoner                                                                                              |\n",
    "|     Shells               |     Antallet hovedskall (n)                                                                                        |\n",
    "|     Type                 |     Kategori i periodesystemet (f.eks.   alkalimetall, halogen)                                                    |"
   ]
  },
  {
   "cell_type": "code",
   "execution_count": 8,
   "metadata": {},
   "outputs": [
    {
     "name": "stdout",
     "output_type": "stream",
     "text": [
      "Atomnummer: 23.0\n",
      "Atommasse: 50.942 g/mol\n",
      "Elektronegativitet: 1.63\n"
     ]
    }
   ],
   "source": [
    "from chemlib import Element\n",
    "\n",
    "vanadium = Element(\"V\")   #Skriver inn grunnstoffsymbolet\n",
    "print(\"Atomnummer:\", vanadium.AtomicNumber)\n",
    "print(\"Atommasse:\", vanadium.AtomicMass, \"g/mol\")\n",
    "print(\"Elektronegativitet:\", vanadium.Electronegativity)"
   ]
  },
  {
   "cell_type": "markdown",
   "metadata": {},
   "source": [
    "## Støkiometriske beregninger"
   ]
  },
  {
   "cell_type": "code",
   "execution_count": 10,
   "metadata": {},
   "outputs": [
    {
     "name": "stdout",
     "output_type": "stream",
     "text": [
      "{'grams': 2, 'molecules': 1.625e+22, 'moles': 0.027}\n",
      "13.588\n",
      "{'moles': 1, 'grams': 142.04, 'molecules': 6.02e+23}\n",
      "{'molecules': 1e+24, 'moles': 1.661, 'grams': 28.287}\n"
     ]
    }
   ],
   "source": [
    "from chemlib import Compound\n",
    "\n",
    "butan1ol = Compound(\"C4H9OH\") # Definerer forbindelsen\n",
    "# Regner fra gram til mol og molekyler\n",
    "print(butan1ol.get_amounts(grams=2))\n",
    "# Finner prosentvis masse hydrogen i ammoniakk\n",
    "print(butan1ol.percentage_by_mass(\"H\"))\n",
    "\n",
    "natriumsulfat = Compound(\"Na2SO4\")\n",
    "# Fra mol til gram og formelenheter\n",
    "print(natriumsulfat.get_amounts(moles=1))\n",
    "\n",
    "ammoniakk = Compound(\"NH3\")\n",
    "# Fra molekyler til mol og gram\n",
    "print(ammoniakk.get_amounts(molecules=1E24))"
   ]
  },
  {
   "cell_type": "code",
   "execution_count": 19,
   "metadata": {},
   "outputs": [
    {
     "name": "stdout",
     "output_type": "stream",
     "text": [
      "1S₁O₂ + 1O₂ --> 1S₁O₃\n",
      "False\n",
      "2S₁O₂ + 1O₂ --> 2S₁O₃\n",
      "True\n"
     ]
    }
   ],
   "source": [
    "from chemlib import Compound, Reaction\n",
    "\n",
    "# Definerer forbindelser\n",
    "SO2 = Compound(\"SO2\")\n",
    "O2 = Compound(\"O2\")\n",
    "SO3 = Compound(\"SO3\")\n",
    "\n",
    "# Definerer reaksjon som en liste med reaktanter og en med produkter\n",
    "reaksjon = Reaction([SO2, O2], [SO3])\n",
    "print(reaksjon.formula)     # Printer reaksjonslikningen\n",
    "print(reaksjon.is_balanced) # Sjekker om reaksjonen er balansert\n",
    "\n",
    "reaksjon.balance()          # Balanserer reaksjonen\n",
    "print(reaksjon.formula)\n",
    "print(reaksjon.is_balanced)"
   ]
  },
  {
   "cell_type": "markdown",
   "metadata": {},
   "source": [
    "## Elektrokjemi"
   ]
  },
  {
   "cell_type": "code",
   "execution_count": 17,
   "metadata": {},
   "outputs": [
    {
     "name": "stdout",
     "output_type": "stream",
     "text": [
      "{'Cell': 'Ni | Ni2+ || Ag+ | Ag', 'Anode': 'Ni', 'Cathode': 'Ag', 'Cell Potential': 1.05}\n",
      "{'element': 'Ag', 'n': 2, 'seconds': 18000, 'amps': 10, 'grams': 100.61791988391978}\n"
     ]
    }
   ],
   "source": [
    "from chemlib import Galvanic_Cell, electrolysis\n",
    "\n",
    "# Elektrokjemi\n",
    "celle = Galvanic_Cell(\"Ag\", \"Ni\")\n",
    "print(celle.properties)\n",
    "celle.diagram.show()\n",
    "celle.diagram.save(\"cellediagram.png\")\n",
    "\n",
    "# Utbytte i elektrolyse (5 timer elektrolyse av AgNO3, hvor mange gram?)\n",
    "elektrolyse = electrolysis(\"Ag\", n=2, amps=10, seconds=5*60*60)\n",
    "print(elektrolyse)"
   ]
  },
  {
   "cell_type": "markdown",
   "metadata": {},
   "source": [
    "## Mendeleev-biblioteket\n",
    "Dette biblioteket inneholder kun muligheter til å hente grunnstoffegenskaper, men har noen ekstra nyttige funksjoner som chemlib ikke har."
   ]
  },
  {
   "cell_type": "code",
   "execution_count": null,
   "metadata": {},
   "outputs": [],
   "source": [
    "from mendeleev import element\n",
    "\n",
    "karbon = element('C')\n",
    "oksygen = element(8)  #Henter atomnummer 8\n",
    "\n",
    "print(karbon.electronegativity())\n",
    "print(karbon.boiling_point)\n",
    "print(karbon.description)\n",
    "print(oksygen.uses)\n",
    "print(oksygen.atomic_radius)"
   ]
  },
  {
   "cell_type": "markdown",
   "metadata": {},
   "source": [
    "En ting som er svært praktisk med mendeleev-biblioteket, er at vi kan hente grunnstoffer ved hjelp av atomnummer istedenfor symbol. Det gjør at vi lettere kan iterere over grunnstoffer i en løkke, f.eks. slik:"
   ]
  },
  {
   "cell_type": "code",
   "execution_count": null,
   "metadata": {},
   "outputs": [],
   "source": [
    "for i in range(1,118):\n",
    "    grunnstoff = element(i)\n",
    "    print(grunnstoff.name,\": \", grunnstoff.electronegativity())"
   ]
  },
  {
   "cell_type": "markdown",
   "metadata": {},
   "source": [
    "- Hva gjør programmet ovenfor?\n",
    "- Programmet nedenfor skal plotte trendene i elektronegativitet for alle grunnstoffer. Fyll inn det som mangler."
   ]
  },
  {
   "cell_type": "code",
   "execution_count": null,
   "metadata": {},
   "outputs": [],
   "source": [
    "import matplotlib.pyplot as plt\n",
    "from mendeleev import element\n",
    "\n",
    "atomnummer = []\n",
    "elektronegativitet = []\n",
    "\n",
    "for i in range(??):\n",
    "    ??\n",
    "    \n",
    "plt.plot(atomnummer, elektronegativitet, linestyle=\" \", marker=\"o\")\n",
    "plt.xlabel(\"Atomnummer\")\n",
    "plt.ylabel(\"Elektronegativitet\")\n",
    "plt.show()"
   ]
  },
  {
   "cell_type": "markdown",
   "metadata": {},
   "source": [
    "## Visualisering av molekyler"
   ]
  },
  {
   "cell_type": "code",
   "execution_count": null,
   "metadata": {},
   "outputs": [],
   "source": []
  },
  {
   "cell_type": "code",
   "execution_count": null,
   "metadata": {},
   "outputs": [],
   "source": []
  },
  {
   "cell_type": "markdown",
   "metadata": {},
   "source": [
    "__Oppgaver__:\n",
    "1.\tLag et program som skriver ut eller plotter kokepunktet til alle halogenene. Beskriv og forklar trenden i kokepunkt.\n",
    "2.\tPlott atomradius som funksjon av atomnummer for alle grunnstoffer i periodesystemet og forklar det du ser. Plott deretter kun for grunnstoff 19–36 og forklar hva du ser.\n",
    "3. Lag en 3D-modell av benzosyre og proteinet keratin (6EC0 i PDB). "
   ]
  }
 ],
 "metadata": {
  "kernelspec": {
   "display_name": "Python 3",
   "language": "python",
   "name": "python3"
  },
  "language_info": {
   "codemirror_mode": {
    "name": "ipython",
    "version": 3
   },
   "file_extension": ".py",
   "mimetype": "text/x-python",
   "name": "python",
   "nbconvert_exporter": "python",
   "pygments_lexer": "ipython3",
   "version": "3.8.5"
  }
 },
 "nbformat": 4,
 "nbformat_minor": 4
}
