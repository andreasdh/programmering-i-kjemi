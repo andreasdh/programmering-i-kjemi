{
 "cells": [
  {
   "cell_type": "markdown",
   "metadata": {},
   "source": [
    "# Forelesning 7: Differensiallikninger"
   ]
  },
  {
   "cell_type": "markdown",
   "metadata": {},
   "source": [
    "Først: Repetisjon (https://www.mentimeter.com/app/presentation/d40d75447a668832c566597595f84042/71640270cf82/edit)"
   ]
  },
  {
   "cell_type": "markdown",
   "metadata": {},
   "source": [
    "$$y' = y + t$$\n",
    "\n",
    "$$f'(t) = f(y, t)$$\n"
   ]
  },
  {
   "cell_type": "markdown",
   "metadata": {},
   "source": [
    "## Fra makronivå...\n",
    "\n",
    "### Fallende ambolt"
   ]
  },
  {
   "cell_type": "code",
   "execution_count": null,
   "metadata": {},
   "outputs": [],
   "source": []
  },
  {
   "cell_type": "markdown",
   "metadata": {},
   "source": [
    "__Oppgave:__ Gjør om programmet slik at det benytter arrayer istedenfor lister"
   ]
  },
  {
   "cell_type": "code",
   "execution_count": null,
   "metadata": {
    "scrolled": true
   },
   "outputs": [],
   "source": []
  },
  {
   "cell_type": "markdown",
   "metadata": {},
   "source": [
    "## ...til mikronivå\n",
    "\n",
    "### En bindingsmodell\n",
    "\n",
    "Vi kan lage bindingsmodeller som enkle \"fjærmodeller\". Da ser vi på atomene som kuler som henger i hver sin ende av en fjær. Dersom fjæra er stiv (høy \"fjærkonstant\"), vibrerer atomene mye, og motsatt. Enkle fjærkrefter følger Hooks lov:\n",
    "\n",
    "$$F = -k\\cdot (x - x_{eq})$$\n",
    "\n",
    "der _x_ er posisjonen og $x_0$ er likevektsposisjonen, dvs. posisjonen der fjæra ikke er komprimert eller strukket ut."
   ]
  },
  {
   "cell_type": "code",
   "execution_count": null,
   "metadata": {},
   "outputs": [],
   "source": []
  }
 ],
 "metadata": {
  "kernelspec": {
   "display_name": "Python 3 (ipykernel)",
   "language": "python",
   "name": "python3"
  },
  "language_info": {
   "codemirror_mode": {
    "name": "ipython",
    "version": 3
   },
   "file_extension": ".py",
   "mimetype": "text/x-python",
   "name": "python",
   "nbconvert_exporter": "python",
   "pygments_lexer": "ipython3",
   "version": "3.11.4"
  }
 },
 "nbformat": 4,
 "nbformat_minor": 4
}
