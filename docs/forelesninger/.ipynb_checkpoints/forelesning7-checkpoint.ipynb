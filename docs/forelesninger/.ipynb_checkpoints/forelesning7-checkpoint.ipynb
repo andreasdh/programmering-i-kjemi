{
 "cells": [
  {
   "cell_type": "markdown",
   "metadata": {},
   "source": [
    "# Forelesning 7: Differensiallikninger"
   ]
  },
  {
   "cell_type": "markdown",
   "metadata": {},
   "source": [
    "Først: Repetisjon (https://www.mentimeter.com/app/presentation/d40d75447a668832c566597595f84042/71640270cf82/edit)"
   ]
  },
  {
   "cell_type": "markdown",
   "metadata": {},
   "source": [
    "$$y' = y + t$$\n",
    "\n",
    "$$f'(t) = f(y, t)$$\n"
   ]
  },
  {
   "cell_type": "markdown",
   "metadata": {},
   "source": [
    "## Fra makronivå...\n",
    "\n",
    "### Fallende ambolt"
   ]
  },
  {
   "cell_type": "code",
   "execution_count": 1,
   "metadata": {},
   "outputs": [],
   "source": [
    "import matplotlib.pyplot as plt\n",
    "import numpy as np"
   ]
  },
  {
   "cell_type": "code",
   "execution_count": 8,
   "metadata": {},
   "outputs": [
    {
     "name": "stdout",
     "output_type": "stream",
     "text": [
      "1.7669999999999162\n"
     ]
    }
   ],
   "source": [
    "# Konstanter\n",
    "m = 30  # masse i kg\n",
    "g = 9.8 # gravitasjonskonstanten i m/s^2\n",
    "k = 1  # luftmotstandstallet\n",
    "\n",
    "s = 0     # Startposisjon\n",
    "v = 0     # Startfart (m/s)\n",
    "tid = 0   # Starttid (s)\n",
    "dt = 1E-3 # Tidssteg\n",
    "s_slutt = 15\n",
    "\n",
    "while s < s_slutt:\n",
    "    F = m*g - k*v  # Uttrykk for kreftene\n",
    "    a = F/m        # Bruker N2 til å regne ut a\n",
    "    v = v + a*dt   # Bruker kinematikklikningene til å regne ut v og s\n",
    "    s = s + v*dt\n",
    "    tid = tid + dt\n",
    "\n",
    "print(tid)"
   ]
  },
  {
   "cell_type": "markdown",
   "metadata": {},
   "source": [
    "__Oppgave:__ Gjør om programmet slik at det benytter arrayer istedenfor lister"
   ]
  },
  {
   "cell_type": "code",
   "execution_count": null,
   "metadata": {
    "scrolled": true
   },
   "outputs": [],
   "source": []
  },
  {
   "cell_type": "markdown",
   "metadata": {},
   "source": [
    "## ...til mikronivå\n",
    "\n",
    "### En bindingsmodell\n",
    "\n",
    "Vi kan lage bindingsmodeller som enkle \"fjærmodeller\". Da ser vi på atomene som kuler som henger i hver sin ende av en fjær. Dersom fjæra er stiv (høy \"fjærkonstant\"), vibrerer atomene mye, og motsatt. Enkle fjærkrefter følger Hooks lov:\n",
    "\n",
    "$$F = -k\\cdot (x - x_{eq})$$\n",
    "\n",
    "der _x_ er posisjonen og $x_0$ er likevektsposisjonen, dvs. posisjonen der fjæra ikke er komprimert eller strukket ut."
   ]
  },
  {
   "cell_type": "code",
   "execution_count": null,
   "metadata": {},
   "outputs": [],
   "source": []
  }
 ],
 "metadata": {
  "kernelspec": {
   "display_name": "Python 3 (ipykernel)",
   "language": "python",
   "name": "python3"
  },
  "language_info": {
   "codemirror_mode": {
    "name": "ipython",
    "version": 3
   },
   "file_extension": ".py",
   "mimetype": "text/x-python",
   "name": "python",
   "nbconvert_exporter": "python",
   "pygments_lexer": "ipython3",
   "version": "3.9.12"
  }
 },
 "nbformat": 4,
 "nbformat_minor": 4
}
