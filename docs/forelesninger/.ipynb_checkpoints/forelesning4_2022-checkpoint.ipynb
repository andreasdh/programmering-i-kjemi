{
 "cells": [
  {
   "cell_type": "markdown",
   "id": "ef51c485",
   "metadata": {},
   "source": [
    "# Forelesning 4: Numerisk derivasjon\n",
    "\n",
    "https://www.menti.com/oos4kx9c72"
   ]
  },
  {
   "cell_type": "markdown",
   "id": "96edd8e7",
   "metadata": {},
   "source": [
    "## Definisjon\n",
    "\n",
    "Analytisk derivasjon:\n",
    "$$f'(x) = \\lim_{\\Delta x \\rightarrow 0} \\frac{f(x+\\Delta x)-f(x)}{\\Delta x}$$\n",
    "\n",
    "Numerisk derivasjon:\n",
    "$$f'(x) \\approx \\frac{f(x+\\Delta x)-f(x)}{\\Delta x}$$\n",
    "\n",
    "der $\\Delta x$ er et lite tall.\n",
    "\n",
    "## Derivasjon av funksjoner"
   ]
  },
  {
   "cell_type": "code",
   "execution_count": 19,
   "id": "6fa27d86",
   "metadata": {},
   "outputs": [
    {
     "name": "stdout",
     "output_type": "stream",
     "text": [
      "2.000000165480742\n"
     ]
    }
   ],
   "source": [
    "def f(x):\n",
    "    return x**2 + 1\n",
    "\n",
    "\n",
    "def fder(f, x, dx = 1E-8):\n",
    "    der = (f(x + dx) - f(x))/dx\n",
    "    return der\n",
    "\n",
    "print(fder(f,1,1E-10))"
   ]
  },
  {
   "cell_type": "markdown",
   "id": "0537dec1",
   "metadata": {},
   "source": [
    "Velger en dx som er så liten som mulig ($dx \\rightarrow 0$), men ikke for liten. Da forstørres feilen, og vi får en dårligere tilnærming."
   ]
  },
  {
   "cell_type": "markdown",
   "id": "8b118061",
   "metadata": {},
   "source": [
    "## Derivasjon av data"
   ]
  },
  {
   "cell_type": "code",
   "execution_count": 21,
   "id": "67791c3d",
   "metadata": {},
   "outputs": [],
   "source": [
    "import pandas as pd\n",
    "import matplotlib.pyplot as plt"
   ]
  },
  {
   "cell_type": "code",
   "execution_count": 28,
   "id": "c64fad49",
   "metadata": {},
   "outputs": [],
   "source": [
    "data = pd.read_csv(\"https://raw.githubusercontent.com/andreasdh/programmering-i-kjemi/master/docs/datafiler/heistur_kjemi_fysikk.txt\")"
   ]
  },
  {
   "cell_type": "code",
   "execution_count": 35,
   "id": "ae5feca4",
   "metadata": {},
   "outputs": [],
   "source": [
    "tid = data[\"time_s\"]\n",
    "s = data[\"height_m\"]\n",
    "v = []\n",
    "\n",
    "for i in range(len(tid)-1):\n",
    "    dy = s[i+1] - s[i]\n",
    "    dt = tid[i+1] - tid[i]\n",
    "    dydt = dy/dt\n",
    "    v.append(dydt)\n",
    "    \n",
    "v.append(None)"
   ]
  },
  {
   "cell_type": "code",
   "execution_count": 40,
   "id": "dd7f7642",
   "metadata": {},
   "outputs": [
    {
     "data": {
      "image/png": "[encoded data removed]",
      "text/plain": [
       "<Figure size 432x288 with 1 Axes>"
      ]
     },
     "metadata": {
      "needs_background": "light"
     },
     "output_type": "display_data"
    }
   ],
   "source": [
    "plt.plot(tid, s, label=\"Posisjon (m)\")\n",
    "plt.plot(tid, v, label=\"Fart (m/s)\")\n",
    "plt.xlabel(\"Tid\")\n",
    "#plt.ylim(-5,0)\n",
    "plt.legend()\n",
    "plt.show()"
   ]
  },
  {
   "cell_type": "code",
   "execution_count": null,
   "id": "7464e4fa",
   "metadata": {},
   "outputs": [],
   "source": []
  },
  {
   "cell_type": "code",
   "execution_count": null,
   "id": "952036d0",
   "metadata": {
    "scrolled": false
   },
   "outputs": [],
   "source": []
  },
  {
   "cell_type": "code",
   "execution_count": null,
   "id": "c227abe0",
   "metadata": {},
   "outputs": [],
   "source": []
  }
 ],
 "metadata": {
  "kernelspec": {
   "display_name": "Python 3 (ipykernel)",
   "language": "python",
   "name": "python3"
  },
  "language_info": {
   "codemirror_mode": {
    "name": "ipython",
    "version": 3
   },
   "file_extension": ".py",
   "mimetype": "text/x-python",
   "name": "python",
   "nbconvert_exporter": "python",
   "pygments_lexer": "ipython3",
   "version": "3.9.12"
  }
 },
 "nbformat": 4,
 "nbformat_minor": 5
}
