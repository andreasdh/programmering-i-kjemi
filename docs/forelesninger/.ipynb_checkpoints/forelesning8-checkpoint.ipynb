{
 "cells": [
  {
   "cell_type": "markdown",
   "id": "75038417",
   "metadata": {},
   "source": [
    "# Forelesning 8: Dynamiske systemer\n"
   ]
  },
  {
   "cell_type": "markdown",
   "id": "b6eb7c38",
   "metadata": {},
   "source": [
    "## Fartslover (ratelover)\n",
    "Vi bruker følgende reaksjon som eksempel (vi later først som om den er reversibel):\n",
    "\n",
    "$$ H_2 (g) + I_2 (g) \\rightarrow 2HI (g)$$\n",
    "\n",
    "Vi har følgende ratelov for reaksjonen:\n",
    "\n",
    "$$\\frac{d[HI]}{dt} = k_r[H_2][I_2]$$"
   ]
  },
  {
   "cell_type": "code",
   "execution_count": 1,
   "id": "4416e558",
   "metadata": {},
   "outputs": [],
   "source": [
    "import matplotlib.pyplot as plt\n",
    "import numpy as np"
   ]
  },
  {
   "cell_type": "code",
   "execution_count": null,
   "id": "aad017bf",
   "metadata": {},
   "outputs": [],
   "source": [
    "# Konstanter og startbetingelser\n",
    "k = 5E-2      # Reaksjonskonstant ved 420 grader C\n",
    "HI0 = 0       # Startkonsentrasjon HI0 (mol/L)\n",
    "I20 = 1       # Startkonsentrasjon I2 (mol/L)\n",
    "H20 = 1       # Startkonsentrasjon H2 (mol/L)\n",
    "\n",
    "# Tidsparametre\n",
    "t0 = 0        # Starttid (s)\n",
    "t_slutt = 500 # Simuleringstid (s)\n",
    "dt = 1E-3     # Tidssteg (s)\n",
    "N = int((t_slutt - t0)/dt) + 1 # Antall punkter\n",
    "\n",
    "# Arrayer\n",
    "HI = np.zeros(N)\n",
    "I2 = np.zeros(N)\n",
    "H2 = np.zeros(N)\n",
    "t = np.zeros(N)\n",
    "\n",
    "HI[0] = HI0\n",
    "I2[0] = I20\n",
    "H2[0] = H20\n",
    "t[0] = t0\n",
    "\n",
    "# Simuleringsløkke\n",
    "for i in range(N-1):\n",
    "    # Regner ut dHI/dt, dH2/dt og dI2/dt\n",
    "    dHIdt = k*H2[i]*I2[i]\n",
    "    dH2dt = -0.5*dHIdt\n",
    "    dI2dt = dH2dt\n",
    "    # Eulers metode for å integrere\n",
    "    ...\n",
    "\n",
    "\n",
    "\n"
   ]
  },
  {
   "cell_type": "markdown",
   "id": "85fa2620",
   "metadata": {},
   "source": [
    "## Bruk av biblioteker"
   ]
  },
  {
   "cell_type": "code",
   "execution_count": null,
   "id": "aea05c9f",
   "metadata": {},
   "outputs": [],
   "source": []
  }
 ],
 "metadata": {
  "kernelspec": {
   "display_name": "Python 3 (ipykernel)",
   "language": "python",
   "name": "python3"
  },
  "language_info": {
   "codemirror_mode": {
    "name": "ipython",
    "version": 3
   },
   "file_extension": ".py",
   "mimetype": "text/x-python",
   "name": "python",
   "nbconvert_exporter": "python",
   "pygments_lexer": "ipython3",
   "version": "3.9.12"
  }
 },
 "nbformat": 4,
 "nbformat_minor": 5
}
