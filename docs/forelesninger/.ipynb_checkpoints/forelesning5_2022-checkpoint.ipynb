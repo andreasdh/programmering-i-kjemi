{
 "cells": [
  {
   "cell_type": "markdown",
   "id": "48960fcc",
   "metadata": {},
   "source": [
    "# Forelesning 5: Likninger og nullpunkter\n",
    "\n",
    "Uledninger og forklaringer på tavla (se også videoer på nettsidene)."
   ]
  },
  {
   "cell_type": "markdown",
   "id": "e595a57b",
   "metadata": {},
   "source": [
    "## Halveringsmetoden"
   ]
  },
  {
   "cell_type": "code",
   "execution_count": 5,
   "id": "53179347",
   "metadata": {},
   "outputs": [
    {
     "name": "stdout",
     "output_type": "stream",
     "text": [
      "-4.0\n"
     ]
    }
   ],
   "source": [
    "def g(x):\n",
    "    return 2*x + 8\n",
    "\n",
    "def halveringsmetoden(f, a, b, tol=1E-10):\n",
    "    m = (a+b)/2\n",
    "    while abs(f(m)) > tol:\n",
    "        if f(m)*f(a) < 0:\n",
    "            b = m\n",
    "        elif f(m)*f(b) < 0:\n",
    "            a = m\n",
    "        m = (a+b)/2\n",
    "    return m\n",
    "\n",
    "nullpunkt = halveringsmetoden(g, -5, 5, 1E-16)\n",
    "print(nullpunkt)"
   ]
  },
  {
   "cell_type": "markdown",
   "id": "3ff898f8",
   "metadata": {},
   "source": [
    "## Newtons metode"
   ]
  },
  {
   "cell_type": "code",
   "execution_count": 6,
   "id": "e7d7a41a",
   "metadata": {
    "scrolled": true
   },
   "outputs": [
    {
     "name": "stdout",
     "output_type": "stream",
     "text": [
      "2.0\n",
      "Løkka gikk 6 ganger.\n"
     ]
    }
   ],
   "source": [
    "def f(x):\n",
    "    return 2*x**2 - 8\n",
    "\n",
    "def fder(x):\n",
    "    return 4*x\n",
    "\n",
    "x = 1       # Startgjett\n",
    "tol = 1E-16\n",
    "i = 0\n",
    "\n",
    "while abs(f(x)) > tol:\n",
    "    x = x - f(x)/fder(x)\n",
    "    i += 1\n",
    "\n",
    "print(x)\n",
    "print(\"Løkka gikk\", i, \"ganger.\")"
   ]
  },
  {
   "cell_type": "markdown",
   "id": "10c915f7",
   "metadata": {},
   "source": [
    "## Scipy-biblioteket"
   ]
  },
  {
   "cell_type": "code",
   "execution_count": 7,
   "id": "78ecebe7",
   "metadata": {},
   "outputs": [],
   "source": [
    "from scipy.optimize import root_scalar"
   ]
  },
  {
   "cell_type": "code",
   "execution_count": 10,
   "id": "afae0513",
   "metadata": {},
   "outputs": [
    {
     "name": "stdout",
     "output_type": "stream",
     "text": [
      "      converged: True\n",
      "           flag: 'converged'\n",
      " function_calls: 12\n",
      "     iterations: 6\n",
      "           root: 2.0\n"
     ]
    }
   ],
   "source": [
    "nullpunkt_newtons = root_scalar(f, method=\"Newton\", x0=1, fprime= fder)\n",
    "print(nullpunkt_newtons)"
   ]
  },
  {
   "cell_type": "code",
   "execution_count": 15,
   "id": "7ad5d628",
   "metadata": {},
   "outputs": [
    {
     "name": "stdout",
     "output_type": "stream",
     "text": [
      "      converged: True\n",
      "           flag: 'converged'\n",
      " function_calls: 43\n",
      "     iterations: 41\n",
      "           root: 1.9999999999995453\n"
     ]
    }
   ],
   "source": [
    "nullpunkt_halvering = root_scalar(f, method=\"bisect\", bracket = [0,3])\n",
    "print(nullpunkt_halvering)"
   ]
  }
 ],
 "metadata": {
  "kernelspec": {
   "display_name": "Python 3 (ipykernel)",
   "language": "python",
   "name": "python3"
  },
  "language_info": {
   "codemirror_mode": {
    "name": "ipython",
    "version": 3
   },
   "file_extension": ".py",
   "mimetype": "text/x-python",
   "name": "python",
   "nbconvert_exporter": "python",
   "pygments_lexer": "ipython3",
   "version": "3.9.12"
  }
 },
 "nbformat": 4,
 "nbformat_minor": 5
}
