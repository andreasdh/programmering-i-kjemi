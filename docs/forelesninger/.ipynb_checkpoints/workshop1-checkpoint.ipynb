{
 "cells": [
  {
   "cell_type": "markdown",
   "metadata": {},
   "source": [
    "# Workshop 1: Datahåndtering\n",
    "\n",
    "```{admonition} Pensum til eksamen: Datahåndtering\n",
    "1. Lese og sortere fildata (med hvilket som helst bibliotek).\n",
    "2. Lage gode visualiseringer.\n",
    "3. Definere ulike statistiske størrelser og bruke egne funksjoner og ferdige funksjoner til å regne dem ut: gjennomsnitt, standardavvik og kvartiler.\n",
    "4. Gjøre rede for og lage enkle maskinlæringsmodeller ved bruk av bestemmelsestrealgoritmer.\n",
    "5. Gjøre rede for, tolke og utføre regresjon med ferdige funksjoner.\n",
    "```\n",
    "\n"
   ]
  },
  {
   "cell_type": "markdown",
   "metadata": {},
   "source": [
    "## Vinfila. Sortere og regne ut ting."
   ]
  }
 ],
 "metadata": {
  "kernelspec": {
   "display_name": "Python 3",
   "language": "python",
   "name": "python3"
  },
  "language_info": {
   "codemirror_mode": {
    "name": "ipython",
    "version": 3
   },
   "file_extension": ".py",
   "mimetype": "text/x-python",
   "name": "python",
   "nbconvert_exporter": "python",
   "pygments_lexer": "ipython3",
   "version": "3.8.5"
  }
 },
 "nbformat": 4,
 "nbformat_minor": 5
}
