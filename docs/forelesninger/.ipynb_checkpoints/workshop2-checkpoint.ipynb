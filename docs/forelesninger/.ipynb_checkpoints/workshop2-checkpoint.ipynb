{
 "cells": [
  {
   "cell_type": "markdown",
   "id": "7e8f6f80",
   "metadata": {},
   "source": [
    "# Workshop 2: Numeriske metoder\n",
    "\n",
    "```{admonition} Pensum til eksamen: Numeriske metoder\n",
    "1. Beskrive, forklare og implementere numeriske metoder for å finne nullpunkter (halveringsmetoden, Newtons metode), derivere (framover-, bakover- og sentraldifferanse) og integrere (rektangelmetoden - venstre, høyre og midt - og trapesmetoden).\n",
    "2. Utvide numeriske metoder med relevant feilhåndtering.\n",
    "3. Sammenlikne og analysere ulike numeriske metoder.\n",
    "4. Feilsøke og feilrette kode med numeriske metoder.\n",
    "```"
   ]
  },
  {
   "cell_type": "markdown",
   "id": "99a43446",
   "metadata": {},
   "source": [
    "## Oppgaver\n",
    "1. Forklar forskjellen mellom numerisk og analytisk derivasjon\n",
    "2. Hvorfor kan ikke _dx_ i numerisk derivasjon være verken for liten for veldig stor?\n",
    "3. Forklar forskjellen mellom numerisk og analytisk integrasjon.\n",
    "4.  "
   ]
  }
 ],
 "metadata": {
  "kernelspec": {
   "display_name": "Python 3",
   "language": "python",
   "name": "python3"
  },
  "language_info": {
   "codemirror_mode": {
    "name": "ipython",
    "version": 3
   },
   "file_extension": ".py",
   "mimetype": "text/x-python",
   "name": "python",
   "nbconvert_exporter": "python",
   "pygments_lexer": "ipython3",
   "version": "3.8.8"
  }
 },
 "nbformat": 4,
 "nbformat_minor": 5
}
