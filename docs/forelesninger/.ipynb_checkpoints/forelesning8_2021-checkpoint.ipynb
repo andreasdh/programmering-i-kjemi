{
 "cells": [
  {
   "cell_type": "markdown",
   "id": "75038417",
   "metadata": {},
   "source": [
    "# Forelesning 8: Dynamiske systemer\n",
    "\n",
    "__Oppgave__: Vi kan lage bindingsmodeller som enkle \"fjærmodeller\". Da ser vi på atomene som kuler som henger i hver sin ende av en fjær. Dersom fjæra er stiv (høy \"fjærkonstant\"), vibrerer atomene mye, og motsatt. Enkle fjærkrefter følger Hooks lov:\n",
    "\n",
    "$$F = -k\\cdot (x - x_0)$$\n",
    "\n",
    "er _x_ er posisjonen og $x_0$ er likevektsposisjonen, dvs. posisjonen der fjæra ikke er komprimert eller strukket ut. Fyll inn det som mangler i programmet nedenfor:\n",
    "\n",
    "<iframe src=\"https://trinket.io/embed/python3/2d5191d8cf\" width=\"100%\" height=\"600\" frameborder=\"0\" marginwidth=\"0\" marginheight=\"0\" allowfullscreen></iframe>\n",
    "\n",
    "__Menti__: https://www.menti.com/mvbm6ic2yq"
   ]
  },
  {
   "cell_type": "markdown",
   "id": "b6eb7c38",
   "metadata": {},
   "source": [
    "## Fartslover (ratelover)\n",
    "Vi bruker følgende reaksjon som eksempel:\n",
    "\n",
    "$$ H_2 (g) + I_2 (g) \\rightarrow 2HI (g)$$\n",
    "\n",
    "Vi har følgende ratelov for reaksjonen:\n",
    "\n",
    "$$\\frac{d[HI]}{dt} = k_r[H_2][I_2]$$"
   ]
  },
  {
   "cell_type": "code",
   "execution_count": 2,
   "id": "44e8413a",
   "metadata": {},
   "outputs": [
    {
     "data": {
      "image/png": "[encoded data removed]",
      "text/plain": [
       "<Figure size 432x288 with 1 Axes>"
      ]
     },
     "metadata": {
      "needs_background": "light"
     },
     "output_type": "display_data"
    }
   ],
   "source": [
    "import matplotlib.pyplot as plt\n",
    "import numpy as np\n",
    "\n",
    "# Initialbetingelser\n",
    "H0 = 1  # mol/L\n",
    "I0 = 1  # mol/L\n",
    "HI0 = 0  # mol/L\n",
    "t0 = 0  # starttid i s\n",
    "t_slutt = 1000 # tid i s\n",
    "k = 5E-2\n",
    "\n",
    "dt = 1E-3  # tidssteg\n",
    "N = int((t_slutt-t0)/dt) + 1 # antall punkter\n",
    "\n",
    "# Arrayer\n",
    "H2 = np.zeros(N)\n",
    "I2 = np.zeros(N)\n",
    "HI = np.zeros(N)\n",
    "t = np.zeros(N)\n",
    "\n",
    "H2[0] = H0\n",
    "I2[0] = I0\n",
    "HI[0] = HI0\n",
    "t[0] = t0\n",
    "\n",
    "# Integrasjonsløkke\n",
    "for i in range(N-1):\n",
    "    # Ratelovene\n",
    "    HIdt = k*H2[i]*I2[i]\n",
    "    I2dt = -0.5*HIdt\n",
    "    H2dt = I2dt\n",
    "    # Eulers metode\n",
    "    HI[i+1] = HI[i] + HIdt*dt\n",
    "    H2[i+1] = H2[i] + H2dt*dt\n",
    "    I2[i+1] = I2[i] + I2dt*dt\n",
    "    t[i+1] = t[i] + dt\n",
    "\n",
    "plt.plot(t,HI)\n",
    "plt.plot(t,H2)\n",
    "plt.show()"
   ]
  },
  {
   "cell_type": "markdown",
   "id": "7f396bfe",
   "metadata": {},
   "source": [
    "## Enzymkinetikk\n",
    "Vi har følgende når et substrat (S) binder seg til et enzym (E) og danner et enzym-substratkompleks (ES), og til slutt danner et produkt (P):\n",
    "\n",
    "$$𝐸+𝑆 \\underset{k_{-1}}{\\stackrel{k_1}{\\rightleftharpoons}} ES \\underset{k_{-2}}{\\stackrel{k_2}{\\rightleftharpoons}} P + E$$\n",
    "\n",
    "Regner med at $k_{-2} \\approx 0$\n",
    "\n",
    "$$𝐸+𝑆 \\underset{k_{-1}}{\\stackrel{k_1}{\\rightleftharpoons}} ES \\underset{}{\\stackrel{k_2}{\\rightleftharpoons}} P + E$$\n",
    "\n",
    "\n",
    "$$\\frac{𝑑[𝐸]}{𝑑𝑡}= −𝑘_1 [𝐸][𝑆]+𝑘_{-1} [𝐸𝑆]+𝑘_2 [𝐸𝑆]$$\n",
    "\n",
    "$$\\frac{𝑑[𝑆]}{d𝑡}=−𝑘_1 [𝐸][𝑆]+𝑘_{−1} [𝐸𝑆]$$\n",
    "\n",
    "$$\\frac{𝑑[𝐸𝑆]}{𝑑𝑡}=𝑘_1 [𝐸][𝑆]−𝑘_{−1} [𝐸𝑆]−𝑘_2 [𝐸𝑆]$$\n",
    "\n",
    "$$\\frac{𝑑[𝑃]}{𝑑𝑡}=𝑘_2 [𝐸𝑆]$$"
   ]
  },
  {
   "cell_type": "code",
   "execution_count": null,
   "id": "ab71554e",
   "metadata": {},
   "outputs": [],
   "source": []
  },
  {
   "cell_type": "markdown",
   "id": "85fa2620",
   "metadata": {},
   "source": [
    "## Bruk av biblioteker"
   ]
  },
  {
   "cell_type": "code",
   "execution_count": null,
   "id": "a90141b9",
   "metadata": {},
   "outputs": [],
   "source": []
  }
 ],
 "metadata": {
  "kernelspec": {
   "display_name": "Python 3",
   "language": "python",
   "name": "python3"
  },
  "language_info": {
   "codemirror_mode": {
    "name": "ipython",
    "version": 3
   },
   "file_extension": ".py",
   "mimetype": "text/x-python",
   "name": "python",
   "nbconvert_exporter": "python",
   "pygments_lexer": "ipython3",
   "version": "3.8.8"
  }
 },
 "nbformat": 4,
 "nbformat_minor": 5
}
