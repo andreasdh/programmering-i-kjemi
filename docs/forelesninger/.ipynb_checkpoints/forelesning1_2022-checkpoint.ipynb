{
 "cells": [
  {
   "cell_type": "markdown",
   "metadata": {},
   "source": [
    "# Forelesning 1: Programmering i kjemi"
   ]
  },
  {
   "cell_type": "markdown",
   "metadata": {},
   "source": [
    "I denne forelesningen skal vi se på noen enkle anvendelser av programmering i kjemi:\n",
    "- Utforske periodiske egenskaper ved grunnstoffer.\n",
    "- Balansere reaksjonslikninger.\n",
    "- Utforske elektrokjemiske celler.\n",
    "- Regne på pH i ulike syre-base-systemer.\n",
    "- Visualisere molekyler.\n",
    "\n",
    "Menti: https://www.menti.com/jp7xwuafgb\n",
    "\n",
    "## Jupyter Notebooks til rapportskriving\n",
    "\n"
   ]
  },
  {
   "cell_type": "markdown",
   "metadata": {},
   "source": []
  },
  {
   "cell_type": "markdown",
   "metadata": {},
   "source": [
    "## Chemlib-biblioteket\n",
    "Chemlib-biblioteket inneholder mye nyttig informasjon om grunnstoffene våre, og du kan balansere blant annet utføre fortynninger, balansere reaksjoner og tegne og regne på elektrokjemiske celler.\n",
    "\n",
    "### Atomegenskaper\n",
    "Her er noen eksempler på hvilke egenskaper vi kan hente opp med chemlib:\n",
    "\n",
    "|     Kommando             |     Forklaring                                                                                                     |\n",
    "|--------------------------|--------------------------------------------------------------------------------------------------------------------|\n",
    "|     AtomicMass           |     Atommasse i g/mol                                                                                              |\n",
    "|     AtomicNumber         |     Atomnummer                                                                                                     |\n",
    "|     AtomicRadius         |     Atomradius i pm                                                                                                |\n",
    "|     BolingPoint          |     Kokepunkt i K                                                                                                  |\n",
    "|     Density              |     Tetthet i g/cm3                                                                                                |\n",
    "|     Discoverer           |     Oppdager av grunnstoffet                                                                                       |\n",
    "|     Electronegativity    |     Pauling-elektronegativitet                                                                                     |\n",
    "|     Electrons            |     Antallet elektroner                                                                                            |\n",
    "|     FirstIonization      |     Første ioniseringsenergi i eV                                                                                  |\n",
    "|     Group                |     Gruppen                                                                                                        |\n",
    "|     Isotopes             |     Antallet isotoper                                                                                              |\n",
    "|     MeltingPoint         |     Smeltepunkt i K                                                                                                |\n",
    "|     Metal                |     Returnerer True hvis stoffet er et   metall.                                                                   |\n",
    "|     Natural              |     True hvis naturlig forekommende isotoper og False hvis ikke    |\n",
    "|     Neutrons             |     Antallet nøytroner                                                                                             |\n",
    "|     Period               |     Perioden                                                                                                       |\n",
    "|     Phase                |     Fase ved romtemperatur                                                                                         |\n",
    "|     Protons              |     Antallet protoner                                                                                              |\n",
    "|     Shells               |     Antallet hovedskall (n)                                                                                        |\n",
    "|     Type                 |     Kategori i periodesystemet (f.eks.   alkalimetall, halogen)                                                    |"
   ]
  },
  {
   "cell_type": "code",
   "execution_count": null,
   "metadata": {},
   "outputs": [],
   "source": []
  },
  {
   "cell_type": "markdown",
   "metadata": {},
   "source": [
    "## Støkiometriske beregninger"
   ]
  },
  {
   "cell_type": "code",
   "execution_count": null,
   "metadata": {},
   "outputs": [],
   "source": []
  },
  {
   "cell_type": "code",
   "execution_count": null,
   "metadata": {},
   "outputs": [],
   "source": []
  },
  {
   "cell_type": "markdown",
   "metadata": {},
   "source": [
    "## Elektrokjemi"
   ]
  },
  {
   "cell_type": "code",
   "execution_count": null,
   "metadata": {},
   "outputs": [],
   "source": []
  },
  {
   "cell_type": "markdown",
   "metadata": {},
   "source": [
    "## Mendeleev-biblioteket\n",
    "Dette biblioteket inneholder kun muligheter til å hente grunnstoffegenskaper, men har noen ekstra nyttige funksjoner som chemlib ikke har."
   ]
  },
  {
   "cell_type": "code",
   "execution_count": null,
   "metadata": {},
   "outputs": [],
   "source": []
  },
  {
   "cell_type": "markdown",
   "metadata": {},
   "source": [
    "En ting som er svært praktisk med mendeleev-biblioteket, er at vi kan hente grunnstoffer ved hjelp av atomnummer istedenfor symbol. Det gjør at vi lettere kan iterere over grunnstoffer i en løkke, f.eks. slik:"
   ]
  },
  {
   "cell_type": "code",
   "execution_count": null,
   "metadata": {},
   "outputs": [],
   "source": [
    "for i in range(1,118):\n",
    "    grunnstoff = element(i)\n",
    "    print(grunnstoff.name,\": \", grunnstoff.electronegativity())"
   ]
  },
  {
   "cell_type": "markdown",
   "metadata": {},
   "source": [
    "- Hva gjør programmet ovenfor?\n",
    "- Programmet nedenfor skal plotte trendene i elektronegativitet for alle grunnstoffer. Fyll inn det som mangler."
   ]
  },
  {
   "cell_type": "code",
   "execution_count": null,
   "metadata": {},
   "outputs": [],
   "source": [
    "import matplotlib.pyplot as plt\n",
    "from mendeleev import element\n",
    "\n",
    "atomnummer = []\n",
    "elektronegativitet = []\n",
    "\n",
    "for i in range(??):\n",
    "    ??\n",
    "    \n",
    "plt.plot(atomnummer, elektronegativitet, linestyle=\" \", marker=\"o\")\n",
    "plt.xlabel(\"Atomnummer\")\n",
    "plt.ylabel(\"Elektronegativitet\")\n",
    "plt.show()"
   ]
  },
  {
   "cell_type": "markdown",
   "metadata": {},
   "source": [
    "## Syrer og baser"
   ]
  },
  {
   "cell_type": "markdown",
   "metadata": {},
   "source": [
    "Vi bruker et nyttig bibliotek som heter pHcalc til å regne på pH i syrer og baser."
   ]
  },
  {
   "cell_type": "code",
   "execution_count": null,
   "metadata": {},
   "outputs": [],
   "source": []
  },
  {
   "cell_type": "code",
   "execution_count": null,
   "metadata": {},
   "outputs": [],
   "source": []
  },
  {
   "cell_type": "markdown",
   "metadata": {},
   "source": [
    "## Visualisering av molekyler"
   ]
  },
  {
   "cell_type": "code",
   "execution_count": null,
   "metadata": {},
   "outputs": [],
   "source": []
  },
  {
   "cell_type": "code",
   "execution_count": null,
   "metadata": {},
   "outputs": [],
   "source": []
  },
  {
   "cell_type": "markdown",
   "metadata": {},
   "source": [
    "__Oppgaver__:\n",
    "1.\tLag et program som skriver ut eller plotter kokepunktet til alle halogenene. Beskriv og forklar trenden i kokepunkt.\n",
    "2.\tPlott atomradius som funksjon av atomnummer for alle grunnstoffer i periodesystemet og forklar det du ser. Plott deretter kun for grunnstoff 19–36 og forklar hva du ser.\n",
    "3. Lag en 3D-modell av benzosyre og proteinet keratin (6EC0 i PDB). "
   ]
  }
 ],
 "metadata": {
  "kernelspec": {
   "display_name": "Python 3 (ipykernel)",
   "language": "python",
   "name": "python3"
  },
  "language_info": {
   "codemirror_mode": {
    "name": "ipython",
    "version": 3
   },
   "file_extension": ".py",
   "mimetype": "text/x-python",
   "name": "python",
   "nbconvert_exporter": "python",
   "pygments_lexer": "ipython3",
   "version": "3.9.12"
  }
 },
 "nbformat": 4,
 "nbformat_minor": 4
}
