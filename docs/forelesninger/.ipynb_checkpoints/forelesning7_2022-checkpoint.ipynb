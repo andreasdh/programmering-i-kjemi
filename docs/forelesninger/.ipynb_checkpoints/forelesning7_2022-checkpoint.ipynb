{
 "cells": [
  {
   "cell_type": "markdown",
   "metadata": {},
   "source": [
    "# Forelesning 7: Differensiallikninger"
   ]
  },
  {
   "cell_type": "markdown",
   "metadata": {},
   "source": [
    "Menti: https://www.menti.com/c2pa6156x6"
   ]
  },
  {
   "cell_type": "markdown",
   "metadata": {},
   "source": [
    "__Repetisjonsoppgave:__ Sammenlikn kodesnuttene og diskuter hvilken metode som er brukt i hver funksjon:"
   ]
  },
  {
   "cell_type": "code",
   "execution_count": null,
   "metadata": {},
   "outputs": [],
   "source": [
    "def ukjent1(f, a, b, n):\n",
    "    A = 0.0\n",
    "    h = (b-a)/n\n",
    "    for k in range (n-1):\n",
    "        A = A + f(a + (k+1)*h)*h\n",
    "    return A\n",
    "\n",
    "def ukjent2(f, a, b, n):\n",
    "    h = (b-a)/n\n",
    "    A = (f(a) + f(b))/2.0\n",
    "    for k in range(1, n):\n",
    "        A = A + f(a + k*h)\n",
    "    return A*h\n",
    "\n",
    "def ukjent3(f, a, b, n):\n",
    "    A = 0.0 \n",
    "    h = (b-a)/n\n",
    "    for k in range (n):\n",
    "        A = A + f(a + k*h)*h\n",
    "    return A\n",
    "\n",
    "def ukjent4(f, a, b, n):\n",
    "    A = 0.0\n",
    "    h = (b-a)/n\n",
    "    for k in range (n):\n",
    "        A = A + f(a + (1+2*k)*(h/2))*h\n",
    "    return A"
   ]
  },
  {
   "cell_type": "markdown",
   "metadata": {},
   "source": [
    "## Difflikninger\n",
    "\n",
    "$$y' = y + t$$\n",
    "\n",
    "$$f'(t) = f(y, t)$$\n",
    "\n",
    "Eulers metode på tavla."
   ]
  },
  {
   "cell_type": "markdown",
   "metadata": {},
   "source": [
    "## Fra makronivå...\n",
    "\n",
    "### Fallende ambolt."
   ]
  },
  {
   "cell_type": "code",
   "execution_count": null,
   "metadata": {},
   "outputs": [],
   "source": []
  },
  {
   "cell_type": "markdown",
   "metadata": {},
   "source": [
    "__Oppgave:__ Gjør om programmet slik at det benytter arrayer istedenfor lister"
   ]
  },
  {
   "cell_type": "code",
   "execution_count": null,
   "metadata": {
    "scrolled": true
   },
   "outputs": [],
   "source": [
    "import matplotlib.pyplot as plt\n",
    "import numpy as np\n",
    "\n",
    "# Konstanter\n",
    "k = 0.1   # Luftmotstand\n",
    "g = 9.81  # Tyngdeakselerasjon i m/s^2\n",
    "m = 1     # Masse i kg\n",
    "v0 = 0    # Starthastighet i m/s\n",
    "s0 = 0    # Startposisjon i m\n",
    "\n",
    "# Tidsvariabler\n",
    "dt = 1E-5 # Tidsintervall i s\n",
    "tid_start = 0\n",
    "tid_slutt = 10\n",
    "N = int((tid_slutt-tid_start)/dt) + 1 # Antall punkter\n",
    "\n",
    "# Arrayer\n",
    "t = np.zeros(N)\n",
    "a = np.zeros(N)\n",
    "v = np.zeros(N)\n",
    "s = np.zeros(N)\n",
    "\n",
    "# Startverdier\n",
    "t[0] = tid_start\n",
    "v[0] = v0\n",
    "s[0] = s0\n",
    "\n",
    "for i in range(N-1):\n",
    "    a[i] = - g - k*v[i]/m\n",
    "    v[i+1] = v[i] + a[i]*dt\n",
    "    s[i+1] = s[i] + v[i]*dt + 0.5*a[i]*dt**2\n",
    "    t[i+1] = t[i] + dt\n",
    "\n",
    "plt.plot(t,s)\n",
    "plt.title('Fallende ambolt')\n",
    "plt.xlabel('Tid (s)')\n",
    "plt.ylabel('strekning (m)')\n",
    "plt.show()"
   ]
  },
  {
   "cell_type": "markdown",
   "metadata": {},
   "source": [
    "## ...til mikronivå\n",
    "\n",
    "### En bindingsmodell\n",
    "\n",
    "Vi kan lage bindingsmodeller som enkle \"fjærmodeller\". Da ser vi på atomene som kuler som henger i hver sin ende av en fjær. Dersom fjæra er stiv (høy \"fjærkonstant\"), vibrerer atomene mye, og motsatt. Enkle fjærkrefter følger Hooks lov:\n",
    "\n",
    "$$F = -k\\cdot (x - x_0)$$\n",
    "\n",
    "der _x_ er posisjonen og $x_0$ er likevektsposisjonen, dvs. posisjonen der fjæra ikke er komprimert eller strukket ut."
   ]
  },
  {
   "cell_type": "code",
   "execution_count": null,
   "metadata": {},
   "outputs": [],
   "source": [
    "import numpy as np\n",
    "import matplotlib.pyplot as plt\n",
    "\n",
    "# Konstanter og variabler\n",
    "m = 1    # Masse i kg\n",
    "k = 2    # Fjærkonstant\n",
    "x_eq = 0 # Likevektsposisjon i m\n",
    "v0 = 0   # Startfart i m/s\n",
    "x0 = 1   # Startposisjon i m\n",
    "\n",
    "# Tidssteg\n",
    "dt = 1E-6\n",
    "tid = 40        # Tid i s\n",
    "N = int(tid/dt) # Intervaller\n",
    "\n",
    "# Initialisering\n",
    "v = np.zeros(N+1)\n",
    "x = np.zeros(N+1)\n",
    "t = np.zeros(N+1)\n",
    "\n",
    "v[0] = v0\n",
    "x[0] = x0\n",
    "\n",
    "# Integrasjonsløkke\n",
    "for i in range(N):\n",
    "    a = -k/m*(x[i]-x_eq)\n",
    "    # Eulers metode\n",
    "    v[i+1] = v[i] + a*dt\n",
    "    x[i+1] = x[i] + v[i]*dt\n",
    "    t[i+1] = t[i] + dt\n",
    "    \n",
    "plt.plot(t,x)\n",
    "plt.show()"
   ]
  },
  {
   "cell_type": "markdown",
   "metadata": {},
   "source": [
    "## Numeriske biblioteker\n",
    "\n",
    "$$y' = t - y$$\n",
    "$$y(0) = 1$$"
   ]
  },
  {
   "cell_type": "code",
   "execution_count": null,
   "metadata": {},
   "outputs": [],
   "source": [
    "import numpy as np\n",
    "import matplotlib.pyplot as plt\n",
    "from scipy.integrate import solve_ivp\n",
    "\n",
    "def dydt(t, y):\n",
    "    return t - y\n",
    "\n",
    "a = 0\n",
    "b = 10\n",
    "t = np.linspace(a,b,1000)\n",
    "y0 = 1\n",
    "\n",
    "y_int = solve_ivp(dydt, [a,b], [y0], t_eval = t, method='BDF')\n",
    "plt.plot(y_int.t, y_int.y[0])"
   ]
  },
  {
   "cell_type": "code",
   "execution_count": null,
   "metadata": {},
   "outputs": [],
   "source": []
  }
 ],
 "metadata": {
  "kernelspec": {
   "display_name": "Python 3 (ipykernel)",
   "language": "python",
   "name": "python3"
  },
  "language_info": {
   "codemirror_mode": {
    "name": "ipython",
    "version": 3
   },
   "file_extension": ".py",
   "mimetype": "text/x-python",
   "name": "python",
   "nbconvert_exporter": "python",
   "pygments_lexer": "ipython3",
   "version": "3.9.12"
  }
 },
 "nbformat": 4,
 "nbformat_minor": 4
}
