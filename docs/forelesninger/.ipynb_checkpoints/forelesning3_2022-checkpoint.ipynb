{
 "cells": [
  {
   "cell_type": "markdown",
   "metadata": {},
   "source": [
    "# Datahåndtering\n",
    "I denne forelesningen skal vi se på datahåndtering og hvordan vi kan bruke data til å lage modeller.\n",
    "- gjøre statistiske operasjoner på data (pandas og numpy)\n",
    "- gjøre og tolke regresjon (numpy)\n",
    "- lage en enkel maskinlæringsmodell"
   ]
  },
  {
   "cell_type": "code",
   "execution_count": null,
   "metadata": {},
   "outputs": [],
   "source": [
    "import numpy as np\n",
    "import pandas as pd\n",
    "import matplotlib.pyplot as plt\n",
    "import seaborn as sns"
   ]
  },
  {
   "cell_type": "markdown",
   "metadata": {},
   "source": [
    "## Statistikk\n",
    "- Interkvartilbredde.\n",
    "- Gjennomsnitt.\n",
    "- Varians ($\\sigma^2$) og standardavvik ($\\sigma$):\n",
    "\n",
    "$$\\sigma^2  = \\frac{1}{n-1}\\sum_{i=1}^n(x_i-\\bar{x})^2$$\n",
    "\n",
    "$$\\sigma  = \\sqrt{\\frac{1}{n-1}\\sum_{i=1}^n(x_i-\\bar{x})^2}$$"
   ]
  },
  {
   "cell_type": "code",
   "execution_count": null,
   "metadata": {
    "scrolled": true
   },
   "outputs": [],
   "source": [
    "import numpy as np\n",
    "\n",
    "konsentrasjon = [2.00, 3.00, 3.03, 4.01, 4.00, 4.01, 5.00]\n",
    "snitt = np.mean(konsentrasjon)\n",
    "avvik = np.std(konsentrasjon)\n",
    "\n",
    "print(round(snitt,2),\"+-\", round(avvik,6))"
   ]
  },
  {
   "cell_type": "code",
   "execution_count": null,
   "metadata": {},
   "outputs": [],
   "source": [
    "# Gjennomsnitt, median, varians og standardavvik av elektronegativitet\n",
    "elneg = periodesystemet[\"Electronegativity\"]\n",
    "elneg.mean()\n",
    "elneg.median()\n",
    "elneg.var()\n",
    "elneg.std()"
   ]
  },
  {
   "cell_type": "code",
   "execution_count": null,
   "metadata": {},
   "outputs": [],
   "source": [
    "# Boksplott\n",
    "konsentrasjon = [2, 3, 3, 4, 4, 4, 5, 5, 8]"
   ]
  },
  {
   "cell_type": "markdown",
   "metadata": {},
   "source": [
    "__Oppgave:__ Regn ut gjennomsnitt, varians og standardavvik av konsentrasjonen ovenfor \"for hånd\" (du kan bruke Python som kalkulator)."
   ]
  },
  {
   "cell_type": "code",
   "execution_count": null,
   "metadata": {},
   "outputs": [],
   "source": [
    "sns.boxplot(y=konsentrasjon)\n",
    "# Hva skjer hvis vi legger inn en \"uteligger\" (9 istedenfor 8)?\n",
    "#konsentrasjon = [2, 3, 3, 4, 4, 4, 5, 5, 9]"
   ]
  },
  {
   "cell_type": "code",
   "execution_count": null,
   "metadata": {},
   "outputs": [],
   "source": [
    "# Gjennomsnitt, median, varians og standardavvik av elektronegativitet"
   ]
  },
  {
   "cell_type": "markdown",
   "metadata": {},
   "source": [
    "## Regresjon\n",
    "\n",
    "|     Temperatur (°C)     |     NH3, løselighet     (g/100 mL H$_2$O)     |     NaCl, Løselighet      (g/100 mL H$_2$O)     |\n",
    "|-------------------------|--------------------------------------------|----------------------------------------------|\n",
    "|     0                   |     88.5                                   |     35.7                                     |\n",
    "|     20                  |     56.0                                   |     35.9                                     |\n",
    "|     40                  |     34.0                                   |     36.4                                     |\n",
    "|     60                  |     20.0                                   |     37.1                                     |\n",
    "|     80                  |     11.0                                   |     38.0                                     |\n",
    "|     100                 |     7.0                                    |     39.2                                     |"
   ]
  },
  {
   "cell_type": "code",
   "execution_count": null,
   "metadata": {},
   "outputs": [],
   "source": [
    "# La oss gjøre en regresjon\n",
    "T = [0,20,40,60,80,100]\n",
    "sol = [35.7, 35.9, 36.4, 37.1, 38, 39.2]\n",
    "\n",
    "reg = np.polyfit(T,sol,1)\n",
    "x = np.linspace(0,120,1000)\n",
    "y = np.polyval(reg,x)\n",
    "\n",
    "plt.scatter(T,sol,label=\"Datapunkter\")\n",
    "plt.plot(x,y,label=\"Tilpasset kurve\",color=\"hotpink\")\n",
    "plt.legend()"
   ]
  },
  {
   "cell_type": "markdown",
   "metadata": {},
   "source": [
    "Menti: https://www.menti.com/2sikjeo4ga"
   ]
  },
  {
   "cell_type": "markdown",
   "metadata": {},
   "source": [
    "## Maskinlæring\n",
    "\n",
    "### Visualiseringer\n",
    "La oss først visualisere noen sammenhenger som kan gi oss noen hypoteser."
   ]
  },
  {
   "cell_type": "code",
   "execution_count": null,
   "metadata": {},
   "outputs": [],
   "source": []
  },
  {
   "cell_type": "markdown",
   "metadata": {},
   "source": [
    "## Maskinlæring\n",
    "Vi skal nå lage en modell som kan forutsi hvilken art vi har med å gjøre gitt ulike kriterier. Vi velger ut hvilke data vi ønsker å bruke som kriterium for arten, og spesifiserer kategorien \"species\" som målkategorien vår:"
   ]
  },
  {
   "cell_type": "code",
   "execution_count": null,
   "metadata": {},
   "outputs": [],
   "source": [
    "from sklearn.model_selection import train_test_split, cross_val_score\n",
    "from sklearn import tree\n",
    "from sklearn.metrics import accuracy_score, confusion_matrix"
   ]
  },
  {
   "cell_type": "code",
   "execution_count": null,
   "metadata": {},
   "outputs": [],
   "source": [
    "pingvindata = pd.read_csv(\"https://www.uio.no/studier/emner/matnat/ifi/IN-KJM1900/h21/datafiler/penguings.txt\", delimiter = \",\")\n",
    "pingvindata.head()"
   ]
  },
  {
   "cell_type": "code",
   "execution_count": null,
   "metadata": {},
   "outputs": [],
   "source": [
    "pingvindata.dropna(inplace=True)"
   ]
  },
  {
   "cell_type": "markdown",
   "metadata": {},
   "source": [
    "## Steg 2: Velge treningssett og testsett\n",
    "\n",
    "I maskinlæring er det viktig at modellen vår klarer å forutsi data som kommer utenfra datasettet vi trener modellen med. Derfor deler vi ofte opp dataene i et treningssett og et testsett. Treningssettet bruker vi til å trene modellen, testsettet til å teste og evaluere modellen i etterkant. Vi blander ikke disse dataene. Vi kan generere slike data med funksjonen _train\\_test\\_split()_. Her bruker vi 80 \\% av dataene til trening og 20 \\% til testing. Du bør bruke minst 70 \\% av dataene dine til trening."
   ]
  },
  {
   "cell_type": "code",
   "execution_count": null,
   "metadata": {},
   "outputs": [],
   "source": [
    "kriterier = pingvindata[['bill_length_mm', 'bill_depth_mm']] # features\n",
    "kategorier = pingvindata['species']                          # labels, velge ut data til trening og testing\n",
    "treningsandel = 0.8 # Velger 80 prosent av datasettet til trening\n",
    "ml_data = train_test_split(kriterier, kategorier, train_size=treningsandel, random_state=42)\n",
    "\n",
    "treningskriterier = ml_data[0]\n",
    "testkriterier = ml_data[1]\n",
    "treningskategorier = ml_data[2]\n",
    "testkategorier = ml_data[3]"
   ]
  },
  {
   "cell_type": "markdown",
   "metadata": {},
   "source": [
    "## Steg 3: Lage modellen\n",
    "\n",
    "Nå kan vi lage modellen vår. Vi bruker en algoritme som heter _Decision Tree Classifier_. Det er basert på sammensatte og forgreinede valgtrær, der alle kombinasjoner av kriterier blir utforsket. Betingede sannsynligheter for ulike hendelser blir beregnet, og de mest sannsynlige utfallene blir framhevet basert på kombinasjonen av kriteriene. Først trener vi modellen:"
   ]
  },
  {
   "cell_type": "code",
   "execution_count": null,
   "metadata": {},
   "outputs": [],
   "source": [
    "modell = tree.DecisionTreeClassifier()                  # Lager modellen\n",
    "modell.fit(treningskriterier, treningskategorier)       # Trener modellen"
   ]
  },
  {
   "cell_type": "markdown",
   "metadata": {},
   "source": [
    "## Steg 4: Test og evaluer modellen\n",
    "\n",
    "Det var det - da har vi en modell! Den ligger nå i et objekt som vi har kalt _modell_."
   ]
  },
  {
   "cell_type": "code",
   "execution_count": null,
   "metadata": {},
   "outputs": [],
   "source": [
    "forutsigelser = modell.predict(testkriterier)\n",
    "accuracy_score(testkategorier, forutsigelser)"
   ]
  },
  {
   "cell_type": "code",
   "execution_count": null,
   "metadata": {},
   "outputs": [],
   "source": [
    "nebblengde = 35\n",
    "nebbdybde = 15\n",
    "modell.predict([[nebblengde, nebbdybde]]) # Husk to klammer her!"
   ]
  },
  {
   "cell_type": "code",
   "execution_count": null,
   "metadata": {},
   "outputs": [],
   "source": [
    "plt.figure(figsize=(10,10))\n",
    "tree.plot_tree(modell,feature_names=pingvindata.columns, class_names=['Adelie', 'Chinstrap', 'Gentoo'], filled=True,label=None, max_depth=1) \n",
    "None"
   ]
  }
 ],
 "metadata": {
  "celltoolbar": "Edit Metadata",
  "kernelspec": {
   "display_name": "Python 3 (ipykernel)",
   "language": "python",
   "name": "python3"
  },
  "language_info": {
   "codemirror_mode": {
    "name": "ipython",
    "version": 3
   },
   "file_extension": ".py",
   "mimetype": "text/x-python",
   "name": "python",
   "nbconvert_exporter": "python",
   "pygments_lexer": "ipython3",
   "version": "3.9.12"
  }
 },
 "nbformat": 4,
 "nbformat_minor": 4
}
