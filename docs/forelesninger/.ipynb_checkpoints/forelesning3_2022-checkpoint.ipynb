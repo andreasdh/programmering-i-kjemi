{
 "cells": [
  {
   "cell_type": "markdown",
   "metadata": {},
   "source": [
    "## Datahåndtering\n",
    "I denne forelesningen skal vi se på datahåndtering og hvordan vi kan bruke data til å lage modeller.\n",
    "- gjøre statistiske operasjoner på data (pandas og numpy)\n",
    "- gjøre og tolke regresjon (numpy)\n",
    "- lage en enkel maskinlæringsmodell"
   ]
  },
  {
   "cell_type": "code",
   "execution_count": 5,
   "metadata": {},
   "outputs": [],
   "source": [
    "import numpy as np\n",
    "import pandas as pd\n",
    "import matplotlib.pyplot as plt\n",
    "import seaborn as sns"
   ]
  },
  {
   "cell_type": "markdown",
   "metadata": {},
   "source": [
    "## Statistikk\n",
    "- Interkvartilbredde.\n",
    "- Gjennomsnitt.\n",
    "- Varians ($\\sigma^2$) og standardavvik ($\\sigma$):\n",
    "\n",
    "$$\\sigma^2  = \\frac{1}{n-1}\\sum_{i=1}^n(x_i-\\bar{x})^2$$\n",
    "\n",
    "$$\\sigma  = \\sqrt{\\frac{1}{n-1}\\sum_{i=1}^n(x_i-\\bar{x})^2}$$"
   ]
  },
  {
   "cell_type": "code",
   "execution_count": 1,
   "metadata": {},
   "outputs": [
    {
     "name": "stdout",
     "output_type": "stream",
     "text": [
      "3.58 +- 0.90221\n"
     ]
    }
   ],
   "source": [
    "import numpy as np\n",
    "\n",
    "konsentrasjon = [2.00, 3.00, 3.03, 4.01, 4.00, 4.01, 5.00]\n",
    "snitt = np.mean(konsentrasjon)\n",
    "avvik = np.std(konsentrasjon)\n",
    "\n",
    "print(round(snitt,2),\"+-\", round(avvik,6))"
   ]
  },
  {
   "cell_type": "code",
   "execution_count": null,
   "metadata": {},
   "outputs": [],
   "source": [
    "# Gjennomsnitt, median, varians og standardavvik av elektronegativitet\n",
    "elneg = periodesystemet[\"Electronegativity\"]\n",
    "elneg.mean()\n",
    "elneg.median()\n",
    "elneg.var()\n",
    "elneg.std()"
   ]
  },
  {
   "cell_type": "code",
   "execution_count": 8,
   "metadata": {},
   "outputs": [],
   "source": [
    "# Boksplott\n",
    "konsentrasjon = [2, 3, 3, 4, 4, 4, 5, 10]"
   ]
  },
  {
   "cell_type": "markdown",
   "metadata": {},
   "source": [
    "__Oppgave:__ Regn ut gjennomsnitt, varians og standardavvik av konsentrasjonen ovenfor \"for hånd\" (du kan bruke Python som kalkulator)."
   ]
  },
  {
   "cell_type": "code",
   "execution_count": 9,
   "metadata": {},
   "outputs": [
    {
     "data": {
      "text/plain": [
       "<AxesSubplot:>"
      ]
     },
     "execution_count": 9,
     "metadata": {},
     "output_type": "execute_result"
    },
    {
     "data": {
      "image/png": "[encoded data removed]",
      "text/plain": [
       "<Figure size 432x288 with 1 Axes>"
      ]
     },
     "metadata": {
      "needs_background": "light"
     },
     "output_type": "display_data"
    }
   ],
   "source": [
    "sns.boxplot(y=konsentrasjon)\n",
    "# Hva skjer hvis vi legger inn en \"uteligger\"?"
   ]
  },
  {
   "cell_type": "code",
   "execution_count": 108,
   "metadata": {},
   "outputs": [],
   "source": [
    "# Gjennomsnitt, median, varians og standardavvik av elektronegativitet"
   ]
  },
  {
   "cell_type": "markdown",
   "metadata": {},
   "source": [
    "## Regresjon\n",
    "\n",
    "|     Temperatur (°C)     |     NH3, løselighet     (g/100 mL H$_2$O)     |     NaCl, Løselighet      (g/100 mL H$_2$O)     |\n",
    "|-------------------------|--------------------------------------------|----------------------------------------------|\n",
    "|     0                   |     88.5                                   |     35.7                                     |\n",
    "|     20                  |     56.0                                   |     35.9                                     |\n",
    "|     40                  |     34.0                                   |     36.4                                     |\n",
    "|     60                  |     20.0                                   |     37.1                                     |\n",
    "|     80                  |     11.0                                   |     38.0                                     |\n",
    "|     100                 |     7.0                                    |     39.2                                     |"
   ]
  },
  {
   "cell_type": "code",
   "execution_count": 10,
   "metadata": {},
   "outputs": [
    {
     "data": {
      "text/plain": [
       "<matplotlib.legend.Legend at 0x7ff341c70a00>"
      ]
     },
     "execution_count": 10,
     "metadata": {},
     "output_type": "execute_result"
    },
    {
     "data": {
      "image/png": "[encoded data removed]",
      "text/plain": [
       "<Figure size 432x288 with 1 Axes>"
      ]
     },
     "metadata": {
      "needs_background": "light"
     },
     "output_type": "display_data"
    }
   ],
   "source": [
    "# La oss gjøre en regresjon\n",
    "T = [0,20,40,60,80,100]\n",
    "sol = [35.7, 35.9, 36.4, 37.1, 38, 39.2]\n",
    "\n",
    "reg = np.polyfit(T,sol,1)\n",
    "x = np.linspace(0,120,1000)\n",
    "y = np.polyval(reg,x)\n",
    "\n",
    "plt.scatter(T,sol,label=\"Datapunkter\")\n",
    "plt.plot(x,y,label=\"Tilpasset kurve\",color=\"hotpink\")\n",
    "plt.legend()"
   ]
  },
  {
   "cell_type": "markdown",
   "metadata": {},
   "source": [
    "Menti: https://www.menti.com/2sikjeo4ga"
   ]
  }
 ],
 "metadata": {
  "celltoolbar": "Edit Metadata",
  "kernelspec": {
   "display_name": "Python 3 (ipykernel)",
   "language": "python",
   "name": "python3"
  },
  "language_info": {
   "codemirror_mode": {
    "name": "ipython",
    "version": 3
   },
   "file_extension": ".py",
   "mimetype": "text/x-python",
   "name": "python",
   "nbconvert_exporter": "python",
   "pygments_lexer": "ipython3",
   "version": "3.9.12"
  }
 },
 "nbformat": 4,
 "nbformat_minor": 4
}
