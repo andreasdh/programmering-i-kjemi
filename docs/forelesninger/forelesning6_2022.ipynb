{
 "cells": [
  {
   "cell_type": "markdown",
   "metadata": {},
   "source": [
    "# Forelesning 6: Numerisk integrasjon\n"
   ]
  },
  {
   "cell_type": "markdown",
   "metadata": {},
   "source": [
    "## Det bestemte integralet"
   ]
  },
  {
   "cell_type": "code",
   "execution_count": 16,
   "metadata": {},
   "outputs": [
    {
     "name": "stdout",
     "output_type": "stream",
     "text": [
      "26.999995950001605\n",
      "27\n"
     ]
    }
   ],
   "source": [
    "def f(x):\n",
    "    return 3*x**2\n",
    "\n",
    "def f_analytisk(x):\n",
    "    return x**3\n",
    "\n",
    "N = 10000000\n",
    "a = 0\n",
    "b = 3\n",
    "\n",
    "A = 0\n",
    "dx = (b-a)/N\n",
    "\n",
    "for i in range(N):\n",
    "    A = A + f(a + dx*i)*dx\n",
    "    \n",
    "print(A)\n",
    "print(f_analytisk(b) - f_analytisk(a))"
   ]
  },
  {
   "cell_type": "code",
   "execution_count": 14,
   "metadata": {},
   "outputs": [
    {
     "name": "stdout",
     "output_type": "stream",
     "text": [
      "-0.00044995500000166353\n"
     ]
    }
   ],
   "source": [
    "def rektangelmetoden_venstre(f,a,b,N=10000):\n",
    "    A = 0\n",
    "    dx = (b-a)/N\n",
    "    for i in range(N):\n",
    "        A = A + f(a + dx*i)*dx\n",
    "    return A\n",
    "\n",
    "def g(x):\n",
    "    return x**2 - 2*x\n",
    "\n",
    "A = rektangelmetoden_venstre(g,0,3)\n",
    "print(A)"
   ]
  },
  {
   "cell_type": "markdown",
   "metadata": {},
   "source": [
    "## Andre tilnærminger"
   ]
  },
  {
   "cell_type": "code",
   "execution_count": 17,
   "metadata": {},
   "outputs": [
    {
     "name": "stdout",
     "output_type": "stream",
     "text": [
      "26.999999932499964\n",
      "27.000000134999997\n"
     ]
    }
   ],
   "source": [
    "def rektangelmetoden_midtpunkt(f, a, b, N = 10000):\n",
    "    A = 0\n",
    "    dx = (b-a)/N\n",
    "    for i in range(N):\n",
    "        A = A + f(a + (1+2*i)*(dx/2))*dx\n",
    "    return A\n",
    "\n",
    "def trapesmetoden(f,a,b,N = 10000):\n",
    "    A = (f(a) + f(b))/2\n",
    "    dx = (b-a)/N\n",
    "    for i in range(1,N):\n",
    "        A = A + f(a + i*dx)\n",
    "    return A*dx\n",
    "\n",
    "print(rektangelmetoden_midtpunkt(f,0,3))\n",
    "print(trapesmetoden(f,0,3))"
   ]
  },
  {
   "cell_type": "markdown",
   "metadata": {},
   "source": [
    "## Bruke biblioteksfunksjoner til å integrere\n",
    "Benytter scipy-biblioteket."
   ]
  },
  {
   "cell_type": "code",
   "execution_count": 11,
   "metadata": {},
   "outputs": [],
   "source": [
    "from scipy import integrate\n",
    "import numpy as np\n",
    "\n",
    "def f(x):\n",
    "    return 3*x**2\n",
    "\n",
    "x = np.linspace(0,3,10000)\n",
    "y = f(x)"
   ]
  },
  {
   "cell_type": "code",
   "execution_count": 17,
   "metadata": {},
   "outputs": [],
   "source": [
    "trapes = integrate.trapezoid(y,x)\n",
    "simpsons = integrate.simps(y,x)\n",
    "gauss_kvadratur = integrate.quad(f,0,3)"
   ]
  },
  {
   "cell_type": "code",
   "execution_count": 18,
   "metadata": {},
   "outputs": [
    {
     "name": "stdout",
     "output_type": "stream",
     "text": [
      "27.000000135027 27.0000000000135 (27.0, 2.9976021664879227e-13)\n"
     ]
    }
   ],
   "source": [
    "print(trapes, simpsons, gauss_kvadratur)"
   ]
  },
  {
   "cell_type": "code",
   "execution_count": 10,
   "metadata": {},
   "outputs": [
    {
     "data": {
      "text/latex": [
       "$\\displaystyle - 2 \\sin{\\left(1 \\right)} - \\frac{1}{2 e^{4}} + \\frac{1}{2 e^{2}} + 2 \\sin{\\left(\\frac{1}{2} \\right)} + \\frac{7}{3}$"
      ],
      "text/plain": [
       "-2*sin(1) - exp(-4)/2 + exp(-2)/2 + 2*sin(1/2) + 7/3"
      ]
     },
     "execution_count": 10,
     "metadata": {},
     "output_type": "execute_result"
    }
   ],
   "source": [
    "from sympy import *\n",
    "\n",
    "x = symbols(\"x\")\n",
    "y = x**2 - cos(x/2) + 1/exp(2*x)\n",
    "integrate(y,(x,1,2))"
   ]
  },
  {
   "cell_type": "code",
   "execution_count": 11,
   "metadata": {},
   "outputs": [
    {
     "data": {
      "text/latex": [
       "$\\displaystyle 2 x + \\frac{\\sin{\\left(\\frac{x}{2} \\right)}}{2} - 2 e^{- 2 x}$"
      ],
      "text/plain": [
       "2*x + sin(x/2)/2 - 2*exp(-2*x)"
      ]
     },
     "execution_count": 11,
     "metadata": {},
     "output_type": "execute_result"
    }
   ],
   "source": [
    "diff(y)"
   ]
  },
  {
   "cell_type": "code",
   "execution_count": 12,
   "metadata": {},
   "outputs": [
    {
     "data": {
      "text/plain": [
       "[]"
      ]
     },
     "execution_count": 12,
     "metadata": {},
     "output_type": "execute_result"
    }
   ],
   "source": [
    "solve(y,0)"
   ]
  }
 ],
 "metadata": {
  "kernelspec": {
   "display_name": "Python 3 (ipykernel)",
   "language": "python",
   "name": "python3"
  },
  "language_info": {
   "codemirror_mode": {
    "name": "ipython",
    "version": 3
   },
   "file_extension": ".py",
   "mimetype": "text/x-python",
   "name": "python",
   "nbconvert_exporter": "python",
   "pygments_lexer": "ipython3",
   "version": "3.11.4"
  }
 },
 "nbformat": 4,
 "nbformat_minor": 4
}
