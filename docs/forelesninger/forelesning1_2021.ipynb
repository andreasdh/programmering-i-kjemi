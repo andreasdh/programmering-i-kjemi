{
 "cells": [
  {
   "cell_type": "markdown",
   "metadata": {},
   "source": [
    "# Forelesning 1: Programmering i kjemi"
   ]
  },
  {
   "cell_type": "markdown",
   "metadata": {},
   "source": [
    "I denne forelesningen skal vi se på noen enkle anvendelser av programmering i kjemi:\n",
    "- Utforske periodiske egenskaper ved grunnstoffer.\n",
    "- Balansere reaksjonslikninger.\n",
    "- Utforske elektrokjemiske celler.\n",
    "- Regne på pH i ulike syre-base-systemer.\n",
    "- Visualisere molekyler.\n",
    "\n",
    "Det er ikke pensum til eksamen å kunne bruke disse bibliotekene. Dette er ment for å vise noen nyttige muligheter, og for å vise generell problemløsning og programmering (som er pensum til eksamen!).\n",
    "\n",
    "Menti: https://www.menti.com/jp7xwuafgb\n",
    "\n",
    "## Jupyter Notebooks til rapportskriving\n",
    "\n",
    "$\\int_0^\\pi x^2 dx$\n",
    "\n",
    "$2H_2 + O_2 \\rightarrow 2H_2O$"
   ]
  },
  {
   "cell_type": "markdown",
   "metadata": {},
   "source": [
    "## Chemlib-bibliotket\n",
    "Chemlib-biblioteket inneholder mye nyttig informasjon om grunnstoffene våre, og du kan balansere blant annet utføre fortynninger, balansere reaksjoner og tegne og regne på elektrokjemiske celler.\n",
    "\n",
    "### Atomegenskaper\n",
    "Her er noen eksempler på hvilke egenskaper vi kan hente opp med chemlib:\n",
    "\n",
    "|     Kommando             |     Forklaring                                                                                                     |\n",
    "|--------------------------|--------------------------------------------------------------------------------------------------------------------|\n",
    "|     AtomicMass           |     Atommasse i g/mol                                                                                              |\n",
    "|     AtomicNumber         |     Atomnummer                                                                                                     |\n",
    "|     AtomicRadius         |     Atomradius i pm                                                                                                |\n",
    "|     BolingPoint          |     Kokepunkt i K                                                                                                  |\n",
    "|     Density              |     Tetthet i g/cm3                                                                                                |\n",
    "|     Discoverer           |     Oppdager av grunnstoffet                                                                                       |\n",
    "|     Electronegativity    |     Pauling-elektronegativitet                                                                                     |\n",
    "|     Electrons            |     Antallet elektroner                                                                                            |\n",
    "|     FirstIonization      |     Første ioniseringsenergi i eV                                                                                  |\n",
    "|     Group                |     Gruppen                                                                                                        |\n",
    "|     Isotopes             |     Antallet isotoper                                                                                              |\n",
    "|     MeltingPoint         |     Smeltepunkt i K                                                                                                |\n",
    "|     Metal                |     Returnerer True hvis stoffet er et   metall.                                                                   |\n",
    "|     Natural              |     True hvis naturlig forekommende isotoper og False hvis ikke    |\n",
    "|     Neutrons             |     Antallet nøytroner                                                                                             |\n",
    "|     Period               |     Perioden                                                                                                       |\n",
    "|     Phase                |     Fase ved romtemperatur                                                                                         |\n",
    "|     Protons              |     Antallet protoner                                                                                              |\n",
    "|     Shells               |     Antallet hovedskall (n)                                                                                        |\n",
    "|     Type                 |     Kategori i periodesystemet (f.eks.   alkalimetall, halogen)                                                    |"
   ]
  },
  {
   "cell_type": "code",
   "execution_count": 1,
   "metadata": {},
   "outputs": [
    {
     "name": "stdout",
     "output_type": "stream",
     "text": [
      "3680\n"
     ]
    }
   ],
   "source": [
    "from chemlib import Element\n",
    "\n",
    "vanadium = Element(\"V\")\n",
    "print(vanadium.BoilingPoint)"
   ]
  },
  {
   "cell_type": "markdown",
   "metadata": {},
   "source": [
    "## Støkiometriske beregninger"
   ]
  },
  {
   "cell_type": "code",
   "execution_count": 3,
   "metadata": {},
   "outputs": [],
   "source": [
    "from chemlib import Compound, Reaction"
   ]
  },
  {
   "cell_type": "code",
   "execution_count": 4,
   "metadata": {
    "scrolled": true
   },
   "outputs": [
    {
     "name": "stdout",
     "output_type": "stream",
     "text": [
      "{'grams': 3, 'molecules': 3.921e+22, 'moles': 0.065}\n"
     ]
    }
   ],
   "source": [
    "etanol = Compound(\"C2H6O\")\n",
    "print(etanol.get_amounts(grams=3))"
   ]
  },
  {
   "cell_type": "code",
   "execution_count": 5,
   "metadata": {},
   "outputs": [
    {
     "name": "stdout",
     "output_type": "stream",
     "text": [
      "2S₁O₂ + 1O₂ --> 2S₁O₃\n",
      "True\n"
     ]
    }
   ],
   "source": [
    "SO2 = Compound(\"SO2\")\n",
    "O2 = Compound(\"O2\")\n",
    "SO3 = Compound(\"SO3\")\n",
    "\n",
    "reaksjon = Reaction([SO2, O2], [SO3])\n",
    "reaksjon.balance()\n",
    "print(reaksjon.formula)\n",
    "print(reaksjon.is_balanced)"
   ]
  },
  {
   "cell_type": "markdown",
   "metadata": {},
   "source": [
    "## Elektrokjemi"
   ]
  },
  {
   "cell_type": "code",
   "execution_count": 6,
   "metadata": {},
   "outputs": [
    {
     "name": "stdout",
     "output_type": "stream",
     "text": [
      "{'Cell': 'Cd | Cd2+ || Ag+ | Ag', 'Anode': 'Cd', 'Cathode': 'Ag', 'Cell Potential': 1.203}\n"
     ]
    },
    {
     "data": {
      "image/png": "[encoded data removed]",
      "text/plain": [
       "<PIL.PngImagePlugin.PngImageFile image mode=RGBA size=553x463 at 0x2BCA3BFC490>"
      ]
     },
     "execution_count": 6,
     "metadata": {},
     "output_type": "execute_result"
    }
   ],
   "source": [
    "from chemlib import Galvanic_Cell\n",
    "\n",
    "celle = Galvanic_Cell(\"Cd\", \"Ag\")\n",
    "print(celle.properties)\n",
    "celle.diagram"
   ]
  },
  {
   "cell_type": "markdown",
   "metadata": {},
   "source": [
    "## Mendeleev-biblioteket\n",
    "Dette biblioteket inneholder kun muligheter til å hente grunnstoffegenskaper, men har noen ekstra nyttige funksjoner som chemlib ikke har."
   ]
  },
  {
   "cell_type": "code",
   "execution_count": 7,
   "metadata": {},
   "outputs": [
    {
     "name": "stdout",
     "output_type": "stream",
     "text": [
      "1.66\n"
     ]
    }
   ],
   "source": [
    "from mendeleev import element\n",
    "\n",
    "krom = element(24)\n",
    "\n",
    "print(krom.electronegativity())"
   ]
  },
  {
   "cell_type": "markdown",
   "metadata": {},
   "source": [
    "En ting som er svært praktisk med mendeleev-biblioteket, er at vi kan hente grunnstoffer ved hjelp av atomnummer istedenfor symbol. Det gjør at vi lettere kan iterere over grunnstoffer i en løkke, f.eks. slik:"
   ]
  },
  {
   "cell_type": "code",
   "execution_count": 8,
   "metadata": {},
   "outputs": [
    {
     "name": "stdout",
     "output_type": "stream",
     "text": [
      "Hydrogen :  2.2\n",
      "Helium :  None\n",
      "Lithium :  0.98\n",
      "Beryllium :  1.57\n",
      "Boron :  2.04\n",
      "Carbon :  2.55\n",
      "Nitrogen :  3.04\n",
      "Oxygen :  3.44\n",
      "Fluorine :  3.98\n",
      "Neon :  None\n",
      "Sodium :  0.93\n",
      "Magnesium :  1.31\n",
      "Aluminum :  1.61\n",
      "Silicon :  1.9\n",
      "Phosphorus :  2.19\n",
      "Sulfur :  2.58\n",
      "Chlorine :  3.16\n",
      "Argon :  None\n",
      "Potassium :  0.82\n",
      "Calcium :  1.0\n",
      "Scandium :  1.36\n",
      "Titanium :  1.54\n",
      "Vanadium :  1.63\n",
      "Chromium :  1.66\n",
      "Manganese :  1.55\n",
      "Iron :  1.83\n",
      "Cobalt :  1.88\n",
      "Nickel :  1.91\n",
      "Copper :  1.9\n",
      "Zinc :  1.65\n",
      "Gallium :  1.81\n",
      "Germanium :  2.01\n",
      "Arsenic :  2.18\n",
      "Selenium :  2.55\n",
      "Bromine :  2.96\n",
      "Krypton :  None\n",
      "Rubidium :  0.82\n",
      "Strontium :  0.95\n",
      "Yttrium :  1.22\n",
      "Zirconium :  1.33\n",
      "Niobium :  1.6\n",
      "Molybdenum :  2.16\n",
      "Technetium :  2.1\n",
      "Ruthenium :  2.2\n",
      "Rhodium :  2.28\n",
      "Palladium :  2.2\n",
      "Silver :  1.93\n",
      "Cadmium :  1.69\n",
      "Indium :  1.78\n",
      "Tin :  1.96\n",
      "Antimony :  2.05\n",
      "Tellurium :  2.1\n",
      "Iodine :  2.66\n",
      "Xenon :  2.6\n",
      "Cesium :  0.79\n",
      "Barium :  0.89\n",
      "Lanthanum :  1.1\n",
      "Cerium :  1.12\n",
      "Praseodymium :  1.13\n",
      "Neodymium :  1.14\n",
      "Promethium :  None\n",
      "Samarium :  1.17\n",
      "Europium :  None\n",
      "Gadolinium :  1.2\n",
      "Terbium :  None\n",
      "Dysprosium :  1.22\n",
      "Holmium :  1.23\n",
      "Erbium :  1.24\n",
      "Thulium :  1.25\n",
      "Ytterbium :  None\n",
      "Lutetium :  1.0\n",
      "Hafnium :  1.3\n",
      "Tantalum :  1.5\n",
      "Tungsten :  1.7\n",
      "Rhenium :  1.9\n",
      "Osmium :  2.2\n",
      "Iridium :  2.2\n",
      "Platinum :  2.2\n",
      "Gold :  2.4\n",
      "Mercury :  1.9\n",
      "Thallium :  1.8\n",
      "Lead :  1.8\n",
      "Bismuth :  1.9\n",
      "Polonium :  2.0\n",
      "Astatine :  2.2\n",
      "Radon :  None\n",
      "Francium :  0.7\n",
      "Radium :  0.9\n",
      "Actinium :  1.1\n",
      "Thorium :  1.3\n",
      "Protactinium :  1.5\n",
      "Uranium :  1.7\n",
      "Neptunium :  1.3\n",
      "Plutonium :  1.3\n",
      "Americium :  None\n",
      "Curium :  None\n",
      "Berkelium :  None\n",
      "Californium :  None\n",
      "Einsteinium :  None\n",
      "Fermium :  None\n",
      "Mendelevium :  None\n",
      "Nobelium :  None\n",
      "Lawrencium :  None\n",
      "Rutherfordium :  None\n",
      "Dubnium :  None\n",
      "Seaborgium :  None\n",
      "Bohrium :  None\n",
      "Hassium :  None\n",
      "Meitnerium :  None\n",
      "Darmstadtium :  None\n",
      "Roentgenium :  None\n",
      "Copernicium :  None\n",
      "Nihonium :  None\n",
      "Flerovium :  None\n",
      "Moscovium :  None\n",
      "Livermorium :  None\n",
      "Tennessine :  None\n",
      "Oganesson :  None\n"
     ]
    }
   ],
   "source": [
    "for i in range(1,119):\n",
    "    grunnstoff = element(i)\n",
    "    print(grunnstoff.name,\": \", grunnstoff.electronegativity())"
   ]
  },
  {
   "cell_type": "markdown",
   "metadata": {},
   "source": [
    "- Hva gjør programmet ovenfor?\n",
    "- Programmet nedenfor skal plotte trendene i elektronegativitet for alle grunnstoffer. Fyll inn det som mangler."
   ]
  },
  {
   "cell_type": "code",
   "execution_count": 9,
   "metadata": {},
   "outputs": [
    {
     "data": {
      "image/png": "[encoded data removed]",
      "text/plain": [
       "<Figure size 432x288 with 1 Axes>"
      ]
     },
     "metadata": {
      "needs_background": "light"
     },
     "output_type": "display_data"
    }
   ],
   "source": [
    "import matplotlib.pyplot as plt\n",
    "from mendeleev import element\n",
    "\n",
    "atomnummer = []\n",
    "elektronegativitet = []\n",
    "\n",
    "for i in range(1,119):\n",
    "    grunnstoff = element(i)\n",
    "    atomnummer.append(grunnstoff.atomic_number)\n",
    "    elektronegativitet.append(grunnstoff.electronegativity())\n",
    "    \n",
    "plt.plot(atomnummer, elektronegativitet, linestyle=\" \", marker=\"o\")\n",
    "plt.plot(atomnummer, elektronegativitet, color = \"limegreen\")\n",
    "plt.xlabel(\"Atomnummer\")\n",
    "plt.ylabel(\"Elektronegativitet\")\n",
    "plt.show()"
   ]
  },
  {
   "cell_type": "markdown",
   "metadata": {},
   "source": [
    "## Syrer og baser"
   ]
  },
  {
   "cell_type": "markdown",
   "metadata": {},
   "source": [
    "Vi bruker et nyttig bibliotek som heter pHcalc til å regne på pH i syrer og baser."
   ]
  },
  {
   "cell_type": "code",
   "execution_count": 5,
   "metadata": {},
   "outputs": [
    {
     "ename": "FileNotFoundError",
     "evalue": "Could not find module 'C:\\Users\\andreadh\\Anaconda3\\lib\\site-packages\\scipy\\.libs\\libbanded5x.UGR6EUQPIWHQH7SL62IWIXB5545VDNQZ.gfortran-win_amd64.dll' (or one of its dependencies). Try using the full path with constructor syntax.",
     "output_type": "error",
     "traceback": [
      "\u001b[1;31m---------------------------------------------------------------------------\u001b[0m",
      "\u001b[1;31mFileNotFoundError\u001b[0m                         Traceback (most recent call last)",
      "\u001b[1;32m~\\AppData\\Local\\Temp/ipykernel_51692/3435823451.py\u001b[0m in \u001b[0;36m<module>\u001b[1;34m\u001b[0m\n\u001b[1;32m----> 1\u001b[1;33m \u001b[1;32mfrom\u001b[0m \u001b[0mpHcalc\u001b[0m\u001b[1;33m.\u001b[0m\u001b[0mpHcalc\u001b[0m \u001b[1;32mimport\u001b[0m \u001b[0mAcid\u001b[0m\u001b[1;33m\u001b[0m\u001b[1;33m\u001b[0m\u001b[0m\n\u001b[0m",
      "\u001b[1;32m~\\Anaconda3\\lib\\site-packages\\pHcalc\\pHcalc.py\u001b[0m in \u001b[0;36m<module>\u001b[1;34m\u001b[0m\n\u001b[0;32m      1\u001b[0m \u001b[1;32mimport\u001b[0m \u001b[0mnumpy\u001b[0m \u001b[1;32mas\u001b[0m \u001b[0mnp\u001b[0m\u001b[1;33m\u001b[0m\u001b[1;33m\u001b[0m\u001b[0m\n\u001b[1;32m----> 2\u001b[1;33m \u001b[1;32mimport\u001b[0m \u001b[0mscipy\u001b[0m\u001b[1;33m.\u001b[0m\u001b[0moptimize\u001b[0m \u001b[1;32mas\u001b[0m \u001b[0mspo\u001b[0m\u001b[1;33m\u001b[0m\u001b[1;33m\u001b[0m\u001b[0m\n\u001b[0m\u001b[0;32m      3\u001b[0m \u001b[1;33m\u001b[0m\u001b[0m\n\u001b[0;32m      4\u001b[0m \u001b[1;32mclass\u001b[0m \u001b[0mNeutral\u001b[0m\u001b[1;33m(\u001b[0m\u001b[0mobject\u001b[0m\u001b[1;33m)\u001b[0m\u001b[1;33m:\u001b[0m\u001b[1;33m\u001b[0m\u001b[1;33m\u001b[0m\u001b[0m\n\u001b[0;32m      5\u001b[0m     \"\"\"A nonreactive ion class.\n",
      "\u001b[1;32m~\\Anaconda3\\lib\\site-packages\\scipy\\__init__.py\u001b[0m in \u001b[0;36m<module>\u001b[1;34m\u001b[0m\n\u001b[0;32m    134\u001b[0m \u001b[1;33m\u001b[0m\u001b[0m\n\u001b[0;32m    135\u001b[0m     \u001b[1;31m# Allow distributors to run custom init code\u001b[0m\u001b[1;33m\u001b[0m\u001b[1;33m\u001b[0m\u001b[1;33m\u001b[0m\u001b[0m\n\u001b[1;32m--> 136\u001b[1;33m     \u001b[1;32mfrom\u001b[0m \u001b[1;33m.\u001b[0m \u001b[1;32mimport\u001b[0m \u001b[0m_distributor_init\u001b[0m\u001b[1;33m\u001b[0m\u001b[1;33m\u001b[0m\u001b[0m\n\u001b[0m\u001b[0;32m    137\u001b[0m \u001b[1;33m\u001b[0m\u001b[0m\n\u001b[0;32m    138\u001b[0m     \u001b[1;32mfrom\u001b[0m \u001b[0mscipy\u001b[0m\u001b[1;33m.\u001b[0m\u001b[0m_lib\u001b[0m \u001b[1;32mimport\u001b[0m \u001b[0m_pep440\u001b[0m\u001b[1;33m\u001b[0m\u001b[1;33m\u001b[0m\u001b[0m\n",
      "\u001b[1;32m~\\Anaconda3\\lib\\site-packages\\scipy\\_distributor_init.py\u001b[0m in \u001b[0;36m<module>\u001b[1;34m\u001b[0m\n\u001b[0;32m     59\u001b[0m             \u001b[0mos\u001b[0m\u001b[1;33m.\u001b[0m\u001b[0mchdir\u001b[0m\u001b[1;33m(\u001b[0m\u001b[0mlibs_path\u001b[0m\u001b[1;33m)\u001b[0m\u001b[1;33m\u001b[0m\u001b[1;33m\u001b[0m\u001b[0m\n\u001b[0;32m     60\u001b[0m             \u001b[1;32mfor\u001b[0m \u001b[0mfilename\u001b[0m \u001b[1;32min\u001b[0m \u001b[0mglob\u001b[0m\u001b[1;33m.\u001b[0m\u001b[0mglob\u001b[0m\u001b[1;33m(\u001b[0m\u001b[0mos\u001b[0m\u001b[1;33m.\u001b[0m\u001b[0mpath\u001b[0m\u001b[1;33m.\u001b[0m\u001b[0mjoin\u001b[0m\u001b[1;33m(\u001b[0m\u001b[0mlibs_path\u001b[0m\u001b[1;33m,\u001b[0m \u001b[1;34m'*dll'\u001b[0m\u001b[1;33m)\u001b[0m\u001b[1;33m)\u001b[0m\u001b[1;33m:\u001b[0m\u001b[1;33m\u001b[0m\u001b[1;33m\u001b[0m\u001b[0m\n\u001b[1;32m---> 61\u001b[1;33m                 \u001b[0mWinDLL\u001b[0m\u001b[1;33m(\u001b[0m\u001b[0mos\u001b[0m\u001b[1;33m.\u001b[0m\u001b[0mpath\u001b[0m\u001b[1;33m.\u001b[0m\u001b[0mabspath\u001b[0m\u001b[1;33m(\u001b[0m\u001b[0mfilename\u001b[0m\u001b[1;33m)\u001b[0m\u001b[1;33m)\u001b[0m\u001b[1;33m\u001b[0m\u001b[1;33m\u001b[0m\u001b[0m\n\u001b[0m\u001b[0;32m     62\u001b[0m         \u001b[1;32mfinally\u001b[0m\u001b[1;33m:\u001b[0m\u001b[1;33m\u001b[0m\u001b[1;33m\u001b[0m\u001b[0m\n\u001b[0;32m     63\u001b[0m             \u001b[0mos\u001b[0m\u001b[1;33m.\u001b[0m\u001b[0mchdir\u001b[0m\u001b[1;33m(\u001b[0m\u001b[0mowd\u001b[0m\u001b[1;33m)\u001b[0m\u001b[1;33m\u001b[0m\u001b[1;33m\u001b[0m\u001b[0m\n",
      "\u001b[1;32m~\\Anaconda3\\lib\\ctypes\\__init__.py\u001b[0m in \u001b[0;36m__init__\u001b[1;34m(self, name, mode, handle, use_errno, use_last_error, winmode)\u001b[0m\n\u001b[0;32m    371\u001b[0m \u001b[1;33m\u001b[0m\u001b[0m\n\u001b[0;32m    372\u001b[0m         \u001b[1;32mif\u001b[0m \u001b[0mhandle\u001b[0m \u001b[1;32mis\u001b[0m \u001b[1;32mNone\u001b[0m\u001b[1;33m:\u001b[0m\u001b[1;33m\u001b[0m\u001b[1;33m\u001b[0m\u001b[0m\n\u001b[1;32m--> 373\u001b[1;33m             \u001b[0mself\u001b[0m\u001b[1;33m.\u001b[0m\u001b[0m_handle\u001b[0m \u001b[1;33m=\u001b[0m \u001b[0m_dlopen\u001b[0m\u001b[1;33m(\u001b[0m\u001b[0mself\u001b[0m\u001b[1;33m.\u001b[0m\u001b[0m_name\u001b[0m\u001b[1;33m,\u001b[0m \u001b[0mmode\u001b[0m\u001b[1;33m)\u001b[0m\u001b[1;33m\u001b[0m\u001b[1;33m\u001b[0m\u001b[0m\n\u001b[0m\u001b[0;32m    374\u001b[0m         \u001b[1;32melse\u001b[0m\u001b[1;33m:\u001b[0m\u001b[1;33m\u001b[0m\u001b[1;33m\u001b[0m\u001b[0m\n\u001b[0;32m    375\u001b[0m             \u001b[0mself\u001b[0m\u001b[1;33m.\u001b[0m\u001b[0m_handle\u001b[0m \u001b[1;33m=\u001b[0m \u001b[0mhandle\u001b[0m\u001b[1;33m\u001b[0m\u001b[1;33m\u001b[0m\u001b[0m\n",
      "\u001b[1;31mFileNotFoundError\u001b[0m: Could not find module 'C:\\Users\\andreadh\\Anaconda3\\lib\\site-packages\\scipy\\.libs\\libbanded5x.UGR6EUQPIWHQH7SL62IWIXB5545VDNQZ.gfortran-win_amd64.dll' (or one of its dependencies). Try using the full path with constructor syntax."
     ]
    }
   ],
   "source": [
    "from pHcalc.pHcalc import Acid"
   ]
  },
  {
   "cell_type": "code",
   "execution_count": 3,
   "metadata": {},
   "outputs": [
    {
     "ename": "FileNotFoundError",
     "evalue": "Could not find module 'C:\\Users\\andreadh\\Anaconda3\\lib\\site-packages\\scipy\\.libs\\libbanded5x.UGR6EUQPIWHQH7SL62IWIXB5545VDNQZ.gfortran-win_amd64.dll' (or one of its dependencies). Try using the full path with constructor syntax.",
     "output_type": "error",
     "traceback": [
      "\u001b[1;31m---------------------------------------------------------------------------\u001b[0m",
      "\u001b[1;31mFileNotFoundError\u001b[0m                         Traceback (most recent call last)",
      "\u001b[1;32m~\\AppData\\Local\\Temp/ipykernel_51692/1690457900.py\u001b[0m in \u001b[0;36m<module>\u001b[1;34m\u001b[0m\n\u001b[1;32m----> 1\u001b[1;33m \u001b[1;32mfrom\u001b[0m \u001b[0mpHcalc\u001b[0m\u001b[1;33m.\u001b[0m\u001b[0mpHcalc\u001b[0m \u001b[1;32mimport\u001b[0m \u001b[0mAcid\u001b[0m\u001b[1;33m,\u001b[0m \u001b[0mNeutral\u001b[0m\u001b[1;33m,\u001b[0m \u001b[0mSystem\u001b[0m\u001b[1;33m\u001b[0m\u001b[1;33m\u001b[0m\u001b[0m\n\u001b[0m\u001b[0;32m      2\u001b[0m \u001b[1;33m\u001b[0m\u001b[0m\n\u001b[0;32m      3\u001b[0m \u001b[0mNa\u001b[0m \u001b[1;33m=\u001b[0m \u001b[0mNeutral\u001b[0m\u001b[1;33m(\u001b[0m\u001b[0mcharge\u001b[0m\u001b[1;33m=\u001b[0m\u001b[1;36m1\u001b[0m\u001b[1;33m,\u001b[0m \u001b[0mconc\u001b[0m\u001b[1;33m=\u001b[0m\u001b[1;36m1\u001b[0m\u001b[1;33m)\u001b[0m\u001b[1;33m\u001b[0m\u001b[1;33m\u001b[0m\u001b[0m\n\u001b[0;32m      4\u001b[0m \u001b[0msol\u001b[0m \u001b[1;33m=\u001b[0m \u001b[0mSystem\u001b[0m\u001b[1;33m(\u001b[0m\u001b[0mNa\u001b[0m\u001b[1;33m)\u001b[0m\u001b[1;33m\u001b[0m\u001b[1;33m\u001b[0m\u001b[0m\n\u001b[0;32m      5\u001b[0m \u001b[0msol\u001b[0m\u001b[1;33m.\u001b[0m\u001b[0mpHsolve\u001b[0m\u001b[1;33m(\u001b[0m\u001b[1;33m)\u001b[0m\u001b[1;33m\u001b[0m\u001b[1;33m\u001b[0m\u001b[0m\n",
      "\u001b[1;32m~\\Anaconda3\\lib\\site-packages\\pHcalc\\pHcalc.py\u001b[0m in \u001b[0;36m<module>\u001b[1;34m\u001b[0m\n\u001b[0;32m      1\u001b[0m \u001b[1;32mimport\u001b[0m \u001b[0mnumpy\u001b[0m \u001b[1;32mas\u001b[0m \u001b[0mnp\u001b[0m\u001b[1;33m\u001b[0m\u001b[1;33m\u001b[0m\u001b[0m\n\u001b[1;32m----> 2\u001b[1;33m \u001b[1;32mimport\u001b[0m \u001b[0mscipy\u001b[0m\u001b[1;33m.\u001b[0m\u001b[0moptimize\u001b[0m \u001b[1;32mas\u001b[0m \u001b[0mspo\u001b[0m\u001b[1;33m\u001b[0m\u001b[1;33m\u001b[0m\u001b[0m\n\u001b[0m\u001b[0;32m      3\u001b[0m \u001b[1;33m\u001b[0m\u001b[0m\n\u001b[0;32m      4\u001b[0m \u001b[1;32mclass\u001b[0m \u001b[0mNeutral\u001b[0m\u001b[1;33m(\u001b[0m\u001b[0mobject\u001b[0m\u001b[1;33m)\u001b[0m\u001b[1;33m:\u001b[0m\u001b[1;33m\u001b[0m\u001b[1;33m\u001b[0m\u001b[0m\n\u001b[0;32m      5\u001b[0m     \"\"\"A nonreactive ion class.\n",
      "\u001b[1;32m~\\Anaconda3\\lib\\site-packages\\scipy\\__init__.py\u001b[0m in \u001b[0;36m<module>\u001b[1;34m\u001b[0m\n\u001b[0;32m    134\u001b[0m \u001b[1;33m\u001b[0m\u001b[0m\n\u001b[0;32m    135\u001b[0m     \u001b[1;31m# Allow distributors to run custom init code\u001b[0m\u001b[1;33m\u001b[0m\u001b[1;33m\u001b[0m\u001b[1;33m\u001b[0m\u001b[0m\n\u001b[1;32m--> 136\u001b[1;33m     \u001b[1;32mfrom\u001b[0m \u001b[1;33m.\u001b[0m \u001b[1;32mimport\u001b[0m \u001b[0m_distributor_init\u001b[0m\u001b[1;33m\u001b[0m\u001b[1;33m\u001b[0m\u001b[0m\n\u001b[0m\u001b[0;32m    137\u001b[0m \u001b[1;33m\u001b[0m\u001b[0m\n\u001b[0;32m    138\u001b[0m     \u001b[1;32mfrom\u001b[0m \u001b[0mscipy\u001b[0m\u001b[1;33m.\u001b[0m\u001b[0m_lib\u001b[0m \u001b[1;32mimport\u001b[0m \u001b[0m_pep440\u001b[0m\u001b[1;33m\u001b[0m\u001b[1;33m\u001b[0m\u001b[0m\n",
      "\u001b[1;32m~\\Anaconda3\\lib\\site-packages\\scipy\\_distributor_init.py\u001b[0m in \u001b[0;36m<module>\u001b[1;34m\u001b[0m\n\u001b[0;32m     59\u001b[0m             \u001b[0mos\u001b[0m\u001b[1;33m.\u001b[0m\u001b[0mchdir\u001b[0m\u001b[1;33m(\u001b[0m\u001b[0mlibs_path\u001b[0m\u001b[1;33m)\u001b[0m\u001b[1;33m\u001b[0m\u001b[1;33m\u001b[0m\u001b[0m\n\u001b[0;32m     60\u001b[0m             \u001b[1;32mfor\u001b[0m \u001b[0mfilename\u001b[0m \u001b[1;32min\u001b[0m \u001b[0mglob\u001b[0m\u001b[1;33m.\u001b[0m\u001b[0mglob\u001b[0m\u001b[1;33m(\u001b[0m\u001b[0mos\u001b[0m\u001b[1;33m.\u001b[0m\u001b[0mpath\u001b[0m\u001b[1;33m.\u001b[0m\u001b[0mjoin\u001b[0m\u001b[1;33m(\u001b[0m\u001b[0mlibs_path\u001b[0m\u001b[1;33m,\u001b[0m \u001b[1;34m'*dll'\u001b[0m\u001b[1;33m)\u001b[0m\u001b[1;33m)\u001b[0m\u001b[1;33m:\u001b[0m\u001b[1;33m\u001b[0m\u001b[1;33m\u001b[0m\u001b[0m\n\u001b[1;32m---> 61\u001b[1;33m                 \u001b[0mWinDLL\u001b[0m\u001b[1;33m(\u001b[0m\u001b[0mos\u001b[0m\u001b[1;33m.\u001b[0m\u001b[0mpath\u001b[0m\u001b[1;33m.\u001b[0m\u001b[0mabspath\u001b[0m\u001b[1;33m(\u001b[0m\u001b[0mfilename\u001b[0m\u001b[1;33m)\u001b[0m\u001b[1;33m)\u001b[0m\u001b[1;33m\u001b[0m\u001b[1;33m\u001b[0m\u001b[0m\n\u001b[0m\u001b[0;32m     62\u001b[0m         \u001b[1;32mfinally\u001b[0m\u001b[1;33m:\u001b[0m\u001b[1;33m\u001b[0m\u001b[1;33m\u001b[0m\u001b[0m\n\u001b[0;32m     63\u001b[0m             \u001b[0mos\u001b[0m\u001b[1;33m.\u001b[0m\u001b[0mchdir\u001b[0m\u001b[1;33m(\u001b[0m\u001b[0mowd\u001b[0m\u001b[1;33m)\u001b[0m\u001b[1;33m\u001b[0m\u001b[1;33m\u001b[0m\u001b[0m\n",
      "\u001b[1;32m~\\Anaconda3\\lib\\ctypes\\__init__.py\u001b[0m in \u001b[0;36m__init__\u001b[1;34m(self, name, mode, handle, use_errno, use_last_error, winmode)\u001b[0m\n\u001b[0;32m    371\u001b[0m \u001b[1;33m\u001b[0m\u001b[0m\n\u001b[0;32m    372\u001b[0m         \u001b[1;32mif\u001b[0m \u001b[0mhandle\u001b[0m \u001b[1;32mis\u001b[0m \u001b[1;32mNone\u001b[0m\u001b[1;33m:\u001b[0m\u001b[1;33m\u001b[0m\u001b[1;33m\u001b[0m\u001b[0m\n\u001b[1;32m--> 373\u001b[1;33m             \u001b[0mself\u001b[0m\u001b[1;33m.\u001b[0m\u001b[0m_handle\u001b[0m \u001b[1;33m=\u001b[0m \u001b[0m_dlopen\u001b[0m\u001b[1;33m(\u001b[0m\u001b[0mself\u001b[0m\u001b[1;33m.\u001b[0m\u001b[0m_name\u001b[0m\u001b[1;33m,\u001b[0m \u001b[0mmode\u001b[0m\u001b[1;33m)\u001b[0m\u001b[1;33m\u001b[0m\u001b[1;33m\u001b[0m\u001b[0m\n\u001b[0m\u001b[0;32m    374\u001b[0m         \u001b[1;32melse\u001b[0m\u001b[1;33m:\u001b[0m\u001b[1;33m\u001b[0m\u001b[1;33m\u001b[0m\u001b[0m\n\u001b[0;32m    375\u001b[0m             \u001b[0mself\u001b[0m\u001b[1;33m.\u001b[0m\u001b[0m_handle\u001b[0m \u001b[1;33m=\u001b[0m \u001b[0mhandle\u001b[0m\u001b[1;33m\u001b[0m\u001b[1;33m\u001b[0m\u001b[0m\n",
      "\u001b[1;31mFileNotFoundError\u001b[0m: Could not find module 'C:\\Users\\andreadh\\Anaconda3\\lib\\site-packages\\scipy\\.libs\\libbanded5x.UGR6EUQPIWHQH7SL62IWIXB5545VDNQZ.gfortran-win_amd64.dll' (or one of its dependencies). Try using the full path with constructor syntax."
     ]
    }
   ],
   "source": [
    "from pHcalc.pHcalc import Acid, Neutral, System\n",
    "\n",
    "Na = Neutral(charge=1, conc=1)\n",
    "sol = System(Na)\n",
    "sol.pHsolve()\n",
    "print(sol.ph)\n",
    "\n",
    "hf = Acid(Ka = 6.8E-4, charge = 0, conc = 0.1)\n",
    "k = Neutral(charge=1, conc=0.1)\n",
    "sol2 = System(hf, K)\n",
    "sol2.pHsolve()\n",
    "print(sol2.ph)"
   ]
  },
  {
   "cell_type": "code",
   "execution_count": 2,
   "metadata": {},
   "outputs": [
    {
     "ename": "AttributeError",
     "evalue": "module 'pHcalc' has no attribute 'Acid'",
     "output_type": "error",
     "traceback": [
      "\u001b[1;31m---------------------------------------------------------------------------\u001b[0m",
      "\u001b[1;31mAttributeError\u001b[0m                            Traceback (most recent call last)",
      "\u001b[1;32m~\\AppData\\Local\\Temp/ipykernel_53328/3084272254.py\u001b[0m in \u001b[0;36m<module>\u001b[1;34m\u001b[0m\n\u001b[1;32m----> 1\u001b[1;33m \u001b[0mpHcalc\u001b[0m\u001b[1;33m.\u001b[0m\u001b[0mAcid\u001b[0m\u001b[1;33m\u001b[0m\u001b[1;33m\u001b[0m\u001b[0m\n\u001b[0m",
      "\u001b[1;31mAttributeError\u001b[0m: module 'pHcalc' has no attribute 'Acid'"
     ]
    }
   ],
   "source": []
  },
  {
   "cell_type": "markdown",
   "metadata": {},
   "source": [
    "## Visualisering av molekyler"
   ]
  },
  {
   "cell_type": "code",
   "execution_count": null,
   "metadata": {},
   "outputs": [],
   "source": []
  },
  {
   "cell_type": "code",
   "execution_count": null,
   "metadata": {},
   "outputs": [],
   "source": [
    "print(x)"
   ]
  },
  {
   "cell_type": "markdown",
   "metadata": {},
   "source": [
    "__Oppgaver__:\n",
    "1.\tLag et program som skriver ut eller plotter kokepunktet til alle halogenene. Beskriv og forklar trenden i kokepunkt.\n",
    "2.\tPlott atomradius som funksjon av atomnummer for alle grunnstoffer i periodesystemet og forklar det du ser. Plott deretter kun for grunnstoff 19–36 og forklar hva du ser.\n",
    "3. Lag en 3D-modell av benzosyre og proteinet keratin (6EC0 i PDB). "
   ]
  }
 ],
 "metadata": {
  "kernelspec": {
   "display_name": "Python 3 (ipykernel)",
   "language": "python",
   "name": "python3"
  },
  "language_info": {
   "codemirror_mode": {
    "name": "ipython",
    "version": 3
   },
   "file_extension": ".py",
   "mimetype": "text/x-python",
   "name": "python",
   "nbconvert_exporter": "python",
   "pygments_lexer": "ipython3",
   "version": "3.8.10"
  }
 },
 "nbformat": 4,
 "nbformat_minor": 4
}
