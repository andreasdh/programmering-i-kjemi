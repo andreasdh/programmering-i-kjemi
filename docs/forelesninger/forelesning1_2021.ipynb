{
 "cells": [
  {
   "cell_type": "markdown",
   "metadata": {},
   "source": [
    "# Forelesning 1: Programmering i kjemi"
   ]
  },
  {
   "cell_type": "markdown",
   "metadata": {},
   "source": [
    "I denne forelesningen skal vi se på noen enkle anvendelser av programmering i kjemi:\n",
    "- Utforske periodiske egenskaper ved grunnstoffer.\n",
    "- Balansere reaksjonslikninger.\n",
    "- Utforske elektrokjemiske celler.\n",
    "- Regne på pH i ulike syre-base-systemer.\n",
    "- Visualisere molekyler.\n",
    "\n",
    "Det er ikke pensum til eksamen å kunne bruke disse bibliotekene. Dette er ment for å vise noen nyttige muligheter, og for å vise generell problemløsning og programmering (som er pensum til eksamen!).\n",
    "\n",
    "Menti: https://www.menti.com/jp7xwuafgb\n",
    "\n",
    "## Jupyter Notebooks til rapportskriving\n",
    "\n",
    "$\\int_0^\\pi x^2 dx$\n",
    "\n",
    "$2H_2 + O_2 \\rightarrow 2H_2O$"
   ]
  },
  {
   "cell_type": "markdown",
   "metadata": {},
   "source": [
    "## Chemlib-bibliotket\n",
    "Chemlib-biblioteket inneholder mye nyttig informasjon om grunnstoffene våre, og du kan balansere blant annet utføre fortynninger, balansere reaksjoner og tegne og regne på elektrokjemiske celler.\n",
    "\n",
    "### Atomegenskaper\n",
    "Her er noen eksempler på hvilke egenskaper vi kan hente opp med chemlib:\n",
    "\n",
    "|     Kommando             |     Forklaring                                                                                                     |\n",
    "|--------------------------|--------------------------------------------------------------------------------------------------------------------|\n",
    "|     AtomicMass           |     Atommasse i g/mol                                                                                              |\n",
    "|     AtomicNumber         |     Atomnummer                                                                                                     |\n",
    "|     AtomicRadius         |     Atomradius i pm                                                                                                |\n",
    "|     BolingPoint          |     Kokepunkt i K                                                                                                  |\n",
    "|     Density              |     Tetthet i g/cm3                                                                                                |\n",
    "|     Discoverer           |     Oppdager av grunnstoffet                                                                                       |\n",
    "|     Electronegativity    |     Pauling-elektronegativitet                                                                                     |\n",
    "|     Electrons            |     Antallet elektroner                                                                                            |\n",
    "|     FirstIonization      |     Første ioniseringsenergi i eV                                                                                  |\n",
    "|     Group                |     Gruppen                                                                                                        |\n",
    "|     Isotopes             |     Antallet isotoper                                                                                              |\n",
    "|     MeltingPoint         |     Smeltepunkt i K                                                                                                |\n",
    "|     Metal                |     Returnerer True hvis stoffet er et   metall.                                                                   |\n",
    "|     Natural              |     True hvis naturlig forekommende isotoper og False hvis ikke    |\n",
    "|     Neutrons             |     Antallet nøytroner                                                                                             |\n",
    "|     Period               |     Perioden                                                                                                       |\n",
    "|     Phase                |     Fase ved romtemperatur                                                                                         |\n",
    "|     Protons              |     Antallet protoner                                                                                              |\n",
    "|     Shells               |     Antallet hovedskall (n)                                                                                        |\n",
    "|     Type                 |     Kategori i periodesystemet (f.eks.   alkalimetall, halogen)                                                    |"
   ]
  },
  {
   "cell_type": "code",
   "execution_count": 15,
   "metadata": {},
   "outputs": [
    {
     "name": "stdout",
     "output_type": "stream",
     "text": [
      "3680\n"
     ]
    }
   ],
   "source": [
    "from chemlib import Element\n",
    "\n",
    "vanadium = Element(\"V\")\n",
    "print(vanadium.BoilingPoint)"
   ]
  },
  {
   "cell_type": "markdown",
   "metadata": {},
   "source": [
    "## Støkiometriske beregninger"
   ]
  },
  {
   "cell_type": "code",
   "execution_count": 19,
   "metadata": {},
   "outputs": [],
   "source": [
    "from chemlib import Compound, Reaction"
   ]
  },
  {
   "cell_type": "code",
   "execution_count": 20,
   "metadata": {
    "scrolled": true
   },
   "outputs": [
    {
     "name": "stdout",
     "output_type": "stream",
     "text": [
      "{'grams': 3, 'molecules': 3.921e+22, 'moles': 0.065}\n"
     ]
    }
   ],
   "source": [
    "etanol = Compound(\"C2H6O\")\n",
    "print(etanol.get_amounts(grams=3))"
   ]
  },
  {
   "cell_type": "code",
   "execution_count": 21,
   "metadata": {},
   "outputs": [
    {
     "name": "stdout",
     "output_type": "stream",
     "text": [
      "2S₁O₂ + 1O₂ --> 2S₁O₃\n",
      "True\n"
     ]
    }
   ],
   "source": [
    "SO2 = Compound(\"SO2\")\n",
    "O2 = Compound(\"O2\")\n",
    "SO3 = Compound(\"SO3\")\n",
    "\n",
    "reaksjon = Reaction([SO2, O2], [SO3])\n",
    "reaksjon.balance()\n",
    "print(reaksjon.formula)\n",
    "print(reaksjon.is_balanced)"
   ]
  },
  {
   "cell_type": "markdown",
   "metadata": {},
   "source": [
    "## Elektrokjemi"
   ]
  },
  {
   "cell_type": "code",
   "execution_count": 22,
   "metadata": {},
   "outputs": [
    {
     "name": "stdout",
     "output_type": "stream",
     "text": [
      "{'Cell': 'Zn | Zn2+ || Cu2+ | Cu', 'Anode': 'Zn', 'Cathode': 'Cu', 'Cell Potential': 1.1}\n"
     ]
    },
    {
     "data": {
      "image/png": "[encoded data removed]",
      "text/plain": [
       "<PIL.PngImagePlugin.PngImageFile image mode=RGBA size=553x463 at 0x1B9655207F0>"
      ]
     },
     "execution_count": 22,
     "metadata": {},
     "output_type": "execute_result"
    }
   ],
   "source": [
    "from chemlib import Galvanic_Cell\n",
    "\n",
    "celle = Galvanic_Cell(\"Cu\", \"Zn\")\n",
    "print(celle.properties)\n",
    "celle.diagram"
   ]
  },
  {
   "cell_type": "markdown",
   "metadata": {},
   "source": [
    "## Mendeleev-biblioteket\n",
    "Dette biblioteket inneholder kun muligheter til å hente grunnstoffegenskaper, men har noen ekstra nyttige funksjoner som chemlib ikke har."
   ]
  },
  {
   "cell_type": "code",
   "execution_count": 14,
   "metadata": {},
   "outputs": [
    {
     "name": "stdout",
     "output_type": "stream",
     "text": [
      "1.66\n"
     ]
    }
   ],
   "source": [
    "from mendeleev import element\n",
    "\n",
    "krom = element(24)\n",
    "\n",
    "print(krom.electronegativity())"
   ]
  },
  {
   "cell_type": "markdown",
   "metadata": {},
   "source": [
    "En ting som er svært praktisk med mendeleev-biblioteket, er at vi kan hente grunnstoffer ved hjelp av atomnummer istedenfor symbol. Det gjør at vi lettere kan iterere over grunnstoffer i en løkke, f.eks. slik:"
   ]
  },
  {
   "cell_type": "code",
   "execution_count": null,
   "metadata": {},
   "outputs": [],
   "source": [
    "for i in range(1,119):\n",
    "    grunnstoff = element(i)\n",
    "    print(grunnstoff.name,\": \", grunnstoff.electronegativity())"
   ]
  },
  {
   "cell_type": "markdown",
   "metadata": {},
   "source": [
    "- Hva gjør programmet ovenfor?\n",
    "- Programmet nedenfor skal plotte trendene i elektronegativitet for alle grunnstoffer. Fyll inn det som mangler."
   ]
  },
  {
   "cell_type": "code",
   "execution_count": 13,
   "metadata": {},
   "outputs": [
    {
     "data": {
      "image/png": "[encoded data removed]",
      "text/plain": [
       "<Figure size 432x288 with 1 Axes>"
      ]
     },
     "metadata": {
      "needs_background": "light"
     },
     "output_type": "display_data"
    }
   ],
   "source": [
    "import matplotlib.pyplot as plt\n",
    "from mendeleev import element\n",
    "\n",
    "atomnummer = []\n",
    "elektronegativitet = []\n",
    "\n",
    "for i in range(1,119):\n",
    "    grunnstoff = element(i)\n",
    "    atomnummer.append(grunnstoff.atomic_number)\n",
    "    elektronegativitet.append(grunnstoff.electronegativity())\n",
    "    \n",
    "plt.plot(atomnummer, elektronegativitet, linestyle=\" \", marker=\"o\")\n",
    "plt.plot(atomnummer, elektronegativitet, color = \"limegreen\")\n",
    "plt.xlabel(\"Atomnummer\")\n",
    "plt.ylabel(\"Elektronegativitet\")\n",
    "plt.show()"
   ]
  },
  {
   "cell_type": "markdown",
   "metadata": {},
   "source": [
    "## Syrer og baser"
   ]
  },
  {
   "cell_type": "markdown",
   "metadata": {},
   "source": [
    "Vi bruker et nyttig bibliotek som heter pHcalc til å regne på pH i syrer og baser."
   ]
  },
  {
   "cell_type": "code",
   "execution_count": null,
   "metadata": {},
   "outputs": [],
   "source": [
    "from pHcalc.pHcalc import Acid"
   ]
  },
  {
   "cell_type": "code",
   "execution_count": 12,
   "metadata": {},
   "outputs": [
    {
     "name": "stdout",
     "output_type": "stream",
     "text": [
      "13.999999999999998\n",
      "-2.6645352591003757e-15\n",
      "1.5906745910644506\n"
     ]
    }
   ],
   "source": [
    "from pHcalc.pHcalc import Acid, Neutral, System\n",
    "\n",
    "# 1 M NaOH. Definerer det pH-nøytrale systemet, OH- legges på automatisk\n",
    "Na = Neutral(charge=1, conc=1) \n",
    "sol1 = System(Na)\n",
    "sol1.pHsolve()\n",
    "print(sol.pH) # Gir pH ca. lik 14\n",
    "\n",
    "# 1 M HCl. Definerer det pH-nøytrale systemet, H+ legges på automatisk\n",
    "Cl = Neutral(charge=-1, conc=1) \n",
    "sol2 = System(Cl)\n",
    "sol2.pHsolve()\n",
    "print(sol2.pH) # Gir pH ca. lik 0\n",
    "\n",
    "# 1 M HF (svak syre)\n",
    "hf = Acid(Ka=6.76E-4, charge=0, conc=1) # eventuelt pKa=3.17\n",
    "sol3 = System(hf)\n",
    "sol3.pHsolve()\n",
    "print(sol3.pH) # Gir pH ca. lik 1.59"
   ]
  },
  {
   "cell_type": "markdown",
   "metadata": {},
   "source": [
    "## Visualisering av molekyler"
   ]
  },
  {
   "cell_type": "code",
   "execution_count": 23,
   "metadata": {},
   "outputs": [
    {
     "data": {
      "application/3dmoljs_load.v0": "<div id=\"3dmolviewer_1634669236732519\"  style=\"position: relative; width: 640px; height: 480px\">\n        <p id=\"3dmolwarning_1634669236732519\" style=\"background-color:#ffcccc;color:black\">You appear to be running in JupyterLab (or JavaScript failed to load for some other reason).  You need to install the 3dmol extension: <br>\n        <tt>jupyter labextension install jupyterlab_3dmol</tt></p>\n        </div>\n<script>\n\nvar loadScriptAsync = function(uri){\n  return new Promise((resolve, reject) => {\n    var tag = document.createElement('script');\n    tag.src = uri;\n    tag.async = true;\n    tag.onload = () => {\n      resolve();\n    };\n  var firstScriptTag = document.getElementsByTagName('script')[0];\n  firstScriptTag.parentNode.insertBefore(tag, firstScriptTag);\n});\n};\n\nif(typeof $3Dmolpromise === 'undefined') {\n$3Dmolpromise = null;\n  $3Dmolpromise = loadScriptAsync('https://3dmol.org/build/3Dmol.js');\n}\n\nvar viewer_1634669236732519 = null;\nvar warn = document.getElementById(\"3dmolwarning_1634669236732519\");\nif(warn) {\n    warn.parentNode.removeChild(warn);\n}\n$3Dmolpromise.then(function() {\nviewer_1634669236732519 = $3Dmol.createViewer($(\"#3dmolviewer_1634669236732519\"),{backgroundColor:\"white\"});\n$3Dmol.download(\"cid:6013\", viewer_1634669236732519, {}, function() {\nviewer_1634669236732519.zoomTo();\n\tviewer_1634669236732519.setStyle({\"stick\": {\"color\": \"spectrum\"}});\nviewer_1634669236732519.render();\n})\n});\n</script>",
      "text/html": [
       "<div id=\"3dmolviewer_1634669236732519\"  style=\"position: relative; width: 640px; height: 480px\">\n",
       "        <p id=\"3dmolwarning_1634669236732519\" style=\"background-color:#ffcccc;color:black\">You appear to be running in JupyterLab (or JavaScript failed to load for some other reason).  You need to install the 3dmol extension: <br>\n",
       "        <tt>jupyter labextension install jupyterlab_3dmol</tt></p>\n",
       "        </div>\n",
       "<script>\n",
       "\n",
       "var loadScriptAsync = function(uri){\n",
       "  return new Promise((resolve, reject) => {\n",
       "    var tag = document.createElement('script');\n",
       "    tag.src = uri;\n",
       "    tag.async = true;\n",
       "    tag.onload = () => {\n",
       "      resolve();\n",
       "    };\n",
       "  var firstScriptTag = document.getElementsByTagName('script')[0];\n",
       "  firstScriptTag.parentNode.insertBefore(tag, firstScriptTag);\n",
       "});\n",
       "};\n",
       "\n",
       "if(typeof $3Dmolpromise === 'undefined') {\n",
       "$3Dmolpromise = null;\n",
       "  $3Dmolpromise = loadScriptAsync('https://3dmol.org/build/3Dmol.js');\n",
       "}\n",
       "\n",
       "var viewer_1634669236732519 = null;\n",
       "var warn = document.getElementById(\"3dmolwarning_1634669236732519\");\n",
       "if(warn) {\n",
       "    warn.parentNode.removeChild(warn);\n",
       "}\n",
       "$3Dmolpromise.then(function() {\n",
       "viewer_1634669236732519 = $3Dmol.createViewer($(\"#3dmolviewer_1634669236732519\"),{backgroundColor:\"white\"});\n",
       "$3Dmol.download(\"cid:6013\", viewer_1634669236732519, {}, function() {\n",
       "viewer_1634669236732519.zoomTo();\n",
       "\tviewer_1634669236732519.setStyle({\"stick\": {\"color\": \"spectrum\"}});\n",
       "viewer_1634669236732519.render();\n",
       "})\n",
       "});\n",
       "</script>"
      ]
     },
     "metadata": {},
     "output_type": "display_data"
    },
    {
     "data": {
      "text/plain": [
       "<py3Dmol.view at 0x1b981241580>"
      ]
     },
     "execution_count": 23,
     "metadata": {},
     "output_type": "execute_result"
    }
   ],
   "source": [
    "import py3Dmol\n",
    "\n",
    "testosteron = py3Dmol.view(query='cid:6013')\n",
    "testosteron.setStyle({'stick':{'color':'spectrum'}})"
   ]
  },
  {
   "cell_type": "code",
   "execution_count": 24,
   "metadata": {},
   "outputs": [
    {
     "data": {
      "application/3dmoljs_load.v0": "<div id=\"3dmolviewer_16346692415212522\"  style=\"position: relative; width: 640px; height: 480px\">\n        <p id=\"3dmolwarning_16346692415212522\" style=\"background-color:#ffcccc;color:black\">You appear to be running in JupyterLab (or JavaScript failed to load for some other reason).  You need to install the 3dmol extension: <br>\n        <tt>jupyter labextension install jupyterlab_3dmol</tt></p>\n        </div>\n<script>\n\nvar loadScriptAsync = function(uri){\n  return new Promise((resolve, reject) => {\n    var tag = document.createElement('script');\n    tag.src = uri;\n    tag.async = true;\n    tag.onload = () => {\n      resolve();\n    };\n  var firstScriptTag = document.getElementsByTagName('script')[0];\n  firstScriptTag.parentNode.insertBefore(tag, firstScriptTag);\n});\n};\n\nif(typeof $3Dmolpromise === 'undefined') {\n$3Dmolpromise = null;\n  $3Dmolpromise = loadScriptAsync('https://3dmol.org/build/3Dmol.js');\n}\n\nvar viewer_16346692415212522 = null;\nvar warn = document.getElementById(\"3dmolwarning_16346692415212522\");\nif(warn) {\n    warn.parentNode.removeChild(warn);\n}\n$3Dmolpromise.then(function() {\nviewer_16346692415212522 = $3Dmol.createViewer($(\"#3dmolviewer_16346692415212522\"),{backgroundColor:\"white\"});\n$3Dmol.download(\"pdb:6B7N\", viewer_16346692415212522, {}, function() {\nviewer_16346692415212522.zoomTo();\n\tviewer_16346692415212522.setStyle({\"cartoon\": {\"color\": \"spectrum\"}});\nviewer_16346692415212522.render();\n})\n});\n</script>",
      "text/html": [
       "<div id=\"3dmolviewer_16346692415212522\"  style=\"position: relative; width: 640px; height: 480px\">\n",
       "        <p id=\"3dmolwarning_16346692415212522\" style=\"background-color:#ffcccc;color:black\">You appear to be running in JupyterLab (or JavaScript failed to load for some other reason).  You need to install the 3dmol extension: <br>\n",
       "        <tt>jupyter labextension install jupyterlab_3dmol</tt></p>\n",
       "        </div>\n",
       "<script>\n",
       "\n",
       "var loadScriptAsync = function(uri){\n",
       "  return new Promise((resolve, reject) => {\n",
       "    var tag = document.createElement('script');\n",
       "    tag.src = uri;\n",
       "    tag.async = true;\n",
       "    tag.onload = () => {\n",
       "      resolve();\n",
       "    };\n",
       "  var firstScriptTag = document.getElementsByTagName('script')[0];\n",
       "  firstScriptTag.parentNode.insertBefore(tag, firstScriptTag);\n",
       "});\n",
       "};\n",
       "\n",
       "if(typeof $3Dmolpromise === 'undefined') {\n",
       "$3Dmolpromise = null;\n",
       "  $3Dmolpromise = loadScriptAsync('https://3dmol.org/build/3Dmol.js');\n",
       "}\n",
       "\n",
       "var viewer_16346692415212522 = null;\n",
       "var warn = document.getElementById(\"3dmolwarning_16346692415212522\");\n",
       "if(warn) {\n",
       "    warn.parentNode.removeChild(warn);\n",
       "}\n",
       "$3Dmolpromise.then(function() {\n",
       "viewer_16346692415212522 = $3Dmol.createViewer($(\"#3dmolviewer_16346692415212522\"),{backgroundColor:\"white\"});\n",
       "$3Dmol.download(\"pdb:6B7N\", viewer_16346692415212522, {}, function() {\n",
       "viewer_16346692415212522.zoomTo();\n",
       "\tviewer_16346692415212522.setStyle({\"cartoon\": {\"color\": \"spectrum\"}});\n",
       "viewer_16346692415212522.render();\n",
       "})\n",
       "});\n",
       "</script>"
      ]
     },
     "metadata": {},
     "output_type": "display_data"
    },
    {
     "data": {
      "text/plain": [
       "<py3Dmol.view at 0x1b982647a00>"
      ]
     },
     "execution_count": 24,
     "metadata": {},
     "output_type": "execute_result"
    }
   ],
   "source": [
    "spike_prot = py3Dmol.view(query='pdb:6B7N')\n",
    "spike_prot.setStyle({'cartoon':{'color':'spectrum'}})"
   ]
  },
  {
   "cell_type": "markdown",
   "metadata": {},
   "source": [
    "__Oppgaver__:\n",
    "1.\tLag et program som skriver ut eller plotter kokepunktet til alle halogenene. Beskriv og forklar trenden i kokepunkt.\n",
    "2.\tPlott atomradius som funksjon av atomnummer for alle grunnstoffer i periodesystemet og forklar det du ser. Plott deretter kun for grunnstoff 19–36 og forklar hva du ser.\n",
    "3. Lag en 3D-modell av benzosyre og proteinet keratin (6EC0 i PDB). "
   ]
  }
 ],
 "metadata": {
  "kernelspec": {
   "display_name": "Python 3",
   "language": "python",
   "name": "python3"
  },
  "language_info": {
   "codemirror_mode": {
    "name": "ipython",
    "version": 3
   },
   "file_extension": ".py",
   "mimetype": "text/x-python",
   "name": "python",
   "nbconvert_exporter": "python",
   "pygments_lexer": "ipython3",
   "version": "3.8.5"
  }
 },
 "nbformat": 4,
 "nbformat_minor": 4
}
