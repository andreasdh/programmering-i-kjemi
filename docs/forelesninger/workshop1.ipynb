{
 "cells": [
  {
   "cell_type": "markdown",
   "id": "935e0ad5",
   "metadata": {},
   "source": [
    "# Workshop 1: Datahåndtering\n",
    "\n",
    "```{admonition} Pensum til eksamen: Datahåndtering\n",
    "1. Lese og sortere fildata (med hvilket som helst bibliotek).\n",
    "2. Lage gode visualiseringer.\n",
    "3. Definere ulike statistiske størrelser og bruke egne funksjoner og ferdige funksjoner til å regne dem ut.\n",
    "4. Gjøre rede for og lage enkle maskinlæringsmodeller ved bruk av bestemmelsestrealgoritmer.\n",
    "5. Gjøre rede for, tolke og utføre regresjon med ferdige funksjoner.\n",
    "```"
   ]
  },
  {
   "cell_type": "markdown",
   "id": "98591084",
   "metadata": {},
   "source": [
    "## Oppgaver\n",
    "\n",
    "__Del 1:__\n",
    "\n",
    "1. Les fila \"vin.csv\" inn i et program.\n",
    "2. Lag en ny dataframe med kun viner som har 5 eller mindre i kvalitet.\n",
    "3. Plott pH mot innholdet av vinsyre (\"fixed acidity\") i g/L.\n",
    "4. Legg til en linje i plottet som viser gjennomsnittet av pH-en hos de utvalgte vinene. Legg også inn to andre linjer: én som viser gjennomsnitlig pH + standardavviket i pH, og én som viser gjennomsnittlig pH - standardavviket i pH.\n",
    "5. Lag en liste pH = [2.2, 2.5, 2.6] og regn ut gjennomsnitt og standardavvik av pH-målingene. Hva forteller disse verdiene deg? Hvorfor må du bruke empirisk standardavvik (dele på N - 1) og ikke standardavviket til en normalfordeling (teoretisk standardavvik) her?\n",
    "6. Gjør en lineær regresjon av dataene du visualiserte i oppgave 3. Forklar hva den lineære modellen du får, beskriver.\n",
    "7. Lag en visualisering som beskriver innholdet av sitronsyre (\"citric acid\") i g/L for hver vinkvalitet. Visualiseringen må si noe om spredningen i måledata. Beskriv hva visualiseringen forteller oss. \n",
    "8. Regn ut 25 \\%, 50 \\% og 75 \\% kvartiler for innholdet av klorider i g/L. Hva forteller kvartilene deg?\n",
    "9. Lag en ny kolonne i datarammen som klassifiserer vinene som enten gode (kvalitet over 7), middels (kvalitet 5-7) eller dårlige (kvalitet under 5). Hvor mange viner er det i hver kategori?\n",
    "10. Lag to nye filer med minst to kolonner der du legger inn virkelige eller fiktive data. Les av filene med pandas. Lag filene slik at den ene fila har mellomrom som skilletegn, mens den andre har komma. Hva skjer når du leser inn filene? Hva må du gjøre for å lese inn filene riktig?\n",
    "11. Bruk biblioteket chemlib til å finne molmassen til butansyre.\n",
    "12. Nernst likning er gitt ved:\n",
    "\n",
    "\n",
    "$$E_{\\text{celle}} = E^\\circ_{\\text{celle}} - \\frac{RT}{ne N_A} \\ln Q$$\n",
    "\n",
    "\n",
    "og beskriver cellepotensialet til en elektrokjemisk celle der $ E_{\\text{celle}} $ er cellepotensialet, $ E^\\circ_{\\text{celle}} = E^\\circ_{\\text{oks}} + E^\\circ_{\\text{red}} $ er standard cellepotensialet, $ R = 8,31, \\text{J K}^{-1} \\text{ mol}^{-1} $ er gasskonstanten, $ n $ er antallet elektroner som blir overført i redoksreaksjonen, $ e = 1,60 \\cdot 10^{-19}, \\text{C} $ er elementærladningen, $ N_A = 6,02 \\cdot 10^{23} \\, \\text{mol}^{-1} $ er Avogadros tall og $ Q $ er reaksjonskoeffisienten.\n",
    "\n",
    "I en bestemt elektrokjemisk celle skjer halvreaksjonene\n",
    "\n",
    "$$\\text{Cd (s)} \\rightarrow \\text{Cd}^{2+} (\\text{aq}) + 2e^{-} \\quad \\quad E^\\circ_{\\text{oks}} = 0,403 \\, \\text{V}$$\n",
    "\n",
    "$$\\text{Pb}^{2+} (\\text{aq}) + 2e^{-} \\rightarrow \\text{Pb (s)} \\quad \\quad E^\\circ_{\\text{red}} = -0,126 \\, \\text{V}$$\n",
    "\n",
    "Lag en funksjon _E_cell_ med relevante parametre som beregner cellepotensialet til en celle med standard cellepotensial E0cell der n elektroner blir overført og reaksjonskoeffisienten er Q ved temperaturen T.\n",
    "\n",
    "Bruk funksjonen til å beregne og printe $ E_{\\text{celle}} $ for en celle ved 25°C der konsentrasjonene av $ \\text{Cd}^{2+} $ og $ \\text{Pb}^{2+} $ er henholdsvis 0,0656 M og 0,192 M.\n",
    "\n",
    "13. Katalysatoreffekt: En forsker ønsker å teste om et nytt katalysatormateriale øker reaksjonshastigheten i en kjemisk prosess. Han måler reaksjonshastigheten (mol/L/s) i to ulike eksperimenter:\n",
    "\n",
    "Gruppe A (med ny katalysator): 3.1, 3.3, 3.2, 3.4, 3.1\n",
    "Gruppe B (uten ny katalysator): 2.8, 2.7, 2.9, 2.8, 2.7\n",
    "\n",
    "Bruk en egnet t-test for å avgjøre om den nye katalysatoren fører til en signifikant økning i reaksjonshastigheten. Formuler nullhypotese ($H_0$) og alternativ hypotese ($H_1$) før du gjennomfører testen. Kommenter resultatene dine.\n",
    "\n",
    "14. Vannrensing: En kjemiker undersøker effekten av et vannrensefilter. Før filtrering måler hun følgende konsentrasjoner av et forurensende stoff i vannet (mg/L): 5.3, 5.5, 5.6, 5.4, 5.2. Etter filtrering måler hun: 4.8, 5.0, 4.9, 4.7, 5.1.\n",
    "\n",
    "Bruk en egnet t-test til å undersøke om rensefilteret gir en signifikant reduksjon i konsentrasjonen av det forurensende stoffet. Formuler nullhypotese og alternativ hypotese, og diskuter betydningen av p-verdien du får.\n",
    "\n",
    "15. Renhet i syntese: En kjemiker måler renheten av et stoff produsert av et nytt synteseforløp. Den kjente standarden for renhet er 99.5%. Resultatene fra 5 uavhengige prøver viser: 99.6, 99.4, 99.5, 99.7, 99.3.\n",
    "\n",
    "Bruk en egnet t-test for ett utvalg til å undersøke om resultatene dine er signifikant forskjellig fra den kjente standarden. Hva kan du konkludere ut ifra resultatet av testen?\n",
    "\n",
    "Ekstraoppgave (oppvarming til neste workshop om numeriske metoder):\n",
    "16. Programmet nedenfor prøver å benytte følgende algoritme for å tilnærme kvadratroten av et tall $a$ gitt et startgjett $x_0$:\n",
    "\n",
    "$$x_{n+1} = \\frac{1}{2} \\left(x_{n} + \\frac{a}{x_{n}} \\right)$$\n",
    "\n",
    "Algoritmen gjentas til $x \\approx \\sqrt{a}$.\n",
    "\n",
    "Koden fungerer derimot ikke som den skal. Finn feilene og rett opp koden.\n"
   ]
  },
  {
   "cell_type": "code",
   "execution_count": null,
   "id": "955aba3d",
   "metadata": {},
   "outputs": [],
   "source": [
    "from pylab import *\n",
    "\n",
    "a = 12\n",
    "x = x0\n",
    "x0 = 2,5\n",
    "n = 100\n",
    "\n",
    "i = 0\n",
    "while i > n:\n",
    "    x = 0.5*(x0 + a/x)\n",
    "    \n",
    "print(\"Rota av\", a, \"er omtrent:\", x0)"
   ]
  }
 ],
 "metadata": {
  "kernelspec": {
   "display_name": "Python 3 (ipykernel)",
   "language": "python",
   "name": "python3"
  },
  "language_info": {
   "codemirror_mode": {
    "name": "ipython",
    "version": 3
   },
   "file_extension": ".py",
   "mimetype": "text/x-python",
   "name": "python",
   "nbconvert_exporter": "python",
   "pygments_lexer": "ipython3",
   "version": "3.9.12"
  }
 },
 "nbformat": 4,
 "nbformat_minor": 5
}
