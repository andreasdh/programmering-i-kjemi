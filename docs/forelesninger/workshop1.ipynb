{
 "cells": [
  {
   "cell_type": "markdown",
   "metadata": {},
   "source": [
    "# Workshop 1: Datahåndtering\n",
    "\n",
    "```{admonition} Pensum til eksamen: Datahåndtering\n",
    "1. Lese og sortere fildata (med hvilket som helst bibliotek).\n",
    "2. Lage gode visualiseringer.\n",
    "3. Definere ulike statistiske størrelser og bruke egne funksjoner og ferdige funksjoner til å regne dem ut: gjennomsnitt, standardavvik og kvartiler.\n",
    "4. Gjøre rede for og lage enkle maskinlæringsmodeller ved bruk av bestemmelsestrealgoritmer.\n",
    "5. Gjøre rede for, tolke og utføre regresjon med ferdige funksjoner.\n",
    "```\n",
    "\n"
   ]
  },
  {
   "cell_type": "markdown",
   "metadata": {},
   "source": [
    "## Oppgaver\n",
    "\n",
    "__Del 1:__\n",
    "\n",
    "1. Les fila \"vin.csv\" inn i et program.\n",
    "2. Lag en ny dataframe med kun viner som har 5 eller mindre i kvalitet.\n",
    "3. Plott pH mot innholdet av vinsyre (\"fixed acidity\") i g/L.\n",
    "4. Legg til en linje i plottet som viser gjennomsnittet av pH-en hos de utvalgte vinene. Legg også inn to andre linjer: én som viser gjennomsnitlig pH + standardavviket i pH, og én som viser gjennomsnittlig pH - standardavviket i pH.\n",
    "5. Gjør en lineær regresjon av dataene. Forklar hva den lineære modellen du får, beskriver.\n",
    "6. Lag en visualisering som beskriver innholdet av sitronsyre (\"citric acid\") i g/L for hver vinkvalitet. Visualiseringen må si noe om spredningen i måledata. Beskriv hva visualiseringen forteller oss. \n",
    "7. Regn ut 25 \\%, 50 \\% og 75 \\% kvartiler for innholdet av klorider i g/L. Hva forteller kvartilene deg?\n",
    "8. \n",
    "\n",
    "__Del 2:__\n",
    "\n",
    "8. Les fila \"iris.csv\" inn i et program.\n",
    "9. Bruk maskinlæring og lag en klassifiseringsmodell som bestemmer hvilken blomst du har med å gjøre gitt bredden og lengden på kronbladene (\"petals\") på blomsten.\n",
    "10. Beskriv trinnene du bruker når du lager modellen ovenfor."
   ]
  },
  {
   "cell_type": "code",
   "execution_count": null,
   "metadata": {},
   "outputs": [],
   "source": []
  }
 ],
 "metadata": {
  "kernelspec": {
   "display_name": "Python 3",
   "language": "python",
   "name": "python3"
  },
  "language_info": {
   "codemirror_mode": {
    "name": "ipython",
    "version": 3
   },
   "file_extension": ".py",
   "mimetype": "text/x-python",
   "name": "python",
   "nbconvert_exporter": "python",
   "pygments_lexer": "ipython3",
   "version": "3.8.5"
  }
 },
 "nbformat": 4,
 "nbformat_minor": 5
}
