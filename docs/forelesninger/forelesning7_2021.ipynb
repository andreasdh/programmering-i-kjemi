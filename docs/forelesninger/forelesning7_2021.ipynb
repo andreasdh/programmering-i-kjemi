{
 "cells": [
  {
   "cell_type": "markdown",
   "metadata": {},
   "source": [
    "# Forelesning 7: Differensiallikninger"
   ]
  },
  {
   "cell_type": "markdown",
   "metadata": {},
   "source": [
    "Menti: https://www.menti.com/c2pa6156x6"
   ]
  },
  {
   "cell_type": "markdown",
   "metadata": {},
   "source": [
    "__Repetisjonsoppgave:__ Sammenlikn kodesnuttene og diskuter hvilken metode som er brukt i hver funksjon:"
   ]
  },
  {
   "cell_type": "code",
   "execution_count": 1,
   "metadata": {},
   "outputs": [],
   "source": [
    "def ukjent1(f, a, b, n):\n",
    "    A = 0.0\n",
    "    h = (b-a)/n\n",
    "    for k in range (n-1):\n",
    "        A = A + f(a + (k+1)*h)*h\n",
    "    return A\n",
    "\n",
    "def ukjent2(f, a, b, n):\n",
    "    h = (b-a)/n\n",
    "    A = (f(a) + f(b))/2.0\n",
    "    for k in range(1, n):\n",
    "        A = A + f(a + k*h)\n",
    "    return A*h\n",
    "\n",
    "def ukjent3(f, a, b, n):\n",
    "    A = 0.0 \n",
    "    h = (b-a)/n\n",
    "    for k in range (n):\n",
    "        A = A + f(a + k*h)*h\n",
    "    return A\n",
    "\n",
    "def ukjent4(f, a, b, n):\n",
    "    A = 0.0\n",
    "    h = (b-a)/n\n",
    "    for k in range (n):\n",
    "        A = A + f(a + (1+2*k)*(h/2))*h\n",
    "    return A"
   ]
  },
  {
   "cell_type": "markdown",
   "metadata": {},
   "source": [
    "## Difflikninger\n",
    "\n",
    "$$y' = y + t$$\n",
    "\n",
    "$$f'(t) = f(y, t)$$\n",
    "\n",
    "Eulers metode på tavla."
   ]
  },
  {
   "cell_type": "markdown",
   "metadata": {},
   "source": [
    "## Løsning av difflikninger"
   ]
  },
  {
   "cell_type": "code",
   "execution_count": null,
   "metadata": {},
   "outputs": [],
   "source": []
  },
  {
   "cell_type": "code",
   "execution_count": null,
   "metadata": {},
   "outputs": [],
   "source": []
  },
  {
   "cell_type": "code",
   "execution_count": null,
   "metadata": {},
   "outputs": [],
   "source": []
  },
  {
   "cell_type": "markdown",
   "metadata": {},
   "source": [
    "\n",
    "__Oppgave:__ Løs differensiallikninga $y' + y^3 = \\sin(x)$ med Eulers metode fra $x = 0$ til $x = 10$. Bruk initialbetingelsen $y(0) = 0$. Vær nøye med hvordan du definerer funksjonen.\n"
   ]
  },
  {
   "cell_type": "markdown",
   "metadata": {},
   "source": [
    "## Newtons 2. lov"
   ]
  },
  {
   "cell_type": "code",
   "execution_count": null,
   "metadata": {},
   "outputs": [],
   "source": []
  }
 ],
 "metadata": {
  "kernelspec": {
   "display_name": "Python 3",
   "language": "python",
   "name": "python3"
  },
  "language_info": {
   "codemirror_mode": {
    "name": "ipython",
    "version": 3
   },
   "file_extension": ".py",
   "mimetype": "text/x-python",
   "name": "python",
   "nbconvert_exporter": "python",
   "pygments_lexer": "ipython3",
   "version": "3.8.5"
  }
 },
 "nbformat": 4,
 "nbformat_minor": 4
}
