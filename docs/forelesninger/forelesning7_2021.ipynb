{
 "cells": [
  {
   "cell_type": "markdown",
   "metadata": {},
   "source": [
    "# Forelesning 7: Differensiallikninger"
   ]
  },
  {
   "cell_type": "markdown",
   "metadata": {},
   "source": [
    "Menti: https://www.menti.com/c2pa6156x6"
   ]
  },
  {
   "cell_type": "markdown",
   "metadata": {},
   "source": [
    "__Repetisjonsoppgave:__ Sammenlikn kodesnuttene og diskuter hvilken metode som er brukt i hver funksjon:"
   ]
  },
  {
   "cell_type": "code",
   "execution_count": 1,
   "metadata": {},
   "outputs": [],
   "source": [
    "def ukjent1(f, a, b, n):\n",
    "    A = 0.0\n",
    "    h = (b-a)/n\n",
    "    for k in range (n-1):\n",
    "        A = A + f(a + (k+1)*h)*h\n",
    "    return A\n",
    "\n",
    "def ukjent2(f, a, b, n):\n",
    "    h = (b-a)/n\n",
    "    A = (f(a) + f(b))/2.0\n",
    "    for k in range(1, n):\n",
    "        A = A + f(a + k*h)\n",
    "    return A*h\n",
    "\n",
    "def ukjent3(f, a, b, n):\n",
    "    A = 0.0 \n",
    "    h = (b-a)/n\n",
    "    for k in range (n):\n",
    "        A = A + f(a + k*h)*h\n",
    "    return A\n",
    "\n",
    "def ukjent4(f, a, b, n):\n",
    "    A = 0.0\n",
    "    h = (b-a)/n\n",
    "    for k in range (n):\n",
    "        A = A + f(a + (1+2*k)*(h/2))*h\n",
    "    return A"
   ]
  },
  {
   "cell_type": "markdown",
   "metadata": {},
   "source": [
    "## Difflikninger\n",
    "\n",
    "$$y' = y + t$$\n",
    "\n",
    "$$f'(t) = f(y, t)$$\n",
    "\n",
    "Eulers metode på tavla."
   ]
  },
  {
   "cell_type": "markdown",
   "metadata": {},
   "source": [
    "## Løsning av difflikninger"
   ]
  },
  {
   "cell_type": "code",
   "execution_count": 2,
   "metadata": {},
   "outputs": [
    {
     "data": {
      "image/png": "[encoded data removed]",
      "text/plain": [
       "<Figure size 432x288 with 1 Axes>"
      ]
     },
     "metadata": {
      "needs_background": "light"
     },
     "output_type": "display_data"
    }
   ],
   "source": [
    "import matplotlib.pyplot as plt\n",
    "import numpy as np\n",
    "\n",
    "# Plotteverdier\n",
    "x0 = 0                         # startverdi for x\n",
    "x_slutt = 5.0                  # sluttverdi for x\n",
    "dx = 1E-5                      # steglengde\n",
    "N = int((x_slutt - x0)/dx) + 1 # antall punkter\n",
    "\n",
    "# Initialbetingelser\n",
    "y0 = 1                  # intitialbetingelse for y\n",
    "\n",
    "# Differensiallikningen\n",
    "def yder(y,x):\n",
    "    return 1 \n",
    "\n",
    "# Lager arrayer for å spare på verdiene\n",
    "x = np.zeros(N)\n",
    "y = np.zeros(N)\n",
    "y[0] = y0     # Legger inn initalbetingelsen for y\n",
    "x[0] = x0\n",
    "\n",
    "# Eulers metode\n",
    "for i in range(N-1):\n",
    "    y[i+1] = y[i] + yder(y[i],x[i])*dx\n",
    "    x[i+1] = x[i] + dx\n",
    "\n",
    "plt.plot(x,y)\n",
    "plt.xlabel(\"x\")\n",
    "plt.ylabel(\"y\")\n",
    "plt.grid()\n",
    "plt.show()"
   ]
  },
  {
   "cell_type": "markdown",
   "metadata": {},
   "source": [
    "\n",
    "__Oppgave:__ Løs differensiallikninga $y' + y^3 = \\sin(x)$ med Eulers metode fra $x = 0$ til $x = 10$. Bruk initialbetingelsen $y(0) = 0$. Vær nøye med hvordan du definerer funksjonen.\n"
   ]
  },
  {
   "cell_type": "markdown",
   "metadata": {},
   "source": [
    "## Newtons 2. lov"
   ]
  },
  {
   "cell_type": "code",
   "execution_count": 3,
   "metadata": {},
   "outputs": [
    {
     "data": {
      "image/png": "[encoded data removed]",
      "text/plain": [
       "<Figure size 432x288 with 1 Axes>"
      ]
     },
     "metadata": {
      "needs_background": "light"
     },
     "output_type": "display_data"
    }
   ],
   "source": [
    "import matplotlib.pyplot as plt\n",
    "import numpy as np\n",
    "\n",
    "# Konstanter\n",
    "k = 0.1   # Luftmotstand\n",
    "g = 9.81  # Tyngdeakselerasjon i m/s^2\n",
    "m = 1     # Masse i kg\n",
    "v0 = 0    # Starthastighet i m/s\n",
    "s0 = 0    # Startposisjon i m\n",
    "\n",
    "# Tidsvariabler\n",
    "dt = 1E-5 # Tidsintervall i s\n",
    "tid_start = 0\n",
    "tid_slutt = 10\n",
    "N = int((tid_slutt-tid_start)/dt) + 1 # Antall punkter\n",
    "\n",
    "# Arrayer\n",
    "t = np.zeros(N)\n",
    "a = np.zeros(N)\n",
    "v = np.zeros(N)\n",
    "s = np.zeros(N)\n",
    "\n",
    "# Startverdier\n",
    "t[0] = tid_start\n",
    "v[0] = v0\n",
    "s[0] = s0\n",
    "\n",
    "for i in range(N-1):\n",
    "    a[i] = - g - k*v[i]/m\n",
    "    v[i+1] = v[i] + a[i]*dt\n",
    "    s[i+1] = s[i] + v[i]*dt + 0.5*a[i]*dt**2\n",
    "    t[i+1] = t[i] + dt\n",
    "\n",
    "plt.plot(t,s)\n",
    "plt.title('Fallende kule')\n",
    "plt.xlabel('Tid (s)')\n",
    "plt.ylabel('strekning (m)')\n",
    "plt.show()"
   ]
  }
 ],
 "metadata": {
  "kernelspec": {
   "display_name": "Python 3 (ipykernel)",
   "language": "python",
   "name": "python3"
  },
  "language_info": {
   "codemirror_mode": {
    "name": "ipython",
    "version": 3
   },
   "file_extension": ".py",
   "mimetype": "text/x-python",
   "name": "python",
   "nbconvert_exporter": "python",
   "pygments_lexer": "ipython3",
   "version": "3.9.12"
  }
 },
 "nbformat": 4,
 "nbformat_minor": 4
}
