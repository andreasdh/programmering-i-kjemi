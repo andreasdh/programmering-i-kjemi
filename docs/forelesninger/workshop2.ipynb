{
 "cells": [
  {
   "cell_type": "markdown",
   "id": "7e8f6f80",
   "metadata": {},
   "source": [
    "# Workshop 2: Numeriske metoder\n",
    "\n",
    "```{admonition} Pensum til eksamen: Numeriske metoder\n",
    "1. Beskrive og forklare numeriske metoder for å finne nullpunkter (halveringsmetoden, Newtons metode), derivere (framover-, bakover- og sentraldifferanse) og integrere (rektangelmetoden - venstre, høyre og midt - og trapesmetoden).\n",
    "2. Lage gode visualiseringer.\n",
    "3. Definere ulike statistiske størrelser og bruke egne funksjoner og ferdige funksjoner til å regne dem ut: gjennomsnitt, standardavvik og kvartiler.\n",
    "4. Gjøre rede for og lage enkle maskinlæringsmodeller ved bruk av bestemmelsestrealgoritmer.\n",
    "5. Gjøre rede for, tolke og utføre regresjon med ferdige funksjoner.\n",
    "```"
   ]
  },
  {
   "cell_type": "code",
   "execution_count": null,
   "id": "773b7577",
   "metadata": {},
   "outputs": [],
   "source": []
  }
 ],
 "metadata": {
  "kernelspec": {
   "display_name": "Python 3",
   "language": "python",
   "name": "python3"
  },
  "language_info": {
   "codemirror_mode": {
    "name": "ipython",
    "version": 3
   },
   "file_extension": ".py",
   "mimetype": "text/x-python",
   "name": "python",
   "nbconvert_exporter": "python",
   "pygments_lexer": "ipython3",
   "version": "3.8.8"
  }
 },
 "nbformat": 4,
 "nbformat_minor": 5
}
