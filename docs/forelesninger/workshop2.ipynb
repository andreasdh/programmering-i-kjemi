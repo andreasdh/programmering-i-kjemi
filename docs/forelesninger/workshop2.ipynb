{
 "cells": [
  {
   "cell_type": "markdown",
   "id": "9c88f798",
   "metadata": {},
   "source": [
    "# Workshop 2: Numeriske metoder\n",
    "\n",
    "```{admonition} Pensum til eksamen: Numeriske metoder\n",
    "1. Beskrive, forklare og implementere numeriske metoder for å finne nullpunkter (Newtons metode), derivere (framover-, bakover- og sentraldifferanse) og integrere (rektangelmetoden - venstre, høyre og midt - og trapesmetoden).\n",
    "2. Utvide numeriske metoder med relevant feilhåndtering.\n",
    "3. Sammenlikne og analysere ulike numeriske metoder.\n",
    "4. Feilsøke og feilrette kode med numeriske metoder.\n",
    "```"
   ]
  },
  {
   "cell_type": "markdown",
   "id": "92b64308",
   "metadata": {},
   "source": [
    "## Oppgaver\n",
    "1. Forklar forskjellen mellom numerisk og analytisk derivasjon.\n",
    "2. Hvorfor kan ikke _dx_ i numerisk derivasjon være verken for liten for veldig stor?\n",
    "3. Finn $f'(1)$ med numerisk derivasjon for $f(x) = x^2 - 2lg\\left(\\frac{1}{x}\\right) - 2$.\n",
    "4. Les fila [temperatur.csv](https://raw.githubusercontent.com/andreasdh/programmering-i-kjemi/master/docs/datafiler/temperatur.csv) og bruk numerisk derivasjon til å derivere dataene. Plott den deriverte i samme koordinatsystemet som dataene. Hva forteller den deriverte kurven deg?\n",
    "5. Forklar forskjellen mellom numerisk og analytisk integrasjon.\n",
    "6. Forklar hvorfor en sentraltilnærming av rektangelmetoden er mye bedre enn en venstre- eller høyretilnærming.\n",
    "7. Følgende funksjon gir angir signalet til en NMR-topp i et NMR-spekter:\n",
    "\n",
    "    $$f(x) = 3e^{\\frac{-(x-2)^2}{0.04}}$$\n",
    "\n",
    "    Arealet avgrenset av toppen og _x_-aksen forteller oss om relativt antall H-atomer i samme miljø i forbindelsen. Lag et program som beregner og beregner og skriver ut dette arealet. Begrunn valg av metode.\n",
    "8. Vi måler farten til et legeme i m/s som funksjon av tid i s og får følgende data:\n",
    "\n",
    "    t = [0, 1, 2, 3, 4, 5, 6, 7, 8, 9, 10, 11, 12]\n",
    "\n",
    "    v = [0, 0, 1.2, 2.5, 6, 7.2, 7.1, 5.7, 4.3, 1.2, 0.1, 0]\n",
    "\n",
    "    Bruk numerisk integrasjon til å finne total tilbakelagt strekning.\n",
    "    \n",
    "9. Funksjonen nedenfor inneholder en funksjon som beregner det bestemte integralet til en funksjon med trapesmetoden. Funksjonen fungerer derimot ikke som den skal. Forklar hva som er feil og rett opp koden.\n",
    "\n",
    "```{code-block} Python\n",
    "def trapesmetoden(f, a, b, n):\n",
    "    h = (a+b)/n\n",
    "    A = h*(f(a) + f(b))/2.0\n",
    "    for k in range(n):  23€é≈5\n",
    "        A = A + f(a + n*h)*h\n",
    "    return A*h\n",
    "```\n",
    "10. Bruk Newtons metode til å løse likningen $x^5 - 3x - 10$.\n",
    "11. Hva er fordeler og ulemper med Newtons metode. Forklar ved å skissere ulike grafer som illustrerer problemene."
   ]
  },
  {
   "cell_type": "markdown",
   "id": "260b8b7b",
   "metadata": {},
   "source": [
    "__Grunnleggende programmering:__\n",
    "    \n",
    "12. Vi skal veie inn og lage en saltløsning av KMnO$_4$ (M$_ m$= 158 g/mol). Lag et program som tar den innveide massen av saltet som input med input-funksjonen eller fra kommandolinja. Programmet skal regne ut og skrive ut konsentrasjonen til en løsning av dette saltet på 1 L.\n",
    "\n",
    "13. Ved 25°C er løseligheten til KMnO$_4$ 76 g/L. Utvid programmet ditt i forrige oppgave slik at det tar hensyn til dette med relevant feilhåndtering hvis brukeren av programmet gir for høy masse inn som input.\n",
    "\n",
    "14. Lag en Python-funksjon som regner ut volumet gitt trykket, temperaturen og stoffmengden til en ideell gass.\n",
    "\n",
    "15. Lag et program som beregner følgende rekkesum:\n",
    "\n",
    "$$\\sum_{n=2}^{16} ((n^2 + 1) + n)$$"
   ]
  }
 ],
 "metadata": {
  "kernelspec": {
   "display_name": "Python 3 (ipykernel)",
   "language": "python",
   "name": "python3"
  },
  "language_info": {
   "codemirror_mode": {
    "name": "ipython",
    "version": 3
   },
   "file_extension": ".py",
   "mimetype": "text/x-python",
   "name": "python",
   "nbconvert_exporter": "python",
   "pygments_lexer": "ipython3",
   "version": "3.9.12"
  }
 },
 "nbformat": 4,
 "nbformat_minor": 5
}
