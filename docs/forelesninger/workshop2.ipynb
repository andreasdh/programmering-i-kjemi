{
 "cells": [
  {
   "cell_type": "markdown",
   "id": "7e8f6f80",
   "metadata": {},
   "source": [
    "# Workshop 2: Numeriske metoder\n",
    "\n",
    "```{admonition} Pensum til eksamen: Numeriske metoder\n",
    "1. Beskrive, forklare og implementere numeriske metoder for å finne nullpunkter (halveringsmetoden, Newtons metode), derivere (framover-, bakover- og sentraldifferanse) og integrere (rektangelmetoden - venstre, høyre og midt - og trapesmetoden).\n",
    "2. Utvide numeriske metoder med relevant feilhåndtering.\n",
    "3. Sammenlikne og analysere ulike numeriske metoder.\n",
    "4. Feilsøke og feilrette kode med numeriske metoder.\n",
    "```"
   ]
  },
  {
   "cell_type": "markdown",
   "id": "f2a90bde",
   "metadata": {},
   "source": [
    "## Oppgaver\n",
    "1. Forklar forskjellen mellom numerisk og analytisk derivasjon.\n",
    "2. Hvorfor kan ikke _dx_ i numerisk derivasjon være verken for liten for veldig stor?\n",
    "3. Finn $f'(1)$ med numerisk derivasjon for $f(x) = x^2 - 2\\cdot lg(1/x) - 2$.\n",
    "4. Les fila \"temperatur.txt\"\n",
    "4. Forklar forskjellen mellom numerisk og analytisk integrasjon.\n",
    "5. Forklar hvorfor en sentraltilnærming av rektangelmetoden er mye bedre enn en venstre- eller høyretilnærming.\n",
    "6. Funksjonen nedenfor inneholder en funksjon som beregner det bestemte integralet til en funksjon med trapesmetoden. Funksjonen fungerer derimot ikke som den skal. Forklar hva som er feil og rett opp koden."
   ]
  },
  {
   "cell_type": "code",
   "execution_count": 3,
   "id": "b2accf10",
   "metadata": {},
   "outputs": [],
   "source": [
    "def trapesmetoden(f, a, b, n):\n",
    "    h = (a+b)/n\n",
    "    A = h*(f(a) + f(b))/2.0\n",
    "    for k in range(n):\n",
    "        A = A + f(a + n*h)*h\n",
    "    return A*h"
   ]
  },
  {
   "cell_type": "code",
   "execution_count": null,
   "id": "7ddcf542",
   "metadata": {},
   "outputs": [],
   "source": [
    "7. "
   ]
  }
 ],
 "metadata": {
  "kernelspec": {
   "display_name": "Python 3",
   "language": "python",
   "name": "python3"
  },
  "language_info": {
   "codemirror_mode": {
    "name": "ipython",
    "version": 3
   },
   "file_extension": ".py",
   "mimetype": "text/x-python",
   "name": "python",
   "nbconvert_exporter": "python",
   "pygments_lexer": "ipython3",
   "version": "3.8.8"
  }
 },
 "nbformat": 4,
 "nbformat_minor": 5
}
