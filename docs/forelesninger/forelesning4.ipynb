{
 "cells": [
  {
   "cell_type": "markdown",
   "id": "2c675da4",
   "metadata": {},
   "source": [
    "# Forelesning 4: Likninger og nullpunkter"
   ]
  },
  {
   "cell_type": "code",
   "execution_count": 2,
   "id": "4157b5ba",
   "metadata": {},
   "outputs": [],
   "source": [
    "T = [0,20,40,60,80,100]\n",
    "sol_NaCl = [35.7, 35.9, 36.4, 37.1, 38, 39.2]\n",
    "sol_NH3 = [88.5, 56, 34, 20, 11, 7]"
   ]
  },
  {
   "cell_type": "code",
   "execution_count": null,
   "id": "1bdac735",
   "metadata": {},
   "outputs": [],
   "source": []
  }
 ],
 "metadata": {
  "kernelspec": {
   "display_name": "Python 3",
   "language": "python",
   "name": "python3"
  },
  "language_info": {
   "codemirror_mode": {
    "name": "ipython",
    "version": 3
   },
   "file_extension": ".py",
   "mimetype": "text/x-python",
   "name": "python",
   "nbconvert_exporter": "python",
   "pygments_lexer": "ipython3",
   "version": "3.8.8"
  }
 },
 "nbformat": 4,
 "nbformat_minor": 5
}
