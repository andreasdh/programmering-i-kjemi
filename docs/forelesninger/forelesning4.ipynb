{
 "cells": [
  {
   "cell_type": "markdown",
   "id": "f041923d",
   "metadata": {},
   "source": [
    "# Forelesning 4: Likninger og nullpunkter"
   ]
  },
  {
   "cell_type": "code",
   "execution_count": 2,
   "id": "2b50cbef",
   "metadata": {},
   "outputs": [],
   "source": [
    "T = [0,20,40,60,80,100]\n",
    "sol_NaCl = [35.7, 35.9, 36.4, 37.1, 38, 39.2]\n",
    "sol_NH3 = [88.5, 56, 34, 20, 11, 7]"
   ]
  },
  {
   "cell_type": "code",
   "execution_count": null,
   "id": "65303a26",
   "metadata": {},
   "outputs": [],
   "source": []
  },
  {
   "cell_type": "markdown",
   "id": "429db490",
   "metadata": {},
   "source": [
    "## Halveringsmetoden"
   ]
  },
  {
   "cell_type": "code",
   "execution_count": 8,
   "id": "fe4eb2b7",
   "metadata": {},
   "outputs": [
    {
     "name": "stdout",
     "output_type": "stream",
     "text": [
      "-4.0\n"
     ]
    }
   ],
   "source": [
    "def g(x):\n",
    "    return 2*x + 8\n",
    "\n",
    "def halveringsmetoden(f, a, b, tol=1E-10):\n",
    "    m = (a+b)/2\n",
    "    while abs(f(m)) > tol:\n",
    "        if f(m)*f(a) < 0:\n",
    "            b = m\n",
    "        elif f(m)*f(b) < 0:\n",
    "            a = m\n",
    "        m = (a+b)/2\n",
    "    return m\n",
    "\n",
    "nullpunkt = halveringsmetoden(g, -5, 5, 1E-16)\n",
    "print(nullpunkt)"
   ]
  },
  {
   "cell_type": "code",
   "execution_count": 15,
   "id": "302c3190",
   "metadata": {},
   "outputs": [
    {
     "name": "stdout",
     "output_type": "stream",
     "text": [
      "2.0\n",
      "Løkka gikk 6 ganger.\n"
     ]
    }
   ],
   "source": [
    "def f(x):\n",
    "    return 2*x**2 - 8\n",
    "\n",
    "def fder(x):\n",
    "    return 4*x\n",
    "\n",
    "x = 1       # Startgjett\n",
    "tol = 1E-16\n",
    "i = 0\n",
    "\n",
    "while abs(f(x)) > tol:\n",
    "    x = x - f(x)/fder(x)\n",
    "    i += 1\n",
    "\n",
    "print(x)\n",
    "print(\"Løkka gikk\", i, \"ganger.\")"
   ]
  },
  {
   "cell_type": "code",
   "execution_count": 16,
   "id": "c854add6",
   "metadata": {},
   "outputs": [],
   "source": [
    "from scipy.optimize import root_scalar"
   ]
  },
  {
   "cell_type": "code",
   "execution_count": 18,
   "id": "77228547",
   "metadata": {},
   "outputs": [],
   "source": [
    "nullpunkt = root_scalar(f,method=\"Newton\",x0=1, fprime= fder)"
   ]
  },
  {
   "cell_type": "code",
   "execution_count": 19,
   "id": "3552ed76",
   "metadata": {},
   "outputs": [
    {
     "data": {
      "text/plain": [
       "      converged: True\n",
       "           flag: 'converged'\n",
       " function_calls: 12\n",
       "     iterations: 6\n",
       "           root: 2.0"
      ]
     },
     "execution_count": 19,
     "metadata": {},
     "output_type": "execute_result"
    }
   ],
   "source": [
    "nullpunkt"
   ]
  },
  {
   "cell_type": "code",
   "execution_count": null,
   "id": "5e91baed",
   "metadata": {},
   "outputs": [],
   "source": []
  }
 ],
 "metadata": {
  "kernelspec": {
   "display_name": "Python 3",
   "language": "python",
   "name": "python3"
  },
  "language_info": {
   "codemirror_mode": {
    "name": "ipython",
    "version": 3
   },
   "file_extension": ".py",
   "mimetype": "text/x-python",
   "name": "python",
   "nbconvert_exporter": "python",
   "pygments_lexer": "ipython3",
   "version": "3.8.8"
  }
 },
 "nbformat": 4,
 "nbformat_minor": 5
}
