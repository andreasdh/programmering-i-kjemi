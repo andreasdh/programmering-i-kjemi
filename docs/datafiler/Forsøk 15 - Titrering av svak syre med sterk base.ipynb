{
 "cells": [
  {
   "cell_type": "markdown",
   "metadata": {},
   "source": [
    "Av Andreas Haraldsrud\n",
    "\n",
    "# Hensikt\n",
    "Blabla.\n",
    "\n",
    "# Teori\n",
    "Blabla.\n",
    "\n",
    "# Beskrivelse\n",
    "Blabla\n",
    "\n",
    "# Resultater\n",
    "\n",
    "$H_2 + O_2 \\rightarrow H_2O$"
   ]
  },
  {
   "cell_type": "code",
   "execution_count": 2,
   "metadata": {
    "scrolled": true
   },
   "outputs": [
    {
     "data": {
      "text/plain": [
       "Text(0.5, 0, 'Volum tilsatt NaOH')"
      ]
     },
     "execution_count": 2,
     "metadata": {},
     "output_type": "execute_result"
    },
    {
     "data": {
      "image/png": "[encoded data removed]",
      "text/plain": [
       "<Figure size 432x288 with 1 Axes>"
      ]
     },
     "metadata": {
      "needs_background": "light"
     },
     "output_type": "display_data"
    }
   ],
   "source": [
    "from pylab import *\n",
    "import pandas as pd\n",
    "\n",
    "data = pd.read_csv(\"titreringsdata.txt\", delimiter = \",\")\n",
    "scatter(data[\"volum\"], data[\"pH\"], color='seagreen')\n",
    "xlabel(\"Volum tilsatt NaOH\")"
   ]
  },
  {
   "cell_type": "markdown",
   "metadata": {},
   "source": [
    "# Drøfting\n",
    "blabla\n",
    "\n",
    "# Konklusjon\n",
    "Blabla"
   ]
  }
 ],
 "metadata": {
  "kernelspec": {
   "display_name": "Python 3",
   "language": "python",
   "name": "python3"
  },
  "language_info": {
   "codemirror_mode": {
    "name": "ipython",
    "version": 3
   },
   "file_extension": ".py",
   "mimetype": "text/x-python",
   "name": "python",
   "nbconvert_exporter": "python",
   "pygments_lexer": "ipython3",
   "version": "3.8.5"
  }
 },
 "nbformat": 4,
 "nbformat_minor": 4
}
