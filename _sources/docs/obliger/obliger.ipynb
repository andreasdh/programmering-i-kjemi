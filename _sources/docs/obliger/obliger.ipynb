{
 "cells": [
  {
   "cell_type": "markdown",
   "id": "7ad8a26a",
   "metadata": {},
   "source": [
    "# Obligatoriske oppgaver\n",
    "\n",
    "Her finner du informasjon om de obligatoriske oppgavene i emnet. Du må få godkjent hver oppgave for å kunne gå opp til eksamen. For å få godkjent oppgavene må du følge kriteriene nedenfor. De to obligene skal leveres som en skriftlig, helhetlig rapport utformet i Jupyter Notebook, der du viser at du forstår sammenhengen mellom programmering, matematikk og kjemi.\n",
    "\n",
    "Målet med oppgavene er at dere skal trene på å skrive, snakke om og kommunisere programkode og vise kjemisk og matematisk forståelse gjennom denne koden. Dette er relevante ferdigheter til eksamen.\n",
    "\n",
    "## Kriterier for obliger\n",
    "- Programmene bør ha en hensiktsmessig mengde kommentarer som gjør koden enkel å lese, og som viser at at du forstår det du selv har laget.\n",
    "- Hver oppgave skal leveres som en rapport i form av en Jupyter Notebook-fil som har god struktur og inneholder:\n",
    "        \n",
    "        1. Hensikt: Forklar kort hva du skal gjøre og hvorfor. \n",
    "        2. Teori: Gjør rede for teorien bak det du skal gjøre, f.eks. bør du skrive om titrering, spektroskopi, ratelover/fartslover, integrasjon, Eulers metode derivasjon osv. dersom det er relevant for oppgava. bruk gjerne LaTeX-notasjon når du skriver matematikk i teoridelen!\n",
    "        3. Beskrivelse og resultater: Forklar hva du gjorde med ord, kode og output. Forklar og diskuter alle output.\n",
    "        4. Konklusjon: Hva har du gjort, hvorfor er det nyttig og i hvilke situasjoner kan du få bruk for dette?\n",
    "        \n",
    "- Resultatene bør komme tydelig fram, og alle output (tall og figurer) må kommenteres.\n",
    "- Alle plott skal ha aksetitler! De skal også ha merkelapper (labels) der det er relevant.\n",
    "- Alle numeriske metoder må implementeres som Python-funksjoner.\n",
    "- Det skal komme godt fram, både gjennom programmene og i teksten i Markdown, at du forstår det kjemiske og matematiske innholdet. Dette spør vi om til eksamen!\n",
    "- Ikke kopier fullstendig kode direkte fra andre kilder. Du kan bruke kode fra læreverk, internett, generativ KI og liknende som inspirasjon, men modifiser og forklar koden slik at det kommer godt fram at du forstå alt som skjer."
   ]
  },
  {
   "cell_type": "markdown",
   "id": "8a32bbc2",
   "metadata": {},
   "source": []
  }
 ],
 "metadata": {
  "kernelspec": {
   "display_name": "Python 3 (ipykernel)",
   "language": "python",
   "name": "python3"
  },
  "language_info": {
   "codemirror_mode": {
    "name": "ipython",
    "version": 3
   },
   "file_extension": ".py",
   "mimetype": "text/x-python",
   "name": "python",
   "nbconvert_exporter": "python",
   "pygments_lexer": "ipython3",
   "version": "3.9.12"
  }
 },
 "nbformat": 4,
 "nbformat_minor": 5
}
