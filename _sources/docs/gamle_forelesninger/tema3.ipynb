{
 "cells": [
  {
   "cell_type": "markdown",
   "metadata": {},
   "source": [
    "# Tema 3: Diskret modellering"
   ]
  },
  {
   "cell_type": "markdown",
   "metadata": {},
   "source": [
    "## Oppgave 1: Tallfølger\n",
    "\n",
    "Finn ut om rekka $\\sum_{n=1}^\\infty \\frac{1}{n^2}$ konvergerer eller divergerer.\n"
   ]
  },
  {
   "cell_type": "code",
   "execution_count": 7,
   "metadata": {},
   "outputs": [
    {
     "name": "stdout",
     "output_type": "stream",
     "text": [
      "1.6449339668472496\n"
     ]
    }
   ],
   "source": [
    "N = 10000000\n",
    "summen = 0\n",
    "\n",
    "for n in range(1,N):\n",
    "    tall = 1/n**2\n",
    "    summen = summen + tall \n",
    "\n",
    "print(summen)"
   ]
  },
  {
   "cell_type": "markdown",
   "metadata": {},
   "source": [
    "Rekka konvergerer."
   ]
  },
  {
   "cell_type": "markdown",
   "metadata": {},
   "source": [
    "## Oppgave 2:Tallfølger II\n",
    "Fibonacci-følgen er en kjent tallfølge der hvert tall er summen av de to foregående tallene:\n",
    "\n",
    "$$1, 1, 2, 3, 5, 8, 13, 21, ...$$\n",
    "\n",
    "Finn det hundrede tallet i følgen."
   ]
  },
  {
   "cell_type": "code",
   "execution_count": 14,
   "metadata": {},
   "outputs": [
    {
     "name": "stdout",
     "output_type": "stream",
     "text": [
      "Tall nr. 100 er 354224848179261915075\n"
     ]
    }
   ],
   "source": [
    "x0 = 0\n",
    "x1 = 1\n",
    "n = 100\n",
    "\n",
    "for i in range(n-1):\n",
    "    x0_ny = x1\n",
    "    x1 = x1 + x0\n",
    "    x0 = x0_ny\n",
    "\n",
    "print(f'Tall nr. {n} er {x1}')"
   ]
  },
  {
   "cell_type": "code",
   "execution_count": 15,
   "metadata": {},
   "outputs": [
    {
     "name": "stdout",
     "output_type": "stream",
     "text": [
      "3 2\n"
     ]
    }
   ],
   "source": [
    "a = 2\n",
    "b = 3\n",
    "\n",
    "c = a\n",
    "a = b\n",
    "b = c\n",
    "\n",
    "print(a,b)"
   ]
  },
  {
   "cell_type": "markdown",
   "metadata": {},
   "source": [
    "## Oppgave 3: Kvikksølv i huet\n",
    "Forklar hva følgende kodesnutt gjør:"
   ]
  },
  {
   "cell_type": "code",
   "execution_count": 2,
   "metadata": {},
   "outputs": [
    {
     "name": "stdout",
     "output_type": "stream",
     "text": [
      "Etter 100 år er det 2 mg kvikksølv igjen i hjernen\n"
     ]
    }
   ],
   "source": [
    "m0 = 1200 # Startmasse i mg\n",
    "m = m0\n",
    "tid = 100 # Tid i år\n",
    "H = 27.4 # Halveringstid i år\n",
    "tid_medisin = 12 # Medisin inntatt ved år\n",
    "for t in range(tid):\n",
    "    if t >= tid_medisin:\n",
    "        H = H*0.98\n",
    "    m = m*0.5**(1/H)\n",
    "    \n",
    "print(f'Etter {tid} år er det {m:.0f} mg kvikksølv igjen i hjernen')"
   ]
  },
  {
   "cell_type": "markdown",
   "metadata": {},
   "source": [
    "## Oppgave 4: Medisinakkumulering\n",
    "a) Dersom 20 % av en medisin brytes ned i kroppen hver dag, hvor mye medisin har vi i\n",
    "kroppen til enhver tid dersom vi tar 100 mg medisin hver morgen?"
   ]
  },
  {
   "cell_type": "code",
   "execution_count": 31,
   "metadata": {},
   "outputs": [
    {
     "data": {
      "image/png": "[encoded data removed]",
      "text/plain": [
       "<Figure size 432x288 with 1 Axes>"
      ]
     },
     "metadata": {
      "needs_background": "light"
     },
     "output_type": "display_data"
    }
   ],
   "source": [
    "# Løsningsforslag finnes også i videoen\n",
    "import matplotlib.pyplot as plt\n",
    "\n",
    "dose = 100\n",
    "medisin = dose\n",
    "nedbrytning = 0.80 # Andel medisin som er igjen i kroppen\n",
    "tid = 30\n",
    "t = []\n",
    "total = []\n",
    "t.append(0)\n",
    "total.append(dose)\n",
    "\n",
    "for i in range(1,tid+1):\n",
    "    medisin = medisin*nedbrytning + dose\n",
    "    total.append(medisin)\n",
    "    t.append(i)\n",
    "plt.plot(t,total,color='crimson')\n",
    "plt.xlabel('Tid (dager)')\n",
    "plt.ylabel('Medisin (mg)')\n",
    "plt.show()"
   ]
  },
  {
   "cell_type": "markdown",
   "metadata": {},
   "source": [
    "b) Bivirkninger av medisinen kan oppstå dersom vi får over 350 mg medisin i blodet. Ta utgangspunkt i medisinprogrammet og modifiser dette slik at det finner ut hvor lenge vi kan gå på medisinen dersom vi bruker 100 mg hver dag. Finn også ut hvor mye medisin vi kan ta hver dag uten at vi får bivirkninger."
   ]
  },
  {
   "cell_type": "code",
   "execution_count": 32,
   "metadata": {},
   "outputs": [
    {
     "name": "stdout",
     "output_type": "stream",
     "text": [
      "Etter 5 dager har du 368.93 mg i kroppen. Det betyr at du må slutte med medisin etter 4 dager\n"
     ]
    }
   ],
   "source": [
    "dose = 100 # mg medisin hver dag\n",
    "medisin = dose\n",
    "nedbrytning = 0.80\n",
    "t = 0\n",
    "\n",
    "while medisin < 350:\n",
    "    medisin = medisin*nedbrytning + dose\n",
    "    t = t + 1\n",
    "\n",
    "print(f'Etter {t} dager har du {medisin:.2f} mg i kroppen. Det betyr at du må slutte med medisin etter {t-1} dager')"
   ]
  },
  {
   "cell_type": "code",
   "execution_count": 26,
   "metadata": {},
   "outputs": [
    {
     "name": "stdout",
     "output_type": "stream",
     "text": [
      "71\n"
     ]
    }
   ],
   "source": [
    "dose = 1 #mg medisin hver dag\n",
    "medisin = dose\n",
    "nedbrytning = 0.80\n",
    "tid = 20\n",
    "\n",
    "while medisin < 350:\n",
    "    medisin = dose\n",
    "    dose += 1\n",
    "    for i in range(1,tid+1):\n",
    "        medisin = medisin*nedbrytning + dose\n",
    "\n",
    "print(dose)"
   ]
  }
 ],
 "metadata": {
  "kernelspec": {
   "display_name": "Python 3",
   "language": "python",
   "name": "python3"
  },
  "language_info": {
   "codemirror_mode": {
    "name": "ipython",
    "version": 3
   },
   "file_extension": ".py",
   "mimetype": "text/x-python",
   "name": "python",
   "nbconvert_exporter": "python",
   "pygments_lexer": "ipython3",
   "version": "3.7.6"
  }
 },
 "nbformat": 4,
 "nbformat_minor": 4
}
