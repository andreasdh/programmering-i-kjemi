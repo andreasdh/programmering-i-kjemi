{
 "cells": [
  {
   "cell_type": "markdown",
   "id": "48960fcc",
   "metadata": {},
   "source": [
    "# Forelesning 5: Likninger og nullpunkter\n",
    "\n",
    "Uledninger og forklaringer på tavla (se også videoer på nettsidene)."
   ]
  },
  {
   "cell_type": "markdown",
   "id": "e595a57b",
   "metadata": {},
   "source": [
    "## Halveringsmetoden"
   ]
  },
  {
   "cell_type": "code",
   "execution_count": 2,
   "id": "883b35d9",
   "metadata": {},
   "outputs": [
    {
     "name": "stdout",
     "output_type": "stream",
     "text": [
      "1.0\n"
     ]
    }
   ],
   "source": [
    "def f(x):\n",
    "    return 2*x - 2\n",
    "\n",
    "a = -5\n",
    "b = 12\n",
    "\n",
    "c = (a+b)/2\n",
    "tol = 1E-12\n",
    "\n",
    "while f(c) != 0:\n",
    "    if f(a)*f(c) < 0:\n",
    "        b = c\n",
    "    elif f(b)*f(c) < 0:\n",
    "        a = c\n",
    "    c = (a+b)/2\n",
    "\n",
    "print(c)"
   ]
  },
  {
   "cell_type": "code",
   "execution_count": 4,
   "id": "f397fc04",
   "metadata": {},
   "outputs": [
    {
     "name": "stdout",
     "output_type": "stream",
     "text": [
      "1.000000000000341 42\n"
     ]
    }
   ],
   "source": [
    "def f(x):\n",
    "    return 2*x - 2\n",
    "\n",
    "a = -5\n",
    "b = 12\n",
    "\n",
    "c = (a+b)/2\n",
    "i = 0\n",
    "tol = 1E-12\n",
    "\n",
    "while abs(f(c)) > tol:\n",
    "    if f(a)*f(c) < 0:\n",
    "        b = c\n",
    "    elif f(b)*f(c) < 0:\n",
    "        a = c\n",
    "    c = (a+b)/2\n",
    "    i += 1\n",
    "\n",
    "print(c, i)"
   ]
  },
  {
   "cell_type": "code",
   "execution_count": 5,
   "id": "6538e82b",
   "metadata": {},
   "outputs": [
    {
     "name": "stdout",
     "output_type": "stream",
     "text": [
      "Nullpunktet er i x = 1.000000000000341. Nullpunktet ble funnet etter 42 iterasjoner.\n"
     ]
    }
   ],
   "source": [
    "def halveringsmetoden(f, a, b, tol = 1E-12):\n",
    "    c = (a + b)/2\n",
    "    i = 0\n",
    "    while abs(f(c)) > tol:\n",
    "        if f(a)*f(c) < 0:\n",
    "            b = c\n",
    "        elif f(b)*f(c) < 0:\n",
    "            a = c\n",
    "        c = (a + b)/2\n",
    "        i += 1\n",
    "    return c, i\n",
    "\n",
    "nullpunkt, iterasjoner = halveringsmetoden(f, -5, 12)\n",
    "print(f\"Nullpunktet er i x = {nullpunkt}. Nullpunktet ble funnet etter {iterasjoner} iterasjoner.\")\n",
    "    "
   ]
  },
  {
   "cell_type": "markdown",
   "id": "3ff898f8",
   "metadata": {},
   "source": [
    "## Newtons metode"
   ]
  },
  {
   "cell_type": "code",
   "execution_count": 8,
   "id": "50cd04d0",
   "metadata": {},
   "outputs": [
    {
     "name": "stdout",
     "output_type": "stream",
     "text": [
      "1.3572088082974534\n"
     ]
    }
   ],
   "source": [
    "def f(x):\n",
    "    return 2*x**3 - 5\n",
    "\n",
    "def fder(x):\n",
    "    return 6*x**2\n",
    "\n",
    "x = 10\n",
    "for i in range(10):\n",
    "    x = x - f(x)/fder(x)\n",
    "    \n",
    "print(x)"
   ]
  },
  {
   "cell_type": "code",
   "execution_count": 13,
   "id": "ac4585a4",
   "metadata": {},
   "outputs": [
    {
     "data": {
      "image/png": "[encoded data removed]",
      "text/plain": [
       "<Figure size 640x480 with 1 Axes>"
      ]
     },
     "metadata": {},
     "output_type": "display_data"
    }
   ],
   "source": [
    "import matplotlib.pyplot as plt\n",
    "import numpy as np\n",
    "\n",
    "xverdier = np.linspace(0,2,10000)\n",
    "yverdier = f(xverdier)\n",
    "plt.plot(xverdier, yverdier)\n",
    "plt.grid()"
   ]
  },
  {
   "cell_type": "code",
   "execution_count": 14,
   "id": "85797ccf",
   "metadata": {},
   "outputs": [
    {
     "name": "stdout",
     "output_type": "stream",
     "text": [
      "Nullpunktet: 1.3572088082974532, Antall iterasjoner: 8\n"
     ]
    }
   ],
   "source": [
    "def newtons_metode(f, fder, x, tol = 1E-12):\n",
    "    teller = 0\n",
    "    while abs(f(x)) > tol:\n",
    "        x = x - f(x)/fder(x)\n",
    "        teller += 1\n",
    "    return x, teller\n",
    "\n",
    "nullpunkt, teller = newtons_metode(f, fder, 5)\n",
    "print(f\"Nullpunktet: {nullpunkt}, Antall iterasjoner: {teller}\")"
   ]
  }
 ],
 "metadata": {
  "kernelspec": {
   "display_name": "Python 3 (ipykernel)",
   "language": "python",
   "name": "python3"
  },
  "language_info": {
   "codemirror_mode": {
    "name": "ipython",
    "version": 3
   },
   "file_extension": ".py",
   "mimetype": "text/x-python",
   "name": "python",
   "nbconvert_exporter": "python",
   "pygments_lexer": "ipython3",
   "version": "3.11.4"
  }
 },
 "nbformat": 4,
 "nbformat_minor": 5
}
