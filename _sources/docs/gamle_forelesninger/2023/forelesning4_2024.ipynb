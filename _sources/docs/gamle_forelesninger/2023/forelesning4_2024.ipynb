{
 "cells": [
  {
   "cell_type": "markdown",
   "id": "ef51c485",
   "metadata": {},
   "source": [
    "# Forelesning 4: Statistikk II og numerisk derivasjon\n",
    "\n",
    "https://www.menti.com/oos4kx9c72"
   ]
  },
  {
   "cell_type": "markdown",
   "id": "8023ad4a",
   "metadata": {},
   "source": [
    "## Regresjon fortsetter"
   ]
  },
  {
   "cell_type": "code",
   "execution_count": 6,
   "id": "01e09ef8",
   "metadata": {},
   "outputs": [
    {
     "data": {
      "image/png": "[encoded data removed]",
      "text/plain": [
       "<Figure size 640x480 with 1 Axes>"
      ]
     },
     "metadata": {},
     "output_type": "display_data"
    }
   ],
   "source": [
    "import numpy as np\n",
    "import matplotlib.pyplot as plt\n",
    "from scipy.optimize import curve_fit\n",
    "\n",
    "# Example function: Exponential\n",
    "def model(x, a, b):\n",
    "    return a * np.exp(b * x)\n",
    "\n",
    "# Data\n",
    "x = np.array([1, 2, 3, 4, 5])\n",
    "y = np.array([2.7, 7.3, 20.1, 55.0, 148.4])\n",
    "\n",
    "# Fitting\n",
    "coeff, covar = curve_fit(model, x, y, p0=(1, 0.5))\n",
    "x_ny = np.linspace(0, 5.5, 100)\n",
    "\n",
    "# Plot\n",
    "plt.scatter(x, y)\n",
    "plt.plot(x_ny, model(x_ny, coeff[0], coeff[1]), label='Exponential fit')\n",
    "plt.legend()\n",
    "plt.show()\n"
   ]
  },
  {
   "cell_type": "code",
   "execution_count": null,
   "id": "6f6ce627",
   "metadata": {},
   "outputs": [],
   "source": [
    "import numpy as np\n",
    "from tensorflow.keras.models import Sequential\n",
    "from tensorflow.keras.layers import Dense\n",
    "\n",
    "# Data\n",
    "x = np.array([1, 2, 3, 4, 5])\n",
    "y = np.array([2, 4, 6, 8, 10])\n",
    "\n",
    "# Model\n",
    "model = Sequential()\n",
    "model.add(Dense(1, input_dim=1))  # Single input, single output\n",
    "model.compile(optimizer='adam', loss='mean_squared_error')\n",
    "\n",
    "# Train\n",
    "model.fit(x, y, epochs=100, verbose=2)\n",
    "\n",
    "# Predict\n",
    "predictions = model.predict(x)\n",
    "\n",
    "# Plot\n",
    "plt.scatter(x, y)\n",
    "plt.plot(x, predictions, label='Neural network fit')\n",
    "plt.legend()\n",
    "plt.show()"
   ]
  },
  {
   "cell_type": "markdown",
   "id": "62065818",
   "metadata": {},
   "source": [
    "## Hypotesetesting\n",
    "\n",
    "Hypotesetesting er en metode for å teste om en antagelse om en populasjon er sann. Vi har en nullhypotese $H_0$ og en alternativ hypotese $H_1$. Vi antar at nullhypotesen er sann, og ser hvor sannsynlig det er å observere dataene vi har gitt denne antagelsen. Hvis sannsynligheten er lav, forkaster vi nullhypotesen.\n"
   ]
  },
  {
   "cell_type": "markdown",
   "id": "eb06dcbd",
   "metadata": {},
   "source": [
    "### Uavhengig t-test"
   ]
  },
  {
   "cell_type": "code",
   "execution_count": 1,
   "id": "caab886c",
   "metadata": {},
   "outputs": [
    {
     "name": "stdout",
     "output_type": "stream",
     "text": [
      "T-statistikk: -11.04215574694647, P-verdi: 4.0306727239358465e-06\n"
     ]
    }
   ],
   "source": [
    "from scipy.stats import ttest_ind\n",
    "import numpy as np\n",
    "\n",
    "pasienter_medisin = np.array([119, 121, 120, 125, 120])\n",
    "pasienter_placebo = np.array([135, 139, 141, 137, 136])\n",
    "\n",
    "t_stat, p_verdi = ttest_ind(pasienter_medisin, pasienter_placebo)\n",
    "print(f\"T-statistikk: {t_stat}, P-verdi: {p_verdi}\")"
   ]
  },
  {
   "cell_type": "markdown",
   "id": "4e18762f",
   "metadata": {},
   "source": [
    "### Paret t-test"
   ]
  },
  {
   "cell_type": "code",
   "execution_count": 4,
   "id": "fc62d75c",
   "metadata": {},
   "outputs": [
    {
     "name": "stdout",
     "output_type": "stream",
     "text": [
      "T-statistikk: 5.363390480545726, P-verdi: 0.00583306064524346\n"
     ]
    }
   ],
   "source": [
    "from scipy.stats import ttest_rel\n",
    "\n",
    "# Innhold av et bestemt metallion før og etter rensing av vann\n",
    "før_rens = np.array([200, 220, 210, 240, 230])\n",
    "etter_rens = np.array([180, 190, 200, 205, 195])\n",
    "\n",
    "t_stat, p_verdi = ttest_rel(før_rens, etter_rens)\n",
    "print(f\"T-statistikk: {t_stat}, P-verdi: {p_verdi}\")"
   ]
  },
  {
   "cell_type": "markdown",
   "id": "37bd9239",
   "metadata": {},
   "source": [
    "### T-test for ett utvalg"
   ]
  },
  {
   "cell_type": "code",
   "execution_count": 3,
   "id": "fc1bf344",
   "metadata": {},
   "outputs": [],
   "source": [
    "from scipy.stats import ttest_1samp\n",
    "\n",
    "målinger = np.array([100.5, 100.7, 100.1, 99.9, 100.2])\n",
    "kjent_standard = 100.0\n",
    "\n",
    "t_stat, p_verdi = ttest_1samp(målinger, kjent_standard)"
   ]
  },
  {
   "cell_type": "markdown",
   "id": "96edd8e7",
   "metadata": {},
   "source": [
    "## Definisjon\n",
    "\n",
    "Analytisk derivasjon:\n",
    "$$f'(x) = \\lim_{\\Delta x \\rightarrow 0} \\frac{f(x+\\Delta x)-f(x)}{\\Delta x}$$\n",
    "\n",
    "Numerisk derivasjon:\n",
    "$$f'(x) \\approx \\frac{f(x+\\Delta x)-f(x)}{\\Delta x}$$\n",
    "\n",
    "der $\\Delta x$ er et lite tall."
   ]
  },
  {
   "cell_type": "markdown",
   "id": "f4e785ae",
   "metadata": {},
   "source": []
  }
 ],
 "metadata": {
  "kernelspec": {
   "display_name": "base",
   "language": "python",
   "name": "python3"
  },
  "language_info": {
   "codemirror_mode": {
    "name": "ipython",
    "version": 3
   },
   "file_extension": ".py",
   "mimetype": "text/x-python",
   "name": "python",
   "nbconvert_exporter": "python",
   "pygments_lexer": "ipython3",
   "version": "3.9.12"
  }
 },
 "nbformat": 4,
 "nbformat_minor": 5
}
