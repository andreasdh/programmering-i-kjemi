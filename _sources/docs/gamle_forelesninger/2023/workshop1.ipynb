{
 "cells": [
  {
   "cell_type": "markdown",
   "id": "935e0ad5",
   "metadata": {},
   "source": [
    "# Workshop 1: Datahåndtering\n",
    "\n",
    "```{admonition} Pensum til eksamen: Datahåndtering\n",
    "1. Lese og sortere fildata (med hvilket som helst bibliotek).\n",
    "2. Lage gode visualiseringer.\n",
    "3. Definere ulike statistiske størrelser og bruke egne funksjoner og ferdige funksjoner til å regne dem ut.\n",
    "4. Gjøre rede for og lage enkle maskinlæringsmodeller ved bruk av bestemmelsestrealgoritmer.\n",
    "5. Gjøre rede for, tolke og utføre regresjon med ferdige funksjoner.\n",
    "```"
   ]
  },
  {
   "cell_type": "markdown",
   "id": "98591084",
   "metadata": {},
   "source": [
    "## Oppgaver\n",
    "\n",
    "__Del 1:__\n",
    "\n",
    "1. Les fila \"vin.csv\" inn i et program.\n",
    "2. Lag en ny dataframe med kun viner som har 5 eller mindre i kvalitet.\n",
    "3. Plott pH mot innholdet av vinsyre (\"fixed acidity\") i g/L.\n",
    "4. Legg til en linje i plottet som viser gjennomsnittet av pH-en hos de utvalgte vinene. Legg også inn to andre linjer: én som viser gjennomsnitlig pH + standardavviket i pH, og én som viser gjennomsnittlig pH - standardavviket i pH.\n",
    "5. Gjør en lineær regresjon av dataene. Forklar hva den lineære modellen du får, beskriver.\n",
    "6. Lag en visualisering som beskriver innholdet av sitronsyre (\"citric acid\") i g/L for hver vinkvalitet. Visualiseringen må si noe om spredningen i måledata. Beskriv hva visualiseringen forteller oss. \n",
    "7. Regn ut 25 \\%, 50 \\% og 75 \\% kvartiler for innholdet av klorider i g/L. Hva forteller kvartilene deg?\n",
    "8. Lag en ny fil med minst to kolonner der du legger inn virkelige eller fiktive data. Les fila og lag en egnet visualisering av dataene.\n",
    "\n",
    "__Grunnleggende programmering:__\n",
    "\n",
    "9. Lag et program som finner hvor mange tall mellom et heltall _a_ og et heltall _b_ (f.eks. mellom 0 og 1000) som er delelig på 7.\n",
    "\n",
    "\n",
    "10. pH-beregninger.\n",
    "\n",
    "    a) Lag en funksjon som tar som parameter konsentrasjonen av oksoniumioner og returnerer pH-en i løsningen. Test funksjonen med $[H_3O^+] = 1\\cdot 10^{-5}$ mol/L, noe som vil gi $pH = 5$.\n",
    "\n",
    "    a) Bruk funksjonen til å beregne pH-en til følgende 32 konsentrasjoner (ikke alle er gitt nedenfor, men du ser kanskje mønsteret?): \n",
    "\n",
    "    $$[H_3O^+] \\in \\{10^{-0.5}, 10^{-1}, 10^{-1.5}, 10^{-2}, 10^{-2.5}, ..., 10^{-16}\\}$$\n",
    "\n",
    "    c) Legg alle de beregnede pH-verdiene i en liste som du skriver ut til slutt.\n",
    "\n",
    "\n",
    "11. Programmet nedenfor prøver å benytte følgende algoritme for å tilnærme kvadratroten av et tall $a$ gitt et startgjett $x_0$:\n",
    "\n",
    "    $$x_{n+1} = \\frac{1}{2} \\left(x_{n} + \\frac{a}{x_{n}} \\right)$$\n",
    "\n",
    "    Algoritmen gjentas til $x \\approx \\sqrt{a}$.\n",
    "\n",
    "    Koden fungerer derimot ikke som den skal. Finn feilene og rett opp koden.\n",
    "\n"
   ]
  },
  {
   "cell_type": "code",
   "execution_count": null,
   "id": "955aba3d",
   "metadata": {},
   "outputs": [],
   "source": [
    "from pylab import *\n",
    "\n",
    "a = 12\n",
    "x = x0\n",
    "x0 = 2,5\n",
    "n = 100\n",
    "\n",
    "i = 0\n",
    "while i > n:\n",
    "    x = 0.5*(x0 + a/x)\n",
    "    \n",
    "print(\"Rota av\", a, \"er omtrent:\", x0)"
   ]
  }
 ],
 "metadata": {
  "kernelspec": {
   "display_name": "Python 3 (ipykernel)",
   "language": "python",
   "name": "python3"
  },
  "language_info": {
   "codemirror_mode": {
    "name": "ipython",
    "version": 3
   },
   "file_extension": ".py",
   "mimetype": "text/x-python",
   "name": "python",
   "nbconvert_exporter": "python",
   "pygments_lexer": "ipython3",
   "version": "3.9.12"
  }
 },
 "nbformat": 4,
 "nbformat_minor": 5
}
