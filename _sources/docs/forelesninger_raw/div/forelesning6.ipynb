{
 "cells": [
  {
   "cell_type": "markdown",
   "metadata": {},
   "source": [
    "# Forelesning 6: Numerisk integrasjon\n"
   ]
  },
  {
   "cell_type": "markdown",
   "metadata": {},
   "source": [
    "## Det bestemte integralet"
   ]
  },
  {
   "cell_type": "code",
   "execution_count": 37,
   "metadata": {},
   "outputs": [
    {
     "name": "stdout",
     "output_type": "stream",
     "text": [
      "1.9999999818801717\n"
     ]
    }
   ],
   "source": [
    "def f(x):\n",
    "    return x    # Integrert = 0.5x**2\n",
    "\n",
    "a = 0 # Startpunkt \n",
    "b = 2 # Sluttpunkt\n",
    "A = 0 # Areal\n",
    "N = 100000000 # Antall rektangler\n",
    "dx = (b - a)/N # Bredden på rektanglene\n",
    "\n",
    "x = a\n",
    "for i in range(N):\n",
    "    A = A + f(x)*dx # A = høyde x bredde\n",
    "    x = x + dx\n",
    "\n",
    "print(A)"
   ]
  },
  {
   "cell_type": "code",
   "execution_count": null,
   "metadata": {},
   "outputs": [],
   "source": [
    "def f(x):\n",
    "    return x\n",
    "\n",
    "def integrate(f, a, b, N):\n",
    "    dx = (b - a) / N  # Bredden på rektanglene\n",
    "    A = 0  # Areal\n",
    "    x = a\n",
    "    \n",
    "    for i in range(N):\n",
    "        A += f(x) * dx  # A = høyde * bredde\n",
    "        x += dx\n",
    "    \n",
    "    return A\n",
    "    \n",
    "resultat = integrate(f, 0, 2, 1000)\n",
    "print(resultat)\n"
   ]
  },
  {
   "cell_type": "code",
   "execution_count": null,
   "metadata": {},
   "outputs": [],
   "source": [
    "def venstretilnærming(f, a, b, N = 100000):\n",
    "    dx = (b - a)/N \n",
    "    x = a\n",
    "    A = 0\n",
    "    for i in range(N):\n",
    "        A = A + f(x)*dx\n",
    "        x = x + dx\n",
    "    return A"
   ]
  },
  {
   "cell_type": "code",
   "execution_count": 39,
   "metadata": {},
   "outputs": [],
   "source": [
    "def høyretilnærming(f, a, b, N = 100000):\n",
    "    dx = (b - a)/N \n",
    "    x = a + dx\n",
    "    A = 0\n",
    "    for i in range(N):\n",
    "        A = A + f(x)*dx\n",
    "        x = x + dx\n",
    "    return A"
   ]
  },
  {
   "cell_type": "code",
   "execution_count": 40,
   "metadata": {},
   "outputs": [
    {
     "data": {
      "text/plain": [
       "2.0000199999987003"
      ]
     },
     "execution_count": 40,
     "metadata": {},
     "output_type": "execute_result"
    }
   ],
   "source": [
    "høyretilnærming(f, 0, 2)"
   ]
  },
  {
   "cell_type": "code",
   "execution_count": 43,
   "metadata": {},
   "outputs": [],
   "source": [
    "def midtpunktstilnærming(f, a, b, N = 100000):\n",
    "    dx = (b - a)/N \n",
    "    x = a + dx/2\n",
    "    A = 0\n",
    "    for i in range(N):\n",
    "        A = A + f(x)\n",
    "        x = x + dx\n",
    "    return A*dx"
   ]
  },
  {
   "cell_type": "code",
   "execution_count": 44,
   "metadata": {},
   "outputs": [
    {
     "data": {
      "text/plain": [
       "1.9999999999987004"
      ]
     },
     "execution_count": 44,
     "metadata": {},
     "output_type": "execute_result"
    }
   ],
   "source": [
    "midtpunktstilnærming(f, 0, 2)"
   ]
  },
  {
   "cell_type": "markdown",
   "metadata": {},
   "source": [
    "## Andre tilnærminger"
   ]
  },
  {
   "cell_type": "code",
   "execution_count": 47,
   "metadata": {},
   "outputs": [
    {
     "data": {
      "text/plain": [
       "1.9999999999987024"
      ]
     },
     "execution_count": 47,
     "metadata": {},
     "output_type": "execute_result"
    }
   ],
   "source": [
    "def trapesmetoden(f, a, b, N = 100000):\n",
    "    dx = (b - a)/N \n",
    "    x = a + dx\n",
    "    A = 0\n",
    "    for i in range(1,N):\n",
    "        A = A + f(x)\n",
    "        x = x + dx\n",
    "    return (A + (f(a) + f(b))/2)*dx\n",
    "\n",
    "trapesmetoden(f, 0, 2)"
   ]
  },
  {
   "cell_type": "markdown",
   "metadata": {},
   "source": [
    "## Bruke biblioteksfunksjoner til å integrere\n",
    "Benytter scipy-biblioteket."
   ]
  },
  {
   "cell_type": "code",
   "execution_count": 65,
   "metadata": {},
   "outputs": [],
   "source": [
    "from scipy.integrate import trapezoid, simpson, quad\n",
    "import numpy as np"
   ]
  },
  {
   "cell_type": "code",
   "execution_count": 51,
   "metadata": {},
   "outputs": [],
   "source": [
    "x = np.linspace(a,b,100000)\n",
    "y = f(x)"
   ]
  },
  {
   "cell_type": "code",
   "execution_count": 52,
   "metadata": {},
   "outputs": [
    {
     "data": {
      "text/plain": [
       "2.0"
      ]
     },
     "execution_count": 52,
     "metadata": {},
     "output_type": "execute_result"
    }
   ],
   "source": [
    "trapesmetoden = trapezoid(y,x)\n",
    "trapesmetoden"
   ]
  },
  {
   "cell_type": "code",
   "execution_count": 58,
   "metadata": {},
   "outputs": [
    {
     "name": "stderr",
     "output_type": "stream",
     "text": [
      "/var/folders/z_/zd2_19g1205dvcvdhgk10p680000gp/T/ipykernel_88515/2046446227.py:1: DeprecationWarning: You are passing x=[0.00000e+00 2.00002e-05 4.00004e-05 ... 1.99996e+00 1.99998e+00\n",
      " 2.00000e+00] as a positional argument. Please change your invocation to use keyword arguments. From SciPy 1.14, passing these as positional arguments will result in an error.\n",
      "  simpsons = simpson(y,x)\n"
     ]
    },
    {
     "data": {
      "text/plain": [
       "2.0000000000000004"
      ]
     },
     "execution_count": 58,
     "metadata": {},
     "output_type": "execute_result"
    }
   ],
   "source": [
    "simpsons = simpson(y,x)\n",
    "simpsons"
   ]
  },
  {
   "cell_type": "code",
   "execution_count": 66,
   "metadata": {},
   "outputs": [
    {
     "data": {
      "text/plain": [
       "(2.0, 2.220446049250313e-14)"
      ]
     },
     "execution_count": 66,
     "metadata": {},
     "output_type": "execute_result"
    }
   ],
   "source": [
    "quad(f, a, b)"
   ]
  },
  {
   "cell_type": "code",
   "execution_count": null,
   "metadata": {},
   "outputs": [],
   "source": []
  }
 ],
 "metadata": {
  "kernelspec": {
   "display_name": "Python 3 (ipykernel)",
   "language": "python",
   "name": "python3"
  },
  "language_info": {
   "codemirror_mode": {
    "name": "ipython",
    "version": 3
   },
   "file_extension": ".py",
   "mimetype": "text/x-python",
   "name": "python",
   "nbconvert_exporter": "python",
   "pygments_lexer": "ipython3",
   "version": "3.9.12"
  }
 },
 "nbformat": 4,
 "nbformat_minor": 4
}
