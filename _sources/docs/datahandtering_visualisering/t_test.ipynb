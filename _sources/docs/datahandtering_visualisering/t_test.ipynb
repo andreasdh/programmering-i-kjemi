{
 "cells": [
  {
   "cell_type": "markdown",
   "id": "6133cdec",
   "metadata": {},
   "source": [
    "# t-test\n",
    "Hva er en t-test?\n",
    "En t-test er en statistisk metode som brukes for å sammenligne gjennomsnittene av to grupper for å se om de er forskjellige fra hverandre. Den er nyttig i analytisk kjemi for å vurdere om forskjellene i resultatene fra ulike eksperimenter eller målinger er statistisk signifikante eller bare tilfeldige variasjoner.\n",
    "\n",
    "Grunnleggende Begreper\n",
    "Før vi går inn i spesifikke eksempler, er det et par viktige begreper å forstå:\n",
    "\n",
    "Nullhypotese (H0): En antakelse om at det ikke er noen signifikant forskjell mellom gruppene.\n",
    "Alternativ hypotese (H1): Antakelsen om at det er en signifikant forskjell.\n",
    "P-verdi: En sannsynlighet som indikerer sannsynligheten for å observere dataene hvis nullhypotesen er sann. En lav p-verdi (vanligvis <0.05) antyder at du kan forkaste nullhypotesen."
   ]
  },
  {
   "cell_type": "markdown",
   "id": "060e072e",
   "metadata": {},
   "source": [
    "En-prøve t-test (One Sample T-test): Denne testen brukes for å sammenligne gjennomsnittet av en prøve med et kjent eller antatt populasjonsgjennomsnitt.\n",
    "\n",
    "Eks:\n",
    "La oss si at du har målt konsentrasjonen av et kjemisk stoff i en prøve og ønsker å sammenligne det med en kjent eller antatt populasjonsgjennomsnitt. For eksempel kan du ha målt arsenkonsentrasjonen i en jordprøve og ønsker å sammenligne den med den tillatte grensenverdien."
   ]
  },
  {
   "cell_type": "code",
   "execution_count": 4,
   "id": "3ced5696",
   "metadata": {},
   "outputs": [],
   "source": [
    "from scipy import stats\n",
    "\n",
    "data = [0.1, 2, 3, 4, 5]\n",
    "grenseverdi = 3\n",
    "\n",
    "t_statistic, p_value = stats.ttest_1samp(data, popmean)"
   ]
  },
  {
   "cell_type": "markdown",
   "id": "aa01aa3c",
   "metadata": {},
   "source": [
    "Two Sample T-test (paired): This test is used to compare the means of two samples that are taken from the same population or group."
   ]
  },
  {
   "cell_type": "code",
   "execution_count": 5,
   "id": "ab473201",
   "metadata": {},
   "outputs": [],
   "source": [
    "from scipy import stats\n",
    "\n",
    "data1 = [1, 2, 3, 4, 5]\n",
    "data2 = [2, 3, 4, 5, 6]\n",
    "\n",
    "t_statistic, p_value = stats.ttest_rel(data1, data2)"
   ]
  },
  {
   "cell_type": "markdown",
   "id": "5dcd4cbf",
   "metadata": {},
   "source": [
    "Two Sample T-test (independent): This test is used to compare the means of two samples that are taken from different populations or groups."
   ]
  },
  {
   "cell_type": "code",
   "execution_count": 6,
   "id": "74e6bf83",
   "metadata": {},
   "outputs": [],
   "source": [
    "from scipy import stats\n",
    "\n",
    "# your data\n",
    "data1 = [1, 2, 3, 4, 5]\n",
    "data2 = [2, 3, 4, 5, 6]\n",
    "\n",
    "t_statistic, p_value = stats.ttest_ind(data1, data2)"
   ]
  },
  {
   "cell_type": "markdown",
   "id": "32a4ffde",
   "metadata": {},
   "source": [
    "Welch’s T-test: This test is similar to the independent two-sample t-test, but it does not assume that the two populations have equal variances."
   ]
  },
  {
   "cell_type": "code",
   "execution_count": 7,
   "id": "cd99474d",
   "metadata": {},
   "outputs": [],
   "source": [
    "from scipy import stats\n",
    "\n",
    "# your data\n",
    "data1 = [1, 2, 3, 4, 5]\n",
    "data2 = [2, 3, 4, 5, 6]\n",
    "\n",
    "t_statistic, p_value = stats.ttest_ind(data1, data2, equal_var=False)"
   ]
  },
  {
   "cell_type": "markdown",
   "id": "2c99c81c",
   "metadata": {},
   "source": [
    "In all these examples, t_statistic is the calculated t-statistic and p_value is the two-tailed p-value. If the p-value is less than your significance level (commonly 0.05), you would reject the null hypothesis. Otherwise, you would fail to reject the null hypothesis."
   ]
  }
 ],
 "metadata": {
  "kernelspec": {
   "display_name": "Python 3 (ipykernel)",
   "language": "python",
   "name": "python3"
  },
  "language_info": {
   "codemirror_mode": {
    "name": "ipython",
    "version": 3
   },
   "file_extension": ".py",
   "mimetype": "text/x-python",
   "name": "python",
   "nbconvert_exporter": "python",
   "pygments_lexer": "ipython3",
   "version": "3.11.4"
  }
 },
 "nbformat": 4,
 "nbformat_minor": 5
}
