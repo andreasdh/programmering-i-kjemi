{
 "cells": [
  {
   "cell_type": "markdown",
   "metadata": {},
   "source": [
    "# Forelesninger\n",
    "\n",
    "Forelesningene i denne delen av emnet vil dreie seg om:\n",
    "1. Bruk av nyttige kjemibiblioteker i Python.\n",
    "2. Lese, behandle og visualisere data.\n",
    "3. Statistisk behandling og visualisering av eksperimentelle data.\n",
    "4. Numeriske metoder for løsning av kjemiske problemer.\n",
    "5. Modellering av kjemiske systemer med differensialligninger."
   ]
  }
 ],
 "metadata": {
  "kernelspec": {
   "display_name": "Python 3",
   "language": "python",
   "name": "python3"
  },
  "language_info": {
   "codemirror_mode": {
    "name": "ipython",
    "version": 3
   },
   "file_extension": ".py",
   "mimetype": "text/x-python",
   "name": "python",
   "nbconvert_exporter": "python",
   "pygments_lexer": "ipython3",
   "version": "3.8.5"
  }
 },
 "nbformat": 4,
 "nbformat_minor": 4
}
