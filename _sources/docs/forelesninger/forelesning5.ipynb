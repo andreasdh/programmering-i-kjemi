{
 "cells": [
  {
   "cell_type": "markdown",
   "id": "ef51c485",
   "metadata": {},
   "source": [
    "# Forelesning 5: Numerisk derivasjon og likninger"
   ]
  },
  {
   "cell_type": "markdown",
   "id": "96edd8e7",
   "metadata": {},
   "source": [
    "## Numerisk derivasjon\n",
    "\n",
    "Analytisk derivasjon:\n",
    "$$f'(x) = \\lim_{\\Delta x \\rightarrow 0} \\frac{f(x+\\Delta x)-f(x)}{\\Delta x}$$\n",
    "\n",
    "Numerisk derivasjon:\n",
    "$$f'(x) \\approx \\frac{f(x+\\Delta x)-f(x)}{\\Delta x}$$\n",
    "\n",
    "der $\\Delta x$ er et lite tall."
   ]
  },
  {
   "cell_type": "code",
   "execution_count": null,
   "id": "d41d9084-fb78-4ad6-9ebd-01cd5763e1eb",
   "metadata": {},
   "outputs": [],
   "source": []
  },
  {
   "cell_type": "markdown",
   "id": "7b1846c0-8225-4f93-b43b-f2d7486e5f78",
   "metadata": {},
   "source": [
    "## Likninger"
   ]
  },
  {
   "cell_type": "code",
   "execution_count": null,
   "id": "5d028188-ef05-4b71-93a9-f930a07204c1",
   "metadata": {},
   "outputs": [],
   "source": []
  }
 ],
 "metadata": {
  "kernelspec": {
   "display_name": "Python (my-env)",
   "language": "python",
   "name": "my-env"
  },
  "language_info": {
   "codemirror_mode": {
    "name": "ipython",
    "version": 3
   },
   "file_extension": ".py",
   "mimetype": "text/x-python",
   "name": "python",
   "nbconvert_exporter": "python",
   "pygments_lexer": "ipython3",
   "version": "3.12.7"
  }
 },
 "nbformat": 4,
 "nbformat_minor": 5
}
