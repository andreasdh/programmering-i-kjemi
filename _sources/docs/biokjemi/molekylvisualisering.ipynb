{
 "cells": [
  {
   "cell_type": "markdown",
   "id": "fabc986a",
   "metadata": {},
   "source": [
    "# Molekylvisualisering\n",
    "Egenskapene til biologiske makromolekyler er i stor grad avhengig av formen til molekylene. Derfor er det veldig nyttig å kunne visualisere molekylene. Her skal vi se på to biblioteker som kan visualisere molekyler i Juypyter Notebook.\n",
    "\n",
    "## Visualisering med py3Dmol\n",
    "\n",
    "Det første biblioteket vi skal se på, er _Py3Dmol_. Her kan du hente opp molekyler fra to store databaser: PDB (Protein Data Bank) og PubChem. For å importere en struktur bruker du kommandoen _view_ og setter parameteren _query_ til enten _'cid'_ for PubChem eller _'pdb'_ for PDB. Du kan også angi filnavnet til en lokal pdb-fil på datamaskinen din, dersom du ønsker det. På PubChem kan du søke etter et molekyl og finne ID-en til dette molekylet (PubChem CID). I PDB starter alle søkeresultater med PDB-ID-en. I eksempelet nedenfor henter vi opp ibuprofen fra PubChem og enzymet RNA-polymerase i initiell transkripsjon (med en bit av et DNA-molekyl). Se om du kan finne de samme molekylene i de to databasene."
   ]
  },
  {
   "cell_type": "code",
   "execution_count": 2,
   "id": "3c2267ae",
   "metadata": {},
   "outputs": [],
   "source": [
    "import py3Dmol\n",
    "\n",
    "ibuprofen = py3Dmol.view(query='cid:3672')\n",
    "rna_polymerase = py3Dmol.view(query='pdb:5IYC')"
   ]
  },
  {
   "cell_type": "markdown",
   "id": "6299bc84",
   "metadata": {},
   "source": [
    "Når vi har hentet strukturene, kan vi spesifisere hva slags stil vi ønsker på molekylene med :setStyle_. Som argument kan du benytte en dictionary med én av følgende nøkler:\n",
    "- 'line'\n",
    "- 'cross'\n",
    "- 'cartoon'\n",
    "- 'stick'\n",
    "- 'sphere'\n",
    "\n",
    "Verdien til nøkkelen kan også være nok en dictionary (nøstede dictionaries), med for eksempel \\lstinline{'color'} som en ny nøkkel. Det finnes mange ulike fargeverdier, men _'spectrum'_ gir ofte fine figurer.\n",
    "\n",
    "Når du har bestemt deg for alt dette, får du en figur du kan rotere og zoome inn og ut på."
   ]
  },
  {
   "cell_type": "code",
   "execution_count": 3,
   "id": "13485304",
   "metadata": {},
   "outputs": [
    {
     "data": {
      "application/3dmoljs_load.v0": "<div id=\"3dmolviewer_1678181494451541\"  style=\"position: relative; width: 640px; height: 480px\">\n        <p id=\"3dmolwarning_1678181494451541\" style=\"background-color:#ffcccc;color:black\">You appear to be running in JupyterLab (or JavaScript failed to load for some other reason).  You need to install the 3dmol extension: <br>\n        <tt>jupyter labextension install jupyterlab_3dmol</tt></p>\n        </div>\n<script>\n\nvar loadScriptAsync = function(uri){\n  return new Promise((resolve, reject) => {\n    //this is to ignore the existence of requirejs amd\n    var savedexports, savedmodule;\n    if (typeof exports !== 'undefined') savedexports = exports;\n    else exports = {}\n    if (typeof module !== 'undefined') savedmodule = module;\n    else module = {}\n\n    var tag = document.createElement('script');\n    tag.src = uri;\n    tag.async = true;\n    tag.onload = () => {\n        exports = savedexports;\n        module = savedmodule;\n        resolve();\n    };\n  var firstScriptTag = document.getElementsByTagName('script')[0];\n  firstScriptTag.parentNode.insertBefore(tag, firstScriptTag);\n});\n};\n\nif(typeof $3Dmolpromise === 'undefined') {\n$3Dmolpromise = null;\n  $3Dmolpromise = loadScriptAsync('https://cdnjs.cloudflare.com/ajax/libs/3Dmol/2.0.1/3Dmol-min.js');\n}\n\nvar viewer_1678181494451541 = null;\nvar warn = document.getElementById(\"3dmolwarning_1678181494451541\");\nif(warn) {\n    warn.parentNode.removeChild(warn);\n}\n$3Dmolpromise.then(function() {\nviewer_1678181494451541 = $3Dmol.createViewer(document.getElementById(\"3dmolviewer_1678181494451541\"),{backgroundColor:\"white\"});\n$3Dmol.download(\"cid:3672\", viewer_1678181494451541, {}, function() {\nviewer_1678181494451541.zoomTo();\n\tviewer_1678181494451541.setStyle({\"stick\": {\"color\": \"spectrum\"}});\nviewer_1678181494451541.render();\n})\n});\n</script>",
      "text/html": [
       "<div id=\"3dmolviewer_1678181494451541\"  style=\"position: relative; width: 640px; height: 480px\">\n",
       "        <p id=\"3dmolwarning_1678181494451541\" style=\"background-color:#ffcccc;color:black\">You appear to be running in JupyterLab (or JavaScript failed to load for some other reason).  You need to install the 3dmol extension: <br>\n",
       "        <tt>jupyter labextension install jupyterlab_3dmol</tt></p>\n",
       "        </div>\n",
       "<script>\n",
       "\n",
       "var loadScriptAsync = function(uri){\n",
       "  return new Promise((resolve, reject) => {\n",
       "    //this is to ignore the existence of requirejs amd\n",
       "    var savedexports, savedmodule;\n",
       "    if (typeof exports !== 'undefined') savedexports = exports;\n",
       "    else exports = {}\n",
       "    if (typeof module !== 'undefined') savedmodule = module;\n",
       "    else module = {}\n",
       "\n",
       "    var tag = document.createElement('script');\n",
       "    tag.src = uri;\n",
       "    tag.async = true;\n",
       "    tag.onload = () => {\n",
       "        exports = savedexports;\n",
       "        module = savedmodule;\n",
       "        resolve();\n",
       "    };\n",
       "  var firstScriptTag = document.getElementsByTagName('script')[0];\n",
       "  firstScriptTag.parentNode.insertBefore(tag, firstScriptTag);\n",
       "});\n",
       "};\n",
       "\n",
       "if(typeof $3Dmolpromise === 'undefined') {\n",
       "$3Dmolpromise = null;\n",
       "  $3Dmolpromise = loadScriptAsync('https://cdnjs.cloudflare.com/ajax/libs/3Dmol/2.0.1/3Dmol-min.js');\n",
       "}\n",
       "\n",
       "var viewer_1678181494451541 = null;\n",
       "var warn = document.getElementById(\"3dmolwarning_1678181494451541\");\n",
       "if(warn) {\n",
       "    warn.parentNode.removeChild(warn);\n",
       "}\n",
       "$3Dmolpromise.then(function() {\n",
       "viewer_1678181494451541 = $3Dmol.createViewer(document.getElementById(\"3dmolviewer_1678181494451541\"),{backgroundColor:\"white\"});\n",
       "$3Dmol.download(\"cid:3672\", viewer_1678181494451541, {}, function() {\n",
       "viewer_1678181494451541.zoomTo();\n",
       "\tviewer_1678181494451541.setStyle({\"stick\": {\"color\": \"spectrum\"}});\n",
       "viewer_1678181494451541.render();\n",
       "})\n",
       "});\n",
       "</script>"
      ]
     },
     "metadata": {},
     "output_type": "display_data"
    },
    {
     "data": {
      "text/plain": [
       "<py3Dmol.view at 0x7fc361bca340>"
      ]
     },
     "execution_count": 3,
     "metadata": {},
     "output_type": "execute_result"
    }
   ],
   "source": [
    "ibuprofen.setStyle({'stick': {'color':'spectrum'}})"
   ]
  },
  {
   "cell_type": "code",
   "execution_count": 4,
   "id": "191d35a0",
   "metadata": {},
   "outputs": [
    {
     "data": {
      "application/3dmoljs_load.v0": "<div id=\"3dmolviewer_1678181501344853\"  style=\"position: relative; width: 640px; height: 480px\">\n        <p id=\"3dmolwarning_1678181501344853\" style=\"background-color:#ffcccc;color:black\">You appear to be running in JupyterLab (or JavaScript failed to load for some other reason).  You need to install the 3dmol extension: <br>\n        <tt>jupyter labextension install jupyterlab_3dmol</tt></p>\n        </div>\n<script>\n\nvar loadScriptAsync = function(uri){\n  return new Promise((resolve, reject) => {\n    //this is to ignore the existence of requirejs amd\n    var savedexports, savedmodule;\n    if (typeof exports !== 'undefined') savedexports = exports;\n    else exports = {}\n    if (typeof module !== 'undefined') savedmodule = module;\n    else module = {}\n\n    var tag = document.createElement('script');\n    tag.src = uri;\n    tag.async = true;\n    tag.onload = () => {\n        exports = savedexports;\n        module = savedmodule;\n        resolve();\n    };\n  var firstScriptTag = document.getElementsByTagName('script')[0];\n  firstScriptTag.parentNode.insertBefore(tag, firstScriptTag);\n});\n};\n\nif(typeof $3Dmolpromise === 'undefined') {\n$3Dmolpromise = null;\n  $3Dmolpromise = loadScriptAsync('https://cdnjs.cloudflare.com/ajax/libs/3Dmol/2.0.1/3Dmol-min.js');\n}\n\nvar viewer_1678181501344853 = null;\nvar warn = document.getElementById(\"3dmolwarning_1678181501344853\");\nif(warn) {\n    warn.parentNode.removeChild(warn);\n}\n$3Dmolpromise.then(function() {\nviewer_1678181501344853 = $3Dmol.createViewer(document.getElementById(\"3dmolviewer_1678181501344853\"),{backgroundColor:\"white\"});\n$3Dmol.download(\"pdb:5IYC\", viewer_1678181501344853, {}, function() {\nviewer_1678181501344853.zoomTo();\n\tviewer_1678181501344853.setStyle({\"cartoon\": {\"color\": \"spectrum\"}});\nviewer_1678181501344853.render();\n})\n});\n</script>",
      "text/html": [
       "<div id=\"3dmolviewer_1678181501344853\"  style=\"position: relative; width: 640px; height: 480px\">\n",
       "        <p id=\"3dmolwarning_1678181501344853\" style=\"background-color:#ffcccc;color:black\">You appear to be running in JupyterLab (or JavaScript failed to load for some other reason).  You need to install the 3dmol extension: <br>\n",
       "        <tt>jupyter labextension install jupyterlab_3dmol</tt></p>\n",
       "        </div>\n",
       "<script>\n",
       "\n",
       "var loadScriptAsync = function(uri){\n",
       "  return new Promise((resolve, reject) => {\n",
       "    //this is to ignore the existence of requirejs amd\n",
       "    var savedexports, savedmodule;\n",
       "    if (typeof exports !== 'undefined') savedexports = exports;\n",
       "    else exports = {}\n",
       "    if (typeof module !== 'undefined') savedmodule = module;\n",
       "    else module = {}\n",
       "\n",
       "    var tag = document.createElement('script');\n",
       "    tag.src = uri;\n",
       "    tag.async = true;\n",
       "    tag.onload = () => {\n",
       "        exports = savedexports;\n",
       "        module = savedmodule;\n",
       "        resolve();\n",
       "    };\n",
       "  var firstScriptTag = document.getElementsByTagName('script')[0];\n",
       "  firstScriptTag.parentNode.insertBefore(tag, firstScriptTag);\n",
       "});\n",
       "};\n",
       "\n",
       "if(typeof $3Dmolpromise === 'undefined') {\n",
       "$3Dmolpromise = null;\n",
       "  $3Dmolpromise = loadScriptAsync('https://cdnjs.cloudflare.com/ajax/libs/3Dmol/2.0.1/3Dmol-min.js');\n",
       "}\n",
       "\n",
       "var viewer_1678181501344853 = null;\n",
       "var warn = document.getElementById(\"3dmolwarning_1678181501344853\");\n",
       "if(warn) {\n",
       "    warn.parentNode.removeChild(warn);\n",
       "}\n",
       "$3Dmolpromise.then(function() {\n",
       "viewer_1678181501344853 = $3Dmol.createViewer(document.getElementById(\"3dmolviewer_1678181501344853\"),{backgroundColor:\"white\"});\n",
       "$3Dmol.download(\"pdb:5IYC\", viewer_1678181501344853, {}, function() {\n",
       "viewer_1678181501344853.zoomTo();\n",
       "\tviewer_1678181501344853.setStyle({\"cartoon\": {\"color\": \"spectrum\"}});\n",
       "viewer_1678181501344853.render();\n",
       "})\n",
       "});\n",
       "</script>"
      ]
     },
     "metadata": {},
     "output_type": "display_data"
    },
    {
     "data": {
      "text/plain": [
       "<py3Dmol.view at 0x7fc361bca760>"
      ]
     },
     "execution_count": 4,
     "metadata": {},
     "output_type": "execute_result"
    }
   ],
   "source": [
    "rna_polymerase.setStyle({'cartoon': {'color':'spectrum'}})"
   ]
  },
  {
   "cell_type": "markdown",
   "id": "ff0289dc",
   "metadata": {},
   "source": [
    "Vi kan også beregne og tegne elektrontettheten til ulike molekyler. Dette gjøres med _addSurface_, som vist nedenfor. 'VDW' står for van der Waals-krefter, som overflatemodellene tar utgangspunkt i. Du kan  modifisere fargene og utseendet til overflaten etter behov. Et veldig vanlig fargespekter er en gradvis overgang (_'gradient'_) mellom rødt, hvitt og blått (_'rwb'_), der rødt er elektronrike områder, og blått er elektronfattige. Følgende kode viser elektrontettheten til esteren metylbutanat (søk: methyl butanoate i PubChem)."
   ]
  },
  {
   "cell_type": "code",
   "execution_count": 6,
   "id": "f91d85e7",
   "metadata": {},
   "outputs": [
    {
     "data": {
      "application/3dmoljs_load.v0": "<div id=\"3dmolviewer_1678181525399213\"  style=\"position: relative; width: 640px; height: 480px\">\n        <p id=\"3dmolwarning_1678181525399213\" style=\"background-color:#ffcccc;color:black\">You appear to be running in JupyterLab (or JavaScript failed to load for some other reason).  You need to install the 3dmol extension: <br>\n        <tt>jupyter labextension install jupyterlab_3dmol</tt></p>\n        </div>\n<script>\n\nvar loadScriptAsync = function(uri){\n  return new Promise((resolve, reject) => {\n    //this is to ignore the existence of requirejs amd\n    var savedexports, savedmodule;\n    if (typeof exports !== 'undefined') savedexports = exports;\n    else exports = {}\n    if (typeof module !== 'undefined') savedmodule = module;\n    else module = {}\n\n    var tag = document.createElement('script');\n    tag.src = uri;\n    tag.async = true;\n    tag.onload = () => {\n        exports = savedexports;\n        module = savedmodule;\n        resolve();\n    };\n  var firstScriptTag = document.getElementsByTagName('script')[0];\n  firstScriptTag.parentNode.insertBefore(tag, firstScriptTag);\n});\n};\n\nif(typeof $3Dmolpromise === 'undefined') {\n$3Dmolpromise = null;\n  $3Dmolpromise = loadScriptAsync('https://cdnjs.cloudflare.com/ajax/libs/3Dmol/2.0.1/3Dmol-min.js');\n}\n\nvar viewer_1678181525399213 = null;\nvar warn = document.getElementById(\"3dmolwarning_1678181525399213\");\nif(warn) {\n    warn.parentNode.removeChild(warn);\n}\n$3Dmolpromise.then(function() {\nviewer_1678181525399213 = $3Dmol.createViewer(document.getElementById(\"3dmolviewer_1678181525399213\"),{backgroundColor:\"white\"});\n$3Dmol.download(\"cid:264\", viewer_1678181525399213, {}, function() {\nviewer_1678181525399213.zoomTo();\n\tviewer_1678181525399213.setStyle({\"stick\": {\"color\": \"spectrum\"}});\n\tviewer_1678181525399213.addSurface(\"VDW\",{\"opacity\": 0.6, \"colorscheme\": {\"gradient\": \"rwb\"}});\nviewer_1678181525399213.render();\n})\n});\n</script>",
      "text/html": [
       "<div id=\"3dmolviewer_1678181525399213\"  style=\"position: relative; width: 640px; height: 480px\">\n",
       "        <p id=\"3dmolwarning_1678181525399213\" style=\"background-color:#ffcccc;color:black\">You appear to be running in JupyterLab (or JavaScript failed to load for some other reason).  You need to install the 3dmol extension: <br>\n",
       "        <tt>jupyter labextension install jupyterlab_3dmol</tt></p>\n",
       "        </div>\n",
       "<script>\n",
       "\n",
       "var loadScriptAsync = function(uri){\n",
       "  return new Promise((resolve, reject) => {\n",
       "    //this is to ignore the existence of requirejs amd\n",
       "    var savedexports, savedmodule;\n",
       "    if (typeof exports !== 'undefined') savedexports = exports;\n",
       "    else exports = {}\n",
       "    if (typeof module !== 'undefined') savedmodule = module;\n",
       "    else module = {}\n",
       "\n",
       "    var tag = document.createElement('script');\n",
       "    tag.src = uri;\n",
       "    tag.async = true;\n",
       "    tag.onload = () => {\n",
       "        exports = savedexports;\n",
       "        module = savedmodule;\n",
       "        resolve();\n",
       "    };\n",
       "  var firstScriptTag = document.getElementsByTagName('script')[0];\n",
       "  firstScriptTag.parentNode.insertBefore(tag, firstScriptTag);\n",
       "});\n",
       "};\n",
       "\n",
       "if(typeof $3Dmolpromise === 'undefined') {\n",
       "$3Dmolpromise = null;\n",
       "  $3Dmolpromise = loadScriptAsync('https://cdnjs.cloudflare.com/ajax/libs/3Dmol/2.0.1/3Dmol-min.js');\n",
       "}\n",
       "\n",
       "var viewer_1678181525399213 = null;\n",
       "var warn = document.getElementById(\"3dmolwarning_1678181525399213\");\n",
       "if(warn) {\n",
       "    warn.parentNode.removeChild(warn);\n",
       "}\n",
       "$3Dmolpromise.then(function() {\n",
       "viewer_1678181525399213 = $3Dmol.createViewer(document.getElementById(\"3dmolviewer_1678181525399213\"),{backgroundColor:\"white\"});\n",
       "$3Dmol.download(\"cid:264\", viewer_1678181525399213, {}, function() {\n",
       "viewer_1678181525399213.zoomTo();\n",
       "\tviewer_1678181525399213.setStyle({\"stick\": {\"color\": \"spectrum\"}});\n",
       "\tviewer_1678181525399213.addSurface(\"VDW\",{\"opacity\": 0.6, \"colorscheme\": {\"gradient\": \"rwb\"}});\n",
       "viewer_1678181525399213.render();\n",
       "})\n",
       "});\n",
       "</script>"
      ]
     },
     "metadata": {},
     "output_type": "display_data"
    },
    {
     "data": {
      "text/plain": [
       "<py3Dmol.view at 0x7fc3618c2a60>"
      ]
     },
     "execution_count": 6,
     "metadata": {},
     "output_type": "execute_result"
    }
   ],
   "source": [
    "elektronkart = py3Dmol.view(query='cid:264')\n",
    "elektronkart.setStyle({'stick': {'color':'spectrum'}})\n",
    "elektronkart.addSurface('VDW',{'opacity':0.6, 'colorscheme':{'gradient':'rwb'}})"
   ]
  },
  {
   "cell_type": "markdown",
   "id": "3be3c143",
   "metadata": {},
   "source": [
    "Vi kan også visualisere $\\alpha$-helikser som rør (tubes) og $\\beta$-plater som piler:"
   ]
  },
  {
   "cell_type": "code",
   "execution_count": 7,
   "id": "030bb71c",
   "metadata": {},
   "outputs": [
    {
     "data": {
      "application/3dmoljs_load.v0": "<div id=\"3dmolviewer_167818153111077\"  style=\"position: relative; width: 640px; height: 480px\">\n        <p id=\"3dmolwarning_167818153111077\" style=\"background-color:#ffcccc;color:black\">You appear to be running in JupyterLab (or JavaScript failed to load for some other reason).  You need to install the 3dmol extension: <br>\n        <tt>jupyter labextension install jupyterlab_3dmol</tt></p>\n        </div>\n<script>\n\nvar loadScriptAsync = function(uri){\n  return new Promise((resolve, reject) => {\n    //this is to ignore the existence of requirejs amd\n    var savedexports, savedmodule;\n    if (typeof exports !== 'undefined') savedexports = exports;\n    else exports = {}\n    if (typeof module !== 'undefined') savedmodule = module;\n    else module = {}\n\n    var tag = document.createElement('script');\n    tag.src = uri;\n    tag.async = true;\n    tag.onload = () => {\n        exports = savedexports;\n        module = savedmodule;\n        resolve();\n    };\n  var firstScriptTag = document.getElementsByTagName('script')[0];\n  firstScriptTag.parentNode.insertBefore(tag, firstScriptTag);\n});\n};\n\nif(typeof $3Dmolpromise === 'undefined') {\n$3Dmolpromise = null;\n  $3Dmolpromise = loadScriptAsync('https://cdnjs.cloudflare.com/ajax/libs/3Dmol/2.0.1/3Dmol-min.js');\n}\n\nvar viewer_167818153111077 = null;\nvar warn = document.getElementById(\"3dmolwarning_167818153111077\");\nif(warn) {\n    warn.parentNode.removeChild(warn);\n}\n$3Dmolpromise.then(function() {\nviewer_167818153111077 = $3Dmol.createViewer(document.getElementById(\"3dmolviewer_167818153111077\"),{backgroundColor:\"white\"});\n$3Dmol.download(\"pdb:4KQA\", viewer_167818153111077, {}, function() {\nviewer_167818153111077.zoomTo();\n\tviewer_167818153111077.setStyle({\"cartoon\": {\"arrows\": true, \"tubes\": true, \"color\": \"spectrum\"}});\nviewer_167818153111077.render();\n})\n});\n</script>",
      "text/html": [
       "<div id=\"3dmolviewer_167818153111077\"  style=\"position: relative; width: 640px; height: 480px\">\n",
       "        <p id=\"3dmolwarning_167818153111077\" style=\"background-color:#ffcccc;color:black\">You appear to be running in JupyterLab (or JavaScript failed to load for some other reason).  You need to install the 3dmol extension: <br>\n",
       "        <tt>jupyter labextension install jupyterlab_3dmol</tt></p>\n",
       "        </div>\n",
       "<script>\n",
       "\n",
       "var loadScriptAsync = function(uri){\n",
       "  return new Promise((resolve, reject) => {\n",
       "    //this is to ignore the existence of requirejs amd\n",
       "    var savedexports, savedmodule;\n",
       "    if (typeof exports !== 'undefined') savedexports = exports;\n",
       "    else exports = {}\n",
       "    if (typeof module !== 'undefined') savedmodule = module;\n",
       "    else module = {}\n",
       "\n",
       "    var tag = document.createElement('script');\n",
       "    tag.src = uri;\n",
       "    tag.async = true;\n",
       "    tag.onload = () => {\n",
       "        exports = savedexports;\n",
       "        module = savedmodule;\n",
       "        resolve();\n",
       "    };\n",
       "  var firstScriptTag = document.getElementsByTagName('script')[0];\n",
       "  firstScriptTag.parentNode.insertBefore(tag, firstScriptTag);\n",
       "});\n",
       "};\n",
       "\n",
       "if(typeof $3Dmolpromise === 'undefined') {\n",
       "$3Dmolpromise = null;\n",
       "  $3Dmolpromise = loadScriptAsync('https://cdnjs.cloudflare.com/ajax/libs/3Dmol/2.0.1/3Dmol-min.js');\n",
       "}\n",
       "\n",
       "var viewer_167818153111077 = null;\n",
       "var warn = document.getElementById(\"3dmolwarning_167818153111077\");\n",
       "if(warn) {\n",
       "    warn.parentNode.removeChild(warn);\n",
       "}\n",
       "$3Dmolpromise.then(function() {\n",
       "viewer_167818153111077 = $3Dmol.createViewer(document.getElementById(\"3dmolviewer_167818153111077\"),{backgroundColor:\"white\"});\n",
       "$3Dmol.download(\"pdb:4KQA\", viewer_167818153111077, {}, function() {\n",
       "viewer_167818153111077.zoomTo();\n",
       "\tviewer_167818153111077.setStyle({\"cartoon\": {\"arrows\": true, \"tubes\": true, \"color\": \"spectrum\"}});\n",
       "viewer_167818153111077.render();\n",
       "})\n",
       "});\n",
       "</script>"
      ]
     },
     "metadata": {},
     "output_type": "display_data"
    }
   ],
   "source": [
    "view = py3Dmol.view(query='pdb:4KQA')\n",
    "view.setStyle({'cartoon':{'arrows':True, 'tubes':True, 'color':'spectrum'}})\n",
    "view.show()"
   ]
  },
  {
   "cell_type": "markdown",
   "id": "3ca622c0",
   "metadata": {},
   "source": [
    "## Nglview\n",
    "\n",
    "Nglview er et bibliotek med mye av den samme funksjonaliteten som py3Dmol, men den kan i tillegg visualisere dynamiske simuleringer. Vi skal derfor raskt se på hvordan vi kan visualisere ved hjelp av dette biblioteket også."
   ]
  },
  {
   "cell_type": "code",
   "execution_count": 19,
   "id": "7b318b5e",
   "metadata": {
    "scrolled": true
   },
   "outputs": [
    {
     "data": {
      "application/vnd.jupyter.widget-view+json": {
       "model_id": "e3c9c8c0d35b4b6cbbaa1e904f87caf9",
       "version_major": 2,
       "version_minor": 0
      },
      "text/plain": [
       "NGLWidget()"
      ]
     },
     "metadata": {},
     "output_type": "display_data"
    }
   ],
   "source": [
    "import nglview as nv\n",
    "\n",
    "protein = nv.show_pdbid(\"3LPO\")\n",
    "protein"
   ]
  },
  {
   "cell_type": "markdown",
   "id": "9277d139",
   "metadata": {},
   "source": [
    "Biblioteket viser også automatisk kofaktorer og hemmere, dersom de er inkludert i pdb-fila. Vi kan også legge til overflater og andre modeller (som kule-pinnemodell):"
   ]
  },
  {
   "cell_type": "code",
   "execution_count": 18,
   "id": "e0fc3a4d",
   "metadata": {},
   "outputs": [
    {
     "data": {
      "application/vnd.jupyter.widget-view+json": {
       "model_id": "05cf265ec6c9410aae74c34a058060f0",
       "version_major": 2,
       "version_minor": 0
      },
      "text/plain": [
       "NGLWidget(n_components=1)"
      ]
     },
     "metadata": {},
     "output_type": "display_data"
    }
   ],
   "source": [
    "protein.add_surface(selection=\"Ala\", opacity=0.3)\n",
    "protein.add_licorice(\"TRP\")\n",
    "protein.clear_representations()\n",
    "protein.add_representation(repr_type=\"ball-stick\")\n",
    "protein"
   ]
  },
  {
   "cell_type": "code",
   "execution_count": null,
   "id": "7e2c1eb8",
   "metadata": {},
   "outputs": [],
   "source": []
  }
 ],
 "metadata": {
  "kernelspec": {
   "display_name": "Python 3 (ipykernel)",
   "language": "python",
   "name": "python3"
  },
  "language_info": {
   "codemirror_mode": {
    "name": "ipython",
    "version": 3
   },
   "file_extension": ".py",
   "mimetype": "text/x-python",
   "name": "python",
   "nbconvert_exporter": "python",
   "pygments_lexer": "ipython3",
   "version": "3.9.12"
  }
 },
 "nbformat": 4,
 "nbformat_minor": 5
}
